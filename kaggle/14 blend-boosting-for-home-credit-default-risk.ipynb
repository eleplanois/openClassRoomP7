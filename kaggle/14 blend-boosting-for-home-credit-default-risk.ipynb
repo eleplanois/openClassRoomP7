{
 "cells": [
  {
   "cell_type": "markdown",
   "id": "consistent-charger",
   "metadata": {
    "papermill": {
     "duration": 0.0077,
     "end_time": "2021-04-23T08:08:35.410880",
     "exception": false,
     "start_time": "2021-04-23T08:08:35.403180",
     "status": "completed"
    },
    "tags": []
   },
   "source": [
    "## an Empirical Blend Boosting Study for Home Credit Default Risk \n",
    "### **(as my first notebook share on Kaggle)\n",
    "\n",
    "During Jan-Apr of 2021 I have attended an intense bootcamp program focusing mainly on Data Science and Machine Learning. The bootcamp is organized by VBO (https://www.veribilimiokulu.com/), and I would like to thanks to the VBO Team (especially Mustafa Vahit Keskin, Attilla Yardimci and my group members).\n",
    "\n",
    "The Home Credit Default Risk dataset on the Kaggle is subjected as final project of the bootcamp, and I have spent a period of three weeks on this project personally and also with my sub-team members. I developed various models and quite a large number of them having AUC scores better than 0.8 ( highest one 0.8034). Unfortunately, I could not run any full version of my models on Kaggle because of insufficient RAM issue even though datasets are zipped to almost 4 times by integer/float dtype conversion on my datasets.  \n",
    "\n",
    "After a while I recognize that some Kagglers had already shared their distinctly combined blending performances on a bunch of submitted results from their different type of models. Thanks to their inspiration about this approach, which is completely associate to boosting strategy: \"weaker predictors turns to be much stronger one\". Therefore, I titled this study as \"an Empirical Blend Boosting\" **(a quite unique naming :)**. Here I would like to share you my boosted blending performance based on my +20 results having better than 0.802 AUC score and other +30 results having AUC score between 0.802 and 0.800. However, I do not used yet the second set of my submission results because just ~25 of them is enough to achieve the best result on the Kaggle :), and also it is a quite boring stuff to try possible linear combinations. On the other hand, I can aggressively enhance my AUC score, but I could not convince myself yet that blending is a meaningful thing for data science philosophy.   \n",
    "\n",
    "Mostly I use Colab Pro to compute LigthGBM calculations with 5-fold CV on GPUs. My models have 900-1800 features. I am also developing a micro model having less than 200 features with a 0.800 AUC score (as a future mission for me). Soon I will share my micro model on the Kaggle, there should be no problem about RAM usage :-).  \n",
    "\n",
    "I have a limited knowledge about the credit finance, therefore, I combined many Kaggle notebooks for expending number of features as much as I desire and/or acceptance of my LigthGBM models harvesting further enhance scores. I would like to thank these contributors. \n",
    "\n",
    "Some of them are listed here (sorry for missings): \n",
    "* https://www.kaggle.com/jsaguiar/lightgbm-with-simple-features <=-- my models are based on this study\n",
    "* https://www.kaggle.com/jsaguiar/lightgbm-7th-place-solution\n",
    "* https://www.kaggle.com/sangseoseo/oof-all-home-credit-default-risk <=-- in most cases these hyperparameters are used\n",
    "* https://www.kaggle.com/ashishpatel26/different-basic-blends-possible <=-- thank for blending idea\n",
    "* https://www.kaggle.com/mathchi/home-credit-risk-with-detailed-feature-engineering\n",
    "* https://www.kaggle.com/windofdl/kernelf68f763785\n",
    "* https://www.kaggle.com/meraxes10/lgbm-credit-default-prediction\n",
    "* https://www.kaggle.com/luudactam/hc-v500\n",
    "* https://www.kaggle.com/aantonova/aggregating-all-tables-in-one-dataset\n",
    "* https://www.kaggle.com/wanakon/kernel24647bb75c\n"
   ]
  },
  {
   "cell_type": "code",
   "execution_count": 1,
   "id": "joint-multiple",
   "metadata": {
    "_cell_guid": "b1076dfc-b9ad-4769-8c92-a6c4dae69d19",
    "_uuid": "8f2839f25d086af736a60e9eeb907d3b93b6e0e5",
    "execution": {
     "iopub.execute_input": "2021-04-23T08:08:35.430183Z",
     "iopub.status.busy": "2021-04-23T08:08:35.429511Z",
     "iopub.status.idle": "2021-04-23T08:08:37.184242Z",
     "shell.execute_reply": "2021-04-23T08:08:37.183584Z"
    },
    "papermill": {
     "duration": 1.766778,
     "end_time": "2021-04-23T08:08:37.184405",
     "exception": false,
     "start_time": "2021-04-23T08:08:35.417627",
     "status": "completed"
    },
    "tags": []
   },
   "outputs": [
    {
     "data": {
      "text/html": [
       "<div>\n",
       "<style scoped>\n",
       "    .dataframe tbody tr th:only-of-type {\n",
       "        vertical-align: middle;\n",
       "    }\n",
       "\n",
       "    .dataframe tbody tr th {\n",
       "        vertical-align: top;\n",
       "    }\n",
       "\n",
       "    .dataframe thead th {\n",
       "        text-align: right;\n",
       "    }\n",
       "</style>\n",
       "<table border=\"1\" class=\"dataframe\">\n",
       "  <thead>\n",
       "    <tr style=\"text-align: right;\">\n",
       "      <th></th>\n",
       "      <th>SK_ID_CURR</th>\n",
       "      <th>0</th>\n",
       "      <th>1</th>\n",
       "      <th>2</th>\n",
       "      <th>3</th>\n",
       "      <th>4</th>\n",
       "      <th>5</th>\n",
       "      <th>6</th>\n",
       "      <th>7</th>\n",
       "      <th>8</th>\n",
       "      <th>9</th>\n",
       "      <th>10</th>\n",
       "    </tr>\n",
       "  </thead>\n",
       "  <tbody>\n",
       "    <tr>\n",
       "      <th>0</th>\n",
       "      <td>100001</td>\n",
       "      <td>0.037693</td>\n",
       "      <td>0.038579</td>\n",
       "      <td>0.036918</td>\n",
       "      <td>0.037693</td>\n",
       "      <td>0.039752</td>\n",
       "      <td>0.026068</td>\n",
       "      <td>0.020614</td>\n",
       "      <td>0.030581</td>\n",
       "      <td>0.030192</td>\n",
       "      <td>0.030527</td>\n",
       "      <td>0.029856</td>\n",
       "    </tr>\n",
       "    <tr>\n",
       "      <th>1</th>\n",
       "      <td>100005</td>\n",
       "      <td>0.417600</td>\n",
       "      <td>0.422508</td>\n",
       "      <td>0.413305</td>\n",
       "      <td>0.417600</td>\n",
       "      <td>0.419516</td>\n",
       "      <td>0.585240</td>\n",
       "      <td>0.660785</td>\n",
       "      <td>0.109038</td>\n",
       "      <td>0.113087</td>\n",
       "      <td>0.115120</td>\n",
       "      <td>0.111054</td>\n",
       "    </tr>\n",
       "    <tr>\n",
       "      <th>2</th>\n",
       "      <td>100013</td>\n",
       "      <td>0.048403</td>\n",
       "      <td>0.045182</td>\n",
       "      <td>0.051221</td>\n",
       "      <td>0.048403</td>\n",
       "      <td>0.039651</td>\n",
       "      <td>0.018910</td>\n",
       "      <td>0.013415</td>\n",
       "      <td>0.042591</td>\n",
       "      <td>0.041888</td>\n",
       "      <td>0.041691</td>\n",
       "      <td>0.042084</td>\n",
       "    </tr>\n",
       "    <tr>\n",
       "      <th>3</th>\n",
       "      <td>100028</td>\n",
       "      <td>0.031664</td>\n",
       "      <td>0.031586</td>\n",
       "      <td>0.031732</td>\n",
       "      <td>0.031664</td>\n",
       "      <td>0.029225</td>\n",
       "      <td>0.017662</td>\n",
       "      <td>0.012486</td>\n",
       "      <td>0.035754</td>\n",
       "      <td>0.034865</td>\n",
       "      <td>0.034670</td>\n",
       "      <td>0.035060</td>\n",
       "    </tr>\n",
       "    <tr>\n",
       "      <th>4</th>\n",
       "      <td>100038</td>\n",
       "      <td>0.387950</td>\n",
       "      <td>0.398390</td>\n",
       "      <td>0.378815</td>\n",
       "      <td>0.387950</td>\n",
       "      <td>0.404362</td>\n",
       "      <td>0.800392</td>\n",
       "      <td>0.873908</td>\n",
       "      <td>0.151162</td>\n",
       "      <td>0.153156</td>\n",
       "      <td>0.153718</td>\n",
       "      <td>0.152595</td>\n",
       "    </tr>\n",
       "  </tbody>\n",
       "</table>\n",
       "</div>"
      ],
      "text/plain": [
       "   SK_ID_CURR         0         1         2         3         4         5  \\\n",
       "0      100001  0.037693  0.038579  0.036918  0.037693  0.039752  0.026068   \n",
       "1      100005  0.417600  0.422508  0.413305  0.417600  0.419516  0.585240   \n",
       "2      100013  0.048403  0.045182  0.051221  0.048403  0.039651  0.018910   \n",
       "3      100028  0.031664  0.031586  0.031732  0.031664  0.029225  0.017662   \n",
       "4      100038  0.387950  0.398390  0.378815  0.387950  0.404362  0.800392   \n",
       "\n",
       "          6         7         8         9        10  \n",
       "0  0.020614  0.030581  0.030192  0.030527  0.029856  \n",
       "1  0.660785  0.109038  0.113087  0.115120  0.111054  \n",
       "2  0.013415  0.042591  0.041888  0.041691  0.042084  \n",
       "3  0.012486  0.035754  0.034865  0.034670  0.035060  \n",
       "4  0.873908  0.151162  0.153156  0.153718  0.152595  "
      ]
     },
     "execution_count": 1,
     "metadata": {},
     "output_type": "execute_result"
    }
   ],
   "source": [
    "# import libraries\n",
    "import pandas as pd \n",
    "import matplotlib.pyplot as plt\n",
    "import seaborn as sns\n",
    "\n",
    "# load submitted 22 results having my best AUC scores better than 0.802 \n",
    "df_subs = pd.read_csv('../input/homecredit-best-subs/df_subs_3.csv')\n",
    "df_subs.iloc[:, :12].head()"
   ]
  },
  {
   "cell_type": "code",
   "execution_count": 2,
   "id": "soviet-argument",
   "metadata": {
    "execution": {
     "iopub.execute_input": "2021-04-23T08:08:37.212197Z",
     "iopub.status.busy": "2021-04-23T08:08:37.211240Z",
     "iopub.status.idle": "2021-04-23T08:08:37.906659Z",
     "shell.execute_reply": "2021-04-23T08:08:37.905954Z"
    },
    "papermill": {
     "duration": 0.714673,
     "end_time": "2021-04-23T08:08:37.906822",
     "exception": false,
     "start_time": "2021-04-23T08:08:37.192149",
     "status": "completed"
    },
    "tags": []
   },
   "outputs": [
    {
     "data": {
      "image/png": "[encoded data removed]",
      "text/plain": [
       "<Figure size 432x432 with 2 Axes>"
      ]
     },
     "metadata": {
      "needs_background": "light"
     },
     "output_type": "display_data"
    }
   ],
   "source": [
    "# check correlation map between these 22 best AUC scores\n",
    "plt.figure(figsize=(6,6))\n",
    "sns.heatmap(df_subs.iloc[:,1:].corr(), cmap='Spectral')\n",
    "plt.show()"
   ]
  },
  {
   "cell_type": "markdown",
   "id": "proud-dream",
   "metadata": {
    "papermill": {
     "duration": 0.007879,
     "end_time": "2021-04-23T08:08:37.922944",
     "exception": false,
     "start_time": "2021-04-23T08:08:37.915065",
     "status": "completed"
    },
    "tags": []
   },
   "source": [
    "#### From correlation map there it is clear that there are 3 subgroups. We should firstly scale these groups their inner side, and then among of themselves.    "
   ]
  },
  {
   "cell_type": "code",
   "execution_count": 3,
   "id": "sustainable-disclaimer",
   "metadata": {
    "execution": {
     "iopub.execute_input": "2021-04-23T08:08:37.955035Z",
     "iopub.status.busy": "2021-04-23T08:08:37.948197Z",
     "iopub.status.idle": "2021-04-23T08:08:38.007227Z",
     "shell.execute_reply": "2021-04-23T08:08:38.006508Z"
    },
    "papermill": {
     "duration": 0.076332,
     "end_time": "2021-04-23T08:08:38.007376",
     "exception": false,
     "start_time": "2021-04-23T08:08:37.931044",
     "status": "completed"
    },
    "tags": []
   },
   "outputs": [
    {
     "data": {
      "text/html": [
       "<div>\n",
       "<style scoped>\n",
       "    .dataframe tbody tr th:only-of-type {\n",
       "        vertical-align: middle;\n",
       "    }\n",
       "\n",
       "    .dataframe tbody tr th {\n",
       "        vertical-align: top;\n",
       "    }\n",
       "\n",
       "    .dataframe thead th {\n",
       "        text-align: right;\n",
       "    }\n",
       "</style>\n",
       "<table border=\"1\" class=\"dataframe\">\n",
       "  <thead>\n",
       "    <tr style=\"text-align: right;\">\n",
       "      <th></th>\n",
       "      <th>SK_ID_CURR</th>\n",
       "      <th>TARGET</th>\n",
       "    </tr>\n",
       "  </thead>\n",
       "  <tbody>\n",
       "    <tr>\n",
       "      <th>0</th>\n",
       "      <td>100001</td>\n",
       "      <td>0.032043</td>\n",
       "    </tr>\n",
       "    <tr>\n",
       "      <th>1</th>\n",
       "      <td>100005</td>\n",
       "      <td>0.211708</td>\n",
       "    </tr>\n",
       "    <tr>\n",
       "      <th>2</th>\n",
       "      <td>100013</td>\n",
       "      <td>0.040014</td>\n",
       "    </tr>\n",
       "    <tr>\n",
       "      <th>3</th>\n",
       "      <td>100028</td>\n",
       "      <td>0.033279</td>\n",
       "    </tr>\n",
       "    <tr>\n",
       "      <th>4</th>\n",
       "      <td>100038</td>\n",
       "      <td>0.259602</td>\n",
       "    </tr>\n",
       "  </tbody>\n",
       "</table>\n",
       "</div>"
      ],
      "text/plain": [
       "   SK_ID_CURR    TARGET\n",
       "0      100001  0.032043\n",
       "1      100005  0.211708\n",
       "2      100013  0.040014\n",
       "3      100028  0.033279\n",
       "4      100038  0.259602"
      ]
     },
     "execution_count": 3,
     "metadata": {},
     "output_type": "execute_result"
    }
   ],
   "source": [
    "# create a submission dataset\n",
    "avg_bleand_1 = pd.DataFrame()\n",
    "avg_bleand_1['SK_ID_CURR'] = df_subs['SK_ID_CURR']\n",
    "\n",
    "# create a linear combination between 22 individual results \n",
    "# coefficients determine empirically and based on correlational interactions \n",
    "avg_bleand_1['TARGET'] = 1.0 * (6 * (df_subs['0'] + df_subs['1'] + df_subs['2'] + df_subs['3'] + 2 * df_subs['4']) / 6 +\n",
    "                         3 * (5 * df_subs['5'] + 7 * df_subs['6'] + 1 * df_subs['14'] + 3 * df_subs['19'] + 2 * df_subs['20'] + 4 * df_subs['21']) / 22 +\n",
    "                        25 * (df_subs['7'] + df_subs['8'] + df_subs['9'] + df_subs['10'] + df_subs['11'] + df_subs['12'] + 2 *\n",
    "                             df_subs['13'] + 4 * df_subs['15'] + 2 * df_subs['16'] + 2 * df_subs['17'] + 4 * df_subs['18']) / 20) / 34\n",
    "\n",
    "avg_bleand_1.head()"
   ]
  },
  {
   "cell_type": "code",
   "execution_count": 4,
   "id": "satellite-assist",
   "metadata": {
    "execution": {
     "iopub.execute_input": "2021-04-23T08:08:38.028414Z",
     "iopub.status.busy": "2021-04-23T08:08:38.027772Z",
     "iopub.status.idle": "2021-04-23T08:08:38.238635Z",
     "shell.execute_reply": "2021-04-23T08:08:38.238084Z"
    },
    "papermill": {
     "duration": 0.222516,
     "end_time": "2021-04-23T08:08:38.238819",
     "exception": false,
     "start_time": "2021-04-23T08:08:38.016303",
     "status": "completed"
    },
    "tags": []
   },
   "outputs": [],
   "source": [
    "# create the submission file with my first blend result: 0.80602 AUC score\n",
    "avg_bleand_1.to_csv('submission_806.csv', index=False)"
   ]
  },
  {
   "cell_type": "code",
   "execution_count": 5,
   "id": "creative-springer",
   "metadata": {
    "execution": {
     "iopub.execute_input": "2021-04-23T08:08:38.272494Z",
     "iopub.status.busy": "2021-04-23T08:08:38.271328Z",
     "iopub.status.idle": "2021-04-23T08:08:38.274321Z",
     "shell.execute_reply": "2021-04-23T08:08:38.273577Z"
    },
    "papermill": {
     "duration": 0.025843,
     "end_time": "2021-04-23T08:08:38.274480",
     "exception": false,
     "start_time": "2021-04-23T08:08:38.248637",
     "status": "completed"
    },
    "tags": []
   },
   "outputs": [],
   "source": [
    "df_subs['25'] = avg_bleand_1['TARGET']\n",
    "#df_subs.to_csv('df_subs.csv', index=False)"
   ]
  },
  {
   "cell_type": "code",
   "execution_count": 6,
   "id": "manual-decimal",
   "metadata": {
    "execution": {
     "iopub.execute_input": "2021-04-23T08:08:38.300026Z",
     "iopub.status.busy": "2021-04-23T08:08:38.298381Z",
     "iopub.status.idle": "2021-04-23T08:08:38.491858Z",
     "shell.execute_reply": "2021-04-23T08:08:38.491249Z"
    },
    "papermill": {
     "duration": 0.20834,
     "end_time": "2021-04-23T08:08:38.492013",
     "exception": false,
     "start_time": "2021-04-23T08:08:38.283673",
     "status": "completed"
    },
    "tags": []
   },
   "outputs": [],
   "source": [
    "avg_bleand_2 = avg_bleand_1.copy()\n",
    "#blend some other notebook files\n",
    "avg_bleand_2['TARGET'] = 1.0*(7*df_subs['22'] + 12*df_subs['23'] + 16*df_subs['24'] - 5*df_subs['25'] ) / 31\n",
    "# create the submission file with my first blend result: AUC score is better than 0.811\n",
    "avg_bleand_2.to_csv('submission_final.csv', index=False)"
   ]
  }
 ],
 "metadata": {
  "kernelspec": {
   "display_name": "Python 3",
   "language": "python",
   "name": "python3"
  },
  "language_info": {
   "codemirror_mode": {
    "name": "ipython",
    "version": 3
   },
   "file_extension": ".py",
   "mimetype": "text/x-python",
   "name": "python",
   "nbconvert_exporter": "python",
   "pygments_lexer": "ipython3",
   "version": "3.8.8"
  },
  "papermill": {
   "default_parameters": {},
   "duration": 10.396117,
   "end_time": "2021-04-23T08:08:39.111075",
   "environment_variables": {},
   "exception": null,
   "input_path": "__notebook__.ipynb",
   "output_path": "__notebook__.ipynb",
   "parameters": {},
   "start_time": "2021-04-23T08:08:28.714958",
   "version": "2.3.2"
  }
 },
 "nbformat": 4,
 "nbformat_minor": 5
}
