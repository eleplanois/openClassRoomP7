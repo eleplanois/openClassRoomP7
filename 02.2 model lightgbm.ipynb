{
 "cells": [
  {
   "cell_type": "code",
   "execution_count": 1,
   "id": "turned-facility",
   "metadata": {},
   "outputs": [],
   "source": [
    "# numpy and pandas for data manipulation\n",
    "import numpy as np\n",
    "import pandas as pd \n",
    "\n",
    "# sklearn preprocessing for dealing with categorical variables\n",
    "from sklearn.preprocessing import LabelEncoder\n",
    "\n",
    "# File system manangement\n",
    "import os\n",
    "\n",
    "# Suppress warnings \n",
    "import warnings\n",
    "warnings.filterwarnings('ignore')\n",
    "\n",
    "# matplotlib and seaborn for plotting\n",
    "import matplotlib.pyplot as plt\n",
    "import seaborn as sns"
   ]
  },
  {
   "cell_type": "code",
   "execution_count": 2,
   "id": "spatial-timber",
   "metadata": {
    "_cell_guid": "79c7e3d0-c299-4dcb-8224-4455121ee9b0",
    "_uuid": "d629ff2d2480ee46fbb7e2d37f6b5fab8052498a"
   },
   "outputs": [
    {
     "name": "stdout",
     "output_type": "stream",
     "text": [
      "Training data shape:  (307511, 122)\n"
     ]
    },
    {
     "data": {
      "text/html": [
       "<div>\n",
       "<style scoped>\n",
       "    .dataframe tbody tr th:only-of-type {\n",
       "        vertical-align: middle;\n",
       "    }\n",
       "\n",
       "    .dataframe tbody tr th {\n",
       "        vertical-align: top;\n",
       "    }\n",
       "\n",
       "    .dataframe thead th {\n",
       "        text-align: right;\n",
       "    }\n",
       "</style>\n",
       "<table border=\"1\" class=\"dataframe\">\n",
       "  <thead>\n",
       "    <tr style=\"text-align: right;\">\n",
       "      <th></th>\n",
       "      <th>SK_ID_CURR</th>\n",
       "      <th>TARGET</th>\n",
       "      <th>NAME_CONTRACT_TYPE</th>\n",
       "      <th>CODE_GENDER</th>\n",
       "      <th>FLAG_OWN_CAR</th>\n",
       "      <th>FLAG_OWN_REALTY</th>\n",
       "      <th>CNT_CHILDREN</th>\n",
       "      <th>AMT_INCOME_TOTAL</th>\n",
       "      <th>AMT_CREDIT</th>\n",
       "      <th>AMT_ANNUITY</th>\n",
       "      <th>...</th>\n",
       "      <th>FLAG_DOCUMENT_18</th>\n",
       "      <th>FLAG_DOCUMENT_19</th>\n",
       "      <th>FLAG_DOCUMENT_20</th>\n",
       "      <th>FLAG_DOCUMENT_21</th>\n",
       "      <th>AMT_REQ_CREDIT_BUREAU_HOUR</th>\n",
       "      <th>AMT_REQ_CREDIT_BUREAU_DAY</th>\n",
       "      <th>AMT_REQ_CREDIT_BUREAU_WEEK</th>\n",
       "      <th>AMT_REQ_CREDIT_BUREAU_MON</th>\n",
       "      <th>AMT_REQ_CREDIT_BUREAU_QRT</th>\n",
       "      <th>AMT_REQ_CREDIT_BUREAU_YEAR</th>\n",
       "    </tr>\n",
       "  </thead>\n",
       "  <tbody>\n",
       "    <tr>\n",
       "      <th>0</th>\n",
       "      <td>100002</td>\n",
       "      <td>1</td>\n",
       "      <td>Cash loans</td>\n",
       "      <td>M</td>\n",
       "      <td>N</td>\n",
       "      <td>Y</td>\n",
       "      <td>0</td>\n",
       "      <td>202500.0</td>\n",
       "      <td>406597.5</td>\n",
       "      <td>24700.5</td>\n",
       "      <td>...</td>\n",
       "      <td>0</td>\n",
       "      <td>0</td>\n",
       "      <td>0</td>\n",
       "      <td>0</td>\n",
       "      <td>0.0</td>\n",
       "      <td>0.0</td>\n",
       "      <td>0.0</td>\n",
       "      <td>0.0</td>\n",
       "      <td>0.0</td>\n",
       "      <td>1.0</td>\n",
       "    </tr>\n",
       "    <tr>\n",
       "      <th>1</th>\n",
       "      <td>100003</td>\n",
       "      <td>0</td>\n",
       "      <td>Cash loans</td>\n",
       "      <td>F</td>\n",
       "      <td>N</td>\n",
       "      <td>N</td>\n",
       "      <td>0</td>\n",
       "      <td>270000.0</td>\n",
       "      <td>1293502.5</td>\n",
       "      <td>35698.5</td>\n",
       "      <td>...</td>\n",
       "      <td>0</td>\n",
       "      <td>0</td>\n",
       "      <td>0</td>\n",
       "      <td>0</td>\n",
       "      <td>0.0</td>\n",
       "      <td>0.0</td>\n",
       "      <td>0.0</td>\n",
       "      <td>0.0</td>\n",
       "      <td>0.0</td>\n",
       "      <td>0.0</td>\n",
       "    </tr>\n",
       "    <tr>\n",
       "      <th>2</th>\n",
       "      <td>100004</td>\n",
       "      <td>0</td>\n",
       "      <td>Revolving loans</td>\n",
       "      <td>M</td>\n",
       "      <td>Y</td>\n",
       "      <td>Y</td>\n",
       "      <td>0</td>\n",
       "      <td>67500.0</td>\n",
       "      <td>135000.0</td>\n",
       "      <td>6750.0</td>\n",
       "      <td>...</td>\n",
       "      <td>0</td>\n",
       "      <td>0</td>\n",
       "      <td>0</td>\n",
       "      <td>0</td>\n",
       "      <td>0.0</td>\n",
       "      <td>0.0</td>\n",
       "      <td>0.0</td>\n",
       "      <td>0.0</td>\n",
       "      <td>0.0</td>\n",
       "      <td>0.0</td>\n",
       "    </tr>\n",
       "    <tr>\n",
       "      <th>3</th>\n",
       "      <td>100006</td>\n",
       "      <td>0</td>\n",
       "      <td>Cash loans</td>\n",
       "      <td>F</td>\n",
       "      <td>N</td>\n",
       "      <td>Y</td>\n",
       "      <td>0</td>\n",
       "      <td>135000.0</td>\n",
       "      <td>312682.5</td>\n",
       "      <td>29686.5</td>\n",
       "      <td>...</td>\n",
       "      <td>0</td>\n",
       "      <td>0</td>\n",
       "      <td>0</td>\n",
       "      <td>0</td>\n",
       "      <td>NaN</td>\n",
       "      <td>NaN</td>\n",
       "      <td>NaN</td>\n",
       "      <td>NaN</td>\n",
       "      <td>NaN</td>\n",
       "      <td>NaN</td>\n",
       "    </tr>\n",
       "    <tr>\n",
       "      <th>4</th>\n",
       "      <td>100007</td>\n",
       "      <td>0</td>\n",
       "      <td>Cash loans</td>\n",
       "      <td>M</td>\n",
       "      <td>N</td>\n",
       "      <td>Y</td>\n",
       "      <td>0</td>\n",
       "      <td>121500.0</td>\n",
       "      <td>513000.0</td>\n",
       "      <td>21865.5</td>\n",
       "      <td>...</td>\n",
       "      <td>0</td>\n",
       "      <td>0</td>\n",
       "      <td>0</td>\n",
       "      <td>0</td>\n",
       "      <td>0.0</td>\n",
       "      <td>0.0</td>\n",
       "      <td>0.0</td>\n",
       "      <td>0.0</td>\n",
       "      <td>0.0</td>\n",
       "      <td>0.0</td>\n",
       "    </tr>\n",
       "  </tbody>\n",
       "</table>\n",
       "<p>5 rows × 122 columns</p>\n",
       "</div>"
      ],
      "text/plain": [
       "   SK_ID_CURR  TARGET NAME_CONTRACT_TYPE CODE_GENDER FLAG_OWN_CAR  \\\n",
       "0      100002       1         Cash loans           M            N   \n",
       "1      100003       0         Cash loans           F            N   \n",
       "2      100004       0    Revolving loans           M            Y   \n",
       "3      100006       0         Cash loans           F            N   \n",
       "4      100007       0         Cash loans           M            N   \n",
       "\n",
       "  FLAG_OWN_REALTY  CNT_CHILDREN  AMT_INCOME_TOTAL  AMT_CREDIT  AMT_ANNUITY  \\\n",
       "0               Y             0          202500.0    406597.5      24700.5   \n",
       "1               N             0          270000.0   1293502.5      35698.5   \n",
       "2               Y             0           67500.0    135000.0       6750.0   \n",
       "3               Y             0          135000.0    312682.5      29686.5   \n",
       "4               Y             0          121500.0    513000.0      21865.5   \n",
       "\n",
       "   ...  FLAG_DOCUMENT_18 FLAG_DOCUMENT_19 FLAG_DOCUMENT_20 FLAG_DOCUMENT_21  \\\n",
       "0  ...                 0                0                0                0   \n",
       "1  ...                 0                0                0                0   \n",
       "2  ...                 0                0                0                0   \n",
       "3  ...                 0                0                0                0   \n",
       "4  ...                 0                0                0                0   \n",
       "\n",
       "  AMT_REQ_CREDIT_BUREAU_HOUR AMT_REQ_CREDIT_BUREAU_DAY  \\\n",
       "0                        0.0                       0.0   \n",
       "1                        0.0                       0.0   \n",
       "2                        0.0                       0.0   \n",
       "3                        NaN                       NaN   \n",
       "4                        0.0                       0.0   \n",
       "\n",
       "   AMT_REQ_CREDIT_BUREAU_WEEK  AMT_REQ_CREDIT_BUREAU_MON  \\\n",
       "0                         0.0                        0.0   \n",
       "1                         0.0                        0.0   \n",
       "2                         0.0                        0.0   \n",
       "3                         NaN                        NaN   \n",
       "4                         0.0                        0.0   \n",
       "\n",
       "   AMT_REQ_CREDIT_BUREAU_QRT  AMT_REQ_CREDIT_BUREAU_YEAR  \n",
       "0                        0.0                         1.0  \n",
       "1                        0.0                         0.0  \n",
       "2                        0.0                         0.0  \n",
       "3                        NaN                         NaN  \n",
       "4                        0.0                         0.0  \n",
       "\n",
       "[5 rows x 122 columns]"
      ]
     },
     "execution_count": 2,
     "metadata": {},
     "output_type": "execute_result"
    }
   ],
   "source": [
    "# Training data\n",
    "app_train = pd.read_csv('dataset/application_train.csv')\n",
    "print('Training data shape: ', app_train.shape)\n",
    "app_train.head()"
   ]
  },
  {
   "cell_type": "markdown",
   "id": "helpful-cinema",
   "metadata": {},
   "source": [
    "## DATASET APPLICATION"
   ]
  },
  {
   "cell_type": "code",
   "execution_count": 3,
   "id": "foster-salmon",
   "metadata": {},
   "outputs": [
    {
     "data": {
      "text/plain": [
       "0    282686\n",
       "1     24825\n",
       "Name: TARGET, dtype: int64"
      ]
     },
     "execution_count": 3,
     "metadata": {},
     "output_type": "execute_result"
    }
   ],
   "source": [
    "app_train['TARGET'].value_counts()"
   ]
  },
  {
   "cell_type": "code",
   "execution_count": 4,
   "id": "public-caution",
   "metadata": {},
   "outputs": [],
   "source": [
    "from sklearn.impute import SimpleImputer\n",
    "\n",
    "col_num = list(app_train.select_dtypes('float64').columns)\n",
    "imp_mean = SimpleImputer(missing_values=np.nan, strategy='mean', copy=False)\n",
    "app_train[col_num] = imp_mean.fit_transform(app_train[col_num])"
   ]
  },
  {
   "cell_type": "code",
   "execution_count": 5,
   "id": "widespread-product",
   "metadata": {},
   "outputs": [],
   "source": [
    "col_num = list(app_train.select_dtypes('int64').columns)\n",
    "imp_meanN = SimpleImputer(missing_values=np.nan, strategy='mean', copy=False)\n",
    "app_train[col_num] = imp_meanN.fit_transform(app_train[col_num])"
   ]
  },
  {
   "cell_type": "code",
   "execution_count": 6,
   "id": "african-hepatitis",
   "metadata": {},
   "outputs": [],
   "source": [
    "\n",
    "col_obj = list(app_train.select_dtypes('object').columns)\n",
    "imp_cons = SimpleImputer(missing_values=np.nan, strategy='constant', fill_value='NonRenseigne')\n",
    "app_train[col_obj] = imp_cons.fit_transform(app_train[col_obj])"
   ]
  },
  {
   "cell_type": "markdown",
   "id": "underlying-professional",
   "metadata": {},
   "source": [
    "## Label Encoding et One Hot Encoding"
   ]
  },
  {
   "cell_type": "code",
   "execution_count": 7,
   "id": "electoral-biology",
   "metadata": {},
   "outputs": [
    {
     "data": {
      "text/plain": [
       "float64    106\n",
       "object      16\n",
       "dtype: int64"
      ]
     },
     "execution_count": 7,
     "metadata": {},
     "output_type": "execute_result"
    }
   ],
   "source": [
    "# Number of each type of column\n",
    "app_train.dtypes.value_counts()"
   ]
  },
  {
   "cell_type": "code",
   "execution_count": 8,
   "id": "indoor-smooth",
   "metadata": {
    "_cell_guid": "70641d4d-1075-4837-8972-e58d70d8f242",
    "_uuid": "ddfaae5c3dcc7ec6bb47a2dffc10d364e8d25355"
   },
   "outputs": [
    {
     "name": "stdout",
     "output_type": "stream",
     "text": [
      "transformation colonne label encoding NAME_CONTRACT_TYPE.\n",
      "transformation colonne label encoding FLAG_OWN_CAR.\n",
      "transformation colonne label encoding FLAG_OWN_REALTY.\n",
      "3 columns were label encoded.\n"
     ]
    }
   ],
   "source": [
    "# Create a label encoder object\n",
    "le = LabelEncoder()\n",
    "le_count = 0\n",
    "\n",
    "# Iterate through the columns\n",
    "for col in app_train:\n",
    "    if app_train[col].dtype == 'object':\n",
    "        # If 2 or fewer unique categories\n",
    "        if len(list(app_train[col].unique())) <= 2:\n",
    "            # Train on the training data\n",
    "            app_train[col] = le.fit_transform(app_train[col])\n",
    "            print('transformation colonne label encoding %s.' % col)            \n",
    "            \n",
    "            # Keep track of how many columns were label encoded\n",
    "            le_count += 1\n",
    "            \n",
    "print('%d columns were label encoded.' % le_count)"
   ]
  },
  {
   "cell_type": "code",
   "execution_count": 9,
   "id": "noted-johnston",
   "metadata": {
    "_cell_guid": "0851773b-39fd-4cf0-9a66-e30adeef3e57",
    "_uuid": "6796c6dc793a08e162b6e20c6f185ef37bdf51f3"
   },
   "outputs": [
    {
     "name": "stdout",
     "output_type": "stream",
     "text": [
      "Training Features shape avant :  (307511, 122)\n",
      "Training Features shape apres :  (307511, 249)\n"
     ]
    }
   ],
   "source": [
    "# one-hot encoding of categorical variables\n",
    "print('Training Features shape avant : ', app_train.shape)\n",
    "\n",
    "app_train = pd.get_dummies(app_train)\n",
    "\n",
    "print('Training Features shape apres : ', app_train.shape)"
   ]
  },
  {
   "cell_type": "code",
   "execution_count": 10,
   "id": "thorough-assist",
   "metadata": {},
   "outputs": [
    {
     "data": {
      "text/plain": [
       "uint8      140\n",
       "float64    106\n",
       "int32        3\n",
       "dtype: int64"
      ]
     },
     "execution_count": 10,
     "metadata": {},
     "output_type": "execute_result"
    }
   ],
   "source": [
    "# Number of each type of column\n",
    "app_train.dtypes.value_counts()"
   ]
  },
  {
   "cell_type": "markdown",
   "id": "aboriginal-baking",
   "metadata": {},
   "source": [
    "## retour analyse EDA"
   ]
  },
  {
   "cell_type": "code",
   "execution_count": 11,
   "id": "concerned-language",
   "metadata": {
    "_uuid": "e23ec3cb89428f3dd994b572f718cc729740cfab"
   },
   "outputs": [
    {
     "data": {
      "text/plain": [
       "0    252137\n",
       "1     55374\n",
       "Name: DAYS_EMPLOYED_ANOM, dtype: int64"
      ]
     },
     "execution_count": 11,
     "metadata": {},
     "output_type": "execute_result"
    }
   ],
   "source": [
    "# Create an anomalous flag column\n",
    "app_train['DAYS_EMPLOYED_ANOM'] = ( app_train[\"DAYS_EMPLOYED\"] == 365243 ).map(int)\n",
    "\n",
    "# Replace the anomalous values with nan\n",
    "app_train['DAYS_EMPLOYED'].replace({365243: 0}, inplace = True)\n",
    "\n",
    "app_train['DAYS_EMPLOYED_ANOM'].value_counts()"
   ]
  },
  {
   "cell_type": "markdown",
   "id": "grateful-senior",
   "metadata": {
    "_uuid": "9b27fad1522263c32b57a8127c84ad0e08ff9d8f"
   },
   "source": [
    "## Domain Knowledge Features\n",
    "\n",
    "Maybe it's not entirely correct to call this \"domain knowledge\" because I'm not a credit expert, but perhaps we could call this \"attempts at applying limited financial knowledge\". In this frame of mind, we can make a couple features that attempt to capture what we think may be important for telling whether a client will default on a loan. Here I'm going to use five features that were inspired by [this script](https://www.kaggle.com/jsaguiar/updated-0-792-lb-lightgbm-with-simple-features) by Aguiar:\n",
    "\n",
    "* `CREDIT_INCOME_PERCENT`: the percentage of the credit amount relative to a client's income | ratio total emprunt revenu\n",
    "* `ANNUITY_INCOME_PERCENT`: the percentage of the loan annuity relative to a client's income | taux endetemment\n",
    "* `CREDIT_TERM`:  the length of the payment in months (since the annuity is the monthly amount due\n",
    "* `DAYS_EMPLOYED_PERCENT`: the percentage of the days employed relative to the client's age\n",
    "\n",
    "Again, thanks to Aguiar and [his great script](https://www.kaggle.com/jsaguiar/updated-0-792-lb-lightgbm-with-simple-features) for exploring these features.\n",
    "\n"
   ]
  },
  {
   "cell_type": "code",
   "execution_count": 12,
   "id": "realistic-optics",
   "metadata": {
    "_uuid": "c8d4b165b45da6c3120911de18e9348d8726c70c",
    "tags": []
   },
   "outputs": [],
   "source": [
    "app_train['CREDIT_INCOME_PERCENT'] = app_train['AMT_CREDIT'] / app_train['AMT_INCOME_TOTAL']\n",
    "app_train['ANNUITY_INCOME_PERCENT'] = app_train['AMT_ANNUITY'] / app_train['AMT_INCOME_TOTAL']\n",
    "app_train['CREDIT_TERM'] = app_train['AMT_ANNUITY'] / app_train['AMT_CREDIT']\n",
    "app_train['DAYS_EMPLOYED_PERCENT'] = app_train['DAYS_EMPLOYED'] / app_train['DAYS_BIRTH']"
   ]
  },
  {
   "cell_type": "code",
   "execution_count": 13,
   "id": "isolated-interaction",
   "metadata": {},
   "outputs": [
    {
     "data": {
      "text/html": [
       "<div>\n",
       "<style scoped>\n",
       "    .dataframe tbody tr th:only-of-type {\n",
       "        vertical-align: middle;\n",
       "    }\n",
       "\n",
       "    .dataframe tbody tr th {\n",
       "        vertical-align: top;\n",
       "    }\n",
       "\n",
       "    .dataframe thead th {\n",
       "        text-align: right;\n",
       "    }\n",
       "</style>\n",
       "<table border=\"1\" class=\"dataframe\">\n",
       "  <thead>\n",
       "    <tr style=\"text-align: right;\">\n",
       "      <th></th>\n",
       "      <th>AMT_CREDIT</th>\n",
       "      <th>AMT_INCOME_TOTAL</th>\n",
       "      <th>CREDIT_INCOME_PERCENT</th>\n",
       "      <th>AMT_ANNUITY</th>\n",
       "      <th>AMT_INCOME_TOTAL</th>\n",
       "      <th>ANNUITY_INCOME_PERCENT</th>\n",
       "      <th>AMT_ANNUITY</th>\n",
       "      <th>AMT_CREDIT</th>\n",
       "      <th>CREDIT_TERM</th>\n",
       "      <th>DAYS_EMPLOYED</th>\n",
       "      <th>DAYS_BIRTH</th>\n",
       "      <th>DAYS_EMPLOYED_PERCENT</th>\n",
       "    </tr>\n",
       "  </thead>\n",
       "  <tbody>\n",
       "    <tr>\n",
       "      <th>0</th>\n",
       "      <td>406597.5</td>\n",
       "      <td>202500.0</td>\n",
       "      <td>2.007889</td>\n",
       "      <td>24700.5</td>\n",
       "      <td>202500.0</td>\n",
       "      <td>0.121978</td>\n",
       "      <td>24700.5</td>\n",
       "      <td>406597.5</td>\n",
       "      <td>0.060749</td>\n",
       "      <td>-637.0</td>\n",
       "      <td>-9461.0</td>\n",
       "      <td>0.067329</td>\n",
       "    </tr>\n",
       "    <tr>\n",
       "      <th>1</th>\n",
       "      <td>1293502.5</td>\n",
       "      <td>270000.0</td>\n",
       "      <td>4.790750</td>\n",
       "      <td>35698.5</td>\n",
       "      <td>270000.0</td>\n",
       "      <td>0.132217</td>\n",
       "      <td>35698.5</td>\n",
       "      <td>1293502.5</td>\n",
       "      <td>0.027598</td>\n",
       "      <td>-1188.0</td>\n",
       "      <td>-16765.0</td>\n",
       "      <td>0.070862</td>\n",
       "    </tr>\n",
       "    <tr>\n",
       "      <th>2</th>\n",
       "      <td>135000.0</td>\n",
       "      <td>67500.0</td>\n",
       "      <td>2.000000</td>\n",
       "      <td>6750.0</td>\n",
       "      <td>67500.0</td>\n",
       "      <td>0.100000</td>\n",
       "      <td>6750.0</td>\n",
       "      <td>135000.0</td>\n",
       "      <td>0.050000</td>\n",
       "      <td>-225.0</td>\n",
       "      <td>-19046.0</td>\n",
       "      <td>0.011814</td>\n",
       "    </tr>\n",
       "    <tr>\n",
       "      <th>3</th>\n",
       "      <td>312682.5</td>\n",
       "      <td>135000.0</td>\n",
       "      <td>2.316167</td>\n",
       "      <td>29686.5</td>\n",
       "      <td>135000.0</td>\n",
       "      <td>0.219900</td>\n",
       "      <td>29686.5</td>\n",
       "      <td>312682.5</td>\n",
       "      <td>0.094941</td>\n",
       "      <td>-3039.0</td>\n",
       "      <td>-19005.0</td>\n",
       "      <td>0.159905</td>\n",
       "    </tr>\n",
       "    <tr>\n",
       "      <th>4</th>\n",
       "      <td>513000.0</td>\n",
       "      <td>121500.0</td>\n",
       "      <td>4.222222</td>\n",
       "      <td>21865.5</td>\n",
       "      <td>121500.0</td>\n",
       "      <td>0.179963</td>\n",
       "      <td>21865.5</td>\n",
       "      <td>513000.0</td>\n",
       "      <td>0.042623</td>\n",
       "      <td>-3038.0</td>\n",
       "      <td>-19932.0</td>\n",
       "      <td>0.152418</td>\n",
       "    </tr>\n",
       "    <tr>\n",
       "      <th>...</th>\n",
       "      <td>...</td>\n",
       "      <td>...</td>\n",
       "      <td>...</td>\n",
       "      <td>...</td>\n",
       "      <td>...</td>\n",
       "      <td>...</td>\n",
       "      <td>...</td>\n",
       "      <td>...</td>\n",
       "      <td>...</td>\n",
       "      <td>...</td>\n",
       "      <td>...</td>\n",
       "      <td>...</td>\n",
       "    </tr>\n",
       "    <tr>\n",
       "      <th>307506</th>\n",
       "      <td>254700.0</td>\n",
       "      <td>157500.0</td>\n",
       "      <td>1.617143</td>\n",
       "      <td>27558.0</td>\n",
       "      <td>157500.0</td>\n",
       "      <td>0.174971</td>\n",
       "      <td>27558.0</td>\n",
       "      <td>254700.0</td>\n",
       "      <td>0.108198</td>\n",
       "      <td>-236.0</td>\n",
       "      <td>-9327.0</td>\n",
       "      <td>0.025303</td>\n",
       "    </tr>\n",
       "    <tr>\n",
       "      <th>307507</th>\n",
       "      <td>269550.0</td>\n",
       "      <td>72000.0</td>\n",
       "      <td>3.743750</td>\n",
       "      <td>12001.5</td>\n",
       "      <td>72000.0</td>\n",
       "      <td>0.166687</td>\n",
       "      <td>12001.5</td>\n",
       "      <td>269550.0</td>\n",
       "      <td>0.044524</td>\n",
       "      <td>0.0</td>\n",
       "      <td>-20775.0</td>\n",
       "      <td>-0.000000</td>\n",
       "    </tr>\n",
       "    <tr>\n",
       "      <th>307508</th>\n",
       "      <td>677664.0</td>\n",
       "      <td>153000.0</td>\n",
       "      <td>4.429176</td>\n",
       "      <td>29979.0</td>\n",
       "      <td>153000.0</td>\n",
       "      <td>0.195941</td>\n",
       "      <td>29979.0</td>\n",
       "      <td>677664.0</td>\n",
       "      <td>0.044239</td>\n",
       "      <td>-7921.0</td>\n",
       "      <td>-14966.0</td>\n",
       "      <td>0.529266</td>\n",
       "    </tr>\n",
       "    <tr>\n",
       "      <th>307509</th>\n",
       "      <td>370107.0</td>\n",
       "      <td>171000.0</td>\n",
       "      <td>2.164368</td>\n",
       "      <td>20205.0</td>\n",
       "      <td>171000.0</td>\n",
       "      <td>0.118158</td>\n",
       "      <td>20205.0</td>\n",
       "      <td>370107.0</td>\n",
       "      <td>0.054592</td>\n",
       "      <td>-4786.0</td>\n",
       "      <td>-11961.0</td>\n",
       "      <td>0.400134</td>\n",
       "    </tr>\n",
       "    <tr>\n",
       "      <th>307510</th>\n",
       "      <td>675000.0</td>\n",
       "      <td>157500.0</td>\n",
       "      <td>4.285714</td>\n",
       "      <td>49117.5</td>\n",
       "      <td>157500.0</td>\n",
       "      <td>0.311857</td>\n",
       "      <td>49117.5</td>\n",
       "      <td>675000.0</td>\n",
       "      <td>0.072767</td>\n",
       "      <td>-1262.0</td>\n",
       "      <td>-16856.0</td>\n",
       "      <td>0.074869</td>\n",
       "    </tr>\n",
       "  </tbody>\n",
       "</table>\n",
       "<p>307511 rows × 12 columns</p>\n",
       "</div>"
      ],
      "text/plain": [
       "        AMT_CREDIT  AMT_INCOME_TOTAL  CREDIT_INCOME_PERCENT  AMT_ANNUITY  \\\n",
       "0         406597.5          202500.0               2.007889      24700.5   \n",
       "1        1293502.5          270000.0               4.790750      35698.5   \n",
       "2         135000.0           67500.0               2.000000       6750.0   \n",
       "3         312682.5          135000.0               2.316167      29686.5   \n",
       "4         513000.0          121500.0               4.222222      21865.5   \n",
       "...            ...               ...                    ...          ...   \n",
       "307506    254700.0          157500.0               1.617143      27558.0   \n",
       "307507    269550.0           72000.0               3.743750      12001.5   \n",
       "307508    677664.0          153000.0               4.429176      29979.0   \n",
       "307509    370107.0          171000.0               2.164368      20205.0   \n",
       "307510    675000.0          157500.0               4.285714      49117.5   \n",
       "\n",
       "        AMT_INCOME_TOTAL  ANNUITY_INCOME_PERCENT  AMT_ANNUITY  AMT_CREDIT  \\\n",
       "0               202500.0                0.121978      24700.5    406597.5   \n",
       "1               270000.0                0.132217      35698.5   1293502.5   \n",
       "2                67500.0                0.100000       6750.0    135000.0   \n",
       "3               135000.0                0.219900      29686.5    312682.5   \n",
       "4               121500.0                0.179963      21865.5    513000.0   \n",
       "...                  ...                     ...          ...         ...   \n",
       "307506          157500.0                0.174971      27558.0    254700.0   \n",
       "307507           72000.0                0.166687      12001.5    269550.0   \n",
       "307508          153000.0                0.195941      29979.0    677664.0   \n",
       "307509          171000.0                0.118158      20205.0    370107.0   \n",
       "307510          157500.0                0.311857      49117.5    675000.0   \n",
       "\n",
       "        CREDIT_TERM  DAYS_EMPLOYED  DAYS_BIRTH  DAYS_EMPLOYED_PERCENT  \n",
       "0          0.060749         -637.0     -9461.0               0.067329  \n",
       "1          0.027598        -1188.0    -16765.0               0.070862  \n",
       "2          0.050000         -225.0    -19046.0               0.011814  \n",
       "3          0.094941        -3039.0    -19005.0               0.159905  \n",
       "4          0.042623        -3038.0    -19932.0               0.152418  \n",
       "...             ...            ...         ...                    ...  \n",
       "307506     0.108198         -236.0     -9327.0               0.025303  \n",
       "307507     0.044524            0.0    -20775.0              -0.000000  \n",
       "307508     0.044239        -7921.0    -14966.0               0.529266  \n",
       "307509     0.054592        -4786.0    -11961.0               0.400134  \n",
       "307510     0.072767        -1262.0    -16856.0               0.074869  \n",
       "\n",
       "[307511 rows x 12 columns]"
      ]
     },
     "execution_count": 13,
     "metadata": {},
     "output_type": "execute_result"
    }
   ],
   "source": [
    "app_train[['AMT_CREDIT', 'AMT_INCOME_TOTAL', 'CREDIT_INCOME_PERCENT',\n",
    "           'AMT_ANNUITY','AMT_INCOME_TOTAL', 'ANNUITY_INCOME_PERCENT',\n",
    "           'AMT_ANNUITY', 'AMT_CREDIT','CREDIT_TERM',\n",
    "           'DAYS_EMPLOYED', 'DAYS_BIRTH', 'DAYS_EMPLOYED_PERCENT' ]]"
   ]
  },
  {
   "cell_type": "markdown",
   "id": "fitted-stick",
   "metadata": {},
   "source": [
    "# Ajout des donnees exterieures"
   ]
  },
  {
   "cell_type": "code",
   "execution_count": 14,
   "id": "handled-bearing",
   "metadata": {
    "_cell_guid": "79c7e3d0-c299-4dcb-8224-4455121ee9b0",
    "_uuid": "d629ff2d2480ee46fbb7e2d37f6b5fab8052498a"
   },
   "outputs": [],
   "source": [
    "# Read in bureau\n",
    "bureau = pd.read_csv('dataset/bureau.csv')\n"
   ]
  },
  {
   "cell_type": "code",
   "execution_count": 15,
   "id": "smaller-pleasure",
   "metadata": {
    "_uuid": "6665d87bd3a157c20fb5a383322aa153005cad2b"
   },
   "outputs": [
    {
     "data": {
      "text/html": [
       "<div>\n",
       "<style scoped>\n",
       "    .dataframe tbody tr th:only-of-type {\n",
       "        vertical-align: middle;\n",
       "    }\n",
       "\n",
       "    .dataframe tbody tr th {\n",
       "        vertical-align: top;\n",
       "    }\n",
       "\n",
       "    .dataframe thead th {\n",
       "        text-align: right;\n",
       "    }\n",
       "</style>\n",
       "<table border=\"1\" class=\"dataframe\">\n",
       "  <thead>\n",
       "    <tr style=\"text-align: right;\">\n",
       "      <th></th>\n",
       "      <th>SK_ID_CURR</th>\n",
       "      <th>previous_loan_counts</th>\n",
       "    </tr>\n",
       "  </thead>\n",
       "  <tbody>\n",
       "    <tr>\n",
       "      <th>0</th>\n",
       "      <td>100001</td>\n",
       "      <td>7</td>\n",
       "    </tr>\n",
       "    <tr>\n",
       "      <th>1</th>\n",
       "      <td>100002</td>\n",
       "      <td>8</td>\n",
       "    </tr>\n",
       "    <tr>\n",
       "      <th>2</th>\n",
       "      <td>100003</td>\n",
       "      <td>4</td>\n",
       "    </tr>\n",
       "    <tr>\n",
       "      <th>3</th>\n",
       "      <td>100004</td>\n",
       "      <td>2</td>\n",
       "    </tr>\n",
       "    <tr>\n",
       "      <th>4</th>\n",
       "      <td>100005</td>\n",
       "      <td>3</td>\n",
       "    </tr>\n",
       "  </tbody>\n",
       "</table>\n",
       "</div>"
      ],
      "text/plain": [
       "   SK_ID_CURR  previous_loan_counts\n",
       "0      100001                     7\n",
       "1      100002                     8\n",
       "2      100003                     4\n",
       "3      100004                     2\n",
       "4      100005                     3"
      ]
     },
     "execution_count": 15,
     "metadata": {},
     "output_type": "execute_result"
    }
   ],
   "source": [
    "# Groupby the client id (SK_ID_CURR), count the number of previous loans, and rename the column\n",
    "previous_loan_counts = bureau.groupby('SK_ID_CURR', as_index=False)['SK_ID_BUREAU'].count().rename(columns = {'SK_ID_BUREAU': 'previous_loan_counts'})\n",
    "previous_loan_counts.head()"
   ]
  },
  {
   "cell_type": "code",
   "execution_count": 16,
   "id": "literary-spectacular",
   "metadata": {
    "_uuid": "1adcc4acb891adae8646211db629fb263660c2bb"
   },
   "outputs": [
    {
     "data": {
      "text/html": [
       "<div>\n",
       "<style scoped>\n",
       "    .dataframe tbody tr th:only-of-type {\n",
       "        vertical-align: middle;\n",
       "    }\n",
       "\n",
       "    .dataframe tbody tr th {\n",
       "        vertical-align: top;\n",
       "    }\n",
       "\n",
       "    .dataframe thead th {\n",
       "        text-align: right;\n",
       "    }\n",
       "</style>\n",
       "<table border=\"1\" class=\"dataframe\">\n",
       "  <thead>\n",
       "    <tr style=\"text-align: right;\">\n",
       "      <th></th>\n",
       "      <th>SK_ID_CURR</th>\n",
       "      <th>TARGET</th>\n",
       "      <th>NAME_CONTRACT_TYPE</th>\n",
       "      <th>FLAG_OWN_CAR</th>\n",
       "      <th>FLAG_OWN_REALTY</th>\n",
       "      <th>CNT_CHILDREN</th>\n",
       "      <th>AMT_INCOME_TOTAL</th>\n",
       "      <th>AMT_CREDIT</th>\n",
       "      <th>AMT_ANNUITY</th>\n",
       "      <th>AMT_GOODS_PRICE</th>\n",
       "      <th>...</th>\n",
       "      <th>WALLSMATERIAL_MODE_Wooden</th>\n",
       "      <th>EMERGENCYSTATE_MODE_No</th>\n",
       "      <th>EMERGENCYSTATE_MODE_NonRenseigne</th>\n",
       "      <th>EMERGENCYSTATE_MODE_Yes</th>\n",
       "      <th>DAYS_EMPLOYED_ANOM</th>\n",
       "      <th>CREDIT_INCOME_PERCENT</th>\n",
       "      <th>ANNUITY_INCOME_PERCENT</th>\n",
       "      <th>CREDIT_TERM</th>\n",
       "      <th>DAYS_EMPLOYED_PERCENT</th>\n",
       "      <th>previous_loan_counts</th>\n",
       "    </tr>\n",
       "  </thead>\n",
       "  <tbody>\n",
       "    <tr>\n",
       "      <th>0</th>\n",
       "      <td>100002.0</td>\n",
       "      <td>1.0</td>\n",
       "      <td>0</td>\n",
       "      <td>0</td>\n",
       "      <td>1</td>\n",
       "      <td>0.0</td>\n",
       "      <td>202500.0</td>\n",
       "      <td>406597.5</td>\n",
       "      <td>24700.5</td>\n",
       "      <td>351000.0</td>\n",
       "      <td>...</td>\n",
       "      <td>0</td>\n",
       "      <td>1</td>\n",
       "      <td>0</td>\n",
       "      <td>0</td>\n",
       "      <td>0</td>\n",
       "      <td>2.007889</td>\n",
       "      <td>0.121978</td>\n",
       "      <td>0.060749</td>\n",
       "      <td>0.067329</td>\n",
       "      <td>8.0</td>\n",
       "    </tr>\n",
       "    <tr>\n",
       "      <th>1</th>\n",
       "      <td>100003.0</td>\n",
       "      <td>0.0</td>\n",
       "      <td>0</td>\n",
       "      <td>0</td>\n",
       "      <td>0</td>\n",
       "      <td>0.0</td>\n",
       "      <td>270000.0</td>\n",
       "      <td>1293502.5</td>\n",
       "      <td>35698.5</td>\n",
       "      <td>1129500.0</td>\n",
       "      <td>...</td>\n",
       "      <td>0</td>\n",
       "      <td>1</td>\n",
       "      <td>0</td>\n",
       "      <td>0</td>\n",
       "      <td>0</td>\n",
       "      <td>4.790750</td>\n",
       "      <td>0.132217</td>\n",
       "      <td>0.027598</td>\n",
       "      <td>0.070862</td>\n",
       "      <td>4.0</td>\n",
       "    </tr>\n",
       "    <tr>\n",
       "      <th>2</th>\n",
       "      <td>100004.0</td>\n",
       "      <td>0.0</td>\n",
       "      <td>1</td>\n",
       "      <td>1</td>\n",
       "      <td>1</td>\n",
       "      <td>0.0</td>\n",
       "      <td>67500.0</td>\n",
       "      <td>135000.0</td>\n",
       "      <td>6750.0</td>\n",
       "      <td>135000.0</td>\n",
       "      <td>...</td>\n",
       "      <td>0</td>\n",
       "      <td>0</td>\n",
       "      <td>1</td>\n",
       "      <td>0</td>\n",
       "      <td>0</td>\n",
       "      <td>2.000000</td>\n",
       "      <td>0.100000</td>\n",
       "      <td>0.050000</td>\n",
       "      <td>0.011814</td>\n",
       "      <td>2.0</td>\n",
       "    </tr>\n",
       "    <tr>\n",
       "      <th>3</th>\n",
       "      <td>100006.0</td>\n",
       "      <td>0.0</td>\n",
       "      <td>0</td>\n",
       "      <td>0</td>\n",
       "      <td>1</td>\n",
       "      <td>0.0</td>\n",
       "      <td>135000.0</td>\n",
       "      <td>312682.5</td>\n",
       "      <td>29686.5</td>\n",
       "      <td>297000.0</td>\n",
       "      <td>...</td>\n",
       "      <td>0</td>\n",
       "      <td>0</td>\n",
       "      <td>1</td>\n",
       "      <td>0</td>\n",
       "      <td>0</td>\n",
       "      <td>2.316167</td>\n",
       "      <td>0.219900</td>\n",
       "      <td>0.094941</td>\n",
       "      <td>0.159905</td>\n",
       "      <td>0.0</td>\n",
       "    </tr>\n",
       "    <tr>\n",
       "      <th>4</th>\n",
       "      <td>100007.0</td>\n",
       "      <td>0.0</td>\n",
       "      <td>0</td>\n",
       "      <td>0</td>\n",
       "      <td>1</td>\n",
       "      <td>0.0</td>\n",
       "      <td>121500.0</td>\n",
       "      <td>513000.0</td>\n",
       "      <td>21865.5</td>\n",
       "      <td>513000.0</td>\n",
       "      <td>...</td>\n",
       "      <td>0</td>\n",
       "      <td>0</td>\n",
       "      <td>1</td>\n",
       "      <td>0</td>\n",
       "      <td>0</td>\n",
       "      <td>4.222222</td>\n",
       "      <td>0.179963</td>\n",
       "      <td>0.042623</td>\n",
       "      <td>0.152418</td>\n",
       "      <td>1.0</td>\n",
       "    </tr>\n",
       "  </tbody>\n",
       "</table>\n",
       "<p>5 rows × 255 columns</p>\n",
       "</div>"
      ],
      "text/plain": [
       "   SK_ID_CURR  TARGET  NAME_CONTRACT_TYPE  FLAG_OWN_CAR  FLAG_OWN_REALTY  \\\n",
       "0    100002.0     1.0                   0             0                1   \n",
       "1    100003.0     0.0                   0             0                0   \n",
       "2    100004.0     0.0                   1             1                1   \n",
       "3    100006.0     0.0                   0             0                1   \n",
       "4    100007.0     0.0                   0             0                1   \n",
       "\n",
       "   CNT_CHILDREN  AMT_INCOME_TOTAL  AMT_CREDIT  AMT_ANNUITY  AMT_GOODS_PRICE  \\\n",
       "0           0.0          202500.0    406597.5      24700.5         351000.0   \n",
       "1           0.0          270000.0   1293502.5      35698.5        1129500.0   \n",
       "2           0.0           67500.0    135000.0       6750.0         135000.0   \n",
       "3           0.0          135000.0    312682.5      29686.5         297000.0   \n",
       "4           0.0          121500.0    513000.0      21865.5         513000.0   \n",
       "\n",
       "   ...  WALLSMATERIAL_MODE_Wooden  EMERGENCYSTATE_MODE_No  \\\n",
       "0  ...                          0                       1   \n",
       "1  ...                          0                       1   \n",
       "2  ...                          0                       0   \n",
       "3  ...                          0                       0   \n",
       "4  ...                          0                       0   \n",
       "\n",
       "   EMERGENCYSTATE_MODE_NonRenseigne  EMERGENCYSTATE_MODE_Yes  \\\n",
       "0                                 0                        0   \n",
       "1                                 0                        0   \n",
       "2                                 1                        0   \n",
       "3                                 1                        0   \n",
       "4                                 1                        0   \n",
       "\n",
       "   DAYS_EMPLOYED_ANOM  CREDIT_INCOME_PERCENT  ANNUITY_INCOME_PERCENT  \\\n",
       "0                   0               2.007889                0.121978   \n",
       "1                   0               4.790750                0.132217   \n",
       "2                   0               2.000000                0.100000   \n",
       "3                   0               2.316167                0.219900   \n",
       "4                   0               4.222222                0.179963   \n",
       "\n",
       "   CREDIT_TERM  DAYS_EMPLOYED_PERCENT  previous_loan_counts  \n",
       "0     0.060749               0.067329                   8.0  \n",
       "1     0.027598               0.070862                   4.0  \n",
       "2     0.050000               0.011814                   2.0  \n",
       "3     0.094941               0.159905                   0.0  \n",
       "4     0.042623               0.152418                   1.0  \n",
       "\n",
       "[5 rows x 255 columns]"
      ]
     },
     "execution_count": 16,
     "metadata": {},
     "output_type": "execute_result"
    }
   ],
   "source": [
    "# Join to the training dataframe\n",
    "app_train = app_train.merge(previous_loan_counts, on = 'SK_ID_CURR', how = 'left')\n",
    "\n",
    "# Fill the missing values with 0 \n",
    "app_train['previous_loan_counts'] = app_train['previous_loan_counts'].fillna(0)\n",
    "app_train.head()"
   ]
  },
  {
   "cell_type": "code",
   "execution_count": 17,
   "id": "continued-constitution",
   "metadata": {},
   "outputs": [
    {
     "data": {
      "text/plain": [
       "SK_ID_CURR                0\n",
       "TARGET                    0\n",
       "NAME_CONTRACT_TYPE        0\n",
       "FLAG_OWN_CAR              0\n",
       "FLAG_OWN_REALTY           0\n",
       "                         ..\n",
       "CREDIT_INCOME_PERCENT     0\n",
       "ANNUITY_INCOME_PERCENT    0\n",
       "CREDIT_TERM               0\n",
       "DAYS_EMPLOYED_PERCENT     0\n",
       "previous_loan_counts      0\n",
       "Length: 255, dtype: int64"
      ]
     },
     "execution_count": 17,
     "metadata": {},
     "output_type": "execute_result"
    }
   ],
   "source": [
    "app_train.isna().sum()"
   ]
  },
  {
   "cell_type": "code",
   "execution_count": null,
   "id": "conventional-reservoir",
   "metadata": {},
   "outputs": [],
   "source": []
  },
  {
   "cell_type": "code",
   "execution_count": null,
   "id": "residential-somewhere",
   "metadata": {},
   "outputs": [],
   "source": []
  },
  {
   "cell_type": "code",
   "execution_count": null,
   "id": "internal-holocaust",
   "metadata": {},
   "outputs": [],
   "source": []
  },
  {
   "cell_type": "code",
   "execution_count": null,
   "id": "contrary-interpretation",
   "metadata": {},
   "outputs": [],
   "source": []
  },
  {
   "cell_type": "code",
   "execution_count": null,
   "id": "cleared-advice",
   "metadata": {},
   "outputs": [],
   "source": []
  },
  {
   "cell_type": "markdown",
   "id": "dense-article",
   "metadata": {},
   "source": [
    "# BASELINE"
   ]
  },
  {
   "cell_type": "code",
   "execution_count": 18,
   "id": "dental-deployment",
   "metadata": {},
   "outputs": [],
   "source": [
    "import re\n",
    "from collections import Counter\n",
    "\n",
    "app_train = app_train.rename(columns = lambda x:re.sub('[^A-Za-z0-9_]+', '', x))\n",
    "\n",
    "X = app_train.drop(columns='TARGET').copy()\n",
    "y = app_train['TARGET'].copy()\n"
   ]
  },
  {
   "cell_type": "code",
   "execution_count": 20,
   "id": "logical-alpha",
   "metadata": {},
   "outputs": [],
   "source": [
    "from sklearn.model_selection import train_test_split\n",
    "\n",
    "X_train, X_val, y_train, y_val = train_test_split(X, y, test_size=0.2, stratify=y, random_state=1944)"
   ]
  },
  {
   "cell_type": "code",
   "execution_count": 21,
   "id": "catholic-general",
   "metadata": {},
   "outputs": [
    {
     "name": "stdout",
     "output_type": "stream",
     "text": [
      "y_train Counter({0.0: 226148, 1.0: 19860})\n",
      "y_val Counter({0.0: 56538, 1.0: 4965})\n"
     ]
    }
   ],
   "source": [
    "print('y_train', Counter(y_train))\n",
    "print('y_val', Counter(y_val))"
   ]
  },
  {
   "cell_type": "markdown",
   "id": "useful-brazilian",
   "metadata": {},
   "source": [
    "### definition metrique et fonction evaluation"
   ]
  },
  {
   "cell_type": "code",
   "execution_count": 22,
   "id": "nominated-poultry",
   "metadata": {},
   "outputs": [],
   "source": [
    "# il est important de faire ressortir les FNs car perte de capital\n",
    "# trouver les TP est interessant aussi car interet\n",
    "# les FP sont moins risqués car perte d'interet seulement\n",
    "def custom_metric(y, y_pred):\n",
    "    TP = np.sum( (y==1) & (y_pred==1) )\n",
    "    FP = np.sum( (y==0) & (y_pred==1) )\n",
    "    TN = np.sum( (y==0) & (y_pred==0) )\n",
    "    FN = np.sum( (y==1) & (y_pred==0) )\n",
    "# Fowlkes–Mallows index \n",
    "# https://en.wikipedia.org/wiki/Confusion_matrix\n",
    "# https://en.wikipedia.org/wiki/Fowlkes%E2%80%93Mallows_index\n",
    "# Positive predictive value PPV\n",
    "    PPV = TP / (TP + FP)\n",
    "# Positive predictive value TPR\n",
    "    TPR = TP / (TP + FN)\n",
    "    FMI = np.sqrt( PPV * TPR )\n",
    "    return FMI\n",
    "\n",
    "def custom_metric_f2(y, y_pred):\n",
    "    return fbeta_score(y, y_pred,2)"
   ]
  },
  {
   "cell_type": "code",
   "execution_count": 23,
   "id": "coral-matter",
   "metadata": {},
   "outputs": [],
   "source": [
    "from sklearn.metrics import make_scorer\n",
    "\n",
    "custom_scorer = make_scorer(custom_metric, greater_is_better=True )\n",
    "custom_scorer_f2 = make_scorer(custom_metric_f2, greater_is_better=True )"
   ]
  },
  {
   "cell_type": "code",
   "execution_count": 24,
   "id": "diverse-personal",
   "metadata": {},
   "outputs": [],
   "source": [
    "from sklearn.metrics import classification_report, confusion_matrix, roc_auc_score, accuracy_score, f1_score, recall_score, precision_score\n",
    "from sklearn.metrics import precision_recall_curve, roc_curve, auc, fbeta_score\n",
    "\n",
    "def model_eval_score(model, Xval, yval):\n",
    "    yval_pred = model.predict(Xval)\n",
    "    conf_mat = confusion_matrix(yval, yval_pred)\n",
    "    print(conf_mat)\n",
    "    print(f'Accuracy score    : {accuracy_score(yval, yval_pred):.3}')\n",
    "    print(f'precision score   : {precision_score(yval, yval_pred):.3}')\n",
    "    print(f'recall score      : {recall_score(yval, yval_pred):.3}')\n",
    "    print(f'F1 score          : {f1_score(yval, yval_pred):.3}')\n",
    "    print(f'F2 score          : {fbeta_score(yval, yval_pred,2):.3}')\n",
    "    print(f'ROCAUC score      : {roc_auc_score(yval, yval_pred):.3}')\n",
    "    print(f'custom metric FMI : {custom_metric(yval, yval_pred):.3}')\n",
    "    print()\n",
    "#    print(classification_report(yval, yval_pred))\n",
    "\n",
    "def model_eval(model, Xval, yval):\n",
    "    model_eval_score(model, Xval, yval)\n",
    "    \n",
    "    yval_proba = model.predict_proba(Xval)[:, 1]\n",
    "    fpr, tpr, thresholds = roc_curve(yval, yval_proba)\n",
    "    roc_auc = auc(fpr, tpr)\n",
    "\n",
    "    plt.title('Receiver Operating Characteristic')\n",
    "    plt.plot(fpr, tpr, 'b', label = 'AUC = %0.2f' % roc_auc)\n",
    "    plt.legend(loc = 'lower right')\n",
    "    plt.plot([0, 1], [0, 1],'r--')\n",
    "    plt.xlim([0, 1])\n",
    "    plt.ylim([0, 1])\n",
    "    plt.ylabel('True Positive Rate')\n",
    "    plt.xlabel('False Positive Rate')\n",
    "    plt.show()\n"
   ]
  },
  {
   "cell_type": "code",
   "execution_count": null,
   "id": "structural-coating",
   "metadata": {},
   "outputs": [],
   "source": []
  },
  {
   "cell_type": "markdown",
   "id": "parental-sullivan",
   "metadata": {},
   "source": [
    "## comparaison hasard Dummy"
   ]
  },
  {
   "cell_type": "code",
   "execution_count": 25,
   "id": "encouraging-lebanon",
   "metadata": {},
   "outputs": [
    {
     "name": "stdout",
     "output_type": "stream",
     "text": [
      "[[52016  4522]\n",
      " [ 4564   401]]\n",
      "Accuracy score    : 0.852\n",
      "precision score   : 0.0815\n",
      "recall score      : 0.0808\n",
      "F1 score          : 0.0811\n",
      "F2 score          : 0.0809\n",
      "ROCAUC score      : 0.5\n",
      "custom metric FMI : 0.0811\n",
      "\n"
     ]
    },
    {
     "data": {
      "image/png": "[encoded data removed]",
      "text/plain": [
       "<Figure size 432x288 with 1 Axes>"
      ]
     },
     "metadata": {
      "needs_background": "light"
     },
     "output_type": "display_data"
    }
   ],
   "source": [
    "from sklearn.dummy import DummyClassifier\n",
    "\n",
    "dummyCls = DummyClassifier(strategy='stratified')\n",
    "dummyCls.fit(X_train, y_train)\n",
    "\n",
    "model_eval(dummyCls, X_val, y_val)"
   ]
  },
  {
   "cell_type": "code",
   "execution_count": null,
   "id": "enormous-maximum",
   "metadata": {},
   "outputs": [],
   "source": []
  },
  {
   "cell_type": "code",
   "execution_count": 30,
   "id": "alternative-proxy",
   "metadata": {},
   "outputs": [
    {
     "name": "stdout",
     "output_type": "stream",
     "text": [
      "Training until validation scores don't improve for 200 rounds\n",
      "Did not meet early stopping. Best iteration is:\n",
      "[100]\ttraining's auc: 0.804936\ttraining's binary_logloss: 0.546661\tvalid_1's auc: 0.763736\tvalid_1's binary_logloss: 0.556667\n"
     ]
    },
    {
     "data": {
      "text/plain": [
       "LGBMClassifier(is_unbalance=True)"
      ]
     },
     "execution_count": 30,
     "metadata": {},
     "output_type": "execute_result"
    }
   ],
   "source": [
    "from lightgbm import LGBMClassifier\n",
    "\n",
    "lgbmc10 = LGBMClassifier(is_unbalance=True)\n",
    "\n",
    "lgbmc10.fit(X_train, y_train, eval_set=[(X_train, y_train), (X_val, y_val)], \n",
    "    eval_metric= 'auc', verbose= 200, early_stopping_rounds= 200)"
   ]
  },
  {
   "cell_type": "code",
   "execution_count": 31,
   "id": "through-presentation",
   "metadata": {},
   "outputs": [
    {
     "name": "stdout",
     "output_type": "stream",
     "text": [
      "[[40141 16397]\n",
      " [ 1568  3397]]\n",
      "Accuracy score    : 0.708\n",
      "precision score   : 0.172\n",
      "recall score      : 0.684\n",
      "F1 score          : 0.274\n",
      "F2 score          : 0.428\n",
      "ROCAUC score      : 0.697\n",
      "custom metric FMI : 0.343\n",
      "\n"
     ]
    },
    {
     "data": {
      "image/png": "[encoded data removed]",
      "text/plain": [
       "<Figure size 432x288 with 1 Axes>"
      ]
     },
     "metadata": {
      "needs_background": "light"
     },
     "output_type": "display_data"
    }
   ],
   "source": [
    "model_eval(lgbmc10, X_val, y_val)"
   ]
  },
  {
   "cell_type": "code",
   "execution_count": 44,
   "id": "sustained-editor",
   "metadata": {},
   "outputs": [
    {
     "data": {
      "text/plain": [
       "(61503,)"
      ]
     },
     "execution_count": 44,
     "metadata": {},
     "output_type": "execute_result"
    }
   ],
   "source": [
    "y_val.shape"
   ]
  },
  {
   "cell_type": "code",
   "execution_count": 43,
   "id": "earlier-grace",
   "metadata": {},
   "outputs": [
    {
     "data": {
      "text/plain": [
       "(61503,)"
      ]
     },
     "execution_count": 43,
     "metadata": {},
     "output_type": "execute_result"
    }
   ],
   "source": [
    "F2-Measure = (5 * Precision * Recall) / (4 * Precision + Recall)"
   ]
  },
  {
   "cell_type": "code",
   "execution_count": 56,
   "id": "medical-chrome",
   "metadata": {},
   "outputs": [
    {
     "data": {
      "text/plain": [
       "('F2 Score', 0.42833005497553833, True)"
      ]
     },
     "execution_count": 56,
     "metadata": {},
     "output_type": "execute_result"
    }
   ],
   "source": [
    "\n",
    "def custom_lightgbm_valid(y_true, y_pred):\n",
    "    TP = np.sum( (y_true==1) & (y_pred==1) )\n",
    "    FP = np.sum( (y_true==0) & (y_pred==1) )\n",
    "    TN = np.sum( (y_true==0) & (y_pred==0) )\n",
    "    FN = np.sum( (y_true==1) & (y_pred==0) )\n",
    "    precision  = TP / ( TP + FP )\n",
    "    recall  = TP / ( TP + FN )\n",
    "    f1_score = 2 * precision * recall / (precision + recall)\n",
    "    f2_score = (5 * precision * recall) / (4 * precision + recall)\n",
    "    return \"F2 Score\", f2_score, True\n",
    " \n",
    "y_pred = lgbmc10.predict(X_val)\n",
    "custom_lightgbm_valid(y_val, y_pred)"
   ]
  },
  {
   "cell_type": "code",
   "execution_count": 61,
   "id": "endless-advocacy",
   "metadata": {},
   "outputs": [
    {
     "name": "stdout",
     "output_type": "stream",
     "text": [
      "0.42833005497553833\n"
     ]
    }
   ],
   "source": [
    "from sklearn.metrics import make_scorer\n",
    "\n",
    "def custom_metric_light_gbm(y, y_pred):\n",
    "    chaine, f2_score, dum = custom_lightgbm_valid(y, y_pred)\n",
    "    return f2_score\n",
    "\n",
    "y_pred = lgbmc10.predict(X_val)\n",
    "print(custom_metric_light_gbm(y_val, y_pred))\n",
    "\n",
    "custom_scorer_lgbm_f2 = make_scorer(custom_metric_light_gbm, greater_is_better=True )"
   ]
  },
  {
   "cell_type": "code",
   "execution_count": 57,
   "id": "efficient-amsterdam",
   "metadata": {
    "jupyter": {
     "source_hidden": true
    }
   },
   "outputs": [
    {
     "name": "stdout",
     "output_type": "stream",
     "text": [
      "[[40141 16397]\n",
      " [ 1568  3397]]\n",
      "Accuracy score    : 0.708\n",
      "precision score   : 0.172\n",
      "recall score      : 0.684\n",
      "F1 score          : 0.274\n",
      "F2 score          : 0.428\n",
      "ROCAUC score      : 0.697\n",
      "custom metric FMI : 0.343\n",
      "\n"
     ]
    },
    {
     "data": {
      "image/png": "[encoded data removed]",
      "text/plain": [
       "<Figure size 432x288 with 1 Axes>"
      ]
     },
     "metadata": {
      "needs_background": "light"
     },
     "output_type": "display_data"
    }
   ],
   "source": [
    "lgbmc10_custom = LGBMClassifier(is_unbalance=True)\n",
    "\n",
    "lgbmc10_custom.fit(X_train, y_train, eval_set=[(X_train, y_train), (X_val, y_val)], \n",
    "    eval_metric= custom_lightgbm_valid, verbose= 200)\n",
    "\n",
    "model_eval(lgbmc10_custom, X_val, y_val)"
   ]
  },
  {
   "cell_type": "code",
   "execution_count": 62,
   "id": "fabulous-newspaper",
   "metadata": {},
   "outputs": [
    {
     "name": "stdout",
     "output_type": "stream",
     "text": [
      "{'num_leaves': array([ 50, 100, 150, 200, 250, 300, 350, 400, 450]), 'min_child_samples': array([100, 200, 300, 400]), 'min_child_weight': [1e-05, 0.001, 0.01, 0.1, 1, 10.0, 100.0, 1000.0, 10000.0], 'subsample': array([0.2, 0.3, 0.4, 0.5, 0.6, 0.7, 0.8, 0.9]), 'colsample_bytree': array([0.2, 0.3, 0.4, 0.5, 0.6, 0.7, 0.8, 0.9]), 'reg_alpha': [0, 0.1, 1, 2, 5, 7, 10, 50, 100], 'reg_lambda': [0, 0.1, 1, 5, 10, 20, 50, 100]}\n",
      "Fitting 3 folds for each of 50 candidates, totalling 150 fits\n"
     ]
    },
    {
     "name": "stderr",
     "output_type": "stream",
     "text": [
      "[Parallel(n_jobs=-1)]: Using backend LokyBackend with 4 concurrent workers.\n",
      "[Parallel(n_jobs=-1)]: Done  24 tasks      | elapsed:  1.9min\n",
      "[Parallel(n_jobs=-1)]: Done 120 tasks      | elapsed:  8.5min\n",
      "[Parallel(n_jobs=-1)]: Done 150 out of 150 | elapsed: 10.8min finished\n"
     ]
    },
    {
     "name": "stdout",
     "output_type": "stream",
     "text": [
      "{'subsample': 0.8000000000000003, 'reg_lambda': 100, 'reg_alpha': 0, 'num_leaves': 50, 'min_child_weight': 100.0, 'min_child_samples': 400, 'colsample_bytree': 0.30000000000000004}\n",
      "[[40514 16024]\n",
      " [ 1604  3361]]\n",
      "Accuracy score    : 0.713\n",
      "precision score   : 0.173\n",
      "recall score      : 0.677\n",
      "F1 score          : 0.276\n",
      "F2 score          : 0.428\n",
      "ROCAUC score      : 0.697\n",
      "custom metric FMI : 0.343\n",
      "\n"
     ]
    },
    {
     "data": {
      "image/png": "[encoded data removed]",
      "text/plain": [
       "<Figure size 432x288 with 1 Axes>"
      ]
     },
     "metadata": {
      "needs_background": "light"
     },
     "output_type": "display_data"
    }
   ],
   "source": [
    "from sklearn.model_selection import RandomizedSearchCV\n",
    "\n",
    "random_grid ={\n",
    "            'num_leaves': np.arange(50,500,50),\n",
    "            'min_child_samples': np.arange(100,500,100), \n",
    "            'min_child_weight': [1e-5, 1e-3, 1e-2, 1e-1, 1, 1e1, 1e2, 1e3, 1e4],\n",
    "            'subsample': np.arange(0.2,1,.1), \n",
    "            'colsample_bytree': np.arange(0.2,1,.1),\n",
    "            'reg_alpha': [0, 1e-1, 1, 2, 5, 7, 10, 50, 100],\n",
    "            'reg_lambda': [0, 1e-1, 1, 5, 10, 20, 50, 100]}\n",
    "\n",
    "print(random_grid)\n",
    "\n",
    "# Random search of parameters, using 3 fold cross validation, \n",
    "# search across 100 different combinations, and use all available cores\n",
    "lgbm_random = RandomizedSearchCV(estimator = LGBMClassifier(is_unbalance=True, objective = 'binary', metric = 'auc'), scoring=custom_scorer_lgbm_f2, param_distributions = random_grid, n_iter = 50, cv = 3, verbose=3, n_jobs = -1)\n",
    "# Fit the random search model\n",
    "lgbm_random.fit(X_train, y_train)\n",
    "\n",
    "print(lgbm_random.best_params_)\n",
    "\n",
    "model_eval(lgbm_random.best_estimator_, X_val, y_val)"
   ]
  },
  {
   "cell_type": "code",
   "execution_count": 63,
   "id": "affecting-black",
   "metadata": {},
   "outputs": [
    {
     "name": "stdout",
     "output_type": "stream",
     "text": [
      "[[40514 16024]\n",
      " [ 1604  3361]]\n",
      "Accuracy score    : 0.713\n",
      "precision score   : 0.173\n",
      "recall score      : 0.677\n",
      "F1 score          : 0.276\n",
      "F2 score          : 0.428\n",
      "ROCAUC score      : 0.697\n",
      "custom metric FMI : 0.343\n",
      "\n"
     ]
    }
   ],
   "source": [
    "model_eval_score(lgbm_random.best_estimator_, X_val, y_val)"
   ]
  },
  {
   "cell_type": "code",
   "execution_count": null,
   "id": "parliamentary-perception",
   "metadata": {},
   "outputs": [],
   "source": []
  },
  {
   "cell_type": "code",
   "execution_count": null,
   "id": "equal-shipping",
   "metadata": {},
   "outputs": [],
   "source": []
  },
  {
   "cell_type": "code",
   "execution_count": null,
   "id": "automotive-drove",
   "metadata": {},
   "outputs": [],
   "source": []
  },
  {
   "cell_type": "code",
   "execution_count": null,
   "id": "sustained-moses",
   "metadata": {},
   "outputs": [],
   "source": []
  },
  {
   "cell_type": "code",
   "execution_count": 64,
   "id": "opposed-gibraltar",
   "metadata": {},
   "outputs": [
    {
     "name": "stdout",
     "output_type": "stream",
     "text": [
      "{'num_leaves': array([ 50, 100, 150, 200, 250, 300, 350, 400, 450]), 'min_child_samples': array([100, 200, 300, 400]), 'min_child_weight': [1e-05, 0.001, 0.01, 0.1, 1, 10.0, 100.0, 1000.0, 10000.0], 'subsample': array([0.2, 0.3, 0.4, 0.5, 0.6, 0.7, 0.8, 0.9]), 'colsample_bytree': array([0.2, 0.3, 0.4, 0.5, 0.6, 0.7, 0.8, 0.9]), 'reg_alpha': [0, 0.1, 1, 2, 5, 7, 10, 50, 100], 'reg_lambda': [0, 0.1, 1, 5, 10, 20, 50, 100]}\n",
      "Fitting 3 folds for each of 50 candidates, totalling 150 fits\n"
     ]
    },
    {
     "name": "stderr",
     "output_type": "stream",
     "text": [
      "[Parallel(n_jobs=-1)]: Using backend LokyBackend with 4 concurrent workers.\n",
      "[Parallel(n_jobs=-1)]: Done  24 tasks      | elapsed:  2.4min\n",
      "[Parallel(n_jobs=-1)]: Done 120 tasks      | elapsed: 10.8min\n",
      "[Parallel(n_jobs=-1)]: Done 150 out of 150 | elapsed: 13.6min finished\n"
     ]
    },
    {
     "name": "stdout",
     "output_type": "stream",
     "text": [
      "{'subsample': 0.7000000000000002, 'reg_lambda': 50, 'reg_alpha': 5, 'num_leaves': 100, 'min_child_weight': 100.0, 'min_child_samples': 100, 'colsample_bytree': 0.4000000000000001}\n",
      "[[41906 14632]\n",
      " [ 1732  3233]]\n",
      "Accuracy score    : 0.734\n",
      "precision score   : 0.181\n",
      "recall score      : 0.651\n",
      "F1 score          : 0.283\n",
      "F2 score          : 0.428\n",
      "ROCAUC score      : 0.696\n",
      "custom metric FMI : 0.343\n",
      "\n"
     ]
    },
    {
     "data": {
      "image/png": "[encoded data removed]",
      "text/plain": [
       "<Figure size 432x288 with 1 Axes>"
      ]
     },
     "metadata": {
      "needs_background": "light"
     },
     "output_type": "display_data"
    }
   ],
   "source": [
    "from sklearn.model_selection import RandomizedSearchCV\n",
    "\n",
    "random_grid ={\n",
    "            'num_leaves': np.arange(50,500,50),\n",
    "            'min_child_samples': np.arange(100,500,100), \n",
    "            'min_child_weight': [1e-5, 1e-3, 1e-2, 1e-1, 1, 1e1, 1e2, 1e3, 1e4],\n",
    "            'subsample': np.arange(0.2,1,.1), \n",
    "            'colsample_bytree': np.arange(0.2,1,.1),\n",
    "            'reg_alpha': [0, 1e-1, 1, 2, 5, 7, 10, 50, 100],\n",
    "            'reg_lambda': [0, 1e-1, 1, 5, 10, 20, 50, 100]}\n",
    "\n",
    "print(random_grid)\n",
    "\n",
    "# Random search of parameters, using 3 fold cross validation, \n",
    "# search across 100 different combinations, and use all available cores\n",
    "lgbm_random = RandomizedSearchCV(estimator = LGBMClassifier(is_unbalance=True, objective = 'binary', metric = 'auc'), scoring=custom_scorer, param_distributions = random_grid, n_iter = 50, cv = 3, verbose=3, n_jobs = -1)\n",
    "# Fit the random search model\n",
    "lgbm_random.fit(X_train, y_train)\n",
    "\n",
    "print(lgbm_random.best_params_)\n",
    "\n",
    "model_eval(lgbm_random.best_estimator_, X_val, y_val)"
   ]
  },
  {
   "cell_type": "code",
   "execution_count": null,
   "id": "adjustable-enzyme",
   "metadata": {},
   "outputs": [],
   "source": []
  },
  {
   "cell_type": "code",
   "execution_count": null,
   "id": "brown-traffic",
   "metadata": {},
   "outputs": [],
   "source": []
  }
 ],
 "metadata": {
  "kernelspec": {
   "display_name": "Python 3",
   "language": "python",
   "name": "python3"
  },
  "language_info": {
   "codemirror_mode": {
    "name": "ipython",
    "version": 3
   },
   "file_extension": ".py",
   "mimetype": "text/x-python",
   "name": "python",
   "nbconvert_exporter": "python",
   "pygments_lexer": "ipython3",
   "version": "3.8.8"
  }
 },
 "nbformat": 4,
 "nbformat_minor": 5
}
