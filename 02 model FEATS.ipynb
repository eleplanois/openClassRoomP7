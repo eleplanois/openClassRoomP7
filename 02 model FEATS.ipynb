{
 "cells": [
  {
   "cell_type": "code",
   "execution_count": 49,
   "id": "acknowledged-pollution",
   "metadata": {},
   "outputs": [],
   "source": [
    "# numpy and pandas for data manipulation\n",
    "import pandas as pd \n",
    "import numpy as np\n",
    "\n",
    "# sklearn \n",
    "from sklearn.impute import SimpleImputer\n",
    "from sklearn.model_selection import train_test_split, RandomizedSearchCV, GridSearchCV\n",
    "from sklearn.metrics import classification_report, confusion_matrix, roc_auc_score, accuracy_score, f1_score, recall_score, precision_score\n",
    "from sklearn.metrics import precision_recall_curve, roc_curve, auc, fbeta_score, make_scorer\n",
    "from sklearn.dummy import DummyClassifier\n",
    "from sklearn.linear_model import LogisticRegression\n",
    "from sklearn.tree import DecisionTreeClassifier\n",
    "from sklearn.ensemble import RandomForestClassifier\n",
    "\n",
    "#gestion du desiquilibre de la classe TARGET\n",
    "from imblearn.over_sampling import SMOTE\n",
    "from imblearn.under_sampling import RandomUnderSampler\n",
    "from imblearn.under_sampling import NearMiss\n",
    "from imblearn.over_sampling import SMOTE\n",
    "from imblearn.combine import SMOTEENN\n",
    "\n",
    "#Boosting lightgbm\n",
    "from lightgbm import LGBMClassifier\n",
    "\n",
    "# File system manangement\n",
    "import os\n",
    "\n",
    "# Suppress warnings \n",
    "import warnings\n",
    "warnings.filterwarnings('ignore')\n",
    "\n",
    "# matplotlib and seaborn for plotting\n",
    "import matplotlib.pyplot as plt\n",
    "import seaborn as sns\n",
    "\n",
    "#regEX\n",
    "import re\n",
    "from collections import Counter\n",
    "\n",
    "#serialisation du modele\n",
    "import pickle\n",
    "\n",
    "#mesure du temps\n",
    "import timeit"
   ]
  },
  {
   "cell_type": "code",
   "execution_count": null,
   "id": "downtown-incident",
   "metadata": {},
   "outputs": [],
   "source": []
  },
  {
   "cell_type": "markdown",
   "id": "casual-regression",
   "metadata": {},
   "source": [
    "#  UTILISATION d'une selection dans le jeu complet de données\n",
    "\n",
    "selection faite dans kernel kaggle : https://www.kaggle.com/hikmetsezen/micro-model-174-features-0-8-auc-on-home-credit"
   ]
  },
  {
   "cell_type": "code",
   "execution_count": 4,
   "id": "incoming-fraction",
   "metadata": {},
   "outputs": [],
   "source": [
    "df_feats = pd.read_csv('df_feats.csv')"
   ]
  },
  {
   "cell_type": "code",
   "execution_count": 5,
   "id": "military-spiritual",
   "metadata": {},
   "outputs": [
    {
     "data": {
      "text/html": [
       "<div>\n",
       "<style scoped>\n",
       "    .dataframe tbody tr th:only-of-type {\n",
       "        vertical-align: middle;\n",
       "    }\n",
       "\n",
       "    .dataframe tbody tr th {\n",
       "        vertical-align: top;\n",
       "    }\n",
       "\n",
       "    .dataframe thead th {\n",
       "        text-align: right;\n",
       "    }\n",
       "</style>\n",
       "<table border=\"1\" class=\"dataframe\">\n",
       "  <thead>\n",
       "    <tr style=\"text-align: right;\">\n",
       "      <th></th>\n",
       "      <th>Unnamed: 0</th>\n",
       "      <th>TARGET</th>\n",
       "      <th>SK_ID_CURR</th>\n",
       "      <th>POS_SK_DPD_DEF_SUM</th>\n",
       "      <th>CC_DRAWING_LIMIT_RATIO_MAX</th>\n",
       "      <th>INSTAL_PAYMENT_RATIO_MEAN</th>\n",
       "      <th>POS_REMAINING_INSTALMENTS</th>\n",
       "      <th>CC_LAST_AMT_BALANCE_MEAN</th>\n",
       "      <th>CC_PAYMENT_DIV_MIN_MIN</th>\n",
       "      <th>CC_LATE_PAYMENT_VAR</th>\n",
       "      <th>...</th>\n",
       "      <th>BURO_CREDIT_TYPE_Mortgage_MEAN</th>\n",
       "      <th>AMT_GOODS_PRICE</th>\n",
       "      <th>APPROVED_CNT_PAYMENT_MEAN</th>\n",
       "      <th>FLAG_DOCUMENT_7</th>\n",
       "      <th>FLAG_DOCUMENT_18</th>\n",
       "      <th>NONLIVINGAPARTMENTS_MEDI</th>\n",
       "      <th>ACTIVE_AMT_CREDIT_MAX_OVERDUE_MEAN</th>\n",
       "      <th>ORGANIZATION_TYPE_Construction</th>\n",
       "      <th>INSTAL_AMT_PAYMENT_MIN</th>\n",
       "      <th>BURO_AMT_CREDIT_SUM_DEBT_MEAN</th>\n",
       "    </tr>\n",
       "  </thead>\n",
       "  <tbody>\n",
       "    <tr>\n",
       "      <th>0</th>\n",
       "      <td>0</td>\n",
       "      <td>1</td>\n",
       "      <td>100002</td>\n",
       "      <td>0.0</td>\n",
       "      <td>NaN</td>\n",
       "      <td>1.00000</td>\n",
       "      <td>6.0</td>\n",
       "      <td>NaN</td>\n",
       "      <td>NaN</td>\n",
       "      <td>NaN</td>\n",
       "      <td>...</td>\n",
       "      <td>0.0</td>\n",
       "      <td>351000.0</td>\n",
       "      <td>24.00</td>\n",
       "      <td>0</td>\n",
       "      <td>0</td>\n",
       "      <td>0.0000</td>\n",
       "      <td>40.5000</td>\n",
       "      <td>0</td>\n",
       "      <td>9251.775</td>\n",
       "      <td>49156.20</td>\n",
       "    </tr>\n",
       "    <tr>\n",
       "      <th>1</th>\n",
       "      <td>1</td>\n",
       "      <td>0</td>\n",
       "      <td>100003</td>\n",
       "      <td>0.0</td>\n",
       "      <td>NaN</td>\n",
       "      <td>1.00000</td>\n",
       "      <td>1.0</td>\n",
       "      <td>NaN</td>\n",
       "      <td>NaN</td>\n",
       "      <td>NaN</td>\n",
       "      <td>...</td>\n",
       "      <td>0.0</td>\n",
       "      <td>1129500.0</td>\n",
       "      <td>10.00</td>\n",
       "      <td>0</td>\n",
       "      <td>0</td>\n",
       "      <td>0.0039</td>\n",
       "      <td>0.0000</td>\n",
       "      <td>0</td>\n",
       "      <td>6662.970</td>\n",
       "      <td>0.00</td>\n",
       "    </tr>\n",
       "    <tr>\n",
       "      <th>2</th>\n",
       "      <td>2</td>\n",
       "      <td>0</td>\n",
       "      <td>100004</td>\n",
       "      <td>0.0</td>\n",
       "      <td>NaN</td>\n",
       "      <td>1.00000</td>\n",
       "      <td>0.0</td>\n",
       "      <td>NaN</td>\n",
       "      <td>NaN</td>\n",
       "      <td>NaN</td>\n",
       "      <td>...</td>\n",
       "      <td>0.0</td>\n",
       "      <td>135000.0</td>\n",
       "      <td>4.00</td>\n",
       "      <td>0</td>\n",
       "      <td>0</td>\n",
       "      <td>NaN</td>\n",
       "      <td>NaN</td>\n",
       "      <td>0</td>\n",
       "      <td>5357.250</td>\n",
       "      <td>0.00</td>\n",
       "    </tr>\n",
       "    <tr>\n",
       "      <th>3</th>\n",
       "      <td>3</td>\n",
       "      <td>0</td>\n",
       "      <td>100006</td>\n",
       "      <td>0.0</td>\n",
       "      <td>NaN</td>\n",
       "      <td>1.00000</td>\n",
       "      <td>3.0</td>\n",
       "      <td>0.0</td>\n",
       "      <td>NaN</td>\n",
       "      <td>0.0</td>\n",
       "      <td>...</td>\n",
       "      <td>NaN</td>\n",
       "      <td>297000.0</td>\n",
       "      <td>18.00</td>\n",
       "      <td>0</td>\n",
       "      <td>0</td>\n",
       "      <td>NaN</td>\n",
       "      <td>NaN</td>\n",
       "      <td>0</td>\n",
       "      <td>2482.920</td>\n",
       "      <td>NaN</td>\n",
       "    </tr>\n",
       "    <tr>\n",
       "      <th>4</th>\n",
       "      <td>4</td>\n",
       "      <td>0</td>\n",
       "      <td>100007</td>\n",
       "      <td>0.0</td>\n",
       "      <td>NaN</td>\n",
       "      <td>1.00000</td>\n",
       "      <td>14.0</td>\n",
       "      <td>NaN</td>\n",
       "      <td>NaN</td>\n",
       "      <td>NaN</td>\n",
       "      <td>...</td>\n",
       "      <td>0.0</td>\n",
       "      <td>513000.0</td>\n",
       "      <td>20.67</td>\n",
       "      <td>0</td>\n",
       "      <td>0</td>\n",
       "      <td>NaN</td>\n",
       "      <td>NaN</td>\n",
       "      <td>0</td>\n",
       "      <td>0.180</td>\n",
       "      <td>0.00</td>\n",
       "    </tr>\n",
       "    <tr>\n",
       "      <th>...</th>\n",
       "      <td>...</td>\n",
       "      <td>...</td>\n",
       "      <td>...</td>\n",
       "      <td>...</td>\n",
       "      <td>...</td>\n",
       "      <td>...</td>\n",
       "      <td>...</td>\n",
       "      <td>...</td>\n",
       "      <td>...</td>\n",
       "      <td>...</td>\n",
       "      <td>...</td>\n",
       "      <td>...</td>\n",
       "      <td>...</td>\n",
       "      <td>...</td>\n",
       "      <td>...</td>\n",
       "      <td>...</td>\n",
       "      <td>...</td>\n",
       "      <td>...</td>\n",
       "      <td>...</td>\n",
       "      <td>...</td>\n",
       "      <td>...</td>\n",
       "    </tr>\n",
       "    <tr>\n",
       "      <th>307501</th>\n",
       "      <td>307501</td>\n",
       "      <td>0</td>\n",
       "      <td>456251</td>\n",
       "      <td>0.0</td>\n",
       "      <td>NaN</td>\n",
       "      <td>1.00000</td>\n",
       "      <td>0.0</td>\n",
       "      <td>NaN</td>\n",
       "      <td>NaN</td>\n",
       "      <td>NaN</td>\n",
       "      <td>...</td>\n",
       "      <td>NaN</td>\n",
       "      <td>225000.0</td>\n",
       "      <td>8.00</td>\n",
       "      <td>0</td>\n",
       "      <td>0</td>\n",
       "      <td>0.0757</td>\n",
       "      <td>NaN</td>\n",
       "      <td>0</td>\n",
       "      <td>6605.910</td>\n",
       "      <td>NaN</td>\n",
       "    </tr>\n",
       "    <tr>\n",
       "      <th>307502</th>\n",
       "      <td>307502</td>\n",
       "      <td>0</td>\n",
       "      <td>456252</td>\n",
       "      <td>0.0</td>\n",
       "      <td>NaN</td>\n",
       "      <td>1.00000</td>\n",
       "      <td>0.0</td>\n",
       "      <td>NaN</td>\n",
       "      <td>NaN</td>\n",
       "      <td>NaN</td>\n",
       "      <td>...</td>\n",
       "      <td>NaN</td>\n",
       "      <td>225000.0</td>\n",
       "      <td>6.00</td>\n",
       "      <td>0</td>\n",
       "      <td>0</td>\n",
       "      <td>0.0000</td>\n",
       "      <td>NaN</td>\n",
       "      <td>0</td>\n",
       "      <td>10046.880</td>\n",
       "      <td>NaN</td>\n",
       "    </tr>\n",
       "    <tr>\n",
       "      <th>307503</th>\n",
       "      <td>307503</td>\n",
       "      <td>0</td>\n",
       "      <td>456253</td>\n",
       "      <td>5.0</td>\n",
       "      <td>NaN</td>\n",
       "      <td>1.00000</td>\n",
       "      <td>0.0</td>\n",
       "      <td>NaN</td>\n",
       "      <td>NaN</td>\n",
       "      <td>NaN</td>\n",
       "      <td>...</td>\n",
       "      <td>0.0</td>\n",
       "      <td>585000.0</td>\n",
       "      <td>5.00</td>\n",
       "      <td>0</td>\n",
       "      <td>0</td>\n",
       "      <td>0.0000</td>\n",
       "      <td>NaN</td>\n",
       "      <td>0</td>\n",
       "      <td>27.270</td>\n",
       "      <td>448958.25</td>\n",
       "    </tr>\n",
       "    <tr>\n",
       "      <th>307504</th>\n",
       "      <td>307504</td>\n",
       "      <td>1</td>\n",
       "      <td>456254</td>\n",
       "      <td>0.0</td>\n",
       "      <td>NaN</td>\n",
       "      <td>1.00000</td>\n",
       "      <td>12.0</td>\n",
       "      <td>NaN</td>\n",
       "      <td>NaN</td>\n",
       "      <td>NaN</td>\n",
       "      <td>...</td>\n",
       "      <td>0.0</td>\n",
       "      <td>319500.0</td>\n",
       "      <td>15.00</td>\n",
       "      <td>0</td>\n",
       "      <td>0</td>\n",
       "      <td>NaN</td>\n",
       "      <td>NaN</td>\n",
       "      <td>0</td>\n",
       "      <td>2296.440</td>\n",
       "      <td>0.00</td>\n",
       "    </tr>\n",
       "    <tr>\n",
       "      <th>307505</th>\n",
       "      <td>307505</td>\n",
       "      <td>0</td>\n",
       "      <td>456255</td>\n",
       "      <td>5.0</td>\n",
       "      <td>NaN</td>\n",
       "      <td>0.97973</td>\n",
       "      <td>0.0</td>\n",
       "      <td>NaN</td>\n",
       "      <td>NaN</td>\n",
       "      <td>NaN</td>\n",
       "      <td>...</td>\n",
       "      <td>0.0</td>\n",
       "      <td>675000.0</td>\n",
       "      <td>19.00</td>\n",
       "      <td>0</td>\n",
       "      <td>0</td>\n",
       "      <td>NaN</td>\n",
       "      <td>7719.9526</td>\n",
       "      <td>0</td>\n",
       "      <td>34.965</td>\n",
       "      <td>191864.12</td>\n",
       "    </tr>\n",
       "  </tbody>\n",
       "</table>\n",
       "<p>307506 rows × 176 columns</p>\n",
       "</div>"
      ],
      "text/plain": [
       "        Unnamed: 0  TARGET  SK_ID_CURR  POS_SK_DPD_DEF_SUM  \\\n",
       "0                0       1      100002                 0.0   \n",
       "1                1       0      100003                 0.0   \n",
       "2                2       0      100004                 0.0   \n",
       "3                3       0      100006                 0.0   \n",
       "4                4       0      100007                 0.0   \n",
       "...            ...     ...         ...                 ...   \n",
       "307501      307501       0      456251                 0.0   \n",
       "307502      307502       0      456252                 0.0   \n",
       "307503      307503       0      456253                 5.0   \n",
       "307504      307504       1      456254                 0.0   \n",
       "307505      307505       0      456255                 5.0   \n",
       "\n",
       "        CC_DRAWING_LIMIT_RATIO_MAX  INSTAL_PAYMENT_RATIO_MEAN  \\\n",
       "0                              NaN                    1.00000   \n",
       "1                              NaN                    1.00000   \n",
       "2                              NaN                    1.00000   \n",
       "3                              NaN                    1.00000   \n",
       "4                              NaN                    1.00000   \n",
       "...                            ...                        ...   \n",
       "307501                         NaN                    1.00000   \n",
       "307502                         NaN                    1.00000   \n",
       "307503                         NaN                    1.00000   \n",
       "307504                         NaN                    1.00000   \n",
       "307505                         NaN                    0.97973   \n",
       "\n",
       "        POS_REMAINING_INSTALMENTS  CC_LAST_AMT_BALANCE_MEAN  \\\n",
       "0                             6.0                       NaN   \n",
       "1                             1.0                       NaN   \n",
       "2                             0.0                       NaN   \n",
       "3                             3.0                       0.0   \n",
       "4                            14.0                       NaN   \n",
       "...                           ...                       ...   \n",
       "307501                        0.0                       NaN   \n",
       "307502                        0.0                       NaN   \n",
       "307503                        0.0                       NaN   \n",
       "307504                       12.0                       NaN   \n",
       "307505                        0.0                       NaN   \n",
       "\n",
       "        CC_PAYMENT_DIV_MIN_MIN  CC_LATE_PAYMENT_VAR  ...  \\\n",
       "0                          NaN                  NaN  ...   \n",
       "1                          NaN                  NaN  ...   \n",
       "2                          NaN                  NaN  ...   \n",
       "3                          NaN                  0.0  ...   \n",
       "4                          NaN                  NaN  ...   \n",
       "...                        ...                  ...  ...   \n",
       "307501                     NaN                  NaN  ...   \n",
       "307502                     NaN                  NaN  ...   \n",
       "307503                     NaN                  NaN  ...   \n",
       "307504                     NaN                  NaN  ...   \n",
       "307505                     NaN                  NaN  ...   \n",
       "\n",
       "        BURO_CREDIT_TYPE_Mortgage_MEAN  AMT_GOODS_PRICE  \\\n",
       "0                                  0.0         351000.0   \n",
       "1                                  0.0        1129500.0   \n",
       "2                                  0.0         135000.0   \n",
       "3                                  NaN         297000.0   \n",
       "4                                  0.0         513000.0   \n",
       "...                                ...              ...   \n",
       "307501                             NaN         225000.0   \n",
       "307502                             NaN         225000.0   \n",
       "307503                             0.0         585000.0   \n",
       "307504                             0.0         319500.0   \n",
       "307505                             0.0         675000.0   \n",
       "\n",
       "        APPROVED_CNT_PAYMENT_MEAN  FLAG_DOCUMENT_7  FLAG_DOCUMENT_18  \\\n",
       "0                           24.00                0                 0   \n",
       "1                           10.00                0                 0   \n",
       "2                            4.00                0                 0   \n",
       "3                           18.00                0                 0   \n",
       "4                           20.67                0                 0   \n",
       "...                           ...              ...               ...   \n",
       "307501                       8.00                0                 0   \n",
       "307502                       6.00                0                 0   \n",
       "307503                       5.00                0                 0   \n",
       "307504                      15.00                0                 0   \n",
       "307505                      19.00                0                 0   \n",
       "\n",
       "        NONLIVINGAPARTMENTS_MEDI  ACTIVE_AMT_CREDIT_MAX_OVERDUE_MEAN  \\\n",
       "0                         0.0000                             40.5000   \n",
       "1                         0.0039                              0.0000   \n",
       "2                            NaN                                 NaN   \n",
       "3                            NaN                                 NaN   \n",
       "4                            NaN                                 NaN   \n",
       "...                          ...                                 ...   \n",
       "307501                    0.0757                                 NaN   \n",
       "307502                    0.0000                                 NaN   \n",
       "307503                    0.0000                                 NaN   \n",
       "307504                       NaN                                 NaN   \n",
       "307505                       NaN                           7719.9526   \n",
       "\n",
       "        ORGANIZATION_TYPE_Construction  INSTAL_AMT_PAYMENT_MIN  \\\n",
       "0                                    0                9251.775   \n",
       "1                                    0                6662.970   \n",
       "2                                    0                5357.250   \n",
       "3                                    0                2482.920   \n",
       "4                                    0                   0.180   \n",
       "...                                ...                     ...   \n",
       "307501                               0                6605.910   \n",
       "307502                               0               10046.880   \n",
       "307503                               0                  27.270   \n",
       "307504                               0                2296.440   \n",
       "307505                               0                  34.965   \n",
       "\n",
       "        BURO_AMT_CREDIT_SUM_DEBT_MEAN  \n",
       "0                            49156.20  \n",
       "1                                0.00  \n",
       "2                                0.00  \n",
       "3                                 NaN  \n",
       "4                                0.00  \n",
       "...                               ...  \n",
       "307501                            NaN  \n",
       "307502                            NaN  \n",
       "307503                      448958.25  \n",
       "307504                           0.00  \n",
       "307505                      191864.12  \n",
       "\n",
       "[307506 rows x 176 columns]"
      ]
     },
     "execution_count": 5,
     "metadata": {},
     "output_type": "execute_result"
    }
   ],
   "source": [
    "df_feats"
   ]
  },
  {
   "cell_type": "code",
   "execution_count": 6,
   "id": "equivalent-handling",
   "metadata": {},
   "outputs": [],
   "source": [
    "df_feats.drop(columns='Unnamed: 0', inplace=True)\n",
    "df_feats = df_feats.rename(columns = lambda x:re.sub('[^A-Za-z0-9_]+', '', x))\n",
    "\n",
    "X_feats = df_feats.drop(columns='TARGET').copy()\n",
    "y_feats = df_feats['TARGET'].copy()"
   ]
  },
  {
   "cell_type": "markdown",
   "id": "recorded-convert",
   "metadata": {},
   "source": [
    "## imputation valeurs simples"
   ]
  },
  {
   "cell_type": "code",
   "execution_count": 7,
   "id": "fossil-booking",
   "metadata": {},
   "outputs": [],
   "source": [
    "df_feats.replace([np.inf, -np.inf], np.nan, inplace=True)\n",
    "col_num = list(df_feats.select_dtypes('float64').columns)\n",
    "imp_mean = SimpleImputer(missing_values=np.nan, strategy='mean', copy=False)\n",
    "df_feats[col_num] = imp_mean.fit_transform(df_feats[col_num])"
   ]
  },
  {
   "cell_type": "code",
   "execution_count": 8,
   "id": "defensive-education",
   "metadata": {},
   "outputs": [],
   "source": [
    "col_num = list(df_feats.select_dtypes('int64').columns)\n",
    "imp_meanN = SimpleImputer(missing_values=np.nan, strategy='mean', copy=False)\n",
    "df_feats[col_num] = imp_meanN.fit_transform(df_feats[col_num])"
   ]
  },
  {
   "cell_type": "code",
   "execution_count": 9,
   "id": "productive-connecticut",
   "metadata": {},
   "outputs": [],
   "source": [
    "X_feats_impute = df_feats.drop(columns='TARGET').copy()\n",
    "y_feats_impute = df_feats['TARGET'].copy()"
   ]
  },
  {
   "cell_type": "markdown",
   "id": "experimental-schedule",
   "metadata": {},
   "source": [
    "### separation train/test set"
   ]
  },
  {
   "cell_type": "code",
   "execution_count": 10,
   "id": "advance-manual",
   "metadata": {},
   "outputs": [],
   "source": [
    "X_train, X_val, y_train, y_val = train_test_split(X_feats_impute, y_feats_impute, test_size=0.2, stratify=y_feats_impute, random_state=1944)\n",
    "X_feats_train, X_feats_val, y_feats_train, y_feats_val = train_test_split(X_feats, y_feats, test_size=0.2, stratify=y_feats, random_state=1944)"
   ]
  },
  {
   "cell_type": "code",
   "execution_count": 11,
   "id": "banned-tractor",
   "metadata": {},
   "outputs": [
    {
     "name": "stdout",
     "output_type": "stream",
     "text": [
      "y_train Counter({0.0: 226145, 1.0: 19859})\n",
      "y_val Counter({0.0: 56537, 1.0: 4965})\n"
     ]
    }
   ],
   "source": [
    "print('y_train', Counter(y_train))\n",
    "print('y_val', Counter(y_val))"
   ]
  },
  {
   "cell_type": "markdown",
   "id": "funded-superior",
   "metadata": {},
   "source": [
    "# definition metrique et fonction evaluation"
   ]
  },
  {
   "cell_type": "code",
   "execution_count": 12,
   "id": "difficult-midwest",
   "metadata": {},
   "outputs": [],
   "source": [
    "# il est important de faire ressortir les FNs car perte de capital\n",
    "# trouver les TP est interessant aussi car interet\n",
    "# les FP sont moins risqués car perte d'interet seulement\n",
    "\n",
    "def custom_metric(y, y_pred):\n",
    "    TP = np.sum( (y==1) & (y_pred==1) )\n",
    "    FP = np.sum( (y==0) & (y_pred==1) )\n",
    "    TN = np.sum( (y==0) & (y_pred==0) )\n",
    "    FN = np.sum( (y==1) & (y_pred==0) )\n",
    "# Fowlkes–Mallows index \n",
    "# https://en.wikipedia.org/wiki/Confusion_matrix\n",
    "# https://en.wikipedia.org/wiki/Fowlkes%E2%80%93Mallows_index\n",
    "# Positive predictive value PPV\n",
    "    PPV = TP / (TP + FP)\n",
    "# Positive predictive value TPR\n",
    "    TPR = TP / (TP + FN)\n",
    "    FMI = np.sqrt( PPV * TPR )\n",
    "    return FMI\n",
    "\n",
    "def custom_metric_f2(y, y_pred):\n",
    "    \"\"\"\n",
    "        https://machinelearningmastery.com/fbeta-measure-for-machine-learning/\n",
    "        F2-Measure\n",
    "            The F2-measure is an example of the Fbeta-measure with a beta value of 2.0.\n",
    "\n",
    "            It has the effect of lowering the importance of precision and increase the importance of recall.\n",
    "\n",
    "            If maximizing precision minimizes false positives, and maximizing recall minimizes false negatives, then the F2-measure puts more attention on minimizing false negatives than minimizing false positives.\n",
    "\n",
    "    \"\"\"\n",
    "    return fbeta_score(y, y_pred,2)\n",
    "\n",
    "custom_scorer = make_scorer(custom_metric, greater_is_better=True )\n",
    "custom_scorer_f2 = make_scorer(custom_metric_f2, greater_is_better=True )"
   ]
  },
  {
   "cell_type": "code",
   "execution_count": 13,
   "id": "coral-inspiration",
   "metadata": {},
   "outputs": [],
   "source": [
    "\n",
    "def model_eval_score(model, Xval, yval):\n",
    "    yval_pred = model.predict(Xval)\n",
    "    conf_mat = confusion_matrix(yval, yval_pred)\n",
    "    print(conf_mat)\n",
    "    print(f'Accuracy score    : {accuracy_score(yval, yval_pred):.3}')\n",
    "    print(f'precision score   : {precision_score(yval, yval_pred):.3}')\n",
    "    print(f'recall score      : {recall_score(yval, yval_pred):.3}')\n",
    "    print(f'F1 score          : {f1_score(yval, yval_pred):.3}')\n",
    "    print(f'F2 score          : {fbeta_score(yval, yval_pred,2):.3}')\n",
    "    print(f'ROCAUC score      : {roc_auc_score(yval, yval_pred):.3}')\n",
    "    print(f'custom metric FMI : {custom_metric(yval, yval_pred):.3}')\n",
    "    print()\n",
    "\n",
    "def model_eval(model, Xval, yval):\n",
    "    model_eval_score(model, Xval, yval)\n",
    "    \n",
    "    yval_proba = model.predict_proba(Xval)[:, 1]\n",
    "    fpr, tpr, thresholds = roc_curve(yval, yval_proba)\n",
    "    roc_auc = auc(fpr, tpr)\n",
    "\n",
    "    plt.title('Receiver Operating Characteristic')\n",
    "    plt.plot(fpr, tpr, 'b', label = 'AUC = %0.2f' % roc_auc)\n",
    "    plt.legend(loc = 'lower right')\n",
    "    plt.plot([0, 1], [0, 1],'r--')\n",
    "    plt.xlim([0, 1])\n",
    "    plt.ylim([0, 1])\n",
    "    plt.ylabel('True Positive Rate')\n",
    "    plt.xlabel('False Positive Rate')\n",
    "    plt.show()\n"
   ]
  },
  {
   "cell_type": "markdown",
   "id": "lyric-denmark",
   "metadata": {},
   "source": [
    "## comparaison hasard Dummy"
   ]
  },
  {
   "cell_type": "code",
   "execution_count": 14,
   "id": "juvenile-papua",
   "metadata": {},
   "outputs": [
    {
     "name": "stdout",
     "output_type": "stream",
     "text": [
      "[[51928  4609]\n",
      " [ 4610   355]]\n",
      "Accuracy score    : 0.85\n",
      "precision score   : 0.0715\n",
      "recall score      : 0.0715\n",
      "F1 score          : 0.0715\n",
      "F2 score          : 0.0715\n",
      "ROCAUC score      : 0.495\n",
      "custom metric FMI : 0.0715\n",
      "\n"
     ]
    },
    {
     "data": {
      "image/png": "[encoded data removed]",
      "text/plain": [
       "<Figure size 432x288 with 1 Axes>"
      ]
     },
     "metadata": {
      "needs_background": "light"
     },
     "output_type": "display_data"
    }
   ],
   "source": [
    "\n",
    "dummyCls = DummyClassifier(strategy='stratified')\n",
    "dummyCls.fit(X_train, y_train)\n",
    "\n",
    "model_eval(dummyCls, X_val, y_val)"
   ]
  },
  {
   "cell_type": "markdown",
   "id": "durable-surrey",
   "metadata": {},
   "source": [
    "## Logistic regression"
   ]
  },
  {
   "cell_type": "code",
   "execution_count": 15,
   "id": "severe-nicholas",
   "metadata": {},
   "outputs": [
    {
     "name": "stdout",
     "output_type": "stream",
     "text": [
      "[[56528     9]\n",
      " [ 4965     0]]\n",
      "Accuracy score    : 0.919\n",
      "precision score   : 0.0\n",
      "recall score      : 0.0\n",
      "F1 score          : 0.0\n",
      "F2 score          : 0.0\n",
      "ROCAUC score      : 0.5\n",
      "custom metric FMI : 0.0\n",
      "\n"
     ]
    },
    {
     "data": {
      "image/png": "[encoded data removed]",
      "text/plain": [
       "<Figure size 432x288 with 1 Axes>"
      ]
     },
     "metadata": {
      "needs_background": "light"
     },
     "output_type": "display_data"
    }
   ],
   "source": [
    "\n",
    "logis = LogisticRegression(solver='liblinear')\n",
    "logis.fit(X_train, y_train)\n",
    "\n",
    "model_eval(logis, X_val, y_val)"
   ]
  },
  {
   "cell_type": "code",
   "execution_count": null,
   "id": "prime-refrigerator",
   "metadata": {},
   "outputs": [],
   "source": []
  },
  {
   "cell_type": "markdown",
   "id": "experimental-chance",
   "metadata": {},
   "source": [
    "# gestion desequilibre\n",
    "https://www.analyticsvidhya.com/blog/2020/07/10-techniques-to-deal-with-class-imbalance-in-machine-learning/"
   ]
  },
  {
   "cell_type": "markdown",
   "id": "working-providence",
   "metadata": {},
   "source": [
    "### gestion desequilibre\n",
    "essai sous echantillonage"
   ]
  },
  {
   "cell_type": "code",
   "execution_count": 16,
   "id": "immediate-portable",
   "metadata": {},
   "outputs": [
    {
     "name": "stdout",
     "output_type": "stream",
     "text": [
      "Counter({0.0: 226145, 1.0: 19859})\n",
      "Counter({0.0: 19859, 1.0: 19859})\n"
     ]
    }
   ],
   "source": [
    "\n",
    "sample = RandomUnderSampler(random_state=1944)\n",
    "\n",
    "# fit and apply the transform\n",
    "X_under, y_under = sample.fit_resample(X_train, y_train)\n",
    "\n",
    "print(Counter(y_train))\n",
    "print(Counter(y_under))\n"
   ]
  },
  {
   "cell_type": "code",
   "execution_count": 17,
   "id": "faced-architecture",
   "metadata": {},
   "outputs": [
    {
     "name": "stdout",
     "output_type": "stream",
     "text": [
      "[[32362 24175]\n",
      " [ 1882  3083]]\n",
      "Accuracy score    : 0.576\n",
      "precision score   : 0.113\n",
      "recall score      : 0.621\n",
      "F1 score          : 0.191\n",
      "F2 score          : 0.327\n",
      "ROCAUC score      : 0.597\n",
      "custom metric FMI : 0.265\n",
      "\n"
     ]
    },
    {
     "data": {
      "image/png": "[encoded data removed]",
      "text/plain": [
       "<Figure size 432x288 with 1 Axes>"
      ]
     },
     "metadata": {
      "needs_background": "light"
     },
     "output_type": "display_data"
    }
   ],
   "source": [
    "logis_under = LogisticRegression(solver='liblinear')\n",
    "logis_under.fit(X_under, y_under)\n",
    "\n",
    "model_eval(logis_under, X_val, y_val)"
   ]
  },
  {
   "cell_type": "code",
   "execution_count": 24,
   "id": "mediterranean-vinyl",
   "metadata": {},
   "outputs": [
    {
     "name": "stdout",
     "output_type": "stream",
     "text": [
      "Counter({0.0: 226145, 1.0: 19859})\n",
      "Counter({0.0: 19859, 1.0: 19859})\n"
     ]
    }
   ],
   "source": [
    "sample_undermiss = NearMiss()\n",
    "\n",
    "# fit and apply the transform\n",
    "X_undermis, y_undermiss = sample_undermiss.fit_resample(X_train, y_train)\n",
    "\n",
    "print(Counter(y_train))\n",
    "print(Counter(y_undermiss))\n"
   ]
  },
  {
   "cell_type": "code",
   "execution_count": 49,
   "id": "fewer-portugal",
   "metadata": {},
   "outputs": [
    {
     "name": "stdout",
     "output_type": "stream",
     "text": [
      "[[17990 38547]\n",
      " [ 1589  3376]]\n",
      "Accuracy score    : 0.347\n",
      "precision score   : 0.0805\n",
      "recall score      : 0.68\n",
      "F1 score          : 0.144\n",
      "F2 score          : 0.273\n",
      "ROCAUC score      : 0.499\n",
      "custom metric FMI : 0.234\n",
      "\n"
     ]
    },
    {
     "data": {
      "image/png": "[encoded data removed]",
      "text/plain": [
       "<Figure size 432x288 with 1 Axes>"
      ]
     },
     "metadata": {
      "needs_background": "light"
     },
     "output_type": "display_data"
    }
   ],
   "source": [
    "logis_undermiss = LogisticRegression(solver='liblinear')\n",
    "logis_undermiss.fit(X_undermis, y_undermiss)\n",
    "\n",
    "model_eval(logis_undermiss, X_val, y_val)"
   ]
  },
  {
   "cell_type": "markdown",
   "id": "saving-planet",
   "metadata": {},
   "source": [
    "### gestion desequilibre\n",
    "essai surechantillonage"
   ]
  },
  {
   "cell_type": "code",
   "execution_count": 50,
   "id": "champion-cheat",
   "metadata": {},
   "outputs": [
    {
     "name": "stdout",
     "output_type": "stream",
     "text": [
      "Counter({0.0: 226145, 1.0: 19859})\n",
      "Counter({0.0: 226145, 1.0: 113072})\n"
     ]
    }
   ],
   "source": [
    "\n",
    "sample = SMOTE(sampling_strategy=0.5, random_state=1944)\n",
    "\n",
    "# fit and apply the transform\n",
    "X_over, y_over = sample.fit_resample(X_train, y_train)\n",
    "\n",
    "print(Counter(y_train))\n",
    "print(Counter(y_over))\n"
   ]
  },
  {
   "cell_type": "code",
   "execution_count": 51,
   "id": "contained-detail",
   "metadata": {},
   "outputs": [
    {
     "name": "stdout",
     "output_type": "stream",
     "text": [
      "[[56240   297]\n",
      " [ 4890    75]]\n",
      "Accuracy score    : 0.916\n",
      "precision score   : 0.202\n",
      "recall score      : 0.0151\n",
      "F1 score          : 0.0281\n",
      "F2 score          : 0.0185\n",
      "ROCAUC score      : 0.505\n",
      "custom metric FMI : 0.0552\n",
      "\n"
     ]
    },
    {
     "data": {
      "image/png": "[encoded data removed]",
      "text/plain": [
       "<Figure size 432x288 with 1 Axes>"
      ]
     },
     "metadata": {
      "needs_background": "light"
     },
     "output_type": "display_data"
    }
   ],
   "source": [
    "logis_over = LogisticRegression(solver='liblinear')\n",
    "logis_over.fit(X_over, y_over)\n",
    "\n",
    "model_eval(logis_over, X_val, y_val)"
   ]
  },
  {
   "cell_type": "markdown",
   "id": "catholic-execution",
   "metadata": {},
   "source": [
    "### gestion desequilibre\n",
    "essai melange sous-echantillonage et surechantillonage"
   ]
  },
  {
   "cell_type": "code",
   "execution_count": 52,
   "id": "hundred-stuart",
   "metadata": {},
   "outputs": [
    {
     "name": "stdout",
     "output_type": "stream",
     "text": [
      "Counter({0.0: 226145, 1.0: 19859})\n",
      "Counter({1.0: 217036, 0.0: 133326})\n"
     ]
    }
   ],
   "source": [
    "\n",
    "sample = SMOTEENN(random_state=1944)\n",
    "\n",
    "# fit and apply the transform\n",
    "X_smote, y_smote = sample.fit_resample(X_train, y_train)\n",
    "\n",
    "print(Counter(y_train))\n",
    "print(Counter(y_smote))\n"
   ]
  },
  {
   "cell_type": "code",
   "execution_count": 53,
   "id": "typical-pendant",
   "metadata": {},
   "outputs": [
    {
     "name": "stdout",
     "output_type": "stream",
     "text": [
      "[[10206 46331]\n",
      " [  496  4469]]\n",
      "Accuracy score    : 0.239\n",
      "precision score   : 0.088\n",
      "recall score      : 0.9\n",
      "F1 score          : 0.16\n",
      "F2 score          : 0.316\n",
      "ROCAUC score      : 0.54\n",
      "custom metric FMI : 0.281\n",
      "\n"
     ]
    },
    {
     "data": {
      "image/png": "[encoded data removed]",
      "text/plain": [
       "<Figure size 432x288 with 1 Axes>"
      ]
     },
     "metadata": {
      "needs_background": "light"
     },
     "output_type": "display_data"
    }
   ],
   "source": [
    "logis_smoteenn = LogisticRegression(solver='liblinear')\n",
    "logis_smoteenn.fit(X_smote, y_smote)\n",
    "\n",
    "model_eval(logis_smoteenn, X_val, y_val)"
   ]
  },
  {
   "cell_type": "markdown",
   "id": "devoted-honolulu",
   "metadata": {},
   "source": [
    "### recapitulatif desequilibre"
   ]
  },
  {
   "cell_type": "code",
   "execution_count": 54,
   "id": "further-miami",
   "metadata": {},
   "outputs": [
    {
     "name": "stdout",
     "output_type": "stream",
     "text": [
      "[[32362 24175]\n",
      " [ 1882  3083]]\n",
      "Accuracy score    : 0.576\n",
      "precision score   : 0.113\n",
      "recall score      : 0.621\n",
      "F1 score          : 0.191\n",
      "F2 score          : 0.327\n",
      "ROCAUC score      : 0.597\n",
      "custom metric FMI : 0.265\n",
      "\n"
     ]
    }
   ],
   "source": [
    "model_eval_score(logis_under, X_val, y_val)"
   ]
  },
  {
   "cell_type": "code",
   "execution_count": 55,
   "id": "simple-excellence",
   "metadata": {},
   "outputs": [
    {
     "name": "stdout",
     "output_type": "stream",
     "text": [
      "[[17990 38547]\n",
      " [ 1589  3376]]\n",
      "Accuracy score    : 0.347\n",
      "precision score   : 0.0805\n",
      "recall score      : 0.68\n",
      "F1 score          : 0.144\n",
      "F2 score          : 0.273\n",
      "ROCAUC score      : 0.499\n",
      "custom metric FMI : 0.234\n",
      "\n"
     ]
    }
   ],
   "source": [
    "model_eval_score(logis_undermiss, X_val, y_val)"
   ]
  },
  {
   "cell_type": "code",
   "execution_count": 56,
   "id": "transsexual-advice",
   "metadata": {},
   "outputs": [
    {
     "name": "stdout",
     "output_type": "stream",
     "text": [
      "[[56240   297]\n",
      " [ 4890    75]]\n",
      "Accuracy score    : 0.916\n",
      "precision score   : 0.202\n",
      "recall score      : 0.0151\n",
      "F1 score          : 0.0281\n",
      "F2 score          : 0.0185\n",
      "ROCAUC score      : 0.505\n",
      "custom metric FMI : 0.0552\n",
      "\n"
     ]
    }
   ],
   "source": [
    "model_eval_score(logis_over, X_val, y_val)"
   ]
  },
  {
   "cell_type": "code",
   "execution_count": 57,
   "id": "numeric-share",
   "metadata": {},
   "outputs": [
    {
     "name": "stdout",
     "output_type": "stream",
     "text": [
      "[[10206 46331]\n",
      " [  496  4469]]\n",
      "Accuracy score    : 0.239\n",
      "precision score   : 0.088\n",
      "recall score      : 0.9\n",
      "F1 score          : 0.16\n",
      "F2 score          : 0.316\n",
      "ROCAUC score      : 0.54\n",
      "custom metric FMI : 0.281\n",
      "\n"
     ]
    }
   ],
   "source": [
    "model_eval_score(logis_smoteenn, X_val, y_val)"
   ]
  },
  {
   "cell_type": "code",
   "execution_count": null,
   "id": "spectacular-average",
   "metadata": {},
   "outputs": [],
   "source": []
  },
  {
   "cell_type": "markdown",
   "id": "breeding-grove",
   "metadata": {},
   "source": [
    "# Decision Tree"
   ]
  },
  {
   "cell_type": "code",
   "execution_count": 18,
   "id": "maritime-falls",
   "metadata": {},
   "outputs": [
    {
     "name": "stdout",
     "output_type": "stream",
     "text": [
      "[[51737  4800]\n",
      " [ 4104   861]]\n",
      "Accuracy score    : 0.855\n",
      "precision score   : 0.152\n",
      "recall score      : 0.173\n",
      "F1 score          : 0.162\n",
      "F2 score          : 0.169\n",
      "ROCAUC score      : 0.544\n",
      "custom metric FMI : 0.162\n",
      "\n"
     ]
    },
    {
     "data": {
      "image/png": "[encoded data removed]",
      "text/plain": [
       "<Figure size 432x288 with 1 Axes>"
      ]
     },
     "metadata": {
      "needs_background": "light"
     },
     "output_type": "display_data"
    }
   ],
   "source": [
    "\n",
    "dectree = DecisionTreeClassifier(random_state=1944)\n",
    "dectree.fit(X_train, y_train)\n",
    "model_eval(dectree, X_val, y_val)"
   ]
  },
  {
   "cell_type": "code",
   "execution_count": 59,
   "id": "characteristic-indie",
   "metadata": {},
   "outputs": [],
   "source": [
    "\n",
    "sample_under = RandomUnderSampler(random_state=1944)\n",
    "sample_over = SMOTE(sampling_strategy=0.5, random_state=1944)\n",
    "sample_undermiss = NearMiss()\n",
    "sample = SMOTEENN(random_state=1944)\n",
    "\n",
    "\n",
    "# fit and apply the transform\n",
    "X_under, y_under = sample_under.fit_resample(X_train, y_train)\n",
    "X_undermis, y_undermiss = sample_undermiss.fit_resample(X_train, y_train)\n",
    "X_over, y_over = sample_over.fit_resample(X_train, y_train)\n",
    "X_smote, y_smote = sample.fit_resample(X_train, y_train)"
   ]
  },
  {
   "cell_type": "code",
   "execution_count": 60,
   "id": "excited-telling",
   "metadata": {},
   "outputs": [
    {
     "data": {
      "text/plain": [
       "DecisionTreeClassifier(random_state=1944)"
      ]
     },
     "execution_count": 60,
     "metadata": {},
     "output_type": "execute_result"
    }
   ],
   "source": [
    "dectree_under = DecisionTreeClassifier(random_state=1944)\n",
    "dectree_undermiss = DecisionTreeClassifier(random_state=1944)\n",
    "dectree_over = DecisionTreeClassifier(random_state=1944)\n",
    "dectree_smoteenn = DecisionTreeClassifier(random_state=1944)\n",
    "\n",
    "dectree_under.fit(X_under, y_under)\n",
    "dectree_undermiss.fit(X_undermis, y_undermiss)\n",
    "dectree_over.fit(X_over, y_over)\n",
    "dectree_smoteenn.fit(X_smote, y_smote)\n"
   ]
  },
  {
   "cell_type": "code",
   "execution_count": 61,
   "id": "elegant-richmond",
   "metadata": {},
   "outputs": [
    {
     "name": "stdout",
     "output_type": "stream",
     "text": [
      "[[33582 22955]\n",
      " [ 2015  2950]]\n",
      "Accuracy score    : 0.594\n",
      "precision score   : 0.114\n",
      "recall score      : 0.594\n",
      "F1 score          : 0.191\n",
      "F2 score          : 0.322\n",
      "ROCAUC score      : 0.594\n",
      "custom metric FMI : 0.26\n",
      "\n"
     ]
    },
    {
     "data": {
      "image/png": "[encoded data removed]",
      "text/plain": [
       "<Figure size 432x288 with 1 Axes>"
      ]
     },
     "metadata": {
      "needs_background": "light"
     },
     "output_type": "display_data"
    }
   ],
   "source": [
    "model_eval(dectree_under, X_val, y_val)"
   ]
  },
  {
   "cell_type": "code",
   "execution_count": 62,
   "id": "stunning-purchase",
   "metadata": {},
   "outputs": [
    {
     "name": "stdout",
     "output_type": "stream",
     "text": [
      "[[ 7809 48728]\n",
      " [  690  4275]]\n",
      "Accuracy score    : 0.196\n",
      "precision score   : 0.0807\n",
      "recall score      : 0.861\n",
      "F1 score          : 0.147\n",
      "F2 score          : 0.293\n",
      "ROCAUC score      : 0.5\n",
      "custom metric FMI : 0.264\n",
      "\n"
     ]
    },
    {
     "data": {
      "image/png": "[encoded data removed]",
      "text/plain": [
       "<Figure size 432x288 with 1 Axes>"
      ]
     },
     "metadata": {
      "needs_background": "light"
     },
     "output_type": "display_data"
    }
   ],
   "source": [
    "model_eval(dectree_undermiss, X_val, y_val)"
   ]
  },
  {
   "cell_type": "code",
   "execution_count": 63,
   "id": "ordinary-pontiac",
   "metadata": {},
   "outputs": [
    {
     "name": "stdout",
     "output_type": "stream",
     "text": [
      "[[50854  5683]\n",
      " [ 4052   913]]\n",
      "Accuracy score    : 0.842\n",
      "precision score   : 0.138\n",
      "recall score      : 0.184\n",
      "F1 score          : 0.158\n",
      "F2 score          : 0.173\n",
      "ROCAUC score      : 0.542\n",
      "custom metric FMI : 0.16\n",
      "\n"
     ]
    },
    {
     "data": {
      "image/png": "[encoded data removed]",
      "text/plain": [
       "<Figure size 432x288 with 1 Axes>"
      ]
     },
     "metadata": {
      "needs_background": "light"
     },
     "output_type": "display_data"
    }
   ],
   "source": [
    "model_eval(dectree_over, X_val, y_val)"
   ]
  },
  {
   "cell_type": "code",
   "execution_count": 64,
   "id": "forward-movement",
   "metadata": {},
   "outputs": [
    {
     "name": "stdout",
     "output_type": "stream",
     "text": [
      "[[47914  8623]\n",
      " [ 3527  1438]]\n",
      "Accuracy score    : 0.802\n",
      "precision score   : 0.143\n",
      "recall score      : 0.29\n",
      "F1 score          : 0.191\n",
      "F2 score          : 0.24\n",
      "ROCAUC score      : 0.569\n",
      "custom metric FMI : 0.203\n",
      "\n"
     ]
    },
    {
     "data": {
      "image/png": "[encoded data removed]",
      "text/plain": [
       "<Figure size 432x288 with 1 Axes>"
      ]
     },
     "metadata": {
      "needs_background": "light"
     },
     "output_type": "display_data"
    }
   ],
   "source": [
    "model_eval(dectree_smoteenn, X_val, y_val)"
   ]
  },
  {
   "cell_type": "markdown",
   "id": "pretty-coupon",
   "metadata": {},
   "source": [
    "### recapitulatif desequilibre"
   ]
  },
  {
   "cell_type": "code",
   "execution_count": 76,
   "id": "intended-prescription",
   "metadata": {},
   "outputs": [
    {
     "name": "stdout",
     "output_type": "stream",
     "text": [
      "[[33582 22955]\n",
      " [ 2015  2950]]\n",
      "Accuracy score    : 0.594\n",
      "precision score   : 0.114\n",
      "recall score      : 0.594\n",
      "F1 score          : 0.191\n",
      "F2 score          : 0.322\n",
      "ROCAUC score      : 0.594\n",
      "custom metric FMI : 0.26\n",
      "\n"
     ]
    }
   ],
   "source": [
    "model_eval_score(dectree_under, X_val, y_val)"
   ]
  },
  {
   "cell_type": "code",
   "execution_count": 77,
   "id": "amateur-treasurer",
   "metadata": {},
   "outputs": [
    {
     "name": "stdout",
     "output_type": "stream",
     "text": [
      "[[ 7809 48728]\n",
      " [  690  4275]]\n",
      "Accuracy score    : 0.196\n",
      "precision score   : 0.0807\n",
      "recall score      : 0.861\n",
      "F1 score          : 0.147\n",
      "F2 score          : 0.293\n",
      "ROCAUC score      : 0.5\n",
      "custom metric FMI : 0.264\n",
      "\n"
     ]
    }
   ],
   "source": [
    "model_eval_score(dectree_undermiss, X_val, y_val)"
   ]
  },
  {
   "cell_type": "code",
   "execution_count": 78,
   "id": "double-grenada",
   "metadata": {},
   "outputs": [
    {
     "name": "stdout",
     "output_type": "stream",
     "text": [
      "[[50854  5683]\n",
      " [ 4052   913]]\n",
      "Accuracy score    : 0.842\n",
      "precision score   : 0.138\n",
      "recall score      : 0.184\n",
      "F1 score          : 0.158\n",
      "F2 score          : 0.173\n",
      "ROCAUC score      : 0.542\n",
      "custom metric FMI : 0.16\n",
      "\n"
     ]
    }
   ],
   "source": [
    "model_eval_score(dectree_over, X_val, y_val)"
   ]
  },
  {
   "cell_type": "code",
   "execution_count": 79,
   "id": "running-robinson",
   "metadata": {},
   "outputs": [
    {
     "name": "stdout",
     "output_type": "stream",
     "text": [
      "[[47914  8623]\n",
      " [ 3527  1438]]\n",
      "Accuracy score    : 0.802\n",
      "precision score   : 0.143\n",
      "recall score      : 0.29\n",
      "F1 score          : 0.191\n",
      "F2 score          : 0.24\n",
      "ROCAUC score      : 0.569\n",
      "custom metric FMI : 0.203\n",
      "\n"
     ]
    }
   ],
   "source": [
    "model_eval_score(dectree_smoteenn, X_val, y_val)"
   ]
  },
  {
   "cell_type": "code",
   "execution_count": null,
   "id": "rolled-monte",
   "metadata": {},
   "outputs": [],
   "source": []
  },
  {
   "cell_type": "markdown",
   "id": "genuine-kinase",
   "metadata": {},
   "source": [
    "# RandomForest"
   ]
  },
  {
   "cell_type": "code",
   "execution_count": 19,
   "id": "coated-scholarship",
   "metadata": {},
   "outputs": [
    {
     "name": "stdout",
     "output_type": "stream",
     "text": [
      "[[56533     4]\n",
      " [ 4955    10]]\n",
      "Accuracy score    : 0.919\n",
      "precision score   : 0.714\n",
      "recall score      : 0.00201\n",
      "F1 score          : 0.00402\n",
      "F2 score          : 0.00252\n",
      "ROCAUC score      : 0.501\n",
      "custom metric FMI : 0.0379\n",
      "\n"
     ]
    },
    {
     "data": {
      "image/png": "[encoded data removed]",
      "text/plain": [
       "<Figure size 432x288 with 1 Axes>"
      ]
     },
     "metadata": {
      "needs_background": "light"
     },
     "output_type": "display_data"
    }
   ],
   "source": [
    "randomForest = RandomForestClassifier(random_state=1944)\n",
    "\n",
    "randomForest.fit(X_train, y_train)\n",
    "model_eval(randomForest, X_val, y_val)"
   ]
  },
  {
   "cell_type": "code",
   "execution_count": 20,
   "id": "talented-duplicate",
   "metadata": {},
   "outputs": [
    {
     "name": "stdout",
     "output_type": "stream",
     "text": [
      "[[56437   100]\n",
      " [ 4891    74]]\n",
      "Accuracy score    : 0.919\n",
      "precision score   : 0.425\n",
      "recall score      : 0.0149\n",
      "F1 score          : 0.0288\n",
      "F2 score          : 0.0185\n",
      "ROCAUC score      : 0.507\n",
      "custom metric FMI : 0.0796\n",
      "\n"
     ]
    },
    {
     "data": {
      "image/png": "[encoded data removed]",
      "text/plain": [
       "<Figure size 432x288 with 1 Axes>"
      ]
     },
     "metadata": {
      "needs_background": "light"
     },
     "output_type": "display_data"
    }
   ],
   "source": [
    "randomForest_weight = RandomForestClassifier(random_state=1944, class_weight={0:10,1:1})\n",
    "\n",
    "randomForest_weight.fit(X_train, y_train)\n",
    "model_eval(randomForest_weight, X_val, y_val)"
   ]
  },
  {
   "cell_type": "code",
   "execution_count": 23,
   "id": "solved-fifteen",
   "metadata": {},
   "outputs": [
    {
     "data": {
      "text/plain": [
       "RandomForestClassifier(random_state=1944)"
      ]
     },
     "execution_count": 23,
     "metadata": {},
     "output_type": "execute_result"
    }
   ],
   "source": [
    "randomForest_under = RandomForestClassifier(random_state=1944)\n",
    "randomForest_under.fit(X_under, y_under)\n"
   ]
  },
  {
   "cell_type": "code",
   "execution_count": 25,
   "id": "sustainable-volleyball",
   "metadata": {},
   "outputs": [
    {
     "data": {
      "text/plain": [
       "RandomForestClassifier(random_state=1944)"
      ]
     },
     "execution_count": 25,
     "metadata": {},
     "output_type": "execute_result"
    }
   ],
   "source": [
    "randomForest_undermiss = RandomForestClassifier(random_state=1944)\n",
    "randomForest_undermiss.fit(X_undermis, y_undermiss)\n"
   ]
  },
  {
   "cell_type": "code",
   "execution_count": null,
   "id": "double-wildlife",
   "metadata": {},
   "outputs": [],
   "source": [
    "randomForest_over = RandomForestClassifier(random_state=1944)\n",
    "randomForest_over.fit(X_over, y_over)\n"
   ]
  },
  {
   "cell_type": "code",
   "execution_count": null,
   "id": "dominican-heather",
   "metadata": {},
   "outputs": [],
   "source": [
    "randomForest_smoteenn = RandomForestClassifier(random_state=1944)\n",
    "randomForest_smoteenn.fit(X_smote, y_smote)\n"
   ]
  },
  {
   "cell_type": "code",
   "execution_count": null,
   "id": "existing-testament",
   "metadata": {},
   "outputs": [],
   "source": []
  },
  {
   "cell_type": "code",
   "execution_count": 26,
   "id": "abroad-escape",
   "metadata": {},
   "outputs": [
    {
     "name": "stdout",
     "output_type": "stream",
     "text": [
      "[[40137 16400]\n",
      " [ 1590  3375]]\n",
      "Accuracy score    : 0.707\n",
      "precision score   : 0.171\n",
      "recall score      : 0.68\n",
      "F1 score          : 0.273\n",
      "F2 score          : 0.426\n",
      "ROCAUC score      : 0.695\n",
      "custom metric FMI : 0.341\n",
      "\n"
     ]
    },
    {
     "data": {
      "image/png": "[encoded data removed]",
      "text/plain": [
       "<Figure size 432x288 with 1 Axes>"
      ]
     },
     "metadata": {
      "needs_background": "light"
     },
     "output_type": "display_data"
    }
   ],
   "source": [
    "model_eval(randomForest_under, X_val, y_val)"
   ]
  },
  {
   "cell_type": "code",
   "execution_count": 69,
   "id": "personal-magnet",
   "metadata": {},
   "outputs": [
    {
     "name": "stdout",
     "output_type": "stream",
     "text": [
      "[[ 7727 48810]\n",
      " [  766  4199]]\n",
      "Accuracy score    : 0.194\n",
      "precision score   : 0.0792\n",
      "recall score      : 0.846\n",
      "F1 score          : 0.145\n",
      "F2 score          : 0.288\n",
      "ROCAUC score      : 0.491\n",
      "custom metric FMI : 0.259\n",
      "\n"
     ]
    },
    {
     "data": {
      "image/png": "[encoded data removed]",
      "text/plain": [
       "<Figure size 432x288 with 1 Axes>"
      ]
     },
     "metadata": {
      "needs_background": "light"
     },
     "output_type": "display_data"
    }
   ],
   "source": [
    "model_eval(randomForest_undermiss, X_val, y_val)"
   ]
  },
  {
   "cell_type": "code",
   "execution_count": 70,
   "id": "technological-freight",
   "metadata": {},
   "outputs": [
    {
     "name": "stdout",
     "output_type": "stream",
     "text": [
      "[[56523    14]\n",
      " [ 4945    20]]\n",
      "Accuracy score    : 0.919\n",
      "precision score   : 0.588\n",
      "recall score      : 0.00403\n",
      "F1 score          : 0.008\n",
      "F2 score          : 0.00503\n",
      "ROCAUC score      : 0.502\n",
      "custom metric FMI : 0.0487\n",
      "\n"
     ]
    },
    {
     "data": {
      "image/png": "[encoded data removed]",
      "text/plain": [
       "<Figure size 432x288 with 1 Axes>"
      ]
     },
     "metadata": {
      "needs_background": "light"
     },
     "output_type": "display_data"
    }
   ],
   "source": [
    "model_eval(randomForest_over, X_val, y_val)"
   ]
  },
  {
   "cell_type": "code",
   "execution_count": 71,
   "id": "japanese-fellowship",
   "metadata": {},
   "outputs": [
    {
     "name": "stdout",
     "output_type": "stream",
     "text": [
      "[[55799   738]\n",
      " [ 4573   392]]\n",
      "Accuracy score    : 0.914\n",
      "precision score   : 0.347\n",
      "recall score      : 0.079\n",
      "F1 score          : 0.129\n",
      "F2 score          : 0.0934\n",
      "ROCAUC score      : 0.533\n",
      "custom metric FMI : 0.165\n",
      "\n"
     ]
    },
    {
     "data": {
      "image/png": "[encoded data removed]",
      "text/plain": [
       "<Figure size 432x288 with 1 Axes>"
      ]
     },
     "metadata": {
      "needs_background": "light"
     },
     "output_type": "display_data"
    }
   ],
   "source": [
    "model_eval(randomForest_smoteenn, X_val, y_val)"
   ]
  },
  {
   "cell_type": "markdown",
   "id": "wooden-electronics",
   "metadata": {},
   "source": [
    "### recapitulatif desequilibre"
   ]
  },
  {
   "cell_type": "code",
   "execution_count": 80,
   "id": "worth-christmas",
   "metadata": {},
   "outputs": [
    {
     "name": "stdout",
     "output_type": "stream",
     "text": [
      "[[40137 16400]\n",
      " [ 1590  3375]]\n",
      "Accuracy score    : 0.707\n",
      "precision score   : 0.171\n",
      "recall score      : 0.68\n",
      "F1 score          : 0.273\n",
      "F2 score          : 0.426\n",
      "ROCAUC score      : 0.695\n",
      "custom metric FMI : 0.341\n",
      "\n"
     ]
    }
   ],
   "source": [
    "model_eval_score(randomForest_under, X_val, y_val)"
   ]
  },
  {
   "cell_type": "code",
   "execution_count": 81,
   "id": "patent-halifax",
   "metadata": {},
   "outputs": [
    {
     "name": "stdout",
     "output_type": "stream",
     "text": [
      "[[ 7727 48810]\n",
      " [  766  4199]]\n",
      "Accuracy score    : 0.194\n",
      "precision score   : 0.0792\n",
      "recall score      : 0.846\n",
      "F1 score          : 0.145\n",
      "F2 score          : 0.288\n",
      "ROCAUC score      : 0.491\n",
      "custom metric FMI : 0.259\n",
      "\n"
     ]
    }
   ],
   "source": [
    "model_eval_score(randomForest_undermiss, X_val, y_val)"
   ]
  },
  {
   "cell_type": "code",
   "execution_count": 82,
   "id": "radical-response",
   "metadata": {},
   "outputs": [
    {
     "name": "stdout",
     "output_type": "stream",
     "text": [
      "[[56523    14]\n",
      " [ 4945    20]]\n",
      "Accuracy score    : 0.919\n",
      "precision score   : 0.588\n",
      "recall score      : 0.00403\n",
      "F1 score          : 0.008\n",
      "F2 score          : 0.00503\n",
      "ROCAUC score      : 0.502\n",
      "custom metric FMI : 0.0487\n",
      "\n"
     ]
    }
   ],
   "source": [
    "model_eval_score(randomForest_over, X_val, y_val)"
   ]
  },
  {
   "cell_type": "code",
   "execution_count": 83,
   "id": "crude-julian",
   "metadata": {},
   "outputs": [
    {
     "name": "stdout",
     "output_type": "stream",
     "text": [
      "[[55799   738]\n",
      " [ 4573   392]]\n",
      "Accuracy score    : 0.914\n",
      "precision score   : 0.347\n",
      "recall score      : 0.079\n",
      "F1 score          : 0.129\n",
      "F2 score          : 0.0934\n",
      "ROCAUC score      : 0.533\n",
      "custom metric FMI : 0.165\n",
      "\n"
     ]
    }
   ],
   "source": [
    "model_eval_score(randomForest_smoteenn, X_val, y_val)"
   ]
  },
  {
   "cell_type": "markdown",
   "id": "demographic-warehouse",
   "metadata": {},
   "source": [
    "### a priori RandomForest avec strategie d'underFitting semble la plus prometteuse"
   ]
  },
  {
   "cell_type": "code",
   "execution_count": 84,
   "id": "fancy-restriction",
   "metadata": {},
   "outputs": [
    {
     "name": "stdout",
     "output_type": "stream",
     "text": [
      "[[51993  4544]\n",
      " [ 4579   386]]\n",
      "Accuracy score    : 0.852\n",
      "precision score   : 0.0783\n",
      "recall score      : 0.0777\n",
      "F1 score          : 0.078\n",
      "F2 score          : 0.0779\n",
      "ROCAUC score      : 0.499\n",
      "custom metric FMI : 0.078\n",
      "\n"
     ]
    }
   ],
   "source": [
    "model_eval_score(dummyCls, X_val, y_val)"
   ]
  },
  {
   "cell_type": "code",
   "execution_count": 85,
   "id": "minor-guitar",
   "metadata": {},
   "outputs": [
    {
     "name": "stdout",
     "output_type": "stream",
     "text": [
      "[[32362 24175]\n",
      " [ 1882  3083]]\n",
      "Accuracy score    : 0.576\n",
      "precision score   : 0.113\n",
      "recall score      : 0.621\n",
      "F1 score          : 0.191\n",
      "F2 score          : 0.327\n",
      "ROCAUC score      : 0.597\n",
      "custom metric FMI : 0.265\n",
      "\n"
     ]
    }
   ],
   "source": [
    "model_eval_score(logis_under, X_val, y_val)"
   ]
  },
  {
   "cell_type": "code",
   "execution_count": 86,
   "id": "thirty-consent",
   "metadata": {},
   "outputs": [
    {
     "name": "stdout",
     "output_type": "stream",
     "text": [
      "[[33582 22955]\n",
      " [ 2015  2950]]\n",
      "Accuracy score    : 0.594\n",
      "precision score   : 0.114\n",
      "recall score      : 0.594\n",
      "F1 score          : 0.191\n",
      "F2 score          : 0.322\n",
      "ROCAUC score      : 0.594\n",
      "custom metric FMI : 0.26\n",
      "\n"
     ]
    }
   ],
   "source": [
    "model_eval_score(dectree_under, X_val, y_val)"
   ]
  },
  {
   "cell_type": "code",
   "execution_count": 87,
   "id": "driving-selection",
   "metadata": {},
   "outputs": [
    {
     "name": "stdout",
     "output_type": "stream",
     "text": [
      "[[40137 16400]\n",
      " [ 1590  3375]]\n",
      "Accuracy score    : 0.707\n",
      "precision score   : 0.171\n",
      "recall score      : 0.68\n",
      "F1 score          : 0.273\n",
      "F2 score          : 0.426\n",
      "ROCAUC score      : 0.695\n",
      "custom metric FMI : 0.341\n",
      "\n"
     ]
    }
   ],
   "source": [
    "model_eval_score(randomForest_under, X_val, y_val)"
   ]
  },
  {
   "cell_type": "code",
   "execution_count": 88,
   "id": "emerging-indonesia",
   "metadata": {},
   "outputs": [
    {
     "name": "stdout",
     "output_type": "stream",
     "text": [
      "{'n_estimators': [200, 400, 600, 800, 1000, 1200, 1400, 1600, 1800, 2000], 'max_features': ['auto', 'sqrt'], 'max_depth': [10, 20, 30, 40, 50, 60, 70, 80, 90, 100, 110], 'min_samples_split': [2, 5, 10], 'min_samples_leaf': [1, 2, 4], 'bootstrap': [True, False]}\n",
      "Fitting 3 folds for each of 40 candidates, totalling 120 fits\n"
     ]
    },
    {
     "name": "stderr",
     "output_type": "stream",
     "text": [
      "[Parallel(n_jobs=-1)]: Using backend LokyBackend with 4 concurrent workers.\n",
      "[Parallel(n_jobs=-1)]: Done  33 tasks      | elapsed: 21.2min\n",
      "[Parallel(n_jobs=-1)]: Done 120 out of 120 | elapsed: 79.5min finished\n"
     ]
    },
    {
     "name": "stdout",
     "output_type": "stream",
     "text": [
      "{'n_estimators': 1400, 'min_samples_split': 5, 'min_samples_leaf': 2, 'max_features': 'auto', 'max_depth': 70, 'bootstrap': False}\n"
     ]
    }
   ],
   "source": [
    "\n",
    "random_grid_Forest = {'n_estimators': [int(x) for x in np.linspace(start = 200, stop = 2000, num = 10)],\n",
    "               'max_features':  ['auto', 'sqrt'],\n",
    "               'max_depth': [int(x) for x in np.linspace(10, 110, num = 11)],\n",
    "               'min_samples_split': [2, 5, 10],\n",
    "               'min_samples_leaf': [1, 2, 4],\n",
    "               'bootstrap': [True, False]}\n",
    "print(random_grid_Forest)\n",
    "\n",
    "# Random search of parameters, using 3 fold cross validation, \n",
    "rgf_random = RandomizedSearchCV(estimator = RandomForestClassifier(random_state=1944), param_distributions = random_grid_Forest, scoring=custom_scorer, n_iter = 40, cv = 3, verbose=2, n_jobs = -1)\n",
    "# Fit the random search model\n",
    "rgf_random.fit(X_under, y_under)\n",
    "\n",
    "print(rgf_random.best_params_)"
   ]
  },
  {
   "cell_type": "code",
   "execution_count": 27,
   "id": "nominated-technician",
   "metadata": {},
   "outputs": [
    {
     "name": "stdout",
     "output_type": "stream",
     "text": [
      "[[40159 16378]\n",
      " [ 1517  3448]]\n",
      "Accuracy score    : 0.709\n",
      "precision score   : 0.174\n",
      "recall score      : 0.694\n",
      "F1 score          : 0.278\n",
      "F2 score          : 0.434\n",
      "ROCAUC score      : 0.702\n",
      "custom metric FMI : 0.348\n",
      "\n"
     ]
    },
    {
     "data": {
      "image/png": "[encoded data removed]",
      "text/plain": [
       "<Figure size 432x288 with 1 Axes>"
      ]
     },
     "metadata": {
      "needs_background": "light"
     },
     "output_type": "display_data"
    }
   ],
   "source": [
    "randomForest_under_random = RandomForestClassifier(random_state=1944, n_estimators = 1400, min_samples_split = 5,\n",
    "                                                   min_samples_leaf = 2, max_features = 'auto', max_depth = 70, bootstrap = False)\n",
    "randomForest_under_random.fit(X_under, y_under)\n",
    "model_eval(randomForest_under_random, X_val, y_val)"
   ]
  },
  {
   "cell_type": "code",
   "execution_count": 28,
   "id": "shared-hamburg",
   "metadata": {},
   "outputs": [
    {
     "name": "stdout",
     "output_type": "stream",
     "text": [
      "{'n_estimators': [200, 400, 600, 800, 1000, 1200, 1400, 1600, 1800, 2000], 'max_features': ['auto', 'sqrt'], 'max_depth': [10, 20, 30, 40, 50, 60, 70, 80, 90, 100, 110], 'min_samples_split': [2, 5, 10], 'min_samples_leaf': [1, 2, 4], 'bootstrap': [True, False]}\n",
      "Fitting 3 folds for each of 40 candidates, totalling 120 fits\n"
     ]
    },
    {
     "name": "stderr",
     "output_type": "stream",
     "text": [
      "[Parallel(n_jobs=-1)]: Using backend LokyBackend with 4 concurrent workers.\n",
      "[Parallel(n_jobs=-1)]: Done  33 tasks      | elapsed: 30.3min\n",
      "[Parallel(n_jobs=-1)]: Done 120 out of 120 | elapsed: 86.9min finished\n"
     ]
    },
    {
     "name": "stdout",
     "output_type": "stream",
     "text": [
      "{'n_estimators': 1800, 'min_samples_split': 10, 'min_samples_leaf': 4, 'max_features': 'auto', 'max_depth': 30, 'bootstrap': False}\n"
     ]
    }
   ],
   "source": [
    "\n",
    "random_grid_Forest_f2 = {'n_estimators': [int(x) for x in np.linspace(start = 200, stop = 2000, num = 10)],\n",
    "               'max_features':  ['auto', 'sqrt'],\n",
    "               'max_depth': [int(x) for x in np.linspace(10, 110, num = 11)],\n",
    "               'min_samples_split': [2, 5, 10],\n",
    "               'min_samples_leaf': [1, 2, 4],\n",
    "               'bootstrap': [True, False]}\n",
    "print(random_grid_Forest_f2)\n",
    "\n",
    "# Random search of parameters, using 3 fold cross validation, \n",
    "rgf_random_f2 = RandomizedSearchCV(estimator = RandomForestClassifier(random_state=1944), param_distributions = random_grid_Forest_f2, scoring=custom_scorer_f2, n_iter = 40, cv = 3, verbose=2, n_jobs = -1)\n",
    "# Fit the random search model\n",
    "rgf_random_f2.fit(X_under, y_under)\n",
    "\n",
    "print(rgf_random_f2.best_params_)"
   ]
  },
  {
   "cell_type": "code",
   "execution_count": 29,
   "id": "olive-worse",
   "metadata": {},
   "outputs": [
    {
     "name": "stdout",
     "output_type": "stream",
     "text": [
      "[[40080 16457]\n",
      " [ 1495  3470]]\n",
      "Accuracy score    : 0.708\n",
      "precision score   : 0.174\n",
      "recall score      : 0.699\n",
      "F1 score          : 0.279\n",
      "F2 score          : 0.436\n",
      "ROCAUC score      : 0.704\n",
      "custom metric FMI : 0.349\n",
      "\n"
     ]
    },
    {
     "data": {
      "image/png": "[encoded data removed]",
      "text/plain": [
       "<Figure size 432x288 with 1 Axes>"
      ]
     },
     "metadata": {
      "needs_background": "light"
     },
     "output_type": "display_data"
    }
   ],
   "source": [
    "randomForest_under_random_f2 = RandomForestClassifier(random_state=1944, n_estimators = 1800, min_samples_split = 10,\n",
    "                                                   min_samples_leaf = 4, max_features = 'auto', max_depth = 30, bootstrap = False)\n",
    "randomForest_under_random_f2.fit(X_under, y_under)\n",
    "model_eval(randomForest_under_random_f2, X_val, y_val)"
   ]
  },
  {
   "cell_type": "code",
   "execution_count": 90,
   "id": "worse-glucose",
   "metadata": {},
   "outputs": [
    {
     "name": "stdout",
     "output_type": "stream",
     "text": [
      "[[40137 16400]\n",
      " [ 1590  3375]]\n",
      "Accuracy score    : 0.707\n",
      "precision score   : 0.171\n",
      "recall score      : 0.68\n",
      "F1 score          : 0.273\n",
      "F2 score          : 0.426\n",
      "ROCAUC score      : 0.695\n",
      "custom metric FMI : 0.341\n",
      "\n"
     ]
    }
   ],
   "source": [
    "model_eval_score(randomForest_under, X_val, y_val)"
   ]
  },
  {
   "cell_type": "code",
   "execution_count": 30,
   "id": "cardiac-assembly",
   "metadata": {},
   "outputs": [
    {
     "name": "stdout",
     "output_type": "stream",
     "text": [
      "[[40159 16378]\n",
      " [ 1517  3448]]\n",
      "Accuracy score    : 0.709\n",
      "precision score   : 0.174\n",
      "recall score      : 0.694\n",
      "F1 score          : 0.278\n",
      "F2 score          : 0.434\n",
      "ROCAUC score      : 0.702\n",
      "custom metric FMI : 0.348\n",
      "\n"
     ]
    }
   ],
   "source": [
    "model_eval_score(randomForest_under_random, X_val, y_val)"
   ]
  },
  {
   "cell_type": "code",
   "execution_count": 31,
   "id": "environmental-astrology",
   "metadata": {},
   "outputs": [
    {
     "name": "stdout",
     "output_type": "stream",
     "text": [
      "[[40080 16457]\n",
      " [ 1495  3470]]\n",
      "Accuracy score    : 0.708\n",
      "precision score   : 0.174\n",
      "recall score      : 0.699\n",
      "F1 score          : 0.279\n",
      "F2 score          : 0.436\n",
      "ROCAUC score      : 0.704\n",
      "custom metric FMI : 0.349\n",
      "\n"
     ]
    }
   ],
   "source": [
    "model_eval_score(randomForest_under_random_f2, X_val, y_val)"
   ]
  },
  {
   "cell_type": "code",
   "execution_count": 54,
   "id": "flying-trick",
   "metadata": {},
   "outputs": [
    {
     "name": "stdout",
     "output_type": "stream",
     "text": [
      "{'max_depth': [25, 30, 35], 'min_samples_leaf': [3, 4, 5], 'min_samples_split': [8, 10, 12], 'n_estimators': [1700, 1800, 1900]}\n",
      "Fitting 3 folds for each of 81 candidates, totalling 243 fits\n"
     ]
    },
    {
     "name": "stderr",
     "output_type": "stream",
     "text": [
      "[Parallel(n_jobs=-1)]: Using backend LokyBackend with 4 concurrent workers.\n",
      "[Parallel(n_jobs=-1)]: Done  17 tasks      | elapsed: 27.4min\n",
      "[Parallel(n_jobs=-1)]: Done  90 tasks      | elapsed: 125.1min\n",
      "[Parallel(n_jobs=-1)]: Done 213 tasks      | elapsed: 293.7min\n",
      "[Parallel(n_jobs=-1)]: Done 243 out of 243 | elapsed: 333.4min finished\n"
     ]
    },
    {
     "name": "stdout",
     "output_type": "stream",
     "text": [
      "resultat en 20415.87s\n"
     ]
    }
   ],
   "source": [
    "randomForest_under_random_f2 = RandomForestClassifier(random_state=1944, n_estimators = 1800, min_samples_split = 10,\n",
    "                                                   min_samples_leaf = 4, max_features = 'auto', max_depth = 30, bootstrap = False)\n",
    "\n",
    "start_time = timeit.default_timer()\n",
    "\n",
    "# Create the parameter grid based on the results of random search \n",
    "params_grid = {\n",
    "    'max_depth': [25 , 30, 35 ],\n",
    "    'min_samples_leaf': [3,4,5],\n",
    "    'min_samples_split': [8,10,12],\n",
    "    'n_estimators': [1700, 1800, 1900]\n",
    "}             \n",
    "print( params_grid)\n",
    "\n",
    "grid = GridSearchCV(RandomForestClassifier(random_state=1944, bootstrap = False, max_features = 'auto'),\n",
    "                    param_grid = params_grid, scoring=custom_scorer_f2, cv=3, verbose=4, n_jobs = -1)\n",
    "grid.fit(X_under, y_under)\n",
    "\n",
    "elapsed = timeit.default_timer() - start_time\n",
    "time = elapsed\n",
    "print(f'resultat en {time:.2f}s')\n"
   ]
  },
  {
   "cell_type": "code",
   "execution_count": 55,
   "id": "legendary-cattle",
   "metadata": {},
   "outputs": [
    {
     "data": {
      "text/plain": [
       "{'max_depth': 25,\n",
       " 'min_samples_leaf': 5,\n",
       " 'min_samples_split': 12,\n",
       " 'n_estimators': 1700}"
      ]
     },
     "execution_count": 55,
     "metadata": {},
     "output_type": "execute_result"
    }
   ],
   "source": [
    "grid.best_params_"
   ]
  },
  {
   "cell_type": "code",
   "execution_count": 53,
   "id": "active-lewis",
   "metadata": {},
   "outputs": [
    {
     "name": "stdout",
     "output_type": "stream",
     "text": [
      "[[40016 16521]\n",
      " [ 1492  3473]]\n",
      "Accuracy score    : 0.707\n",
      "precision score   : 0.174\n",
      "recall score      : 0.699\n",
      "F1 score          : 0.278\n",
      "F2 score          : 0.436\n",
      "ROCAUC score      : 0.704\n",
      "custom metric FMI : 0.349\n",
      "\n"
     ]
    },
    {
     "data": {
      "image/png": "[encoded data removed]",
      "text/plain": [
       "<Figure size 432x288 with 1 Axes>"
      ]
     },
     "metadata": {
      "needs_background": "light"
     },
     "output_type": "display_data"
    }
   ],
   "source": [
    "randomForest_under_gridCV_f2 = RandomForestClassifier(random_state=1944, bootstrap = False, max_features = 'auto',\n",
    "                                                      n_estimators = 1700, min_samples_split = 12, min_samples_leaf = 5, max_depth = 25)\n",
    "randomForest_under_gridCV_f2.fit(X_under, y_under)\n",
    "model_eval(randomForest_under_gridCV_f2, X_val, y_val)"
   ]
  },
  {
   "cell_type": "markdown",
   "id": "prepared-thriller",
   "metadata": {},
   "source": [
    "# BOOSTING"
   ]
  },
  {
   "cell_type": "code",
   "execution_count": 57,
   "id": "indonesian-employment",
   "metadata": {},
   "outputs": [
    {
     "name": "stdout",
     "output_type": "stream",
     "text": [
      "Training until validation scores don't improve for 200 rounds\n",
      "Did not meet early stopping. Best iteration is:\n",
      "[100]\ttraining's auc: 0.824881\ttraining's binary_logloss: 0.525495\tvalid_1's auc: 0.780073\tvalid_1's binary_logloss: 0.537558\n"
     ]
    },
    {
     "data": {
      "text/plain": [
       "LGBMClassifier(is_unbalance=True)"
      ]
     },
     "execution_count": 57,
     "metadata": {},
     "output_type": "execute_result"
    }
   ],
   "source": [
    "lgbmc10 = LGBMClassifier(is_unbalance=True)\n",
    "\n",
    "lgbmc10.fit(X_train, y_train, eval_set=[(X_train, y_train), (X_val, y_val)], \n",
    "    eval_metric= 'auc', verbose= 200, early_stopping_rounds= 200)"
   ]
  },
  {
   "cell_type": "code",
   "execution_count": 58,
   "id": "valued-month",
   "metadata": {},
   "outputs": [
    {
     "name": "stdout",
     "output_type": "stream",
     "text": [
      "[[41069 15468]\n",
      " [ 1528  3437]]\n",
      "Accuracy score    : 0.724\n",
      "precision score   : 0.182\n",
      "recall score      : 0.692\n",
      "F1 score          : 0.288\n",
      "F2 score          : 0.443\n",
      "ROCAUC score      : 0.709\n",
      "custom metric FMI : 0.355\n",
      "\n"
     ]
    },
    {
     "data": {
      "image/png": "[encoded data removed]",
      "text/plain": [
       "<Figure size 432x288 with 1 Axes>"
      ]
     },
     "metadata": {
      "needs_background": "light"
     },
     "output_type": "display_data"
    }
   ],
   "source": [
    "model_eval(lgbmc10, X_val, y_val)"
   ]
  },
  {
   "cell_type": "code",
   "execution_count": 59,
   "id": "normal-occasions",
   "metadata": {},
   "outputs": [
    {
     "name": "stdout",
     "output_type": "stream",
     "text": [
      "Training until validation scores don't improve for 200 rounds\n",
      "Did not meet early stopping. Best iteration is:\n",
      "[100]\ttraining's auc: 0.846625\ttraining's binary_logloss: 0.500014\tvalid_1's auc: 0.776679\tvalid_1's binary_logloss: 0.5655\n"
     ]
    },
    {
     "data": {
      "text/plain": [
       "LGBMClassifier()"
      ]
     },
     "execution_count": 59,
     "metadata": {},
     "output_type": "execute_result"
    }
   ],
   "source": [
    "lgbmc10_under = LGBMClassifier()\n",
    "\n",
    "lgbmc10_under.fit(X_under, y_under, eval_set=[(X_under, y_under), (X_val, y_val)], \n",
    "    eval_metric= 'auc', verbose= 200, early_stopping_rounds= 200)"
   ]
  },
  {
   "cell_type": "code",
   "execution_count": 60,
   "id": "portuguese-independence",
   "metadata": {},
   "outputs": [
    {
     "name": "stdout",
     "output_type": "stream",
     "text": [
      "[[40370 16167]\n",
      " [ 1488  3477]]\n",
      "Accuracy score    : 0.713\n",
      "precision score   : 0.177\n",
      "recall score      : 0.7\n",
      "F1 score          : 0.283\n",
      "F2 score          : 0.44\n",
      "ROCAUC score      : 0.707\n",
      "custom metric FMI : 0.352\n",
      "\n"
     ]
    },
    {
     "data": {
      "image/png": "[encoded data removed]",
      "text/plain": [
       "<Figure size 432x288 with 1 Axes>"
      ]
     },
     "metadata": {
      "needs_background": "light"
     },
     "output_type": "display_data"
    }
   ],
   "source": [
    "model_eval(lgbmc10_under, X_val, y_val)"
   ]
  },
  {
   "cell_type": "code",
   "execution_count": 61,
   "id": "assured-integer",
   "metadata": {},
   "outputs": [
    {
     "data": {
      "text/plain": [
       "('F2 Score', 0.4433122662195279, True)"
      ]
     },
     "execution_count": 61,
     "metadata": {},
     "output_type": "execute_result"
    }
   ],
   "source": [
    "def custom_lightgbm_valid(y_true, y_pred):\n",
    "    TP = np.sum( (y_true==1) & (y_pred==1) )\n",
    "    FP = np.sum( (y_true==0) & (y_pred==1) )\n",
    "    TN = np.sum( (y_true==0) & (y_pred==0) )\n",
    "    FN = np.sum( (y_true==1) & (y_pred==0) )\n",
    "    precision  = TP / ( TP + FP )\n",
    "    recall  = TP / ( TP + FN )\n",
    "    f1_score = 2 * precision * recall / (precision + recall)\n",
    "    f2_score = (5 * precision * recall) / (4 * precision + recall)\n",
    "    return \"F2 Score\", f2_score, True\n",
    " \n",
    "y_pred = lgbmc10.predict(X_val)\n",
    "custom_lightgbm_valid(y_val, y_pred)"
   ]
  },
  {
   "cell_type": "code",
   "execution_count": 62,
   "id": "split-japanese",
   "metadata": {},
   "outputs": [
    {
     "name": "stdout",
     "output_type": "stream",
     "text": [
      "0.4433122662195279\n"
     ]
    }
   ],
   "source": [
    "def custom_metric_light_gbm(y, y_pred):\n",
    "    chaine, f2_score, dum = custom_lightgbm_valid(y, y_pred)\n",
    "    return f2_score\n",
    "\n",
    "y_pred = lgbmc10.predict(X_val)\n",
    "print(custom_metric_light_gbm(y_val, y_pred))\n",
    "\n",
    "custom_scorer_lgbm_f2 = make_scorer(custom_metric_light_gbm, greater_is_better=True )"
   ]
  },
  {
   "cell_type": "code",
   "execution_count": 63,
   "id": "rapid-scene",
   "metadata": {},
   "outputs": [
    {
     "name": "stdout",
     "output_type": "stream",
     "text": [
      "[[41069 15468]\n",
      " [ 1528  3437]]\n",
      "Accuracy score    : 0.724\n",
      "precision score   : 0.182\n",
      "recall score      : 0.692\n",
      "F1 score          : 0.288\n",
      "F2 score          : 0.443\n",
      "ROCAUC score      : 0.709\n",
      "custom metric FMI : 0.355\n",
      "\n"
     ]
    },
    {
     "data": {
      "image/png": "[encoded data removed]",
      "text/plain": [
       "<Figure size 432x288 with 1 Axes>"
      ]
     },
     "metadata": {
      "needs_background": "light"
     },
     "output_type": "display_data"
    }
   ],
   "source": [
    "lgbmc10_custom = LGBMClassifier(is_unbalance=True)\n",
    "\n",
    "lgbmc10_custom.fit(X_train, y_train, eval_set=[(X_train, y_train), (X_val, y_val)], \n",
    "    eval_metric= custom_lightgbm_valid, verbose= 200)\n",
    "\n",
    "model_eval(lgbmc10_custom, X_val, y_val)"
   ]
  },
  {
   "cell_type": "code",
   "execution_count": 37,
   "id": "welcome-street",
   "metadata": {},
   "outputs": [
    {
     "name": "stdout",
     "output_type": "stream",
     "text": [
      "[[41069 15468]\n",
      " [ 1528  3437]]\n",
      "Accuracy score    : 0.724\n",
      "precision score   : 0.182\n",
      "recall score      : 0.692\n",
      "F1 score          : 0.288\n",
      "F2 score          : 0.443\n",
      "ROCAUC score      : 0.709\n",
      "custom metric FMI : 0.355\n",
      "\n"
     ]
    }
   ],
   "source": [
    "model_eval_score(lgbmc10, X_val, y_val)"
   ]
  },
  {
   "cell_type": "code",
   "execution_count": 80,
   "id": "resistant-bundle",
   "metadata": {},
   "outputs": [
    {
     "name": "stdout",
     "output_type": "stream",
     "text": [
      "{'num_leaves': array([ 50, 100, 150, 200, 250, 300, 350, 400, 450]), 'min_child_samples': [20, 50, 150, 400], 'min_child_weight': [1e-05, 0.01, 0.1, 1, 10.0, 100.0, 1000.0], 'subsample': [0.1, 0.3, 0.6, 1.0], 'colsample_bytree': [0.8, 0.9, 1.0], 'reg_lambda': [0, 0.1, 1, 10, 100]}\n",
      "Fitting 3 folds for each of 100 candidates, totalling 300 fits\n"
     ]
    },
    {
     "name": "stderr",
     "output_type": "stream",
     "text": [
      "[Parallel(n_jobs=-1)]: Using backend LokyBackend with 4 concurrent workers.\n",
      "[Parallel(n_jobs=-1)]: Done  24 tasks      | elapsed:  3.6min\n",
      "[Parallel(n_jobs=-1)]: Done 120 tasks      | elapsed: 16.0min\n",
      "[Parallel(n_jobs=-1)]: Done 280 tasks      | elapsed: 38.7min\n",
      "[Parallel(n_jobs=-1)]: Done 300 out of 300 | elapsed: 41.3min finished\n"
     ]
    },
    {
     "name": "stdout",
     "output_type": "stream",
     "text": [
      "{'subsample': 0.6, 'reg_lambda': 100, 'num_leaves': 50, 'min_child_weight': 1e-05, 'min_child_samples': 150, 'colsample_bytree': 0.9}\n",
      "[[41247 15290]\n",
      " [ 1546  3419]]\n",
      "Accuracy score    : 0.726\n",
      "precision score   : 0.183\n",
      "recall score      : 0.689\n",
      "F1 score          : 0.289\n",
      "F2 score          : 0.443\n",
      "ROCAUC score      : 0.709\n",
      "custom metric FMI : 0.355\n",
      "\n"
     ]
    },
    {
     "data": {
      "image/png": "[encoded data removed]",
      "text/plain": [
       "<Figure size 432x288 with 1 Axes>"
      ]
     },
     "metadata": {
      "needs_background": "light"
     },
     "output_type": "display_data"
    }
   ],
   "source": [
    "random_grid ={\n",
    "            'num_leaves': np.arange(50,500,50),\n",
    "            'min_child_samples': [20, 50, 150, 400], \n",
    "            'min_child_weight': [1e-5, 1e-2, 1e-1, 1, 1e1, 1e2, 1e3],\n",
    "            'subsample': [0.1, 0.3, 0.6, 1.0], \n",
    "            'colsample_bytree': [0.8, 0.9, 1.0],\n",
    "            'reg_lambda': [0, 0.1, 1, 10, 100]}\n",
    "\n",
    "print(random_grid)\n",
    "\n",
    "# Random search of parameters, using 3 fold cross validation, \n",
    "# search across 100 different combinations, and use all available cores\n",
    "lgbm_random = RandomizedSearchCV(estimator = LGBMClassifier(is_unbalance=True, objective = 'binary', metric = 'auc'), scoring=custom_scorer_lgbm_f2, param_distributions = random_grid, n_iter = 100, cv = 3, verbose=3, n_jobs = -1)\n",
    "# Fit the random search model\n",
    "lgbm_random.fit(X_train, y_train)\n",
    "\n",
    "print(lgbm_random.best_params_)\n",
    "\n",
    "model_eval(lgbm_random.best_estimator_, X_val, y_val)"
   ]
  },
  {
   "cell_type": "code",
   "execution_count": 81,
   "id": "juvenile-mediterranean",
   "metadata": {},
   "outputs": [
    {
     "data": {
      "text/plain": [
       "LGBMClassifier(colsample_bytree=0.9, is_unbalance=True, metric='auc',\n",
       "               min_child_samples=150, min_child_weight=1e-05, num_leaves=50,\n",
       "               objective='binary', reg_lambda=100, subsample=0.6)"
      ]
     },
     "execution_count": 81,
     "metadata": {},
     "output_type": "execute_result"
    }
   ],
   "source": [
    "lgbmc10_randomCV = LGBMClassifier(is_unbalance=True, objective = 'binary', metric = 'auc', subsample = 0.6, reg_lambda = 100,\n",
    "                                  num_leaves = 50, min_child_weight = 1e-05, min_child_samples = 150, colsample_bytree = 0.9)\n",
    "\n",
    "lgbmc10_randomCV.fit(X_train, y_train, eval_metric= 'auc', verbose= 2)"
   ]
  },
  {
   "cell_type": "code",
   "execution_count": 83,
   "id": "elect-reception",
   "metadata": {},
   "outputs": [
    {
     "name": "stdout",
     "output_type": "stream",
     "text": [
      "[[41247 15290]\n",
      " [ 1546  3419]]\n",
      "Accuracy score    : 0.726\n",
      "precision score   : 0.183\n",
      "recall score      : 0.689\n",
      "F1 score          : 0.289\n",
      "F2 score          : 0.443\n",
      "ROCAUC score      : 0.709\n",
      "custom metric FMI : 0.355\n",
      "\n"
     ]
    }
   ],
   "source": [
    "model_eval_score(lgbmc10_randomCV, X_val, y_val)"
   ]
  },
  {
   "cell_type": "code",
   "execution_count": 87,
   "id": "interstate-budapest",
   "metadata": {},
   "outputs": [
    {
     "name": "stdout",
     "output_type": "stream",
     "text": [
      "{'max_depth': [25, 30, 35], 'min_samples_leaf': [3, 4, 5], 'min_samples_split': [8, 10, 12], 'n_estimators': [1700, 1800, 1900]}\n",
      "Fitting 3 folds for each of 729 candidates, totalling 2187 fits\n"
     ]
    },
    {
     "name": "stderr",
     "output_type": "stream",
     "text": [
      "[Parallel(n_jobs=-1)]: Using backend LokyBackend with 4 concurrent workers.\n",
      "[Parallel(n_jobs=-1)]: Done  33 tasks      | elapsed:   31.1s\n",
      "[Parallel(n_jobs=-1)]: Done 154 tasks      | elapsed:  2.2min\n",
      "[Parallel(n_jobs=-1)]: Done 357 tasks      | elapsed:  4.9min\n",
      "[Parallel(n_jobs=-1)]: Done 640 tasks      | elapsed:  8.6min\n",
      "[Parallel(n_jobs=-1)]: Done 1005 tasks      | elapsed: 13.7min\n",
      "[Parallel(n_jobs=-1)]: Done 1450 tasks      | elapsed: 19.8min\n",
      "[Parallel(n_jobs=-1)]: Done 1977 tasks      | elapsed: 27.9min\n",
      "[Parallel(n_jobs=-1)]: Done 2187 out of 2187 | elapsed: 30.9min finished\n"
     ]
    },
    {
     "name": "stdout",
     "output_type": "stream",
     "text": [
      "resultat en 1855.38s\n",
      "{'colsample_bytree': 0.8, 'min_child_samples': 150, 'min_child_weight': 5e-06, 'num_leaves': 50, 'reg_lambda': 75, 'subsample': 0.5}\n"
     ]
    }
   ],
   "source": [
    "start_time = timeit.default_timer()\n",
    "\n",
    "# Create the parameter grid based on the results of random search \n",
    "params_grid_gbm = {\n",
    "    'colsample_bytree': [0.8 , 0.9, 1.0 ],\n",
    "    'min_child_samples': [100, 150, 200],\n",
    "    'min_child_weight': [5e-06, 1e-05, 2e-05],\n",
    "    'num_leaves': [40, 50, 60],\n",
    "    'reg_lambda': [75, 100, 125],\n",
    "    'subsample': [0.5, 0.6, 0.7]\n",
    "}             \n",
    "print( params_grid)\n",
    "\n",
    "grid_gbm = GridSearchCV(LGBMClassifier(is_unbalance=True, objective = 'binary', metric = 'auc'),\n",
    "                    param_grid = params_grid_gbm, scoring=custom_scorer_lgbm_f2, cv=3, verbose=2, n_jobs = -1)\n",
    "grid_gbm.fit(X_under, y_under)\n",
    "\n",
    "elapsed = timeit.default_timer() - start_time\n",
    "time = elapsed\n",
    "print(f'resultat en {time:.2f}s')\n",
    "print(grid_gbm.best_params_)"
   ]
  },
  {
   "cell_type": "code",
   "execution_count": 89,
   "id": "thirty-softball",
   "metadata": {},
   "outputs": [],
   "source": [
    "lgbmc10_GridCV  = grid_gbm.best_estimator_"
   ]
  },
  {
   "cell_type": "code",
   "execution_count": 45,
   "id": "dutch-yeast",
   "metadata": {},
   "outputs": [
    {
     "name": "stdout",
     "output_type": "stream",
     "text": [
      "[[41069 15468]\n",
      " [ 1528  3437]]\n",
      "Accuracy score    : 0.724\n",
      "precision score   : 0.182\n",
      "recall score      : 0.692\n",
      "F1 score          : 0.288\n",
      "F2 score          : 0.443\n",
      "ROCAUC score      : 0.709\n",
      "custom metric FMI : 0.355\n",
      "\n"
     ]
    }
   ],
   "source": [
    "model_eval_score(lgbmc10, X_val, y_val)"
   ]
  },
  {
   "cell_type": "code",
   "execution_count": 46,
   "id": "known-equilibrium",
   "metadata": {},
   "outputs": [
    {
     "name": "stdout",
     "output_type": "stream",
     "text": [
      "[[42384 14153]\n",
      " [ 1638  3327]]\n",
      "Accuracy score    : 0.743\n",
      "precision score   : 0.19\n",
      "recall score      : 0.67\n",
      "F1 score          : 0.296\n",
      "F2 score          : 0.446\n",
      "ROCAUC score      : 0.71\n",
      "custom metric FMI : 0.357\n",
      "\n"
     ]
    }
   ],
   "source": [
    "model_eval_score(lgbmc10_randomCV, X_val, y_val)"
   ]
  },
  {
   "cell_type": "code",
   "execution_count": 90,
   "id": "central-truth",
   "metadata": {},
   "outputs": [
    {
     "name": "stdout",
     "output_type": "stream",
     "text": [
      "[[40228 16309]\n",
      " [ 1478  3487]]\n",
      "Accuracy score    : 0.711\n",
      "precision score   : 0.176\n",
      "recall score      : 0.702\n",
      "F1 score          : 0.282\n",
      "F2 score          : 0.44\n",
      "ROCAUC score      : 0.707\n",
      "custom metric FMI : 0.352\n",
      "\n"
     ]
    }
   ],
   "source": [
    "model_eval_score(lgbmc10_GridCV, X_val, y_val)"
   ]
  },
  {
   "cell_type": "code",
   "execution_count": 31,
   "id": "elementary-married",
   "metadata": {},
   "outputs": [
    {
     "name": "stdout",
     "output_type": "stream",
     "text": [
      "[[40080 16457]\n",
      " [ 1495  3470]]\n",
      "Accuracy score    : 0.708\n",
      "precision score   : 0.174\n",
      "recall score      : 0.699\n",
      "F1 score          : 0.279\n",
      "F2 score          : 0.436\n",
      "ROCAUC score      : 0.704\n",
      "custom metric FMI : 0.349\n",
      "\n"
     ]
    }
   ],
   "source": [
    "model_eval_score(randomForest_under_random_f2, X_val, y_val)"
   ]
  },
  {
   "cell_type": "code",
   "execution_count": 56,
   "id": "swedish-thomson",
   "metadata": {},
   "outputs": [
    {
     "name": "stdout",
     "output_type": "stream",
     "text": [
      "[[40016 16521]\n",
      " [ 1492  3473]]\n",
      "Accuracy score    : 0.707\n",
      "precision score   : 0.174\n",
      "recall score      : 0.699\n",
      "F1 score          : 0.278\n",
      "F2 score          : 0.436\n",
      "ROCAUC score      : 0.704\n",
      "custom metric FMI : 0.349\n",
      "\n"
     ]
    }
   ],
   "source": [
    "model_eval_score(randomForest_under_gridCV_f2, X_val, y_val)"
   ]
  },
  {
   "cell_type": "markdown",
   "id": "spoken-nelson",
   "metadata": {},
   "source": [
    "# Serialisation des modeles"
   ]
  },
  {
   "cell_type": "code",
   "execution_count": 91,
   "id": "roman-madagascar",
   "metadata": {},
   "outputs": [],
   "source": [
    "with open('randomForest_under_random_f2.p', 'wb') as f4:\n",
    "    pickle.dump(randomForest_under_random_f2, f4)\n",
    "\n",
    "with open('randomForest_under_gridCV_f2.p', 'wb') as f4:\n",
    "    pickle.dump(randomForest_under_gridCV_f2, f4)\n",
    "\n",
    "with open('lgbmc10_GridCV.p', 'wb') as f4:\n",
    "    pickle.dump(lgbmc10_GridCV, f4)   \n"
   ]
  },
  {
   "cell_type": "code",
   "execution_count": null,
   "id": "upset-bread",
   "metadata": {},
   "outputs": [],
   "source": []
  }
 ],
 "metadata": {
  "kernelspec": {
   "display_name": "Python 3",
   "language": "python",
   "name": "python3"
  },
  "language_info": {
   "codemirror_mode": {
    "name": "ipython",
    "version": 3
   },
   "file_extension": ".py",
   "mimetype": "text/x-python",
   "name": "python",
   "nbconvert_exporter": "python",
   "pygments_lexer": "ipython3",
   "version": "3.8.8"
  }
 },
 "nbformat": 4,
 "nbformat_minor": 5
}
