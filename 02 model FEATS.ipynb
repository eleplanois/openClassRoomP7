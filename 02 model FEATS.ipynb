{
 "cells": [
  {
   "cell_type": "code",
   "execution_count": 1,
   "id": "lesser-sailing",
   "metadata": {},
   "outputs": [],
   "source": [
    "# numpy and pandas for data manipulation\n",
    "import numpy as np\n",
    "import pandas as pd \n",
    "\n",
    "# sklearn preprocessing for dealing with categorical variables\n",
    "from sklearn.preprocessing import LabelEncoder\n",
    "\n",
    "# File system manangement\n",
    "import os\n",
    "\n",
    "# Suppress warnings \n",
    "import warnings\n",
    "warnings.filterwarnings('ignore')\n",
    "\n",
    "# matplotlib and seaborn for plotting\n",
    "import matplotlib.pyplot as plt\n",
    "import seaborn as sns"
   ]
  },
  {
   "cell_type": "code",
   "execution_count": 2,
   "id": "knowing-header",
   "metadata": {
    "_cell_guid": "79c7e3d0-c299-4dcb-8224-4455121ee9b0",
    "_uuid": "d629ff2d2480ee46fbb7e2d37f6b5fab8052498a"
   },
   "outputs": [
    {
     "name": "stdout",
     "output_type": "stream",
     "text": [
      "Training data shape:  (307511, 122)\n"
     ]
    },
    {
     "data": {
      "text/html": [
       "<div>\n",
       "<style scoped>\n",
       "    .dataframe tbody tr th:only-of-type {\n",
       "        vertical-align: middle;\n",
       "    }\n",
       "\n",
       "    .dataframe tbody tr th {\n",
       "        vertical-align: top;\n",
       "    }\n",
       "\n",
       "    .dataframe thead th {\n",
       "        text-align: right;\n",
       "    }\n",
       "</style>\n",
       "<table border=\"1\" class=\"dataframe\">\n",
       "  <thead>\n",
       "    <tr style=\"text-align: right;\">\n",
       "      <th></th>\n",
       "      <th>SK_ID_CURR</th>\n",
       "      <th>TARGET</th>\n",
       "      <th>NAME_CONTRACT_TYPE</th>\n",
       "      <th>CODE_GENDER</th>\n",
       "      <th>FLAG_OWN_CAR</th>\n",
       "      <th>FLAG_OWN_REALTY</th>\n",
       "      <th>CNT_CHILDREN</th>\n",
       "      <th>AMT_INCOME_TOTAL</th>\n",
       "      <th>AMT_CREDIT</th>\n",
       "      <th>AMT_ANNUITY</th>\n",
       "      <th>...</th>\n",
       "      <th>FLAG_DOCUMENT_18</th>\n",
       "      <th>FLAG_DOCUMENT_19</th>\n",
       "      <th>FLAG_DOCUMENT_20</th>\n",
       "      <th>FLAG_DOCUMENT_21</th>\n",
       "      <th>AMT_REQ_CREDIT_BUREAU_HOUR</th>\n",
       "      <th>AMT_REQ_CREDIT_BUREAU_DAY</th>\n",
       "      <th>AMT_REQ_CREDIT_BUREAU_WEEK</th>\n",
       "      <th>AMT_REQ_CREDIT_BUREAU_MON</th>\n",
       "      <th>AMT_REQ_CREDIT_BUREAU_QRT</th>\n",
       "      <th>AMT_REQ_CREDIT_BUREAU_YEAR</th>\n",
       "    </tr>\n",
       "  </thead>\n",
       "  <tbody>\n",
       "    <tr>\n",
       "      <th>0</th>\n",
       "      <td>100002</td>\n",
       "      <td>1</td>\n",
       "      <td>Cash loans</td>\n",
       "      <td>M</td>\n",
       "      <td>N</td>\n",
       "      <td>Y</td>\n",
       "      <td>0</td>\n",
       "      <td>202500.0</td>\n",
       "      <td>406597.5</td>\n",
       "      <td>24700.5</td>\n",
       "      <td>...</td>\n",
       "      <td>0</td>\n",
       "      <td>0</td>\n",
       "      <td>0</td>\n",
       "      <td>0</td>\n",
       "      <td>0.0</td>\n",
       "      <td>0.0</td>\n",
       "      <td>0.0</td>\n",
       "      <td>0.0</td>\n",
       "      <td>0.0</td>\n",
       "      <td>1.0</td>\n",
       "    </tr>\n",
       "    <tr>\n",
       "      <th>1</th>\n",
       "      <td>100003</td>\n",
       "      <td>0</td>\n",
       "      <td>Cash loans</td>\n",
       "      <td>F</td>\n",
       "      <td>N</td>\n",
       "      <td>N</td>\n",
       "      <td>0</td>\n",
       "      <td>270000.0</td>\n",
       "      <td>1293502.5</td>\n",
       "      <td>35698.5</td>\n",
       "      <td>...</td>\n",
       "      <td>0</td>\n",
       "      <td>0</td>\n",
       "      <td>0</td>\n",
       "      <td>0</td>\n",
       "      <td>0.0</td>\n",
       "      <td>0.0</td>\n",
       "      <td>0.0</td>\n",
       "      <td>0.0</td>\n",
       "      <td>0.0</td>\n",
       "      <td>0.0</td>\n",
       "    </tr>\n",
       "    <tr>\n",
       "      <th>2</th>\n",
       "      <td>100004</td>\n",
       "      <td>0</td>\n",
       "      <td>Revolving loans</td>\n",
       "      <td>M</td>\n",
       "      <td>Y</td>\n",
       "      <td>Y</td>\n",
       "      <td>0</td>\n",
       "      <td>67500.0</td>\n",
       "      <td>135000.0</td>\n",
       "      <td>6750.0</td>\n",
       "      <td>...</td>\n",
       "      <td>0</td>\n",
       "      <td>0</td>\n",
       "      <td>0</td>\n",
       "      <td>0</td>\n",
       "      <td>0.0</td>\n",
       "      <td>0.0</td>\n",
       "      <td>0.0</td>\n",
       "      <td>0.0</td>\n",
       "      <td>0.0</td>\n",
       "      <td>0.0</td>\n",
       "    </tr>\n",
       "    <tr>\n",
       "      <th>3</th>\n",
       "      <td>100006</td>\n",
       "      <td>0</td>\n",
       "      <td>Cash loans</td>\n",
       "      <td>F</td>\n",
       "      <td>N</td>\n",
       "      <td>Y</td>\n",
       "      <td>0</td>\n",
       "      <td>135000.0</td>\n",
       "      <td>312682.5</td>\n",
       "      <td>29686.5</td>\n",
       "      <td>...</td>\n",
       "      <td>0</td>\n",
       "      <td>0</td>\n",
       "      <td>0</td>\n",
       "      <td>0</td>\n",
       "      <td>NaN</td>\n",
       "      <td>NaN</td>\n",
       "      <td>NaN</td>\n",
       "      <td>NaN</td>\n",
       "      <td>NaN</td>\n",
       "      <td>NaN</td>\n",
       "    </tr>\n",
       "    <tr>\n",
       "      <th>4</th>\n",
       "      <td>100007</td>\n",
       "      <td>0</td>\n",
       "      <td>Cash loans</td>\n",
       "      <td>M</td>\n",
       "      <td>N</td>\n",
       "      <td>Y</td>\n",
       "      <td>0</td>\n",
       "      <td>121500.0</td>\n",
       "      <td>513000.0</td>\n",
       "      <td>21865.5</td>\n",
       "      <td>...</td>\n",
       "      <td>0</td>\n",
       "      <td>0</td>\n",
       "      <td>0</td>\n",
       "      <td>0</td>\n",
       "      <td>0.0</td>\n",
       "      <td>0.0</td>\n",
       "      <td>0.0</td>\n",
       "      <td>0.0</td>\n",
       "      <td>0.0</td>\n",
       "      <td>0.0</td>\n",
       "    </tr>\n",
       "  </tbody>\n",
       "</table>\n",
       "<p>5 rows × 122 columns</p>\n",
       "</div>"
      ],
      "text/plain": [
       "   SK_ID_CURR  TARGET NAME_CONTRACT_TYPE CODE_GENDER FLAG_OWN_CAR  \\\n",
       "0      100002       1         Cash loans           M            N   \n",
       "1      100003       0         Cash loans           F            N   \n",
       "2      100004       0    Revolving loans           M            Y   \n",
       "3      100006       0         Cash loans           F            N   \n",
       "4      100007       0         Cash loans           M            N   \n",
       "\n",
       "  FLAG_OWN_REALTY  CNT_CHILDREN  AMT_INCOME_TOTAL  AMT_CREDIT  AMT_ANNUITY  \\\n",
       "0               Y             0          202500.0    406597.5      24700.5   \n",
       "1               N             0          270000.0   1293502.5      35698.5   \n",
       "2               Y             0           67500.0    135000.0       6750.0   \n",
       "3               Y             0          135000.0    312682.5      29686.5   \n",
       "4               Y             0          121500.0    513000.0      21865.5   \n",
       "\n",
       "   ...  FLAG_DOCUMENT_18 FLAG_DOCUMENT_19 FLAG_DOCUMENT_20 FLAG_DOCUMENT_21  \\\n",
       "0  ...                 0                0                0                0   \n",
       "1  ...                 0                0                0                0   \n",
       "2  ...                 0                0                0                0   \n",
       "3  ...                 0                0                0                0   \n",
       "4  ...                 0                0                0                0   \n",
       "\n",
       "  AMT_REQ_CREDIT_BUREAU_HOUR AMT_REQ_CREDIT_BUREAU_DAY  \\\n",
       "0                        0.0                       0.0   \n",
       "1                        0.0                       0.0   \n",
       "2                        0.0                       0.0   \n",
       "3                        NaN                       NaN   \n",
       "4                        0.0                       0.0   \n",
       "\n",
       "   AMT_REQ_CREDIT_BUREAU_WEEK  AMT_REQ_CREDIT_BUREAU_MON  \\\n",
       "0                         0.0                        0.0   \n",
       "1                         0.0                        0.0   \n",
       "2                         0.0                        0.0   \n",
       "3                         NaN                        NaN   \n",
       "4                         0.0                        0.0   \n",
       "\n",
       "   AMT_REQ_CREDIT_BUREAU_QRT  AMT_REQ_CREDIT_BUREAU_YEAR  \n",
       "0                        0.0                         1.0  \n",
       "1                        0.0                         0.0  \n",
       "2                        0.0                         0.0  \n",
       "3                        NaN                         NaN  \n",
       "4                        0.0                         0.0  \n",
       "\n",
       "[5 rows x 122 columns]"
      ]
     },
     "execution_count": 2,
     "metadata": {},
     "output_type": "execute_result"
    }
   ],
   "source": [
    "# Training data\n",
    "app_train = pd.read_csv('dataset/application_train.csv')\n",
    "print('Training data shape: ', app_train.shape)\n",
    "app_train.head()"
   ]
  },
  {
   "cell_type": "markdown",
   "id": "liquid-samba",
   "metadata": {},
   "source": [
    "## DATASET APPLICATION"
   ]
  },
  {
   "cell_type": "code",
   "execution_count": 3,
   "id": "radio-quarterly",
   "metadata": {},
   "outputs": [
    {
     "data": {
      "text/plain": [
       "0    282686\n",
       "1     24825\n",
       "Name: TARGET, dtype: int64"
      ]
     },
     "execution_count": 3,
     "metadata": {},
     "output_type": "execute_result"
    }
   ],
   "source": [
    "app_train['TARGET'].value_counts()"
   ]
  },
  {
   "cell_type": "code",
   "execution_count": 4,
   "id": "crude-gasoline",
   "metadata": {},
   "outputs": [],
   "source": [
    "from sklearn.impute import SimpleImputer\n",
    "\n",
    "col_num = list(app_train.select_dtypes('float64').columns)\n",
    "imp_mean = SimpleImputer(missing_values=np.nan, strategy='mean', copy=False)\n",
    "app_train[col_num] = imp_mean.fit_transform(app_train[col_num])"
   ]
  },
  {
   "cell_type": "code",
   "execution_count": 5,
   "id": "growing-concentration",
   "metadata": {},
   "outputs": [],
   "source": [
    "col_num = list(app_train.select_dtypes('int64').columns)\n",
    "imp_meanN = SimpleImputer(missing_values=np.nan, strategy='mean', copy=False)\n",
    "app_train[col_num] = imp_meanN.fit_transform(app_train[col_num])"
   ]
  },
  {
   "cell_type": "code",
   "execution_count": 6,
   "id": "recorded-advance",
   "metadata": {},
   "outputs": [],
   "source": [
    "\n",
    "col_obj = list(app_train.select_dtypes('object').columns)\n",
    "imp_cons = SimpleImputer(missing_values=np.nan, strategy='constant', fill_value='NonRenseigne')\n",
    "app_train[col_obj] = imp_cons.fit_transform(app_train[col_obj])"
   ]
  },
  {
   "cell_type": "markdown",
   "id": "deluxe-funeral",
   "metadata": {},
   "source": [
    "## Label Encoding et One Hot Encoding"
   ]
  },
  {
   "cell_type": "code",
   "execution_count": 7,
   "id": "grateful-finger",
   "metadata": {},
   "outputs": [
    {
     "data": {
      "text/plain": [
       "float64    106\n",
       "object      16\n",
       "dtype: int64"
      ]
     },
     "execution_count": 7,
     "metadata": {},
     "output_type": "execute_result"
    }
   ],
   "source": [
    "# Number of each type of column\n",
    "app_train.dtypes.value_counts()"
   ]
  },
  {
   "cell_type": "code",
   "execution_count": 8,
   "id": "tracked-dragon",
   "metadata": {
    "_cell_guid": "70641d4d-1075-4837-8972-e58d70d8f242",
    "_uuid": "ddfaae5c3dcc7ec6bb47a2dffc10d364e8d25355"
   },
   "outputs": [
    {
     "name": "stdout",
     "output_type": "stream",
     "text": [
      "transformation colonne label encoding NAME_CONTRACT_TYPE.\n",
      "transformation colonne label encoding FLAG_OWN_CAR.\n",
      "transformation colonne label encoding FLAG_OWN_REALTY.\n",
      "3 columns were label encoded.\n"
     ]
    }
   ],
   "source": [
    "# Create a label encoder object\n",
    "le = LabelEncoder()\n",
    "le_count = 0\n",
    "\n",
    "# Iterate through the columns\n",
    "for col in app_train:\n",
    "    if app_train[col].dtype == 'object':\n",
    "        # If 2 or fewer unique categories\n",
    "        if len(list(app_train[col].unique())) <= 2:\n",
    "            # Train on the training data\n",
    "            app_train[col] = le.fit_transform(app_train[col])\n",
    "            print('transformation colonne label encoding %s.' % col)            \n",
    "            \n",
    "            # Keep track of how many columns were label encoded\n",
    "            le_count += 1\n",
    "            \n",
    "print('%d columns were label encoded.' % le_count)"
   ]
  },
  {
   "cell_type": "code",
   "execution_count": 9,
   "id": "worse-nightlife",
   "metadata": {
    "_cell_guid": "0851773b-39fd-4cf0-9a66-e30adeef3e57",
    "_uuid": "6796c6dc793a08e162b6e20c6f185ef37bdf51f3"
   },
   "outputs": [
    {
     "name": "stdout",
     "output_type": "stream",
     "text": [
      "Training Features shape avant :  (307511, 122)\n",
      "Training Features shape apres :  (307511, 249)\n"
     ]
    }
   ],
   "source": [
    "# one-hot encoding of categorical variables\n",
    "print('Training Features shape avant : ', app_train.shape)\n",
    "\n",
    "app_train = pd.get_dummies(app_train)\n",
    "\n",
    "print('Training Features shape apres : ', app_train.shape)"
   ]
  },
  {
   "cell_type": "code",
   "execution_count": 10,
   "id": "accepted-toyota",
   "metadata": {},
   "outputs": [
    {
     "data": {
      "text/plain": [
       "uint8      140\n",
       "float64    106\n",
       "int32        3\n",
       "dtype: int64"
      ]
     },
     "execution_count": 10,
     "metadata": {},
     "output_type": "execute_result"
    }
   ],
   "source": [
    "# Number of each type of column\n",
    "app_train.dtypes.value_counts()"
   ]
  },
  {
   "cell_type": "markdown",
   "id": "faced-petersburg",
   "metadata": {},
   "source": [
    "## retour analyse EDA"
   ]
  },
  {
   "cell_type": "code",
   "execution_count": 11,
   "id": "chubby-malpractice",
   "metadata": {
    "_uuid": "e23ec3cb89428f3dd994b572f718cc729740cfab"
   },
   "outputs": [
    {
     "data": {
      "text/plain": [
       "0    252137\n",
       "1     55374\n",
       "Name: DAYS_EMPLOYED_ANOM, dtype: int64"
      ]
     },
     "execution_count": 11,
     "metadata": {},
     "output_type": "execute_result"
    }
   ],
   "source": [
    "# Create an anomalous flag column\n",
    "app_train['DAYS_EMPLOYED_ANOM'] = ( app_train[\"DAYS_EMPLOYED\"] == 365243 ).map(int)\n",
    "\n",
    "# Replace the anomalous values with nan\n",
    "app_train['DAYS_EMPLOYED'].replace({365243: 0}, inplace = True)\n",
    "\n",
    "app_train['DAYS_EMPLOYED_ANOM'].value_counts()"
   ]
  },
  {
   "cell_type": "markdown",
   "id": "attached-mitchell",
   "metadata": {
    "_uuid": "9b27fad1522263c32b57a8127c84ad0e08ff9d8f"
   },
   "source": [
    "## Domain Knowledge Features\n",
    "\n",
    "Maybe it's not entirely correct to call this \"domain knowledge\" because I'm not a credit expert, but perhaps we could call this \"attempts at applying limited financial knowledge\". In this frame of mind, we can make a couple features that attempt to capture what we think may be important for telling whether a client will default on a loan. Here I'm going to use five features that were inspired by [this script](https://www.kaggle.com/jsaguiar/updated-0-792-lb-lightgbm-with-simple-features) by Aguiar:\n",
    "\n",
    "* `CREDIT_INCOME_PERCENT`: the percentage of the credit amount relative to a client's income | ratio total emprunt revenu\n",
    "* `ANNUITY_INCOME_PERCENT`: the percentage of the loan annuity relative to a client's income | taux endetemment\n",
    "* `CREDIT_TERM`:  the length of the payment in months (since the annuity is the monthly amount due\n",
    "* `DAYS_EMPLOYED_PERCENT`: the percentage of the days employed relative to the client's age\n",
    "\n",
    "Again, thanks to Aguiar and [his great script](https://www.kaggle.com/jsaguiar/updated-0-792-lb-lightgbm-with-simple-features) for exploring these features.\n",
    "\n"
   ]
  },
  {
   "cell_type": "code",
   "execution_count": 12,
   "id": "aquatic-willow",
   "metadata": {
    "_uuid": "c8d4b165b45da6c3120911de18e9348d8726c70c",
    "tags": []
   },
   "outputs": [],
   "source": [
    "app_train['CREDIT_INCOME_PERCENT'] = app_train['AMT_CREDIT'] / app_train['AMT_INCOME_TOTAL']\n",
    "app_train['ANNUITY_INCOME_PERCENT'] = app_train['AMT_ANNUITY'] / app_train['AMT_INCOME_TOTAL']\n",
    "app_train['CREDIT_TERM'] = app_train['AMT_ANNUITY'] / app_train['AMT_CREDIT']\n",
    "app_train['DAYS_EMPLOYED_PERCENT'] = app_train['DAYS_EMPLOYED'] / app_train['DAYS_BIRTH']"
   ]
  },
  {
   "cell_type": "code",
   "execution_count": 13,
   "id": "charitable-struggle",
   "metadata": {},
   "outputs": [
    {
     "data": {
      "text/html": [
       "<div>\n",
       "<style scoped>\n",
       "    .dataframe tbody tr th:only-of-type {\n",
       "        vertical-align: middle;\n",
       "    }\n",
       "\n",
       "    .dataframe tbody tr th {\n",
       "        vertical-align: top;\n",
       "    }\n",
       "\n",
       "    .dataframe thead th {\n",
       "        text-align: right;\n",
       "    }\n",
       "</style>\n",
       "<table border=\"1\" class=\"dataframe\">\n",
       "  <thead>\n",
       "    <tr style=\"text-align: right;\">\n",
       "      <th></th>\n",
       "      <th>AMT_CREDIT</th>\n",
       "      <th>AMT_INCOME_TOTAL</th>\n",
       "      <th>CREDIT_INCOME_PERCENT</th>\n",
       "      <th>AMT_ANNUITY</th>\n",
       "      <th>AMT_INCOME_TOTAL</th>\n",
       "      <th>ANNUITY_INCOME_PERCENT</th>\n",
       "      <th>AMT_ANNUITY</th>\n",
       "      <th>AMT_CREDIT</th>\n",
       "      <th>CREDIT_TERM</th>\n",
       "      <th>DAYS_EMPLOYED</th>\n",
       "      <th>DAYS_BIRTH</th>\n",
       "      <th>DAYS_EMPLOYED_PERCENT</th>\n",
       "    </tr>\n",
       "  </thead>\n",
       "  <tbody>\n",
       "    <tr>\n",
       "      <th>0</th>\n",
       "      <td>406597.5</td>\n",
       "      <td>202500.0</td>\n",
       "      <td>2.007889</td>\n",
       "      <td>24700.5</td>\n",
       "      <td>202500.0</td>\n",
       "      <td>0.121978</td>\n",
       "      <td>24700.5</td>\n",
       "      <td>406597.5</td>\n",
       "      <td>0.060749</td>\n",
       "      <td>-637.0</td>\n",
       "      <td>-9461.0</td>\n",
       "      <td>0.067329</td>\n",
       "    </tr>\n",
       "    <tr>\n",
       "      <th>1</th>\n",
       "      <td>1293502.5</td>\n",
       "      <td>270000.0</td>\n",
       "      <td>4.790750</td>\n",
       "      <td>35698.5</td>\n",
       "      <td>270000.0</td>\n",
       "      <td>0.132217</td>\n",
       "      <td>35698.5</td>\n",
       "      <td>1293502.5</td>\n",
       "      <td>0.027598</td>\n",
       "      <td>-1188.0</td>\n",
       "      <td>-16765.0</td>\n",
       "      <td>0.070862</td>\n",
       "    </tr>\n",
       "    <tr>\n",
       "      <th>2</th>\n",
       "      <td>135000.0</td>\n",
       "      <td>67500.0</td>\n",
       "      <td>2.000000</td>\n",
       "      <td>6750.0</td>\n",
       "      <td>67500.0</td>\n",
       "      <td>0.100000</td>\n",
       "      <td>6750.0</td>\n",
       "      <td>135000.0</td>\n",
       "      <td>0.050000</td>\n",
       "      <td>-225.0</td>\n",
       "      <td>-19046.0</td>\n",
       "      <td>0.011814</td>\n",
       "    </tr>\n",
       "    <tr>\n",
       "      <th>3</th>\n",
       "      <td>312682.5</td>\n",
       "      <td>135000.0</td>\n",
       "      <td>2.316167</td>\n",
       "      <td>29686.5</td>\n",
       "      <td>135000.0</td>\n",
       "      <td>0.219900</td>\n",
       "      <td>29686.5</td>\n",
       "      <td>312682.5</td>\n",
       "      <td>0.094941</td>\n",
       "      <td>-3039.0</td>\n",
       "      <td>-19005.0</td>\n",
       "      <td>0.159905</td>\n",
       "    </tr>\n",
       "    <tr>\n",
       "      <th>4</th>\n",
       "      <td>513000.0</td>\n",
       "      <td>121500.0</td>\n",
       "      <td>4.222222</td>\n",
       "      <td>21865.5</td>\n",
       "      <td>121500.0</td>\n",
       "      <td>0.179963</td>\n",
       "      <td>21865.5</td>\n",
       "      <td>513000.0</td>\n",
       "      <td>0.042623</td>\n",
       "      <td>-3038.0</td>\n",
       "      <td>-19932.0</td>\n",
       "      <td>0.152418</td>\n",
       "    </tr>\n",
       "    <tr>\n",
       "      <th>...</th>\n",
       "      <td>...</td>\n",
       "      <td>...</td>\n",
       "      <td>...</td>\n",
       "      <td>...</td>\n",
       "      <td>...</td>\n",
       "      <td>...</td>\n",
       "      <td>...</td>\n",
       "      <td>...</td>\n",
       "      <td>...</td>\n",
       "      <td>...</td>\n",
       "      <td>...</td>\n",
       "      <td>...</td>\n",
       "    </tr>\n",
       "    <tr>\n",
       "      <th>307506</th>\n",
       "      <td>254700.0</td>\n",
       "      <td>157500.0</td>\n",
       "      <td>1.617143</td>\n",
       "      <td>27558.0</td>\n",
       "      <td>157500.0</td>\n",
       "      <td>0.174971</td>\n",
       "      <td>27558.0</td>\n",
       "      <td>254700.0</td>\n",
       "      <td>0.108198</td>\n",
       "      <td>-236.0</td>\n",
       "      <td>-9327.0</td>\n",
       "      <td>0.025303</td>\n",
       "    </tr>\n",
       "    <tr>\n",
       "      <th>307507</th>\n",
       "      <td>269550.0</td>\n",
       "      <td>72000.0</td>\n",
       "      <td>3.743750</td>\n",
       "      <td>12001.5</td>\n",
       "      <td>72000.0</td>\n",
       "      <td>0.166687</td>\n",
       "      <td>12001.5</td>\n",
       "      <td>269550.0</td>\n",
       "      <td>0.044524</td>\n",
       "      <td>0.0</td>\n",
       "      <td>-20775.0</td>\n",
       "      <td>-0.000000</td>\n",
       "    </tr>\n",
       "    <tr>\n",
       "      <th>307508</th>\n",
       "      <td>677664.0</td>\n",
       "      <td>153000.0</td>\n",
       "      <td>4.429176</td>\n",
       "      <td>29979.0</td>\n",
       "      <td>153000.0</td>\n",
       "      <td>0.195941</td>\n",
       "      <td>29979.0</td>\n",
       "      <td>677664.0</td>\n",
       "      <td>0.044239</td>\n",
       "      <td>-7921.0</td>\n",
       "      <td>-14966.0</td>\n",
       "      <td>0.529266</td>\n",
       "    </tr>\n",
       "    <tr>\n",
       "      <th>307509</th>\n",
       "      <td>370107.0</td>\n",
       "      <td>171000.0</td>\n",
       "      <td>2.164368</td>\n",
       "      <td>20205.0</td>\n",
       "      <td>171000.0</td>\n",
       "      <td>0.118158</td>\n",
       "      <td>20205.0</td>\n",
       "      <td>370107.0</td>\n",
       "      <td>0.054592</td>\n",
       "      <td>-4786.0</td>\n",
       "      <td>-11961.0</td>\n",
       "      <td>0.400134</td>\n",
       "    </tr>\n",
       "    <tr>\n",
       "      <th>307510</th>\n",
       "      <td>675000.0</td>\n",
       "      <td>157500.0</td>\n",
       "      <td>4.285714</td>\n",
       "      <td>49117.5</td>\n",
       "      <td>157500.0</td>\n",
       "      <td>0.311857</td>\n",
       "      <td>49117.5</td>\n",
       "      <td>675000.0</td>\n",
       "      <td>0.072767</td>\n",
       "      <td>-1262.0</td>\n",
       "      <td>-16856.0</td>\n",
       "      <td>0.074869</td>\n",
       "    </tr>\n",
       "  </tbody>\n",
       "</table>\n",
       "<p>307511 rows × 12 columns</p>\n",
       "</div>"
      ],
      "text/plain": [
       "        AMT_CREDIT  AMT_INCOME_TOTAL  CREDIT_INCOME_PERCENT  AMT_ANNUITY  \\\n",
       "0         406597.5          202500.0               2.007889      24700.5   \n",
       "1        1293502.5          270000.0               4.790750      35698.5   \n",
       "2         135000.0           67500.0               2.000000       6750.0   \n",
       "3         312682.5          135000.0               2.316167      29686.5   \n",
       "4         513000.0          121500.0               4.222222      21865.5   \n",
       "...            ...               ...                    ...          ...   \n",
       "307506    254700.0          157500.0               1.617143      27558.0   \n",
       "307507    269550.0           72000.0               3.743750      12001.5   \n",
       "307508    677664.0          153000.0               4.429176      29979.0   \n",
       "307509    370107.0          171000.0               2.164368      20205.0   \n",
       "307510    675000.0          157500.0               4.285714      49117.5   \n",
       "\n",
       "        AMT_INCOME_TOTAL  ANNUITY_INCOME_PERCENT  AMT_ANNUITY  AMT_CREDIT  \\\n",
       "0               202500.0                0.121978      24700.5    406597.5   \n",
       "1               270000.0                0.132217      35698.5   1293502.5   \n",
       "2                67500.0                0.100000       6750.0    135000.0   \n",
       "3               135000.0                0.219900      29686.5    312682.5   \n",
       "4               121500.0                0.179963      21865.5    513000.0   \n",
       "...                  ...                     ...          ...         ...   \n",
       "307506          157500.0                0.174971      27558.0    254700.0   \n",
       "307507           72000.0                0.166687      12001.5    269550.0   \n",
       "307508          153000.0                0.195941      29979.0    677664.0   \n",
       "307509          171000.0                0.118158      20205.0    370107.0   \n",
       "307510          157500.0                0.311857      49117.5    675000.0   \n",
       "\n",
       "        CREDIT_TERM  DAYS_EMPLOYED  DAYS_BIRTH  DAYS_EMPLOYED_PERCENT  \n",
       "0          0.060749         -637.0     -9461.0               0.067329  \n",
       "1          0.027598        -1188.0    -16765.0               0.070862  \n",
       "2          0.050000         -225.0    -19046.0               0.011814  \n",
       "3          0.094941        -3039.0    -19005.0               0.159905  \n",
       "4          0.042623        -3038.0    -19932.0               0.152418  \n",
       "...             ...            ...         ...                    ...  \n",
       "307506     0.108198         -236.0     -9327.0               0.025303  \n",
       "307507     0.044524            0.0    -20775.0              -0.000000  \n",
       "307508     0.044239        -7921.0    -14966.0               0.529266  \n",
       "307509     0.054592        -4786.0    -11961.0               0.400134  \n",
       "307510     0.072767        -1262.0    -16856.0               0.074869  \n",
       "\n",
       "[307511 rows x 12 columns]"
      ]
     },
     "execution_count": 13,
     "metadata": {},
     "output_type": "execute_result"
    }
   ],
   "source": [
    "app_train[['AMT_CREDIT', 'AMT_INCOME_TOTAL', 'CREDIT_INCOME_PERCENT',\n",
    "           'AMT_ANNUITY','AMT_INCOME_TOTAL', 'ANNUITY_INCOME_PERCENT',\n",
    "           'AMT_ANNUITY', 'AMT_CREDIT','CREDIT_TERM',\n",
    "           'DAYS_EMPLOYED', 'DAYS_BIRTH', 'DAYS_EMPLOYED_PERCENT' ]]"
   ]
  },
  {
   "cell_type": "markdown",
   "id": "democratic-remedy",
   "metadata": {},
   "source": [
    "# Ajout des donnees exterieures"
   ]
  },
  {
   "cell_type": "code",
   "execution_count": 14,
   "id": "formal-excitement",
   "metadata": {
    "_cell_guid": "79c7e3d0-c299-4dcb-8224-4455121ee9b0",
    "_uuid": "d629ff2d2480ee46fbb7e2d37f6b5fab8052498a"
   },
   "outputs": [],
   "source": [
    "# Read in bureau\n",
    "bureau = pd.read_csv('dataset/bureau.csv')\n"
   ]
  },
  {
   "cell_type": "code",
   "execution_count": 15,
   "id": "unusual-rebate",
   "metadata": {
    "_uuid": "6665d87bd3a157c20fb5a383322aa153005cad2b"
   },
   "outputs": [
    {
     "data": {
      "text/html": [
       "<div>\n",
       "<style scoped>\n",
       "    .dataframe tbody tr th:only-of-type {\n",
       "        vertical-align: middle;\n",
       "    }\n",
       "\n",
       "    .dataframe tbody tr th {\n",
       "        vertical-align: top;\n",
       "    }\n",
       "\n",
       "    .dataframe thead th {\n",
       "        text-align: right;\n",
       "    }\n",
       "</style>\n",
       "<table border=\"1\" class=\"dataframe\">\n",
       "  <thead>\n",
       "    <tr style=\"text-align: right;\">\n",
       "      <th></th>\n",
       "      <th>SK_ID_CURR</th>\n",
       "      <th>previous_loan_counts</th>\n",
       "    </tr>\n",
       "  </thead>\n",
       "  <tbody>\n",
       "    <tr>\n",
       "      <th>0</th>\n",
       "      <td>100001</td>\n",
       "      <td>7</td>\n",
       "    </tr>\n",
       "    <tr>\n",
       "      <th>1</th>\n",
       "      <td>100002</td>\n",
       "      <td>8</td>\n",
       "    </tr>\n",
       "    <tr>\n",
       "      <th>2</th>\n",
       "      <td>100003</td>\n",
       "      <td>4</td>\n",
       "    </tr>\n",
       "    <tr>\n",
       "      <th>3</th>\n",
       "      <td>100004</td>\n",
       "      <td>2</td>\n",
       "    </tr>\n",
       "    <tr>\n",
       "      <th>4</th>\n",
       "      <td>100005</td>\n",
       "      <td>3</td>\n",
       "    </tr>\n",
       "  </tbody>\n",
       "</table>\n",
       "</div>"
      ],
      "text/plain": [
       "   SK_ID_CURR  previous_loan_counts\n",
       "0      100001                     7\n",
       "1      100002                     8\n",
       "2      100003                     4\n",
       "3      100004                     2\n",
       "4      100005                     3"
      ]
     },
     "execution_count": 15,
     "metadata": {},
     "output_type": "execute_result"
    }
   ],
   "source": [
    "# Groupby the client id (SK_ID_CURR), count the number of previous loans, and rename the column\n",
    "previous_loan_counts = bureau.groupby('SK_ID_CURR', as_index=False)['SK_ID_BUREAU'].count().rename(columns = {'SK_ID_BUREAU': 'previous_loan_counts'})\n",
    "previous_loan_counts.head()"
   ]
  },
  {
   "cell_type": "code",
   "execution_count": 16,
   "id": "humanitarian-stream",
   "metadata": {
    "_uuid": "1adcc4acb891adae8646211db629fb263660c2bb"
   },
   "outputs": [
    {
     "data": {
      "text/html": [
       "<div>\n",
       "<style scoped>\n",
       "    .dataframe tbody tr th:only-of-type {\n",
       "        vertical-align: middle;\n",
       "    }\n",
       "\n",
       "    .dataframe tbody tr th {\n",
       "        vertical-align: top;\n",
       "    }\n",
       "\n",
       "    .dataframe thead th {\n",
       "        text-align: right;\n",
       "    }\n",
       "</style>\n",
       "<table border=\"1\" class=\"dataframe\">\n",
       "  <thead>\n",
       "    <tr style=\"text-align: right;\">\n",
       "      <th></th>\n",
       "      <th>SK_ID_CURR</th>\n",
       "      <th>TARGET</th>\n",
       "      <th>NAME_CONTRACT_TYPE</th>\n",
       "      <th>FLAG_OWN_CAR</th>\n",
       "      <th>FLAG_OWN_REALTY</th>\n",
       "      <th>CNT_CHILDREN</th>\n",
       "      <th>AMT_INCOME_TOTAL</th>\n",
       "      <th>AMT_CREDIT</th>\n",
       "      <th>AMT_ANNUITY</th>\n",
       "      <th>AMT_GOODS_PRICE</th>\n",
       "      <th>...</th>\n",
       "      <th>WALLSMATERIAL_MODE_Wooden</th>\n",
       "      <th>EMERGENCYSTATE_MODE_No</th>\n",
       "      <th>EMERGENCYSTATE_MODE_NonRenseigne</th>\n",
       "      <th>EMERGENCYSTATE_MODE_Yes</th>\n",
       "      <th>DAYS_EMPLOYED_ANOM</th>\n",
       "      <th>CREDIT_INCOME_PERCENT</th>\n",
       "      <th>ANNUITY_INCOME_PERCENT</th>\n",
       "      <th>CREDIT_TERM</th>\n",
       "      <th>DAYS_EMPLOYED_PERCENT</th>\n",
       "      <th>previous_loan_counts</th>\n",
       "    </tr>\n",
       "  </thead>\n",
       "  <tbody>\n",
       "    <tr>\n",
       "      <th>0</th>\n",
       "      <td>100002.0</td>\n",
       "      <td>1.0</td>\n",
       "      <td>0</td>\n",
       "      <td>0</td>\n",
       "      <td>1</td>\n",
       "      <td>0.0</td>\n",
       "      <td>202500.0</td>\n",
       "      <td>406597.5</td>\n",
       "      <td>24700.5</td>\n",
       "      <td>351000.0</td>\n",
       "      <td>...</td>\n",
       "      <td>0</td>\n",
       "      <td>1</td>\n",
       "      <td>0</td>\n",
       "      <td>0</td>\n",
       "      <td>0</td>\n",
       "      <td>2.007889</td>\n",
       "      <td>0.121978</td>\n",
       "      <td>0.060749</td>\n",
       "      <td>0.067329</td>\n",
       "      <td>8.0</td>\n",
       "    </tr>\n",
       "    <tr>\n",
       "      <th>1</th>\n",
       "      <td>100003.0</td>\n",
       "      <td>0.0</td>\n",
       "      <td>0</td>\n",
       "      <td>0</td>\n",
       "      <td>0</td>\n",
       "      <td>0.0</td>\n",
       "      <td>270000.0</td>\n",
       "      <td>1293502.5</td>\n",
       "      <td>35698.5</td>\n",
       "      <td>1129500.0</td>\n",
       "      <td>...</td>\n",
       "      <td>0</td>\n",
       "      <td>1</td>\n",
       "      <td>0</td>\n",
       "      <td>0</td>\n",
       "      <td>0</td>\n",
       "      <td>4.790750</td>\n",
       "      <td>0.132217</td>\n",
       "      <td>0.027598</td>\n",
       "      <td>0.070862</td>\n",
       "      <td>4.0</td>\n",
       "    </tr>\n",
       "    <tr>\n",
       "      <th>2</th>\n",
       "      <td>100004.0</td>\n",
       "      <td>0.0</td>\n",
       "      <td>1</td>\n",
       "      <td>1</td>\n",
       "      <td>1</td>\n",
       "      <td>0.0</td>\n",
       "      <td>67500.0</td>\n",
       "      <td>135000.0</td>\n",
       "      <td>6750.0</td>\n",
       "      <td>135000.0</td>\n",
       "      <td>...</td>\n",
       "      <td>0</td>\n",
       "      <td>0</td>\n",
       "      <td>1</td>\n",
       "      <td>0</td>\n",
       "      <td>0</td>\n",
       "      <td>2.000000</td>\n",
       "      <td>0.100000</td>\n",
       "      <td>0.050000</td>\n",
       "      <td>0.011814</td>\n",
       "      <td>2.0</td>\n",
       "    </tr>\n",
       "    <tr>\n",
       "      <th>3</th>\n",
       "      <td>100006.0</td>\n",
       "      <td>0.0</td>\n",
       "      <td>0</td>\n",
       "      <td>0</td>\n",
       "      <td>1</td>\n",
       "      <td>0.0</td>\n",
       "      <td>135000.0</td>\n",
       "      <td>312682.5</td>\n",
       "      <td>29686.5</td>\n",
       "      <td>297000.0</td>\n",
       "      <td>...</td>\n",
       "      <td>0</td>\n",
       "      <td>0</td>\n",
       "      <td>1</td>\n",
       "      <td>0</td>\n",
       "      <td>0</td>\n",
       "      <td>2.316167</td>\n",
       "      <td>0.219900</td>\n",
       "      <td>0.094941</td>\n",
       "      <td>0.159905</td>\n",
       "      <td>0.0</td>\n",
       "    </tr>\n",
       "    <tr>\n",
       "      <th>4</th>\n",
       "      <td>100007.0</td>\n",
       "      <td>0.0</td>\n",
       "      <td>0</td>\n",
       "      <td>0</td>\n",
       "      <td>1</td>\n",
       "      <td>0.0</td>\n",
       "      <td>121500.0</td>\n",
       "      <td>513000.0</td>\n",
       "      <td>21865.5</td>\n",
       "      <td>513000.0</td>\n",
       "      <td>...</td>\n",
       "      <td>0</td>\n",
       "      <td>0</td>\n",
       "      <td>1</td>\n",
       "      <td>0</td>\n",
       "      <td>0</td>\n",
       "      <td>4.222222</td>\n",
       "      <td>0.179963</td>\n",
       "      <td>0.042623</td>\n",
       "      <td>0.152418</td>\n",
       "      <td>1.0</td>\n",
       "    </tr>\n",
       "  </tbody>\n",
       "</table>\n",
       "<p>5 rows × 255 columns</p>\n",
       "</div>"
      ],
      "text/plain": [
       "   SK_ID_CURR  TARGET  NAME_CONTRACT_TYPE  FLAG_OWN_CAR  FLAG_OWN_REALTY  \\\n",
       "0    100002.0     1.0                   0             0                1   \n",
       "1    100003.0     0.0                   0             0                0   \n",
       "2    100004.0     0.0                   1             1                1   \n",
       "3    100006.0     0.0                   0             0                1   \n",
       "4    100007.0     0.0                   0             0                1   \n",
       "\n",
       "   CNT_CHILDREN  AMT_INCOME_TOTAL  AMT_CREDIT  AMT_ANNUITY  AMT_GOODS_PRICE  \\\n",
       "0           0.0          202500.0    406597.5      24700.5         351000.0   \n",
       "1           0.0          270000.0   1293502.5      35698.5        1129500.0   \n",
       "2           0.0           67500.0    135000.0       6750.0         135000.0   \n",
       "3           0.0          135000.0    312682.5      29686.5         297000.0   \n",
       "4           0.0          121500.0    513000.0      21865.5         513000.0   \n",
       "\n",
       "   ...  WALLSMATERIAL_MODE_Wooden  EMERGENCYSTATE_MODE_No  \\\n",
       "0  ...                          0                       1   \n",
       "1  ...                          0                       1   \n",
       "2  ...                          0                       0   \n",
       "3  ...                          0                       0   \n",
       "4  ...                          0                       0   \n",
       "\n",
       "   EMERGENCYSTATE_MODE_NonRenseigne  EMERGENCYSTATE_MODE_Yes  \\\n",
       "0                                 0                        0   \n",
       "1                                 0                        0   \n",
       "2                                 1                        0   \n",
       "3                                 1                        0   \n",
       "4                                 1                        0   \n",
       "\n",
       "   DAYS_EMPLOYED_ANOM  CREDIT_INCOME_PERCENT  ANNUITY_INCOME_PERCENT  \\\n",
       "0                   0               2.007889                0.121978   \n",
       "1                   0               4.790750                0.132217   \n",
       "2                   0               2.000000                0.100000   \n",
       "3                   0               2.316167                0.219900   \n",
       "4                   0               4.222222                0.179963   \n",
       "\n",
       "   CREDIT_TERM  DAYS_EMPLOYED_PERCENT  previous_loan_counts  \n",
       "0     0.060749               0.067329                   8.0  \n",
       "1     0.027598               0.070862                   4.0  \n",
       "2     0.050000               0.011814                   2.0  \n",
       "3     0.094941               0.159905                   0.0  \n",
       "4     0.042623               0.152418                   1.0  \n",
       "\n",
       "[5 rows x 255 columns]"
      ]
     },
     "execution_count": 16,
     "metadata": {},
     "output_type": "execute_result"
    }
   ],
   "source": [
    "# Join to the training dataframe\n",
    "app_train = app_train.merge(previous_loan_counts, on = 'SK_ID_CURR', how = 'left')\n",
    "\n",
    "# Fill the missing values with 0 \n",
    "app_train['previous_loan_counts'] = app_train['previous_loan_counts'].fillna(0)\n",
    "app_train.head()"
   ]
  },
  {
   "cell_type": "code",
   "execution_count": 17,
   "id": "enclosed-supplement",
   "metadata": {},
   "outputs": [
    {
     "data": {
      "text/plain": [
       "SK_ID_CURR                0\n",
       "TARGET                    0\n",
       "NAME_CONTRACT_TYPE        0\n",
       "FLAG_OWN_CAR              0\n",
       "FLAG_OWN_REALTY           0\n",
       "                         ..\n",
       "CREDIT_INCOME_PERCENT     0\n",
       "ANNUITY_INCOME_PERCENT    0\n",
       "CREDIT_TERM               0\n",
       "DAYS_EMPLOYED_PERCENT     0\n",
       "previous_loan_counts      0\n",
       "Length: 255, dtype: int64"
      ]
     },
     "execution_count": 17,
     "metadata": {},
     "output_type": "execute_result"
    }
   ],
   "source": [
    "app_train.isna().sum()"
   ]
  },
  {
   "cell_type": "code",
   "execution_count": null,
   "id": "combined-society",
   "metadata": {},
   "outputs": [],
   "source": [
    "\n",
    "\n"
   ]
  },
  {
   "cell_type": "code",
   "execution_count": null,
   "id": "racial-approach",
   "metadata": {},
   "outputs": [],
   "source": []
  },
  {
   "cell_type": "markdown",
   "id": "received-medicine",
   "metadata": {},
   "source": [
    "# BASELINE"
   ]
  },
  {
   "cell_type": "code",
   "execution_count": 28,
   "id": "sublime-tourist",
   "metadata": {},
   "outputs": [],
   "source": [
    "import re\n",
    "from collections import Counter\n",
    "\n",
    "app_train = app_train.rename(columns = lambda x:re.sub('[^A-Za-z0-9_]+', '', x))\n",
    "\n",
    "X = app_train.drop(columns='TARGET').copy()\n",
    "y = app_train['TARGET'].copy()\n"
   ]
  },
  {
   "cell_type": "code",
   "execution_count": 29,
   "id": "infrared-louisiana",
   "metadata": {},
   "outputs": [],
   "source": [
    "from sklearn.model_selection import train_test_split\n",
    "\n",
    "X_train, X_val, y_train, y_val = train_test_split(X, y, test_size=0.2, stratify=y, random_state=1944)"
   ]
  },
  {
   "cell_type": "code",
   "execution_count": 30,
   "id": "acting-accounting",
   "metadata": {},
   "outputs": [
    {
     "name": "stdout",
     "output_type": "stream",
     "text": [
      "y_train Counter({0.0: 226148, 1.0: 19860})\n",
      "y_val Counter({0.0: 56538, 1.0: 4965})\n"
     ]
    }
   ],
   "source": [
    "print('y_train', Counter(y_train))\n",
    "print('y_val', Counter(y_val))"
   ]
  },
  {
   "cell_type": "markdown",
   "id": "hydraulic-playing",
   "metadata": {},
   "source": [
    "### definition metrique et fonction evaluation"
   ]
  },
  {
   "cell_type": "code",
   "execution_count": 31,
   "id": "forbidden-smile",
   "metadata": {},
   "outputs": [],
   "source": [
    "# il est important de faire ressortir les FNs car perte de capital\n",
    "# trouver les TP est interessant aussi car interet\n",
    "# les FP sont moins risqués car perte d'interet seulement\n",
    "def custom_metric(y, y_pred):\n",
    "    TP = np.sum( (y==1) & (y_pred==1) )\n",
    "    FP = np.sum( (y==0) & (y_pred==1) )\n",
    "    TN = np.sum( (y==0) & (y_pred==0) )\n",
    "    FN = np.sum( (y==1) & (y_pred==0) )\n",
    "# Fowlkes–Mallows index \n",
    "# https://en.wikipedia.org/wiki/Confusion_matrix\n",
    "# https://en.wikipedia.org/wiki/Fowlkes%E2%80%93Mallows_index\n",
    "# Positive predictive value PPV\n",
    "    PPV = TP / (TP + FP)\n",
    "# Positive predictive value TPR\n",
    "    TPR = TP / (TP + FN)\n",
    "    FMI = np.sqrt( PPV * TPR )\n",
    "    return FMI\n",
    "\n",
    "def custom_metric_f2(y, y_pred):\n",
    "    return fbeta_score(y, y_pred,2)"
   ]
  },
  {
   "cell_type": "code",
   "execution_count": 32,
   "id": "polished-extent",
   "metadata": {},
   "outputs": [],
   "source": [
    "from sklearn.metrics import make_scorer\n",
    "\n",
    "custom_scorer = make_scorer(custom_metric, greater_is_better=True )\n",
    "custom_scorer_f2 = make_scorer(custom_metric_f2, greater_is_better=True )"
   ]
  },
  {
   "cell_type": "code",
   "execution_count": 33,
   "id": "forbidden-desert",
   "metadata": {},
   "outputs": [],
   "source": [
    "from sklearn.metrics import classification_report, confusion_matrix, roc_auc_score, accuracy_score, f1_score, recall_score, precision_score\n",
    "from sklearn.metrics import precision_recall_curve, roc_curve, auc, fbeta_score\n",
    "\n",
    "def model_eval_score(model, Xval, yval):\n",
    "    yval_pred = model.predict(Xval)\n",
    "    conf_mat = confusion_matrix(yval, yval_pred)\n",
    "    print(conf_mat)\n",
    "    print(f'Accuracy score    : {accuracy_score(yval, yval_pred):.3}')\n",
    "    print(f'precision score   : {precision_score(yval, yval_pred):.3}')\n",
    "    print(f'recall score      : {recall_score(yval, yval_pred):.3}')\n",
    "    print(f'F1 score          : {f1_score(yval, yval_pred):.3}')\n",
    "    print(f'F2 score          : {fbeta_score(yval, yval_pred,2):.3}')\n",
    "    print(f'ROCAUC score      : {roc_auc_score(yval, yval_pred):.3}')\n",
    "    print(f'custom metric FMI : {custom_metric(yval, yval_pred):.3}')\n",
    "    print()\n",
    "\n",
    "def model_eval(model, Xval, yval):\n",
    "    model_eval_score(model, Xval, yval)\n",
    "    \n",
    "    yval_proba = model.predict_proba(Xval)[:, 1]\n",
    "    fpr, tpr, thresholds = roc_curve(yval, yval_proba)\n",
    "    roc_auc = auc(fpr, tpr)\n",
    "\n",
    "    plt.title('Receiver Operating Characteristic')\n",
    "    plt.plot(fpr, tpr, 'b', label = 'AUC = %0.2f' % roc_auc)\n",
    "    plt.legend(loc = 'lower right')\n",
    "    plt.plot([0, 1], [0, 1],'r--')\n",
    "    plt.xlim([0, 1])\n",
    "    plt.ylim([0, 1])\n",
    "    plt.ylabel('True Positive Rate')\n",
    "    plt.xlabel('False Positive Rate')\n",
    "    plt.show()\n"
   ]
  },
  {
   "cell_type": "code",
   "execution_count": null,
   "id": "union-cameroon",
   "metadata": {},
   "outputs": [],
   "source": []
  },
  {
   "cell_type": "markdown",
   "id": "convinced-happiness",
   "metadata": {},
   "source": [
    "## comparaison hasard Dummy"
   ]
  },
  {
   "cell_type": "code",
   "execution_count": 34,
   "id": "appreciated-heading",
   "metadata": {},
   "outputs": [
    {
     "name": "stdout",
     "output_type": "stream",
     "text": [
      "[[51859  4679]\n",
      " [ 4573   392]]\n",
      "Accuracy score    : 0.85\n",
      "precision score   : 0.0773\n",
      "recall score      : 0.079\n",
      "F1 score          : 0.0781\n",
      "F2 score          : 0.0786\n",
      "ROCAUC score      : 0.498\n",
      "custom metric FMI : 0.0781\n",
      "\n"
     ]
    },
    {
     "data": {
      "image/png": "[encoded data removed]",
      "text/plain": [
       "<Figure size 432x288 with 1 Axes>"
      ]
     },
     "metadata": {
      "needs_background": "light"
     },
     "output_type": "display_data"
    }
   ],
   "source": [
    "from sklearn.dummy import DummyClassifier\n",
    "\n",
    "dummyCls = DummyClassifier(strategy='stratified')\n",
    "dummyCls.fit(X_train, y_train)\n",
    "\n",
    "model_eval(dummyCls, X_val, y_val)"
   ]
  },
  {
   "cell_type": "markdown",
   "id": "consecutive-satellite",
   "metadata": {},
   "source": [
    "## Logistic regression"
   ]
  },
  {
   "cell_type": "code",
   "execution_count": 35,
   "id": "headed-discipline",
   "metadata": {},
   "outputs": [
    {
     "name": "stdout",
     "output_type": "stream",
     "text": [
      "[[56538     0]\n",
      " [ 4965     0]]\n",
      "Accuracy score    : 0.919\n",
      "precision score   : 0.0\n",
      "recall score      : 0.0\n",
      "F1 score          : 0.0\n",
      "F2 score          : 0.0\n",
      "ROCAUC score      : 0.5\n",
      "custom metric FMI : nan\n",
      "\n"
     ]
    },
    {
     "data": {
      "image/png": "[encoded data removed]",
      "text/plain": [
       "<Figure size 432x288 with 1 Axes>"
      ]
     },
     "metadata": {
      "needs_background": "light"
     },
     "output_type": "display_data"
    }
   ],
   "source": [
    "from sklearn.linear_model import LogisticRegression\n",
    "\n",
    "logis = LogisticRegression(solver='liblinear')\n",
    "logis.fit(X_train, y_train)\n",
    "\n",
    "model_eval(logis, X_val, y_val)"
   ]
  },
  {
   "cell_type": "code",
   "execution_count": null,
   "id": "developmental-bouquet",
   "metadata": {},
   "outputs": [],
   "source": []
  },
  {
   "cell_type": "markdown",
   "id": "appreciated-trauma",
   "metadata": {},
   "source": [
    "# gestion desequilibre\n",
    "https://www.analyticsvidhya.com/blog/2020/07/10-techniques-to-deal-with-class-imbalance-in-machine-learning/"
   ]
  },
  {
   "cell_type": "markdown",
   "id": "white-country",
   "metadata": {},
   "source": [
    "### gestion desequilibre\n",
    "essai sous echantillonage"
   ]
  },
  {
   "cell_type": "code",
   "execution_count": 27,
   "id": "decimal-spanking",
   "metadata": {},
   "outputs": [
    {
     "name": "stdout",
     "output_type": "stream",
     "text": [
      "Counter({0.0: 226148, 1.0: 19860})\n",
      "Counter({0.0: 19860, 1.0: 19860})\n"
     ]
    }
   ],
   "source": [
    "from imblearn.under_sampling import RandomUnderSampler\n",
    "\n",
    "sample = RandomUnderSampler(random_state=1944)\n",
    "\n",
    "# fit and apply the transform\n",
    "X_under, y_under = sample.fit_resample(X_train, y_train)\n",
    "\n",
    "print(Counter(y_train))\n",
    "print(Counter(y_under))\n"
   ]
  },
  {
   "cell_type": "code",
   "execution_count": 28,
   "id": "passing-damages",
   "metadata": {},
   "outputs": [
    {
     "name": "stdout",
     "output_type": "stream",
     "text": [
      "[[35285 21253]\n",
      " [ 2324  2641]]\n",
      "Accuracy score    : 0.617\n",
      "precision score   : 0.111\n",
      "recall score      : 0.532\n",
      "F1 score          : 0.183\n",
      "F2 score          : 0.302\n",
      "ROCAUC score      : 0.578\n",
      "custom metric FMI : 0.242\n",
      "\n"
     ]
    },
    {
     "data": {
      "image/png": "[encoded data removed]",
      "text/plain": [
       "<Figure size 432x288 with 1 Axes>"
      ]
     },
     "metadata": {
      "needs_background": "light"
     },
     "output_type": "display_data"
    }
   ],
   "source": [
    "logis_under = LogisticRegression(solver='liblinear')\n",
    "logis_under.fit(X_under, y_under)\n",
    "\n",
    "model_eval(logis_under, X_val, y_val)"
   ]
  },
  {
   "cell_type": "code",
   "execution_count": 29,
   "id": "indirect-nursing",
   "metadata": {},
   "outputs": [
    {
     "name": "stdout",
     "output_type": "stream",
     "text": [
      "Counter({0.0: 226148, 1.0: 19860})\n",
      "Counter({0.0: 19860, 1.0: 19860})\n"
     ]
    }
   ],
   "source": [
    "from imblearn.under_sampling import NearMiss\n",
    "\n",
    "\n",
    "sample_undermiss = NearMiss()\n",
    "\n",
    "# fit and apply the transform\n",
    "X_undermis, y_undermiss = sample_undermiss.fit_resample(X_train, y_train)\n",
    "\n",
    "print(Counter(y_train))\n",
    "print(Counter(y_undermiss))\n"
   ]
  },
  {
   "cell_type": "code",
   "execution_count": 30,
   "id": "split-delivery",
   "metadata": {},
   "outputs": [
    {
     "name": "stdout",
     "output_type": "stream",
     "text": [
      "[[24791 31747]\n",
      " [ 1740  3225]]\n",
      "Accuracy score    : 0.456\n",
      "precision score   : 0.0922\n",
      "recall score      : 0.65\n",
      "F1 score          : 0.162\n",
      "F2 score          : 0.294\n",
      "ROCAUC score      : 0.544\n",
      "custom metric FMI : 0.245\n",
      "\n"
     ]
    },
    {
     "data": {
      "image/png": "[encoded data removed]",
      "text/plain": [
       "<Figure size 432x288 with 1 Axes>"
      ]
     },
     "metadata": {
      "needs_background": "light"
     },
     "output_type": "display_data"
    }
   ],
   "source": [
    "logis_undermiss = LogisticRegression(solver='liblinear')\n",
    "logis_undermiss.fit(X_undermis, y_undermiss)\n",
    "\n",
    "model_eval(logis_undermiss, X_val, y_val)"
   ]
  },
  {
   "cell_type": "markdown",
   "id": "protective-spare",
   "metadata": {},
   "source": [
    "### gestion desequilibre\n",
    "essai surechantillonage"
   ]
  },
  {
   "cell_type": "code",
   "execution_count": 31,
   "id": "deadly-enzyme",
   "metadata": {},
   "outputs": [
    {
     "name": "stdout",
     "output_type": "stream",
     "text": [
      "Counter({0.0: 226148, 1.0: 19860})\n",
      "Counter({0.0: 226148, 1.0: 113074})\n"
     ]
    }
   ],
   "source": [
    "from imblearn.over_sampling import SMOTE\n",
    "\n",
    "sample = SMOTE(sampling_strategy=0.5, random_state=1944)\n",
    "\n",
    "# fit and apply the transform\n",
    "X_over, y_over = sample.fit_resample(X_train, y_train)\n",
    "\n",
    "print(Counter(y_train))\n",
    "print(Counter(y_over))\n"
   ]
  },
  {
   "cell_type": "code",
   "execution_count": 32,
   "id": "sunset-baptist",
   "metadata": {},
   "outputs": [
    {
     "name": "stdout",
     "output_type": "stream",
     "text": [
      "[[55414  1124]\n",
      " [ 4702   263]]\n",
      "Accuracy score    : 0.905\n",
      "precision score   : 0.19\n",
      "recall score      : 0.053\n",
      "F1 score          : 0.0828\n",
      "F2 score          : 0.0619\n",
      "ROCAUC score      : 0.517\n",
      "custom metric FMI : 0.1\n",
      "\n"
     ]
    },
    {
     "data": {
      "image/png": "[encoded data removed]",
      "text/plain": [
       "<Figure size 432x288 with 1 Axes>"
      ]
     },
     "metadata": {
      "needs_background": "light"
     },
     "output_type": "display_data"
    }
   ],
   "source": [
    "logis_over = LogisticRegression(solver='liblinear')\n",
    "logis_over.fit(X_over, y_over)\n",
    "\n",
    "model_eval(logis_over, X_val, y_val)"
   ]
  },
  {
   "cell_type": "markdown",
   "id": "contained-assessment",
   "metadata": {},
   "source": [
    "### gestion desequilibre\n",
    "essai melange sous-echantillonage et surechantillonage"
   ]
  },
  {
   "cell_type": "code",
   "execution_count": 33,
   "id": "invalid-twist",
   "metadata": {},
   "outputs": [
    {
     "name": "stdout",
     "output_type": "stream",
     "text": [
      "Counter({0.0: 226148, 1.0: 19860})\n",
      "Counter({1.0: 207302, 0.0: 139787})\n"
     ]
    }
   ],
   "source": [
    "from imblearn.combine import SMOTEENN\n",
    "\n",
    "sample = SMOTEENN(random_state=1944)\n",
    "\n",
    "# fit and apply the transform\n",
    "X_smote, y_smote = sample.fit_resample(X_train, y_train)\n",
    "\n",
    "print(Counter(y_train))\n",
    "print(Counter(y_smote))\n"
   ]
  },
  {
   "cell_type": "code",
   "execution_count": 34,
   "id": "documented-alarm",
   "metadata": {},
   "outputs": [
    {
     "name": "stdout",
     "output_type": "stream",
     "text": [
      "[[16729 39809]\n",
      " [  945  4020]]\n",
      "Accuracy score    : 0.337\n",
      "precision score   : 0.0917\n",
      "recall score      : 0.81\n",
      "F1 score          : 0.165\n",
      "F2 score          : 0.316\n",
      "ROCAUC score      : 0.553\n",
      "custom metric FMI : 0.273\n",
      "\n"
     ]
    },
    {
     "data": {
      "image/png": "[encoded data removed]",
      "text/plain": [
       "<Figure size 432x288 with 1 Axes>"
      ]
     },
     "metadata": {
      "needs_background": "light"
     },
     "output_type": "display_data"
    }
   ],
   "source": [
    "logis_smoteenn = LogisticRegression(solver='liblinear')\n",
    "logis_smoteenn.fit(X_smote, y_smote)\n",
    "\n",
    "model_eval(logis_smoteenn, X_val, y_val)"
   ]
  },
  {
   "cell_type": "code",
   "execution_count": null,
   "id": "improved-result",
   "metadata": {},
   "outputs": [],
   "source": []
  },
  {
   "cell_type": "code",
   "execution_count": null,
   "id": "placed-toronto",
   "metadata": {},
   "outputs": [],
   "source": []
  },
  {
   "cell_type": "markdown",
   "id": "referenced-writer",
   "metadata": {},
   "source": [
    "# Dectision Tree"
   ]
  },
  {
   "cell_type": "code",
   "execution_count": 35,
   "id": "worldwide-norwegian",
   "metadata": {},
   "outputs": [
    {
     "name": "stdout",
     "output_type": "stream",
     "text": [
      "[[51697  4841]\n",
      " [ 4150   815]]\n",
      "Accuracy score    : 0.854\n",
      "precision score   : 0.144\n",
      "recall score      : 0.164\n",
      "F1 score          : 0.153\n",
      "F2 score          : 0.16\n",
      "ROCAUC score      : 0.539\n",
      "custom metric FMI : 0.154\n",
      "\n"
     ]
    },
    {
     "data": {
      "image/png": "[encoded data removed]",
      "text/plain": [
       "<Figure size 432x288 with 1 Axes>"
      ]
     },
     "metadata": {
      "needs_background": "light"
     },
     "output_type": "display_data"
    }
   ],
   "source": [
    "from sklearn.tree import DecisionTreeClassifier\n",
    "\n",
    "dectree = DecisionTreeClassifier(random_state=1944)\n",
    "dectree.fit(X_train, y_train)\n",
    "model_eval(dectree, X_val, y_val)"
   ]
  },
  {
   "cell_type": "code",
   "execution_count": 36,
   "id": "medical-reasoning",
   "metadata": {},
   "outputs": [],
   "source": [
    "from imblearn.over_sampling import SMOTE\n",
    "\n",
    "sample_under = RandomUnderSampler(random_state=1944)\n",
    "sample_over = SMOTE(sampling_strategy=0.5, random_state=1944)\n",
    "sample_undermiss = NearMiss()\n",
    "sample = SMOTEENN(random_state=1944)\n",
    "\n",
    "\n",
    "# fit and apply the transform\n",
    "X_under, y_under = sample_under.fit_resample(X_train, y_train)\n",
    "X_undermis, y_undermiss = sample_undermiss.fit_resample(X_train, y_train)\n",
    "X_over, y_over = sample_over.fit_resample(X_train, y_train)\n",
    "X_smote, y_smote = sample.fit_resample(X_train, y_train)"
   ]
  },
  {
   "cell_type": "code",
   "execution_count": 37,
   "id": "economic-journalist",
   "metadata": {},
   "outputs": [
    {
     "data": {
      "text/plain": [
       "DecisionTreeClassifier(random_state=1944)"
      ]
     },
     "execution_count": 37,
     "metadata": {},
     "output_type": "execute_result"
    }
   ],
   "source": [
    "dectree_under = DecisionTreeClassifier(random_state=1944)\n",
    "dectree_undermiss = DecisionTreeClassifier(random_state=1944)\n",
    "dectree_over = DecisionTreeClassifier(random_state=1944)\n",
    "dectree_smoteenn = DecisionTreeClassifier(random_state=1944)\n",
    "\n",
    "dectree_under.fit(X_under, y_under)\n",
    "dectree_undermiss.fit(X_undermis, y_undermiss)\n",
    "dectree_over.fit(X_over, y_over)\n",
    "dectree_smoteenn.fit(X_smote, y_smote)\n"
   ]
  },
  {
   "cell_type": "code",
   "execution_count": 38,
   "id": "related-jonathan",
   "metadata": {},
   "outputs": [
    {
     "name": "stdout",
     "output_type": "stream",
     "text": [
      "[[33226 23312]\n",
      " [ 2052  2913]]\n",
      "Accuracy score    : 0.588\n",
      "precision score   : 0.111\n",
      "recall score      : 0.587\n",
      "F1 score          : 0.187\n",
      "F2 score          : 0.316\n",
      "ROCAUC score      : 0.587\n",
      "custom metric FMI : 0.255\n",
      "\n"
     ]
    },
    {
     "data": {
      "image/png": "[encoded data removed]",
      "text/plain": [
       "<Figure size 432x288 with 1 Axes>"
      ]
     },
     "metadata": {
      "needs_background": "light"
     },
     "output_type": "display_data"
    }
   ],
   "source": [
    "model_eval(dectree_under, X_val, y_val)"
   ]
  },
  {
   "cell_type": "code",
   "execution_count": 39,
   "id": "extra-porcelain",
   "metadata": {},
   "outputs": [
    {
     "name": "stdout",
     "output_type": "stream",
     "text": [
      "[[15496 41042]\n",
      " [ 1171  3794]]\n",
      "Accuracy score    : 0.314\n",
      "precision score   : 0.0846\n",
      "recall score      : 0.764\n",
      "F1 score          : 0.152\n",
      "F2 score          : 0.293\n",
      "ROCAUC score      : 0.519\n",
      "custom metric FMI : 0.254\n",
      "\n"
     ]
    },
    {
     "data": {
      "image/png": "[encoded data removed]",
      "text/plain": [
       "<Figure size 432x288 with 1 Axes>"
      ]
     },
     "metadata": {
      "needs_background": "light"
     },
     "output_type": "display_data"
    }
   ],
   "source": [
    "model_eval(dectree_undermiss, X_val, y_val)"
   ]
  },
  {
   "cell_type": "code",
   "execution_count": 40,
   "id": "average-pilot",
   "metadata": {},
   "outputs": [
    {
     "name": "stdout",
     "output_type": "stream",
     "text": [
      "[[51255  5283]\n",
      " [ 4105   860]]\n",
      "Accuracy score    : 0.847\n",
      "precision score   : 0.14\n",
      "recall score      : 0.173\n",
      "F1 score          : 0.155\n",
      "F2 score          : 0.165\n",
      "ROCAUC score      : 0.54\n",
      "custom metric FMI : 0.156\n",
      "\n"
     ]
    },
    {
     "data": {
      "image/png": "[encoded data removed]",
      "text/plain": [
       "<Figure size 432x288 with 1 Axes>"
      ]
     },
     "metadata": {
      "needs_background": "light"
     },
     "output_type": "display_data"
    }
   ],
   "source": [
    "model_eval(dectree_over, X_val, y_val)"
   ]
  },
  {
   "cell_type": "code",
   "execution_count": 41,
   "id": "protecting-handbook",
   "metadata": {},
   "outputs": [
    {
     "name": "stdout",
     "output_type": "stream",
     "text": [
      "[[48994  7544]\n",
      " [ 3831  1134]]\n",
      "Accuracy score    : 0.815\n",
      "precision score   : 0.131\n",
      "recall score      : 0.228\n",
      "F1 score          : 0.166\n",
      "F2 score          : 0.199\n",
      "ROCAUC score      : 0.547\n",
      "custom metric FMI : 0.173\n",
      "\n"
     ]
    },
    {
     "data": {
      "image/png": "[encoded data removed]",
      "text/plain": [
       "<Figure size 432x288 with 1 Axes>"
      ]
     },
     "metadata": {
      "needs_background": "light"
     },
     "output_type": "display_data"
    }
   ],
   "source": [
    "model_eval(dectree_smoteenn, X_val, y_val)"
   ]
  },
  {
   "cell_type": "code",
   "execution_count": null,
   "id": "bulgarian-polyester",
   "metadata": {},
   "outputs": [],
   "source": []
  },
  {
   "cell_type": "code",
   "execution_count": null,
   "id": "honest-pixel",
   "metadata": {},
   "outputs": [],
   "source": []
  },
  {
   "cell_type": "code",
   "execution_count": null,
   "id": "other-brooks",
   "metadata": {},
   "outputs": [],
   "source": []
  },
  {
   "cell_type": "code",
   "execution_count": null,
   "id": "complex-structure",
   "metadata": {},
   "outputs": [],
   "source": []
  },
  {
   "cell_type": "code",
   "execution_count": null,
   "id": "black-pulse",
   "metadata": {},
   "outputs": [],
   "source": []
  },
  {
   "cell_type": "code",
   "execution_count": null,
   "id": "brief-paraguay",
   "metadata": {},
   "outputs": [],
   "source": []
  },
  {
   "cell_type": "markdown",
   "id": "normal-relay",
   "metadata": {},
   "source": [
    "# RandomForest"
   ]
  },
  {
   "cell_type": "code",
   "execution_count": 42,
   "id": "internal-notebook",
   "metadata": {},
   "outputs": [
    {
     "name": "stdout",
     "output_type": "stream",
     "text": [
      "[[56538     0]\n",
      " [ 4965     0]]\n",
      "Accuracy score    : 0.919\n",
      "precision score   : 0.0\n",
      "recall score      : 0.0\n",
      "F1 score          : 0.0\n",
      "F2 score          : 0.0\n",
      "ROCAUC score      : 0.5\n",
      "custom metric FMI : nan\n",
      "\n"
     ]
    },
    {
     "data": {
      "image/png": "[encoded data removed]",
      "text/plain": [
       "<Figure size 432x288 with 1 Axes>"
      ]
     },
     "metadata": {
      "needs_background": "light"
     },
     "output_type": "display_data"
    }
   ],
   "source": [
    "from sklearn.ensemble import RandomForestClassifier\n",
    "\n",
    "randomForest = RandomForestClassifier(random_state=1944)\n",
    "\n",
    "randomForest.fit(X_train, y_train)\n",
    "model_eval(randomForest, X_val, y_val)"
   ]
  },
  {
   "cell_type": "code",
   "execution_count": 43,
   "id": "modular-bleeding",
   "metadata": {},
   "outputs": [
    {
     "name": "stdout",
     "output_type": "stream",
     "text": [
      "[[56519    19]\n",
      " [ 4943    22]]\n",
      "Accuracy score    : 0.919\n",
      "precision score   : 0.537\n",
      "recall score      : 0.00443\n",
      "F1 score          : 0.00879\n",
      "F2 score          : 0.00553\n",
      "ROCAUC score      : 0.502\n",
      "custom metric FMI : 0.0488\n",
      "\n"
     ]
    },
    {
     "data": {
      "image/png": "[encoded data removed]",
      "text/plain": [
       "<Figure size 432x288 with 1 Axes>"
      ]
     },
     "metadata": {
      "needs_background": "light"
     },
     "output_type": "display_data"
    }
   ],
   "source": [
    "randomForest_weight = RandomForestClassifier(random_state=1944, class_weight={0:10,1:1})\n",
    "\n",
    "randomForest_weight.fit(X_train, y_train)\n",
    "model_eval(randomForest_weight, X_val, y_val)"
   ]
  },
  {
   "cell_type": "code",
   "execution_count": 44,
   "id": "desperate-bedroom",
   "metadata": {},
   "outputs": [
    {
     "data": {
      "text/plain": [
       "RandomForestClassifier(random_state=1944)"
      ]
     },
     "execution_count": 44,
     "metadata": {},
     "output_type": "execute_result"
    }
   ],
   "source": [
    "randomForest_under = RandomForestClassifier(random_state=1944)\n",
    "randomForest_undermiss = RandomForestClassifier(random_state=1944)\n",
    "randomForest_over = RandomForestClassifier(random_state=1944)\n",
    "randomForest_smoteenn = RandomForestClassifier(random_state=1944)\n",
    "\n",
    "randomForest_under.fit(X_under, y_under)\n",
    "randomForest_undermiss.fit(X_undermis, y_undermiss)\n",
    "randomForest_over.fit(X_over, y_over)\n",
    "randomForest_smoteenn.fit(X_smote, y_smote)\n"
   ]
  },
  {
   "cell_type": "code",
   "execution_count": 45,
   "id": "failing-consideration",
   "metadata": {},
   "outputs": [
    {
     "name": "stdout",
     "output_type": "stream",
     "text": [
      "[[39506 17032]\n",
      " [ 1763  3202]]\n",
      "Accuracy score    : 0.694\n",
      "precision score   : 0.158\n",
      "recall score      : 0.645\n",
      "F1 score          : 0.254\n",
      "F2 score          : 0.399\n",
      "ROCAUC score      : 0.672\n",
      "custom metric FMI : 0.319\n",
      "\n"
     ]
    },
    {
     "data": {
      "image/png": "[encoded data removed]",
      "text/plain": [
       "<Figure size 432x288 with 1 Axes>"
      ]
     },
     "metadata": {
      "needs_background": "light"
     },
     "output_type": "display_data"
    }
   ],
   "source": [
    "model_eval(randomForest_under, X_val, y_val)"
   ]
  },
  {
   "cell_type": "code",
   "execution_count": 46,
   "id": "decent-filter",
   "metadata": {},
   "outputs": [
    {
     "name": "stdout",
     "output_type": "stream",
     "text": [
      "[[16187 40351]\n",
      " [  991  3974]]\n",
      "Accuracy score    : 0.328\n",
      "precision score   : 0.0897\n",
      "recall score      : 0.8\n",
      "F1 score          : 0.161\n",
      "F2 score          : 0.31\n",
      "ROCAUC score      : 0.543\n",
      "custom metric FMI : 0.268\n",
      "\n"
     ]
    },
    {
     "data": {
      "image/png": "[encoded data removed]",
      "text/plain": [
       "<Figure size 432x288 with 1 Axes>"
      ]
     },
     "metadata": {
      "needs_background": "light"
     },
     "output_type": "display_data"
    }
   ],
   "source": [
    "model_eval(randomForest_undermiss, X_val, y_val)"
   ]
  },
  {
   "cell_type": "code",
   "execution_count": 47,
   "id": "fuzzy-defense",
   "metadata": {},
   "outputs": [
    {
     "name": "stdout",
     "output_type": "stream",
     "text": [
      "[[56538     0]\n",
      " [ 4963     2]]\n",
      "Accuracy score    : 0.919\n",
      "precision score   : 1.0\n",
      "recall score      : 0.000403\n",
      "F1 score          : 0.000805\n",
      "F2 score          : 0.000503\n",
      "ROCAUC score      : 0.5\n",
      "custom metric FMI : 0.0201\n",
      "\n"
     ]
    },
    {
     "data": {
      "image/png": "[encoded data removed]",
      "text/plain": [
       "<Figure size 432x288 with 1 Axes>"
      ]
     },
     "metadata": {
      "needs_background": "light"
     },
     "output_type": "display_data"
    }
   ],
   "source": [
    "model_eval(randomForest_over, X_val, y_val)"
   ]
  },
  {
   "cell_type": "code",
   "execution_count": 48,
   "id": "collected-preserve",
   "metadata": {},
   "outputs": [
    {
     "name": "stdout",
     "output_type": "stream",
     "text": [
      "[[56464    74]\n",
      " [ 4911    54]]\n",
      "Accuracy score    : 0.919\n",
      "precision score   : 0.422\n",
      "recall score      : 0.0109\n",
      "F1 score          : 0.0212\n",
      "F2 score          : 0.0135\n",
      "ROCAUC score      : 0.505\n",
      "custom metric FMI : 0.0677\n",
      "\n"
     ]
    },
    {
     "data": {
      "image/png": "[encoded data removed]",
      "text/plain": [
       "<Figure size 432x288 with 1 Axes>"
      ]
     },
     "metadata": {
      "needs_background": "light"
     },
     "output_type": "display_data"
    }
   ],
   "source": [
    "model_eval(randomForest_smoteenn, X_val, y_val)"
   ]
  },
  {
   "cell_type": "markdown",
   "id": "integrated-jacksonville",
   "metadata": {},
   "source": [
    "### a priori RandomForest avec strategie d'underFitting semble la plus prometteuse"
   ]
  },
  {
   "cell_type": "code",
   "execution_count": 49,
   "id": "streaming-fireplace",
   "metadata": {},
   "outputs": [
    {
     "name": "stdout",
     "output_type": "stream",
     "text": [
      "[[51889  4649]\n",
      " [ 4543   422]]\n",
      "Accuracy score    : 0.851\n",
      "precision score   : 0.0832\n",
      "recall score      : 0.085\n",
      "F1 score          : 0.0841\n",
      "F2 score          : 0.0846\n",
      "ROCAUC score      : 0.501\n",
      "custom metric FMI : 0.0841\n",
      "\n"
     ]
    }
   ],
   "source": [
    "model_eval_score(dummyCls, X_val, y_val)"
   ]
  },
  {
   "cell_type": "code",
   "execution_count": 50,
   "id": "laughing-bacteria",
   "metadata": {},
   "outputs": [
    {
     "name": "stdout",
     "output_type": "stream",
     "text": [
      "[[35285 21253]\n",
      " [ 2324  2641]]\n",
      "Accuracy score    : 0.617\n",
      "precision score   : 0.111\n",
      "recall score      : 0.532\n",
      "F1 score          : 0.183\n",
      "F2 score          : 0.302\n",
      "ROCAUC score      : 0.578\n",
      "custom metric FMI : 0.242\n",
      "\n"
     ]
    }
   ],
   "source": [
    "model_eval_score(logis_under, X_val, y_val)"
   ]
  },
  {
   "cell_type": "code",
   "execution_count": 51,
   "id": "floppy-spray",
   "metadata": {},
   "outputs": [
    {
     "name": "stdout",
     "output_type": "stream",
     "text": [
      "[[33226 23312]\n",
      " [ 2052  2913]]\n",
      "Accuracy score    : 0.588\n",
      "precision score   : 0.111\n",
      "recall score      : 0.587\n",
      "F1 score          : 0.187\n",
      "F2 score          : 0.316\n",
      "ROCAUC score      : 0.587\n",
      "custom metric FMI : 0.255\n",
      "\n"
     ]
    }
   ],
   "source": [
    "model_eval_score(dectree_under, X_val, y_val)"
   ]
  },
  {
   "cell_type": "code",
   "execution_count": 52,
   "id": "southeast-budget",
   "metadata": {},
   "outputs": [
    {
     "name": "stdout",
     "output_type": "stream",
     "text": [
      "[[39506 17032]\n",
      " [ 1763  3202]]\n",
      "Accuracy score    : 0.694\n",
      "precision score   : 0.158\n",
      "recall score      : 0.645\n",
      "F1 score          : 0.254\n",
      "F2 score          : 0.399\n",
      "ROCAUC score      : 0.672\n",
      "custom metric FMI : 0.319\n",
      "\n"
     ]
    }
   ],
   "source": [
    "model_eval_score(randomForest_under, X_val, y_val)"
   ]
  },
  {
   "cell_type": "code",
   "execution_count": 54,
   "id": "hidden-simpson",
   "metadata": {},
   "outputs": [
    {
     "name": "stdout",
     "output_type": "stream",
     "text": [
      "{'n_estimators': [200, 400, 600, 800, 1000, 1200, 1400, 1600, 1800, 2000], 'max_features': ['auto', 'sqrt'], 'max_depth': [10, 20, 30, 40, 50, 60, 70, 80, 90, 100, 110], 'min_samples_split': [2, 5, 10], 'min_samples_leaf': [1, 2, 4], 'bootstrap': [True, False]}\n",
      "Fitting 3 folds for each of 50 candidates, totalling 150 fits\n"
     ]
    },
    {
     "name": "stderr",
     "output_type": "stream",
     "text": [
      "[Parallel(n_jobs=-1)]: Using backend LokyBackend with 4 concurrent workers.\n",
      "[Parallel(n_jobs=-1)]: Done  33 tasks      | elapsed: 20.3min\n",
      "[Parallel(n_jobs=-1)]: Done 150 out of 150 | elapsed: 99.3min finished\n"
     ]
    },
    {
     "name": "stdout",
     "output_type": "stream",
     "text": [
      "{'n_estimators': 1800, 'min_samples_split': 10, 'min_samples_leaf': 4, 'max_features': 'sqrt', 'max_depth': 30, 'bootstrap': False}\n"
     ]
    }
   ],
   "source": [
    "from sklearn.model_selection import RandomizedSearchCV\n",
    "\n",
    "random_grid_Forest = {'n_estimators': [int(x) for x in np.linspace(start = 200, stop = 2000, num = 10)],\n",
    "               'max_features':  ['auto', 'sqrt'],\n",
    "               'max_depth': [int(x) for x in np.linspace(10, 110, num = 11)],\n",
    "               'min_samples_split': [2, 5, 10],\n",
    "               'min_samples_leaf': [1, 2, 4],\n",
    "               'bootstrap': [True, False]}\n",
    "print(random_grid_Forest)\n",
    "\n",
    "# Random search of parameters, using 3 fold cross validation, \n",
    "# search across 100 different combinations, and use all available cores\n",
    "rgf_random = RandomizedSearchCV(estimator = RandomForestClassifier(random_state=1944), param_distributions = random_grid_Forest, scoring=custom_scorer, n_iter = 50, cv = 3, verbose=2, n_jobs = -1)\n",
    "# Fit the random search model\n",
    "rgf_random.fit(X_under, y_under)\n",
    "\n",
    "print(rgf_random.best_params_)"
   ]
  },
  {
   "cell_type": "code",
   "execution_count": 55,
   "id": "broken-deficit",
   "metadata": {},
   "outputs": [
    {
     "name": "stdout",
     "output_type": "stream",
     "text": [
      "[[39305 17233]\n",
      " [ 1624  3341]]\n",
      "Accuracy score    : 0.693\n",
      "precision score   : 0.162\n",
      "recall score      : 0.673\n",
      "F1 score          : 0.262\n",
      "F2 score          : 0.413\n",
      "ROCAUC score      : 0.684\n",
      "custom metric FMI : 0.331\n",
      "\n"
     ]
    },
    {
     "data": {
      "image/png": "[encoded data removed]",
      "text/plain": [
       "<Figure size 432x288 with 1 Axes>"
      ]
     },
     "metadata": {
      "needs_background": "light"
     },
     "output_type": "display_data"
    }
   ],
   "source": [
    "randomForest_under_random = RandomForestClassifier(random_state=1944, n_estimators = 1800, min_samples_split = 10,\n",
    "                                                   min_samples_leaf = 4, max_features = 'sqrt', max_depth = 30, bootstrap = False)\n",
    "randomForest_under_random.fit(X_under, y_under)\n",
    "model_eval(randomForest_under_random, X_val, y_val)"
   ]
  },
  {
   "cell_type": "code",
   "execution_count": 52,
   "id": "coated-toner",
   "metadata": {},
   "outputs": [
    {
     "name": "stdout",
     "output_type": "stream",
     "text": [
      "[[39506 17032]\n",
      " [ 1763  3202]]\n",
      "Accuracy score    : 0.694\n",
      "precision score   : 0.158\n",
      "recall score      : 0.645\n",
      "F1 score          : 0.254\n",
      "F2 score          : 0.399\n",
      "ROCAUC score      : 0.672\n",
      "custom metric FMI : 0.319\n",
      "\n"
     ]
    }
   ],
   "source": [
    "model_eval_score(randomForest_under, X_val, y_val)"
   ]
  },
  {
   "cell_type": "code",
   "execution_count": null,
   "id": "closing-terrace",
   "metadata": {},
   "outputs": [],
   "source": []
  },
  {
   "cell_type": "markdown",
   "id": "lightweight-explorer",
   "metadata": {},
   "source": [
    "# BOOSTING"
   ]
  },
  {
   "cell_type": "code",
   "execution_count": 37,
   "id": "boolean-information",
   "metadata": {},
   "outputs": [
    {
     "name": "stdout",
     "output_type": "stream",
     "text": [
      "Training until validation scores don't improve for 200 rounds\n",
      "Did not meet early stopping. Best iteration is:\n",
      "[100]\ttraining's auc: 0.804936\ttraining's binary_logloss: 0.546661\tvalid_1's auc: 0.763736\tvalid_1's binary_logloss: 0.556667\n"
     ]
    },
    {
     "data": {
      "text/plain": [
       "LGBMClassifier(is_unbalance=True)"
      ]
     },
     "execution_count": 37,
     "metadata": {},
     "output_type": "execute_result"
    }
   ],
   "source": [
    "from lightgbm import LGBMClassifier\n",
    "\n",
    "lgbmc10 = LGBMClassifier(is_unbalance=True)\n",
    "\n",
    "lgbmc10.fit(X_train, y_train, eval_set=[(X_train, y_train), (X_val, y_val)], \n",
    "    eval_metric= 'auc', verbose= 200, early_stopping_rounds= 200)"
   ]
  },
  {
   "cell_type": "code",
   "execution_count": 38,
   "id": "informational-nicholas",
   "metadata": {},
   "outputs": [
    {
     "name": "stdout",
     "output_type": "stream",
     "text": [
      "[[40141 16397]\n",
      " [ 1568  3397]]\n",
      "Accuracy score    : 0.708\n",
      "precision score   : 0.172\n",
      "recall score      : 0.684\n",
      "F1 score          : 0.274\n",
      "F2 score          : 0.428\n",
      "ROCAUC score      : 0.697\n",
      "custom metric FMI : 0.343\n",
      "\n"
     ]
    },
    {
     "data": {
      "image/png": "[encoded data removed]",
      "text/plain": [
       "<Figure size 432x288 with 1 Axes>"
      ]
     },
     "metadata": {
      "needs_background": "light"
     },
     "output_type": "display_data"
    }
   ],
   "source": [
    "model_eval(lgbmc10, X_val, y_val)"
   ]
  },
  {
   "cell_type": "code",
   "execution_count": 39,
   "id": "typical-spare",
   "metadata": {},
   "outputs": [
    {
     "data": {
      "text/plain": [
       "('F2 Score', 0.42833005497553833, True)"
      ]
     },
     "execution_count": 39,
     "metadata": {},
     "output_type": "execute_result"
    }
   ],
   "source": [
    "\n",
    "def custom_lightgbm_valid(y_true, y_pred):\n",
    "    TP = np.sum( (y_true==1) & (y_pred==1) )\n",
    "    FP = np.sum( (y_true==0) & (y_pred==1) )\n",
    "    TN = np.sum( (y_true==0) & (y_pred==0) )\n",
    "    FN = np.sum( (y_true==1) & (y_pred==0) )\n",
    "    precision  = TP / ( TP + FP )\n",
    "    recall  = TP / ( TP + FN )\n",
    "    f1_score = 2 * precision * recall / (precision + recall)\n",
    "    f2_score = (5 * precision * recall) / (4 * precision + recall)\n",
    "    return \"F2 Score\", f2_score, True\n",
    " \n",
    "y_pred = lgbmc10.predict(X_val)\n",
    "custom_lightgbm_valid(y_val, y_pred)"
   ]
  },
  {
   "cell_type": "code",
   "execution_count": 40,
   "id": "labeled-angola",
   "metadata": {},
   "outputs": [
    {
     "name": "stdout",
     "output_type": "stream",
     "text": [
      "0.42833005497553833\n"
     ]
    }
   ],
   "source": [
    "from sklearn.metrics import make_scorer\n",
    "\n",
    "def custom_metric_light_gbm(y, y_pred):\n",
    "    chaine, f2_score, dum = custom_lightgbm_valid(y, y_pred)\n",
    "    return f2_score\n",
    "\n",
    "y_pred = lgbmc10.predict(X_val)\n",
    "print(custom_metric_light_gbm(y_val, y_pred))\n",
    "\n",
    "custom_scorer_lgbm_f2 = make_scorer(custom_metric_light_gbm, greater_is_better=True )"
   ]
  },
  {
   "cell_type": "code",
   "execution_count": 41,
   "id": "typical-tender",
   "metadata": {},
   "outputs": [
    {
     "name": "stdout",
     "output_type": "stream",
     "text": [
      "[[40141 16397]\n",
      " [ 1568  3397]]\n",
      "Accuracy score    : 0.708\n",
      "precision score   : 0.172\n",
      "recall score      : 0.684\n",
      "F1 score          : 0.274\n",
      "F2 score          : 0.428\n",
      "ROCAUC score      : 0.697\n",
      "custom metric FMI : 0.343\n",
      "\n"
     ]
    },
    {
     "data": {
      "image/png": "[encoded data removed]",
      "text/plain": [
       "<Figure size 432x288 with 1 Axes>"
      ]
     },
     "metadata": {
      "needs_background": "light"
     },
     "output_type": "display_data"
    }
   ],
   "source": [
    "lgbmc10_custom = LGBMClassifier(is_unbalance=True)\n",
    "\n",
    "lgbmc10_custom.fit(X_train, y_train, eval_set=[(X_train, y_train), (X_val, y_val)], \n",
    "    eval_metric= custom_lightgbm_valid, verbose= 200)\n",
    "\n",
    "model_eval(lgbmc10_custom, X_val, y_val)"
   ]
  },
  {
   "cell_type": "code",
   "execution_count": 62,
   "id": "essential-aspect",
   "metadata": {},
   "outputs": [
    {
     "name": "stdout",
     "output_type": "stream",
     "text": [
      "{'num_leaves': array([ 50, 100, 150, 200, 250, 300, 350, 400, 450]), 'min_child_samples': array([100, 200, 300, 400]), 'min_child_weight': [1e-05, 0.001, 0.01, 0.1, 1, 10.0, 100.0, 1000.0, 10000.0], 'subsample': array([0.2, 0.3, 0.4, 0.5, 0.6, 0.7, 0.8, 0.9]), 'colsample_bytree': array([0.2, 0.3, 0.4, 0.5, 0.6, 0.7, 0.8, 0.9]), 'reg_alpha': [0, 0.1, 1, 2, 5, 7, 10, 50, 100], 'reg_lambda': [0, 0.1, 1, 5, 10, 20, 50, 100]}\n",
      "Fitting 3 folds for each of 50 candidates, totalling 150 fits\n"
     ]
    },
    {
     "name": "stderr",
     "output_type": "stream",
     "text": [
      "[Parallel(n_jobs=-1)]: Using backend LokyBackend with 4 concurrent workers.\n",
      "[Parallel(n_jobs=-1)]: Done  24 tasks      | elapsed:  1.9min\n",
      "[Parallel(n_jobs=-1)]: Done 120 tasks      | elapsed:  8.5min\n",
      "[Parallel(n_jobs=-1)]: Done 150 out of 150 | elapsed: 10.8min finished\n"
     ]
    },
    {
     "name": "stdout",
     "output_type": "stream",
     "text": [
      "{'subsample': 0.8000000000000003, 'reg_lambda': 100, 'reg_alpha': 0, 'num_leaves': 50, 'min_child_weight': 100.0, 'min_child_samples': 400, 'colsample_bytree': 0.30000000000000004}\n",
      "[[40514 16024]\n",
      " [ 1604  3361]]\n",
      "Accuracy score    : 0.713\n",
      "precision score   : 0.173\n",
      "recall score      : 0.677\n",
      "F1 score          : 0.276\n",
      "F2 score          : 0.428\n",
      "ROCAUC score      : 0.697\n",
      "custom metric FMI : 0.343\n",
      "\n"
     ]
    },
    {
     "data": {
      "image/png": "[encoded data removed]",
      "text/plain": [
       "<Figure size 432x288 with 1 Axes>"
      ]
     },
     "metadata": {
      "needs_background": "light"
     },
     "output_type": "display_data"
    }
   ],
   "source": [
    "from sklearn.model_selection import RandomizedSearchCV\n",
    "\n",
    "random_grid ={\n",
    "            'num_leaves': np.arange(50,500,50),\n",
    "            'min_child_samples': np.arange(100,500,100), \n",
    "            'min_child_weight': [1e-5, 1e-3, 1e-2, 1e-1, 1, 1e1, 1e2, 1e3, 1e4],\n",
    "            'subsample': np.arange(0.2,1,.1), \n",
    "            'colsample_bytree': np.arange(0.2,1,.1),\n",
    "            'reg_alpha': [0, 1e-1, 1, 2, 5, 7, 10, 50, 100],\n",
    "            'reg_lambda': [0, 1e-1, 1, 5, 10, 20, 50, 100]}\n",
    "\n",
    "print(random_grid)\n",
    "\n",
    "# Random search of parameters, using 3 fold cross validation, \n",
    "# search across 100 different combinations, and use all available cores\n",
    "lgbm_random = RandomizedSearchCV(estimator = LGBMClassifier(is_unbalance=True, objective = 'binary', metric = 'auc'), scoring=custom_scorer_lgbm_f2, param_distributions = random_grid, n_iter = 50, cv = 3, verbose=3, n_jobs = -1)\n",
    "# Fit the random search model\n",
    "lgbm_random.fit(X_train, y_train)\n",
    "\n",
    "print(lgbm_random.best_params_)\n",
    "\n",
    "model_eval(lgbm_random.best_estimator_, X_val, y_val)"
   ]
  },
  {
   "cell_type": "code",
   "execution_count": 70,
   "id": "mobile-thriller",
   "metadata": {},
   "outputs": [
    {
     "data": {
      "text/plain": [
       "LGBMClassifier(colsample_bytree=0.3, is_unbalance=True, metric='auc',\n",
       "               min_child_samples=400, min_child_weight=100, num_leaves=50,\n",
       "               objective='binary', reg_lambda=100, subsample=0.8)"
      ]
     },
     "execution_count": 70,
     "metadata": {},
     "output_type": "execute_result"
    }
   ],
   "source": [
    "lgbmc10_randomCV = LGBMClassifier(is_unbalance=True, objective = 'binary', metric = 'auc', subsample = 0.8, reg_lambda = 100, num_leaves = 50,\n",
    "                                  min_child_weight = 100, min_child_samples = 400, colsample_bytree = 0.3)\n",
    "\n",
    "lgbmc10_randomCV.fit(X_train, y_train, eval_metric= 'auc', verbose= 200)"
   ]
  },
  {
   "cell_type": "code",
   "execution_count": 71,
   "id": "bizarre-cleaning",
   "metadata": {},
   "outputs": [
    {
     "name": "stdout",
     "output_type": "stream",
     "text": [
      "[[40514 16024]\n",
      " [ 1604  3361]]\n",
      "Accuracy score    : 0.713\n",
      "precision score   : 0.173\n",
      "recall score      : 0.677\n",
      "F1 score          : 0.276\n",
      "F2 score          : 0.428\n",
      "ROCAUC score      : 0.697\n",
      "custom metric FMI : 0.343\n",
      "\n"
     ]
    },
    {
     "data": {
      "image/png": "[encoded data removed]",
      "text/plain": [
       "<Figure size 432x288 with 1 Axes>"
      ]
     },
     "metadata": {
      "needs_background": "light"
     },
     "output_type": "display_data"
    }
   ],
   "source": [
    "model_eval(lgbmc10_randomCV, X_val, y_val)"
   ]
  },
  {
   "cell_type": "code",
   "execution_count": 72,
   "id": "banned-watch",
   "metadata": {},
   "outputs": [
    {
     "name": "stdout",
     "output_type": "stream",
     "text": [
      "[[40141 16397]\n",
      " [ 1568  3397]]\n",
      "Accuracy score    : 0.708\n",
      "precision score   : 0.172\n",
      "recall score      : 0.684\n",
      "F1 score          : 0.274\n",
      "F2 score          : 0.428\n",
      "ROCAUC score      : 0.697\n",
      "custom metric FMI : 0.343\n",
      "\n"
     ]
    }
   ],
   "source": [
    "model_eval_score(lgbmc10, X_val, y_val)"
   ]
  },
  {
   "cell_type": "code",
   "execution_count": 73,
   "id": "driven-choir",
   "metadata": {},
   "outputs": [
    {
     "name": "stdout",
     "output_type": "stream",
     "text": [
      "[[40514 16024]\n",
      " [ 1604  3361]]\n",
      "Accuracy score    : 0.713\n",
      "precision score   : 0.173\n",
      "recall score      : 0.677\n",
      "F1 score          : 0.276\n",
      "F2 score          : 0.428\n",
      "ROCAUC score      : 0.697\n",
      "custom metric FMI : 0.343\n",
      "\n"
     ]
    }
   ],
   "source": [
    "model_eval_score(lgbmc10_randomCV, X_val, y_val)"
   ]
  },
  {
   "cell_type": "code",
   "execution_count": null,
   "id": "protective-detective",
   "metadata": {},
   "outputs": [],
   "source": []
  },
  {
   "cell_type": "code",
   "execution_count": null,
   "id": "respective-cheat",
   "metadata": {},
   "outputs": [],
   "source": []
  },
  {
   "cell_type": "code",
   "execution_count": null,
   "id": "accepted-contractor",
   "metadata": {},
   "outputs": [],
   "source": []
  },
  {
   "cell_type": "markdown",
   "id": "crude-penalty",
   "metadata": {},
   "source": [
    "# export des modeles simples applications"
   ]
  },
  {
   "cell_type": "code",
   "execution_count": 76,
   "id": "about-press",
   "metadata": {},
   "outputs": [],
   "source": [
    "import pickle\n",
    "\n",
    "with open('randomForest_model.p', 'wb') as f1:\n",
    "    pickle.dump(randomForest_under, f1)\n",
    "    \n",
    "with open('lgbmc10.p', 'wb') as f1:\n",
    "    pickle.dump(lgbmc10, f1)\n",
    "\n",
    "with open('app_train.p', 'wb') as f1:\n",
    "    pickle.dump(app_train, f1)\n",
    "    "
   ]
  },
  {
   "cell_type": "code",
   "execution_count": null,
   "id": "optical-colonial",
   "metadata": {},
   "outputs": [],
   "source": []
  },
  {
   "cell_type": "code",
   "execution_count": null,
   "id": "generous-institution",
   "metadata": {},
   "outputs": [],
   "source": []
  },
  {
   "cell_type": "markdown",
   "id": "polar-jonathan",
   "metadata": {},
   "source": [
    "#  UTILISATION d'une selection dans le jeu complet de données\n",
    "\n",
    "selection faite dans kernel kaggle : https://www.kaggle.com/hikmetsezen/micro-model-174-features-0-8-auc-on-home-credit"
   ]
  },
  {
   "cell_type": "code",
   "execution_count": 18,
   "id": "peaceful-tolerance",
   "metadata": {},
   "outputs": [],
   "source": [
    "df_feats = pd.read_csv('df_feats.csv')"
   ]
  },
  {
   "cell_type": "code",
   "execution_count": 19,
   "id": "indie-barrier",
   "metadata": {},
   "outputs": [
    {
     "data": {
      "text/html": [
       "<div>\n",
       "<style scoped>\n",
       "    .dataframe tbody tr th:only-of-type {\n",
       "        vertical-align: middle;\n",
       "    }\n",
       "\n",
       "    .dataframe tbody tr th {\n",
       "        vertical-align: top;\n",
       "    }\n",
       "\n",
       "    .dataframe thead th {\n",
       "        text-align: right;\n",
       "    }\n",
       "</style>\n",
       "<table border=\"1\" class=\"dataframe\">\n",
       "  <thead>\n",
       "    <tr style=\"text-align: right;\">\n",
       "      <th></th>\n",
       "      <th>Unnamed: 0</th>\n",
       "      <th>TARGET</th>\n",
       "      <th>SK_ID_CURR</th>\n",
       "      <th>POS_SK_DPD_DEF_SUM</th>\n",
       "      <th>CC_DRAWING_LIMIT_RATIO_MAX</th>\n",
       "      <th>INSTAL_PAYMENT_RATIO_MEAN</th>\n",
       "      <th>POS_REMAINING_INSTALMENTS</th>\n",
       "      <th>CC_LAST_AMT_BALANCE_MEAN</th>\n",
       "      <th>CC_PAYMENT_DIV_MIN_MIN</th>\n",
       "      <th>CC_LATE_PAYMENT_VAR</th>\n",
       "      <th>...</th>\n",
       "      <th>BURO_CREDIT_TYPE_Mortgage_MEAN</th>\n",
       "      <th>AMT_GOODS_PRICE</th>\n",
       "      <th>APPROVED_CNT_PAYMENT_MEAN</th>\n",
       "      <th>FLAG_DOCUMENT_7</th>\n",
       "      <th>FLAG_DOCUMENT_18</th>\n",
       "      <th>NONLIVINGAPARTMENTS_MEDI</th>\n",
       "      <th>ACTIVE_AMT_CREDIT_MAX_OVERDUE_MEAN</th>\n",
       "      <th>ORGANIZATION_TYPE_Construction</th>\n",
       "      <th>INSTAL_AMT_PAYMENT_MIN</th>\n",
       "      <th>BURO_AMT_CREDIT_SUM_DEBT_MEAN</th>\n",
       "    </tr>\n",
       "  </thead>\n",
       "  <tbody>\n",
       "    <tr>\n",
       "      <th>0</th>\n",
       "      <td>0</td>\n",
       "      <td>1</td>\n",
       "      <td>100002</td>\n",
       "      <td>0.0</td>\n",
       "      <td>NaN</td>\n",
       "      <td>1.00000</td>\n",
       "      <td>6.0</td>\n",
       "      <td>NaN</td>\n",
       "      <td>NaN</td>\n",
       "      <td>NaN</td>\n",
       "      <td>...</td>\n",
       "      <td>0.0</td>\n",
       "      <td>351000.0</td>\n",
       "      <td>24.00</td>\n",
       "      <td>0</td>\n",
       "      <td>0</td>\n",
       "      <td>0.0000</td>\n",
       "      <td>40.5000</td>\n",
       "      <td>0</td>\n",
       "      <td>9251.775</td>\n",
       "      <td>49156.20</td>\n",
       "    </tr>\n",
       "    <tr>\n",
       "      <th>1</th>\n",
       "      <td>1</td>\n",
       "      <td>0</td>\n",
       "      <td>100003</td>\n",
       "      <td>0.0</td>\n",
       "      <td>NaN</td>\n",
       "      <td>1.00000</td>\n",
       "      <td>1.0</td>\n",
       "      <td>NaN</td>\n",
       "      <td>NaN</td>\n",
       "      <td>NaN</td>\n",
       "      <td>...</td>\n",
       "      <td>0.0</td>\n",
       "      <td>1129500.0</td>\n",
       "      <td>10.00</td>\n",
       "      <td>0</td>\n",
       "      <td>0</td>\n",
       "      <td>0.0039</td>\n",
       "      <td>0.0000</td>\n",
       "      <td>0</td>\n",
       "      <td>6662.970</td>\n",
       "      <td>0.00</td>\n",
       "    </tr>\n",
       "    <tr>\n",
       "      <th>2</th>\n",
       "      <td>2</td>\n",
       "      <td>0</td>\n",
       "      <td>100004</td>\n",
       "      <td>0.0</td>\n",
       "      <td>NaN</td>\n",
       "      <td>1.00000</td>\n",
       "      <td>0.0</td>\n",
       "      <td>NaN</td>\n",
       "      <td>NaN</td>\n",
       "      <td>NaN</td>\n",
       "      <td>...</td>\n",
       "      <td>0.0</td>\n",
       "      <td>135000.0</td>\n",
       "      <td>4.00</td>\n",
       "      <td>0</td>\n",
       "      <td>0</td>\n",
       "      <td>NaN</td>\n",
       "      <td>NaN</td>\n",
       "      <td>0</td>\n",
       "      <td>5357.250</td>\n",
       "      <td>0.00</td>\n",
       "    </tr>\n",
       "    <tr>\n",
       "      <th>3</th>\n",
       "      <td>3</td>\n",
       "      <td>0</td>\n",
       "      <td>100006</td>\n",
       "      <td>0.0</td>\n",
       "      <td>NaN</td>\n",
       "      <td>1.00000</td>\n",
       "      <td>3.0</td>\n",
       "      <td>0.0</td>\n",
       "      <td>NaN</td>\n",
       "      <td>0.0</td>\n",
       "      <td>...</td>\n",
       "      <td>NaN</td>\n",
       "      <td>297000.0</td>\n",
       "      <td>18.00</td>\n",
       "      <td>0</td>\n",
       "      <td>0</td>\n",
       "      <td>NaN</td>\n",
       "      <td>NaN</td>\n",
       "      <td>0</td>\n",
       "      <td>2482.920</td>\n",
       "      <td>NaN</td>\n",
       "    </tr>\n",
       "    <tr>\n",
       "      <th>4</th>\n",
       "      <td>4</td>\n",
       "      <td>0</td>\n",
       "      <td>100007</td>\n",
       "      <td>0.0</td>\n",
       "      <td>NaN</td>\n",
       "      <td>1.00000</td>\n",
       "      <td>14.0</td>\n",
       "      <td>NaN</td>\n",
       "      <td>NaN</td>\n",
       "      <td>NaN</td>\n",
       "      <td>...</td>\n",
       "      <td>0.0</td>\n",
       "      <td>513000.0</td>\n",
       "      <td>20.67</td>\n",
       "      <td>0</td>\n",
       "      <td>0</td>\n",
       "      <td>NaN</td>\n",
       "      <td>NaN</td>\n",
       "      <td>0</td>\n",
       "      <td>0.180</td>\n",
       "      <td>0.00</td>\n",
       "    </tr>\n",
       "    <tr>\n",
       "      <th>...</th>\n",
       "      <td>...</td>\n",
       "      <td>...</td>\n",
       "      <td>...</td>\n",
       "      <td>...</td>\n",
       "      <td>...</td>\n",
       "      <td>...</td>\n",
       "      <td>...</td>\n",
       "      <td>...</td>\n",
       "      <td>...</td>\n",
       "      <td>...</td>\n",
       "      <td>...</td>\n",
       "      <td>...</td>\n",
       "      <td>...</td>\n",
       "      <td>...</td>\n",
       "      <td>...</td>\n",
       "      <td>...</td>\n",
       "      <td>...</td>\n",
       "      <td>...</td>\n",
       "      <td>...</td>\n",
       "      <td>...</td>\n",
       "      <td>...</td>\n",
       "    </tr>\n",
       "    <tr>\n",
       "      <th>307501</th>\n",
       "      <td>307501</td>\n",
       "      <td>0</td>\n",
       "      <td>456251</td>\n",
       "      <td>0.0</td>\n",
       "      <td>NaN</td>\n",
       "      <td>1.00000</td>\n",
       "      <td>0.0</td>\n",
       "      <td>NaN</td>\n",
       "      <td>NaN</td>\n",
       "      <td>NaN</td>\n",
       "      <td>...</td>\n",
       "      <td>NaN</td>\n",
       "      <td>225000.0</td>\n",
       "      <td>8.00</td>\n",
       "      <td>0</td>\n",
       "      <td>0</td>\n",
       "      <td>0.0757</td>\n",
       "      <td>NaN</td>\n",
       "      <td>0</td>\n",
       "      <td>6605.910</td>\n",
       "      <td>NaN</td>\n",
       "    </tr>\n",
       "    <tr>\n",
       "      <th>307502</th>\n",
       "      <td>307502</td>\n",
       "      <td>0</td>\n",
       "      <td>456252</td>\n",
       "      <td>0.0</td>\n",
       "      <td>NaN</td>\n",
       "      <td>1.00000</td>\n",
       "      <td>0.0</td>\n",
       "      <td>NaN</td>\n",
       "      <td>NaN</td>\n",
       "      <td>NaN</td>\n",
       "      <td>...</td>\n",
       "      <td>NaN</td>\n",
       "      <td>225000.0</td>\n",
       "      <td>6.00</td>\n",
       "      <td>0</td>\n",
       "      <td>0</td>\n",
       "      <td>0.0000</td>\n",
       "      <td>NaN</td>\n",
       "      <td>0</td>\n",
       "      <td>10046.880</td>\n",
       "      <td>NaN</td>\n",
       "    </tr>\n",
       "    <tr>\n",
       "      <th>307503</th>\n",
       "      <td>307503</td>\n",
       "      <td>0</td>\n",
       "      <td>456253</td>\n",
       "      <td>5.0</td>\n",
       "      <td>NaN</td>\n",
       "      <td>1.00000</td>\n",
       "      <td>0.0</td>\n",
       "      <td>NaN</td>\n",
       "      <td>NaN</td>\n",
       "      <td>NaN</td>\n",
       "      <td>...</td>\n",
       "      <td>0.0</td>\n",
       "      <td>585000.0</td>\n",
       "      <td>5.00</td>\n",
       "      <td>0</td>\n",
       "      <td>0</td>\n",
       "      <td>0.0000</td>\n",
       "      <td>NaN</td>\n",
       "      <td>0</td>\n",
       "      <td>27.270</td>\n",
       "      <td>448958.25</td>\n",
       "    </tr>\n",
       "    <tr>\n",
       "      <th>307504</th>\n",
       "      <td>307504</td>\n",
       "      <td>1</td>\n",
       "      <td>456254</td>\n",
       "      <td>0.0</td>\n",
       "      <td>NaN</td>\n",
       "      <td>1.00000</td>\n",
       "      <td>12.0</td>\n",
       "      <td>NaN</td>\n",
       "      <td>NaN</td>\n",
       "      <td>NaN</td>\n",
       "      <td>...</td>\n",
       "      <td>0.0</td>\n",
       "      <td>319500.0</td>\n",
       "      <td>15.00</td>\n",
       "      <td>0</td>\n",
       "      <td>0</td>\n",
       "      <td>NaN</td>\n",
       "      <td>NaN</td>\n",
       "      <td>0</td>\n",
       "      <td>2296.440</td>\n",
       "      <td>0.00</td>\n",
       "    </tr>\n",
       "    <tr>\n",
       "      <th>307505</th>\n",
       "      <td>307505</td>\n",
       "      <td>0</td>\n",
       "      <td>456255</td>\n",
       "      <td>5.0</td>\n",
       "      <td>NaN</td>\n",
       "      <td>0.97973</td>\n",
       "      <td>0.0</td>\n",
       "      <td>NaN</td>\n",
       "      <td>NaN</td>\n",
       "      <td>NaN</td>\n",
       "      <td>...</td>\n",
       "      <td>0.0</td>\n",
       "      <td>675000.0</td>\n",
       "      <td>19.00</td>\n",
       "      <td>0</td>\n",
       "      <td>0</td>\n",
       "      <td>NaN</td>\n",
       "      <td>7719.9526</td>\n",
       "      <td>0</td>\n",
       "      <td>34.965</td>\n",
       "      <td>191864.12</td>\n",
       "    </tr>\n",
       "  </tbody>\n",
       "</table>\n",
       "<p>307506 rows × 176 columns</p>\n",
       "</div>"
      ],
      "text/plain": [
       "        Unnamed: 0  TARGET  SK_ID_CURR  POS_SK_DPD_DEF_SUM  \\\n",
       "0                0       1      100002                 0.0   \n",
       "1                1       0      100003                 0.0   \n",
       "2                2       0      100004                 0.0   \n",
       "3                3       0      100006                 0.0   \n",
       "4                4       0      100007                 0.0   \n",
       "...            ...     ...         ...                 ...   \n",
       "307501      307501       0      456251                 0.0   \n",
       "307502      307502       0      456252                 0.0   \n",
       "307503      307503       0      456253                 5.0   \n",
       "307504      307504       1      456254                 0.0   \n",
       "307505      307505       0      456255                 5.0   \n",
       "\n",
       "        CC_DRAWING_LIMIT_RATIO_MAX  INSTAL_PAYMENT_RATIO_MEAN  \\\n",
       "0                              NaN                    1.00000   \n",
       "1                              NaN                    1.00000   \n",
       "2                              NaN                    1.00000   \n",
       "3                              NaN                    1.00000   \n",
       "4                              NaN                    1.00000   \n",
       "...                            ...                        ...   \n",
       "307501                         NaN                    1.00000   \n",
       "307502                         NaN                    1.00000   \n",
       "307503                         NaN                    1.00000   \n",
       "307504                         NaN                    1.00000   \n",
       "307505                         NaN                    0.97973   \n",
       "\n",
       "        POS_REMAINING_INSTALMENTS  CC_LAST_AMT_BALANCE_MEAN  \\\n",
       "0                             6.0                       NaN   \n",
       "1                             1.0                       NaN   \n",
       "2                             0.0                       NaN   \n",
       "3                             3.0                       0.0   \n",
       "4                            14.0                       NaN   \n",
       "...                           ...                       ...   \n",
       "307501                        0.0                       NaN   \n",
       "307502                        0.0                       NaN   \n",
       "307503                        0.0                       NaN   \n",
       "307504                       12.0                       NaN   \n",
       "307505                        0.0                       NaN   \n",
       "\n",
       "        CC_PAYMENT_DIV_MIN_MIN  CC_LATE_PAYMENT_VAR  ...  \\\n",
       "0                          NaN                  NaN  ...   \n",
       "1                          NaN                  NaN  ...   \n",
       "2                          NaN                  NaN  ...   \n",
       "3                          NaN                  0.0  ...   \n",
       "4                          NaN                  NaN  ...   \n",
       "...                        ...                  ...  ...   \n",
       "307501                     NaN                  NaN  ...   \n",
       "307502                     NaN                  NaN  ...   \n",
       "307503                     NaN                  NaN  ...   \n",
       "307504                     NaN                  NaN  ...   \n",
       "307505                     NaN                  NaN  ...   \n",
       "\n",
       "        BURO_CREDIT_TYPE_Mortgage_MEAN  AMT_GOODS_PRICE  \\\n",
       "0                                  0.0         351000.0   \n",
       "1                                  0.0        1129500.0   \n",
       "2                                  0.0         135000.0   \n",
       "3                                  NaN         297000.0   \n",
       "4                                  0.0         513000.0   \n",
       "...                                ...              ...   \n",
       "307501                             NaN         225000.0   \n",
       "307502                             NaN         225000.0   \n",
       "307503                             0.0         585000.0   \n",
       "307504                             0.0         319500.0   \n",
       "307505                             0.0         675000.0   \n",
       "\n",
       "        APPROVED_CNT_PAYMENT_MEAN  FLAG_DOCUMENT_7  FLAG_DOCUMENT_18  \\\n",
       "0                           24.00                0                 0   \n",
       "1                           10.00                0                 0   \n",
       "2                            4.00                0                 0   \n",
       "3                           18.00                0                 0   \n",
       "4                           20.67                0                 0   \n",
       "...                           ...              ...               ...   \n",
       "307501                       8.00                0                 0   \n",
       "307502                       6.00                0                 0   \n",
       "307503                       5.00                0                 0   \n",
       "307504                      15.00                0                 0   \n",
       "307505                      19.00                0                 0   \n",
       "\n",
       "        NONLIVINGAPARTMENTS_MEDI  ACTIVE_AMT_CREDIT_MAX_OVERDUE_MEAN  \\\n",
       "0                         0.0000                             40.5000   \n",
       "1                         0.0039                              0.0000   \n",
       "2                            NaN                                 NaN   \n",
       "3                            NaN                                 NaN   \n",
       "4                            NaN                                 NaN   \n",
       "...                          ...                                 ...   \n",
       "307501                    0.0757                                 NaN   \n",
       "307502                    0.0000                                 NaN   \n",
       "307503                    0.0000                                 NaN   \n",
       "307504                       NaN                                 NaN   \n",
       "307505                       NaN                           7719.9526   \n",
       "\n",
       "        ORGANIZATION_TYPE_Construction  INSTAL_AMT_PAYMENT_MIN  \\\n",
       "0                                    0                9251.775   \n",
       "1                                    0                6662.970   \n",
       "2                                    0                5357.250   \n",
       "3                                    0                2482.920   \n",
       "4                                    0                   0.180   \n",
       "...                                ...                     ...   \n",
       "307501                               0                6605.910   \n",
       "307502                               0               10046.880   \n",
       "307503                               0                  27.270   \n",
       "307504                               0                2296.440   \n",
       "307505                               0                  34.965   \n",
       "\n",
       "        BURO_AMT_CREDIT_SUM_DEBT_MEAN  \n",
       "0                            49156.20  \n",
       "1                                0.00  \n",
       "2                                0.00  \n",
       "3                                 NaN  \n",
       "4                                0.00  \n",
       "...                               ...  \n",
       "307501                            NaN  \n",
       "307502                            NaN  \n",
       "307503                      448958.25  \n",
       "307504                           0.00  \n",
       "307505                      191864.12  \n",
       "\n",
       "[307506 rows x 176 columns]"
      ]
     },
     "execution_count": 19,
     "metadata": {},
     "output_type": "execute_result"
    }
   ],
   "source": [
    "df_feats"
   ]
  },
  {
   "cell_type": "code",
   "execution_count": 20,
   "id": "sound-poultry",
   "metadata": {},
   "outputs": [],
   "source": [
    "df_feats.drop(columns='Unnamed: 0', inplace=True)"
   ]
  },
  {
   "cell_type": "code",
   "execution_count": 42,
   "id": "skilled-bibliography",
   "metadata": {},
   "outputs": [],
   "source": [
    "import re\n",
    "from collections import Counter\n",
    "\n",
    "df_feats = df_feats.rename(columns = lambda x:re.sub('[^A-Za-z0-9_]+', '', x))\n",
    "\n",
    "X_feats = df_feats.drop(columns='TARGET').copy()\n",
    "y_feats = df_feats['TARGET'].copy()\n"
   ]
  },
  {
   "cell_type": "code",
   "execution_count": 43,
   "id": "white-purpose",
   "metadata": {},
   "outputs": [],
   "source": [
    "from sklearn.model_selection import train_test_split\n",
    "\n",
    "X_feats_train, X_feats_val, y_feats_train, y_feats_val = train_test_split(X_feats, y_feats, test_size=0.2, stratify=y_feats, random_state=1944)"
   ]
  },
  {
   "cell_type": "code",
   "execution_count": 44,
   "id": "authentic-theme",
   "metadata": {},
   "outputs": [
    {
     "name": "stdout",
     "output_type": "stream",
     "text": [
      "y_feats_train Counter({0: 226145, 1: 19859})\n",
      "y_feats_val Counter({0: 56537, 1: 4965})\n"
     ]
    }
   ],
   "source": [
    "print('y_feats_train', Counter(y_feats_train))\n",
    "print('y_feats_val', Counter(y_feats_val))"
   ]
  },
  {
   "cell_type": "markdown",
   "id": "powered-completion",
   "metadata": {},
   "source": [
    "### MODELISATION avec Algorithme LightGBM"
   ]
  },
  {
   "cell_type": "code",
   "execution_count": 45,
   "id": "electrical-cylinder",
   "metadata": {},
   "outputs": [
    {
     "name": "stdout",
     "output_type": "stream",
     "text": [
      "[[41045 15492]\n",
      " [ 1500  3465]]\n",
      "Accuracy score    : 0.724\n",
      "precision score   : 0.183\n",
      "recall score      : 0.698\n",
      "F1 score          : 0.29\n",
      "F2 score          : 0.446\n",
      "ROCAUC score      : 0.712\n",
      "custom metric FMI : 0.357\n",
      "\n"
     ]
    },
    {
     "data": {
      "image/png": "[encoded data removed]",
      "text/plain": [
       "<Figure size 432x288 with 1 Axes>"
      ]
     },
     "metadata": {
      "needs_background": "light"
     },
     "output_type": "display_data"
    }
   ],
   "source": [
    "from lightgbm import LGBMClassifier\n",
    "\n",
    "lgbmc10_feats_custom = LGBMClassifier(is_unbalance=True)\n",
    "\n",
    "lgbmc10_feats_custom.fit(X_feats_train, y_feats_train, eval_set=[(X_feats_train, y_feats_train), (X_feats_val, y_feats_val)], \n",
    "    eval_metric= custom_lightgbm_valid, verbose= 200)\n",
    "\n",
    "model_eval(lgbmc10_feats_custom, X_feats_val, y_feats_val)"
   ]
  },
  {
   "cell_type": "code",
   "execution_count": null,
   "id": "mathematical-making",
   "metadata": {},
   "outputs": [
    {
     "name": "stdout",
     "output_type": "stream",
     "text": [
      "{'num_leaves': array([ 50, 100, 150, 200, 250, 300, 350, 400, 450]), 'min_child_samples': array([100, 200, 300, 400]), 'min_child_weight': [1e-05, 0.001, 0.01, 0.1, 1, 10.0, 100.0, 1000.0, 10000.0], 'subsample': array([0.2, 0.3, 0.4, 0.5, 0.6, 0.7, 0.8, 0.9]), 'colsample_bytree': array([0.2, 0.3, 0.4, 0.5, 0.6, 0.7, 0.8, 0.9]), 'reg_alpha': [0, 0.1, 1, 2, 5, 7, 10, 50, 100], 'reg_lambda': [0, 0.1, 1, 5, 10, 20, 50, 100]}\n",
      "Fitting 3 folds for each of 50 candidates, totalling 150 fits\n"
     ]
    },
    {
     "name": "stderr",
     "output_type": "stream",
     "text": [
      "[Parallel(n_jobs=-1)]: Using backend LokyBackend with 4 concurrent workers.\n",
      "[Parallel(n_jobs=-1)]: Done  24 tasks      | elapsed:  5.9min\n"
     ]
    }
   ],
   "source": [
    "from sklearn.model_selection import RandomizedSearchCV\n",
    "\n",
    "random_grid ={\n",
    "            'num_leaves': np.arange(50,500,50),\n",
    "            'min_child_samples': np.arange(100,500,100), \n",
    "            'min_child_weight': [1e-5, 1e-3, 1e-2, 1e-1, 1, 1e1, 1e2, 1e3, 1e4],\n",
    "            'subsample': np.arange(0.2,1,.1), \n",
    "            'colsample_bytree': np.arange(0.2,1,.1),\n",
    "            'reg_alpha': [0, 1e-1, 1, 2, 5, 7, 10, 50, 100],\n",
    "            'reg_lambda': [0, 1e-1, 1, 5, 10, 20, 50, 100]}\n",
    "\n",
    "print(random_grid)\n",
    "\n",
    "# Random search of parameters, using 3 fold cross validation, \n",
    "# search across 100 different combinations, and use all available cores\n",
    "lgbm_feats_randomCV = RandomizedSearchCV(estimator = LGBMClassifier(is_unbalance=True, objective = 'binary', metric = 'auc'), scoring=custom_scorer_lgbm_f2, param_distributions = random_grid, n_iter = 50, cv = 3, verbose=3, n_jobs = -1)\n",
    "# Fit the random search model\n",
    "lgbm_feats_randomCV.fit(X_feats_train, y_feats_train)\n",
    "\n",
    "print(lgbm_feats_randomCV.best_params_)\n",
    "lgbm_feats_random = lgbm_feats_randomCV.best_estimator_\n",
    "model_eval(lgbm_feats_random, X_feats_val, y_feats_val)"
   ]
  },
  {
   "cell_type": "code",
   "execution_count": 72,
   "id": "everyday-register",
   "metadata": {},
   "outputs": [
    {
     "name": "stdout",
     "output_type": "stream",
     "text": [
      "[[40141 16397]\n",
      " [ 1568  3397]]\n",
      "Accuracy score    : 0.708\n",
      "precision score   : 0.172\n",
      "recall score      : 0.684\n",
      "F1 score          : 0.274\n",
      "F2 score          : 0.428\n",
      "ROCAUC score      : 0.697\n",
      "custom metric FMI : 0.343\n",
      "\n"
     ]
    }
   ],
   "source": [
    "model_eval_score(lgbm_feats_random, X_val, y_val)"
   ]
  },
  {
   "cell_type": "code",
   "execution_count": 46,
   "id": "front-minutes",
   "metadata": {},
   "outputs": [
    {
     "name": "stdout",
     "output_type": "stream",
     "text": [
      "[[41045 15492]\n",
      " [ 1500  3465]]\n",
      "Accuracy score    : 0.724\n",
      "precision score   : 0.183\n",
      "recall score      : 0.698\n",
      "F1 score          : 0.29\n",
      "F2 score          : 0.446\n",
      "ROCAUC score      : 0.712\n",
      "custom metric FMI : 0.357\n",
      "\n"
     ]
    }
   ],
   "source": [
    "model_eval_score(lgbmc10_feats_custom, X_feats_val, y_feats_val)"
   ]
  },
  {
   "cell_type": "code",
   "execution_count": 72,
   "id": "juvenile-jumping",
   "metadata": {},
   "outputs": [
    {
     "name": "stdout",
     "output_type": "stream",
     "text": [
      "[[40141 16397]\n",
      " [ 1568  3397]]\n",
      "Accuracy score    : 0.708\n",
      "precision score   : 0.172\n",
      "recall score      : 0.684\n",
      "F1 score          : 0.274\n",
      "F2 score          : 0.428\n",
      "ROCAUC score      : 0.697\n",
      "custom metric FMI : 0.343\n",
      "\n"
     ]
    }
   ],
   "source": [
    "model_eval_score(lgbmc10, X_val, y_val)"
   ]
  },
  {
   "cell_type": "code",
   "execution_count": null,
   "id": "ongoing-universal",
   "metadata": {},
   "outputs": [],
   "source": []
  },
  {
   "cell_type": "code",
   "execution_count": null,
   "id": "suitable-rover",
   "metadata": {},
   "outputs": [],
   "source": []
  },
  {
   "cell_type": "code",
   "execution_count": 127,
   "id": "opponent-gender",
   "metadata": {},
   "outputs": [],
   "source": [
    "with open('lgbm_feats_random.p', 'wb') as f4:\n",
    "    pickle.dump(lgbm_feats_random, f4)\n",
    "\n",
    "with open('lgbmc10_feats_custom.p', 'wb') as f4:\n",
    "    pickle.dump(lgbmc10_feats_custom, f4)\n",
    "\n",
    "    \n"
   ]
  }
 ],
 "metadata": {
  "kernelspec": {
   "display_name": "Python 3",
   "language": "python",
   "name": "python3"
  },
  "language_info": {
   "codemirror_mode": {
    "name": "ipython",
    "version": 3
   },
   "file_extension": ".py",
   "mimetype": "text/x-python",
   "name": "python",
   "nbconvert_exporter": "python",
   "pygments_lexer": "ipython3",
   "version": "3.8.8"
  }
 },
 "nbformat": 4,
 "nbformat_minor": 5
}
