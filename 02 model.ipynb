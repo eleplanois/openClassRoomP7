{
 "cells": [
  {
   "cell_type": "code",
   "execution_count": 4,
   "id": "split-chemistry",
   "metadata": {},
   "outputs": [],
   "source": [
    "# numpy and pandas for data manipulation\n",
    "import numpy as np\n",
    "import pandas as pd \n",
    "\n",
    "# sklearn preprocessing for dealing with categorical variables\n",
    "from sklearn.preprocessing import LabelEncoder\n",
    "\n",
    "# File system manangement\n",
    "import os\n",
    "\n",
    "# Suppress warnings \n",
    "import warnings\n",
    "warnings.filterwarnings('ignore')\n",
    "\n",
    "# matplotlib and seaborn for plotting\n",
    "import matplotlib.pyplot as plt\n",
    "import seaborn as sns"
   ]
  },
  {
   "cell_type": "code",
   "execution_count": 5,
   "id": "wound-housing",
   "metadata": {
    "_cell_guid": "79c7e3d0-c299-4dcb-8224-4455121ee9b0",
    "_uuid": "d629ff2d2480ee46fbb7e2d37f6b5fab8052498a"
   },
   "outputs": [
    {
     "name": "stdout",
     "output_type": "stream",
     "text": [
      "Training data shape:  (307511, 122)\n"
     ]
    },
    {
     "data": {
      "text/html": [
       "<div>\n",
       "<style scoped>\n",
       "    .dataframe tbody tr th:only-of-type {\n",
       "        vertical-align: middle;\n",
       "    }\n",
       "\n",
       "    .dataframe tbody tr th {\n",
       "        vertical-align: top;\n",
       "    }\n",
       "\n",
       "    .dataframe thead th {\n",
       "        text-align: right;\n",
       "    }\n",
       "</style>\n",
       "<table border=\"1\" class=\"dataframe\">\n",
       "  <thead>\n",
       "    <tr style=\"text-align: right;\">\n",
       "      <th></th>\n",
       "      <th>SK_ID_CURR</th>\n",
       "      <th>TARGET</th>\n",
       "      <th>NAME_CONTRACT_TYPE</th>\n",
       "      <th>CODE_GENDER</th>\n",
       "      <th>FLAG_OWN_CAR</th>\n",
       "      <th>FLAG_OWN_REALTY</th>\n",
       "      <th>CNT_CHILDREN</th>\n",
       "      <th>AMT_INCOME_TOTAL</th>\n",
       "      <th>AMT_CREDIT</th>\n",
       "      <th>AMT_ANNUITY</th>\n",
       "      <th>...</th>\n",
       "      <th>FLAG_DOCUMENT_18</th>\n",
       "      <th>FLAG_DOCUMENT_19</th>\n",
       "      <th>FLAG_DOCUMENT_20</th>\n",
       "      <th>FLAG_DOCUMENT_21</th>\n",
       "      <th>AMT_REQ_CREDIT_BUREAU_HOUR</th>\n",
       "      <th>AMT_REQ_CREDIT_BUREAU_DAY</th>\n",
       "      <th>AMT_REQ_CREDIT_BUREAU_WEEK</th>\n",
       "      <th>AMT_REQ_CREDIT_BUREAU_MON</th>\n",
       "      <th>AMT_REQ_CREDIT_BUREAU_QRT</th>\n",
       "      <th>AMT_REQ_CREDIT_BUREAU_YEAR</th>\n",
       "    </tr>\n",
       "  </thead>\n",
       "  <tbody>\n",
       "    <tr>\n",
       "      <th>0</th>\n",
       "      <td>100002</td>\n",
       "      <td>1</td>\n",
       "      <td>Cash loans</td>\n",
       "      <td>M</td>\n",
       "      <td>N</td>\n",
       "      <td>Y</td>\n",
       "      <td>0</td>\n",
       "      <td>202500.0</td>\n",
       "      <td>406597.5</td>\n",
       "      <td>24700.5</td>\n",
       "      <td>...</td>\n",
       "      <td>0</td>\n",
       "      <td>0</td>\n",
       "      <td>0</td>\n",
       "      <td>0</td>\n",
       "      <td>0.0</td>\n",
       "      <td>0.0</td>\n",
       "      <td>0.0</td>\n",
       "      <td>0.0</td>\n",
       "      <td>0.0</td>\n",
       "      <td>1.0</td>\n",
       "    </tr>\n",
       "    <tr>\n",
       "      <th>1</th>\n",
       "      <td>100003</td>\n",
       "      <td>0</td>\n",
       "      <td>Cash loans</td>\n",
       "      <td>F</td>\n",
       "      <td>N</td>\n",
       "      <td>N</td>\n",
       "      <td>0</td>\n",
       "      <td>270000.0</td>\n",
       "      <td>1293502.5</td>\n",
       "      <td>35698.5</td>\n",
       "      <td>...</td>\n",
       "      <td>0</td>\n",
       "      <td>0</td>\n",
       "      <td>0</td>\n",
       "      <td>0</td>\n",
       "      <td>0.0</td>\n",
       "      <td>0.0</td>\n",
       "      <td>0.0</td>\n",
       "      <td>0.0</td>\n",
       "      <td>0.0</td>\n",
       "      <td>0.0</td>\n",
       "    </tr>\n",
       "    <tr>\n",
       "      <th>2</th>\n",
       "      <td>100004</td>\n",
       "      <td>0</td>\n",
       "      <td>Revolving loans</td>\n",
       "      <td>M</td>\n",
       "      <td>Y</td>\n",
       "      <td>Y</td>\n",
       "      <td>0</td>\n",
       "      <td>67500.0</td>\n",
       "      <td>135000.0</td>\n",
       "      <td>6750.0</td>\n",
       "      <td>...</td>\n",
       "      <td>0</td>\n",
       "      <td>0</td>\n",
       "      <td>0</td>\n",
       "      <td>0</td>\n",
       "      <td>0.0</td>\n",
       "      <td>0.0</td>\n",
       "      <td>0.0</td>\n",
       "      <td>0.0</td>\n",
       "      <td>0.0</td>\n",
       "      <td>0.0</td>\n",
       "    </tr>\n",
       "    <tr>\n",
       "      <th>3</th>\n",
       "      <td>100006</td>\n",
       "      <td>0</td>\n",
       "      <td>Cash loans</td>\n",
       "      <td>F</td>\n",
       "      <td>N</td>\n",
       "      <td>Y</td>\n",
       "      <td>0</td>\n",
       "      <td>135000.0</td>\n",
       "      <td>312682.5</td>\n",
       "      <td>29686.5</td>\n",
       "      <td>...</td>\n",
       "      <td>0</td>\n",
       "      <td>0</td>\n",
       "      <td>0</td>\n",
       "      <td>0</td>\n",
       "      <td>NaN</td>\n",
       "      <td>NaN</td>\n",
       "      <td>NaN</td>\n",
       "      <td>NaN</td>\n",
       "      <td>NaN</td>\n",
       "      <td>NaN</td>\n",
       "    </tr>\n",
       "    <tr>\n",
       "      <th>4</th>\n",
       "      <td>100007</td>\n",
       "      <td>0</td>\n",
       "      <td>Cash loans</td>\n",
       "      <td>M</td>\n",
       "      <td>N</td>\n",
       "      <td>Y</td>\n",
       "      <td>0</td>\n",
       "      <td>121500.0</td>\n",
       "      <td>513000.0</td>\n",
       "      <td>21865.5</td>\n",
       "      <td>...</td>\n",
       "      <td>0</td>\n",
       "      <td>0</td>\n",
       "      <td>0</td>\n",
       "      <td>0</td>\n",
       "      <td>0.0</td>\n",
       "      <td>0.0</td>\n",
       "      <td>0.0</td>\n",
       "      <td>0.0</td>\n",
       "      <td>0.0</td>\n",
       "      <td>0.0</td>\n",
       "    </tr>\n",
       "  </tbody>\n",
       "</table>\n",
       "<p>5 rows × 122 columns</p>\n",
       "</div>"
      ],
      "text/plain": [
       "   SK_ID_CURR  TARGET NAME_CONTRACT_TYPE CODE_GENDER FLAG_OWN_CAR  \\\n",
       "0      100002       1         Cash loans           M            N   \n",
       "1      100003       0         Cash loans           F            N   \n",
       "2      100004       0    Revolving loans           M            Y   \n",
       "3      100006       0         Cash loans           F            N   \n",
       "4      100007       0         Cash loans           M            N   \n",
       "\n",
       "  FLAG_OWN_REALTY  CNT_CHILDREN  AMT_INCOME_TOTAL  AMT_CREDIT  AMT_ANNUITY  \\\n",
       "0               Y             0          202500.0    406597.5      24700.5   \n",
       "1               N             0          270000.0   1293502.5      35698.5   \n",
       "2               Y             0           67500.0    135000.0       6750.0   \n",
       "3               Y             0          135000.0    312682.5      29686.5   \n",
       "4               Y             0          121500.0    513000.0      21865.5   \n",
       "\n",
       "   ...  FLAG_DOCUMENT_18 FLAG_DOCUMENT_19 FLAG_DOCUMENT_20 FLAG_DOCUMENT_21  \\\n",
       "0  ...                 0                0                0                0   \n",
       "1  ...                 0                0                0                0   \n",
       "2  ...                 0                0                0                0   \n",
       "3  ...                 0                0                0                0   \n",
       "4  ...                 0                0                0                0   \n",
       "\n",
       "  AMT_REQ_CREDIT_BUREAU_HOUR AMT_REQ_CREDIT_BUREAU_DAY  \\\n",
       "0                        0.0                       0.0   \n",
       "1                        0.0                       0.0   \n",
       "2                        0.0                       0.0   \n",
       "3                        NaN                       NaN   \n",
       "4                        0.0                       0.0   \n",
       "\n",
       "   AMT_REQ_CREDIT_BUREAU_WEEK  AMT_REQ_CREDIT_BUREAU_MON  \\\n",
       "0                         0.0                        0.0   \n",
       "1                         0.0                        0.0   \n",
       "2                         0.0                        0.0   \n",
       "3                         NaN                        NaN   \n",
       "4                         0.0                        0.0   \n",
       "\n",
       "   AMT_REQ_CREDIT_BUREAU_QRT  AMT_REQ_CREDIT_BUREAU_YEAR  \n",
       "0                        0.0                         1.0  \n",
       "1                        0.0                         0.0  \n",
       "2                        0.0                         0.0  \n",
       "3                        NaN                         NaN  \n",
       "4                        0.0                         0.0  \n",
       "\n",
       "[5 rows x 122 columns]"
      ]
     },
     "execution_count": 5,
     "metadata": {},
     "output_type": "execute_result"
    }
   ],
   "source": [
    "# Training data\n",
    "app_train = pd.read_csv('dataset/application_train.csv')\n",
    "print('Training data shape: ', app_train.shape)\n",
    "app_train.head()"
   ]
  },
  {
   "cell_type": "markdown",
   "id": "anticipated-texture",
   "metadata": {},
   "source": [
    "## DATASET APPLICATION"
   ]
  },
  {
   "cell_type": "code",
   "execution_count": 6,
   "id": "excess-colleague",
   "metadata": {},
   "outputs": [
    {
     "data": {
      "text/plain": [
       "0    282686\n",
       "1     24825\n",
       "Name: TARGET, dtype: int64"
      ]
     },
     "execution_count": 6,
     "metadata": {},
     "output_type": "execute_result"
    }
   ],
   "source": [
    "app_train['TARGET'].value_counts()"
   ]
  },
  {
   "cell_type": "code",
   "execution_count": 7,
   "id": "forty-pleasure",
   "metadata": {},
   "outputs": [],
   "source": [
    "from sklearn.impute import SimpleImputer\n",
    "\n",
    "col_num = list(app_train.select_dtypes('float64').columns)\n",
    "imp_mean = SimpleImputer(missing_values=np.nan, strategy='mean', copy=False)\n",
    "app_train[col_num] = imp_mean.fit_transform(app_train[col_num])"
   ]
  },
  {
   "cell_type": "code",
   "execution_count": 8,
   "id": "general-study",
   "metadata": {},
   "outputs": [],
   "source": [
    "col_num = list(app_train.select_dtypes('int64').columns)\n",
    "imp_meanN = SimpleImputer(missing_values=np.nan, strategy='mean', copy=False)\n",
    "app_train[col_num] = imp_meanN.fit_transform(app_train[col_num])"
   ]
  },
  {
   "cell_type": "code",
   "execution_count": 9,
   "id": "frequent-weekly",
   "metadata": {},
   "outputs": [],
   "source": [
    "\n",
    "col_obj = list(app_train.select_dtypes('object').columns)\n",
    "imp_cons = SimpleImputer(missing_values=np.nan, strategy='constant', fill_value='NonRenseigne')\n",
    "app_train[col_obj] = imp_cons.fit_transform(app_train[col_obj])"
   ]
  },
  {
   "cell_type": "markdown",
   "id": "proved-payroll",
   "metadata": {},
   "source": [
    "## Label Encoding et One Hot Encoding"
   ]
  },
  {
   "cell_type": "code",
   "execution_count": 10,
   "id": "passive-climb",
   "metadata": {},
   "outputs": [
    {
     "data": {
      "text/plain": [
       "float64    106\n",
       "object      16\n",
       "dtype: int64"
      ]
     },
     "execution_count": 10,
     "metadata": {},
     "output_type": "execute_result"
    }
   ],
   "source": [
    "# Number of each type of column\n",
    "app_train.dtypes.value_counts()"
   ]
  },
  {
   "cell_type": "code",
   "execution_count": 11,
   "id": "velvet-attraction",
   "metadata": {
    "_cell_guid": "70641d4d-1075-4837-8972-e58d70d8f242",
    "_uuid": "ddfaae5c3dcc7ec6bb47a2dffc10d364e8d25355"
   },
   "outputs": [
    {
     "name": "stdout",
     "output_type": "stream",
     "text": [
      "transformation colonne label encoding NAME_CONTRACT_TYPE.\n",
      "transformation colonne label encoding FLAG_OWN_CAR.\n",
      "transformation colonne label encoding FLAG_OWN_REALTY.\n",
      "3 columns were label encoded.\n"
     ]
    }
   ],
   "source": [
    "# Create a label encoder object\n",
    "le = LabelEncoder()\n",
    "le_count = 0\n",
    "\n",
    "# Iterate through the columns\n",
    "for col in app_train:\n",
    "    if app_train[col].dtype == 'object':\n",
    "        # If 2 or fewer unique categories\n",
    "        if len(list(app_train[col].unique())) <= 2:\n",
    "            # Train on the training data\n",
    "            app_train[col] = le.fit_transform(app_train[col])\n",
    "            print('transformation colonne label encoding %s.' % col)            \n",
    "            \n",
    "            # Keep track of how many columns were label encoded\n",
    "            le_count += 1\n",
    "            \n",
    "print('%d columns were label encoded.' % le_count)"
   ]
  },
  {
   "cell_type": "code",
   "execution_count": 12,
   "id": "connected-developer",
   "metadata": {
    "_cell_guid": "0851773b-39fd-4cf0-9a66-e30adeef3e57",
    "_uuid": "6796c6dc793a08e162b6e20c6f185ef37bdf51f3"
   },
   "outputs": [
    {
     "name": "stdout",
     "output_type": "stream",
     "text": [
      "Training Features shape avant :  (307511, 122)\n",
      "Training Features shape apres :  (307511, 249)\n"
     ]
    }
   ],
   "source": [
    "# one-hot encoding of categorical variables\n",
    "print('Training Features shape avant : ', app_train.shape)\n",
    "\n",
    "app_train = pd.get_dummies(app_train)\n",
    "\n",
    "print('Training Features shape apres : ', app_train.shape)"
   ]
  },
  {
   "cell_type": "code",
   "execution_count": 13,
   "id": "valid-proof",
   "metadata": {},
   "outputs": [
    {
     "data": {
      "text/plain": [
       "uint8      140\n",
       "float64    106\n",
       "int32        3\n",
       "dtype: int64"
      ]
     },
     "execution_count": 13,
     "metadata": {},
     "output_type": "execute_result"
    }
   ],
   "source": [
    "# Number of each type of column\n",
    "app_train.dtypes.value_counts()"
   ]
  },
  {
   "cell_type": "markdown",
   "id": "widespread-gentleman",
   "metadata": {},
   "source": [
    "## retour analyse EDA"
   ]
  },
  {
   "cell_type": "code",
   "execution_count": 14,
   "id": "frequent-botswana",
   "metadata": {
    "_uuid": "e23ec3cb89428f3dd994b572f718cc729740cfab"
   },
   "outputs": [
    {
     "data": {
      "text/plain": [
       "0    252137\n",
       "1     55374\n",
       "Name: DAYS_EMPLOYED_ANOM, dtype: int64"
      ]
     },
     "execution_count": 14,
     "metadata": {},
     "output_type": "execute_result"
    }
   ],
   "source": [
    "# Create an anomalous flag column\n",
    "app_train['DAYS_EMPLOYED_ANOM'] = ( app_train[\"DAYS_EMPLOYED\"] == 365243 ).map(int)\n",
    "\n",
    "# Replace the anomalous values with nan\n",
    "app_train['DAYS_EMPLOYED'].replace({365243: 0}, inplace = True)\n",
    "\n",
    "app_train['DAYS_EMPLOYED_ANOM'].value_counts()"
   ]
  },
  {
   "cell_type": "markdown",
   "id": "balanced-permit",
   "metadata": {
    "_uuid": "9b27fad1522263c32b57a8127c84ad0e08ff9d8f"
   },
   "source": [
    "## Domain Knowledge Features\n",
    "\n",
    "Maybe it's not entirely correct to call this \"domain knowledge\" because I'm not a credit expert, but perhaps we could call this \"attempts at applying limited financial knowledge\". In this frame of mind, we can make a couple features that attempt to capture what we think may be important for telling whether a client will default on a loan. Here I'm going to use five features that were inspired by [this script](https://www.kaggle.com/jsaguiar/updated-0-792-lb-lightgbm-with-simple-features) by Aguiar:\n",
    "\n",
    "* `CREDIT_INCOME_PERCENT`: the percentage of the credit amount relative to a client's income | ratio total emprunt revenu\n",
    "* `ANNUITY_INCOME_PERCENT`: the percentage of the loan annuity relative to a client's income | taux endetemment\n",
    "* `CREDIT_TERM`:  the length of the payment in months (since the annuity is the monthly amount due\n",
    "* `DAYS_EMPLOYED_PERCENT`: the percentage of the days employed relative to the client's age\n",
    "\n",
    "Again, thanks to Aguiar and [his great script](https://www.kaggle.com/jsaguiar/updated-0-792-lb-lightgbm-with-simple-features) for exploring these features.\n",
    "\n"
   ]
  },
  {
   "cell_type": "code",
   "execution_count": 15,
   "id": "proved-locking",
   "metadata": {
    "_uuid": "c8d4b165b45da6c3120911de18e9348d8726c70c",
    "tags": []
   },
   "outputs": [],
   "source": [
    "app_train['CREDIT_INCOME_PERCENT'] = app_train['AMT_CREDIT'] / app_train['AMT_INCOME_TOTAL']\n",
    "app_train['ANNUITY_INCOME_PERCENT'] = app_train['AMT_ANNUITY'] / app_train['AMT_INCOME_TOTAL']\n",
    "app_train['CREDIT_TERM'] = app_train['AMT_ANNUITY'] / app_train['AMT_CREDIT']\n",
    "app_train['DAYS_EMPLOYED_PERCENT'] = app_train['DAYS_EMPLOYED'] / app_train['DAYS_BIRTH']"
   ]
  },
  {
   "cell_type": "code",
   "execution_count": 16,
   "id": "nearby-sudan",
   "metadata": {},
   "outputs": [
    {
     "data": {
      "text/html": [
       "<div>\n",
       "<style scoped>\n",
       "    .dataframe tbody tr th:only-of-type {\n",
       "        vertical-align: middle;\n",
       "    }\n",
       "\n",
       "    .dataframe tbody tr th {\n",
       "        vertical-align: top;\n",
       "    }\n",
       "\n",
       "    .dataframe thead th {\n",
       "        text-align: right;\n",
       "    }\n",
       "</style>\n",
       "<table border=\"1\" class=\"dataframe\">\n",
       "  <thead>\n",
       "    <tr style=\"text-align: right;\">\n",
       "      <th></th>\n",
       "      <th>AMT_CREDIT</th>\n",
       "      <th>AMT_INCOME_TOTAL</th>\n",
       "      <th>CREDIT_INCOME_PERCENT</th>\n",
       "      <th>AMT_ANNUITY</th>\n",
       "      <th>AMT_INCOME_TOTAL</th>\n",
       "      <th>ANNUITY_INCOME_PERCENT</th>\n",
       "      <th>AMT_ANNUITY</th>\n",
       "      <th>AMT_CREDIT</th>\n",
       "      <th>CREDIT_TERM</th>\n",
       "      <th>DAYS_EMPLOYED</th>\n",
       "      <th>DAYS_BIRTH</th>\n",
       "      <th>DAYS_EMPLOYED_PERCENT</th>\n",
       "    </tr>\n",
       "  </thead>\n",
       "  <tbody>\n",
       "    <tr>\n",
       "      <th>0</th>\n",
       "      <td>406597.5</td>\n",
       "      <td>202500.0</td>\n",
       "      <td>2.007889</td>\n",
       "      <td>24700.5</td>\n",
       "      <td>202500.0</td>\n",
       "      <td>0.121978</td>\n",
       "      <td>24700.5</td>\n",
       "      <td>406597.5</td>\n",
       "      <td>0.060749</td>\n",
       "      <td>-637.0</td>\n",
       "      <td>-9461.0</td>\n",
       "      <td>0.067329</td>\n",
       "    </tr>\n",
       "    <tr>\n",
       "      <th>1</th>\n",
       "      <td>1293502.5</td>\n",
       "      <td>270000.0</td>\n",
       "      <td>4.790750</td>\n",
       "      <td>35698.5</td>\n",
       "      <td>270000.0</td>\n",
       "      <td>0.132217</td>\n",
       "      <td>35698.5</td>\n",
       "      <td>1293502.5</td>\n",
       "      <td>0.027598</td>\n",
       "      <td>-1188.0</td>\n",
       "      <td>-16765.0</td>\n",
       "      <td>0.070862</td>\n",
       "    </tr>\n",
       "    <tr>\n",
       "      <th>2</th>\n",
       "      <td>135000.0</td>\n",
       "      <td>67500.0</td>\n",
       "      <td>2.000000</td>\n",
       "      <td>6750.0</td>\n",
       "      <td>67500.0</td>\n",
       "      <td>0.100000</td>\n",
       "      <td>6750.0</td>\n",
       "      <td>135000.0</td>\n",
       "      <td>0.050000</td>\n",
       "      <td>-225.0</td>\n",
       "      <td>-19046.0</td>\n",
       "      <td>0.011814</td>\n",
       "    </tr>\n",
       "    <tr>\n",
       "      <th>3</th>\n",
       "      <td>312682.5</td>\n",
       "      <td>135000.0</td>\n",
       "      <td>2.316167</td>\n",
       "      <td>29686.5</td>\n",
       "      <td>135000.0</td>\n",
       "      <td>0.219900</td>\n",
       "      <td>29686.5</td>\n",
       "      <td>312682.5</td>\n",
       "      <td>0.094941</td>\n",
       "      <td>-3039.0</td>\n",
       "      <td>-19005.0</td>\n",
       "      <td>0.159905</td>\n",
       "    </tr>\n",
       "    <tr>\n",
       "      <th>4</th>\n",
       "      <td>513000.0</td>\n",
       "      <td>121500.0</td>\n",
       "      <td>4.222222</td>\n",
       "      <td>21865.5</td>\n",
       "      <td>121500.0</td>\n",
       "      <td>0.179963</td>\n",
       "      <td>21865.5</td>\n",
       "      <td>513000.0</td>\n",
       "      <td>0.042623</td>\n",
       "      <td>-3038.0</td>\n",
       "      <td>-19932.0</td>\n",
       "      <td>0.152418</td>\n",
       "    </tr>\n",
       "    <tr>\n",
       "      <th>...</th>\n",
       "      <td>...</td>\n",
       "      <td>...</td>\n",
       "      <td>...</td>\n",
       "      <td>...</td>\n",
       "      <td>...</td>\n",
       "      <td>...</td>\n",
       "      <td>...</td>\n",
       "      <td>...</td>\n",
       "      <td>...</td>\n",
       "      <td>...</td>\n",
       "      <td>...</td>\n",
       "      <td>...</td>\n",
       "    </tr>\n",
       "    <tr>\n",
       "      <th>307506</th>\n",
       "      <td>254700.0</td>\n",
       "      <td>157500.0</td>\n",
       "      <td>1.617143</td>\n",
       "      <td>27558.0</td>\n",
       "      <td>157500.0</td>\n",
       "      <td>0.174971</td>\n",
       "      <td>27558.0</td>\n",
       "      <td>254700.0</td>\n",
       "      <td>0.108198</td>\n",
       "      <td>-236.0</td>\n",
       "      <td>-9327.0</td>\n",
       "      <td>0.025303</td>\n",
       "    </tr>\n",
       "    <tr>\n",
       "      <th>307507</th>\n",
       "      <td>269550.0</td>\n",
       "      <td>72000.0</td>\n",
       "      <td>3.743750</td>\n",
       "      <td>12001.5</td>\n",
       "      <td>72000.0</td>\n",
       "      <td>0.166687</td>\n",
       "      <td>12001.5</td>\n",
       "      <td>269550.0</td>\n",
       "      <td>0.044524</td>\n",
       "      <td>0.0</td>\n",
       "      <td>-20775.0</td>\n",
       "      <td>-0.000000</td>\n",
       "    </tr>\n",
       "    <tr>\n",
       "      <th>307508</th>\n",
       "      <td>677664.0</td>\n",
       "      <td>153000.0</td>\n",
       "      <td>4.429176</td>\n",
       "      <td>29979.0</td>\n",
       "      <td>153000.0</td>\n",
       "      <td>0.195941</td>\n",
       "      <td>29979.0</td>\n",
       "      <td>677664.0</td>\n",
       "      <td>0.044239</td>\n",
       "      <td>-7921.0</td>\n",
       "      <td>-14966.0</td>\n",
       "      <td>0.529266</td>\n",
       "    </tr>\n",
       "    <tr>\n",
       "      <th>307509</th>\n",
       "      <td>370107.0</td>\n",
       "      <td>171000.0</td>\n",
       "      <td>2.164368</td>\n",
       "      <td>20205.0</td>\n",
       "      <td>171000.0</td>\n",
       "      <td>0.118158</td>\n",
       "      <td>20205.0</td>\n",
       "      <td>370107.0</td>\n",
       "      <td>0.054592</td>\n",
       "      <td>-4786.0</td>\n",
       "      <td>-11961.0</td>\n",
       "      <td>0.400134</td>\n",
       "    </tr>\n",
       "    <tr>\n",
       "      <th>307510</th>\n",
       "      <td>675000.0</td>\n",
       "      <td>157500.0</td>\n",
       "      <td>4.285714</td>\n",
       "      <td>49117.5</td>\n",
       "      <td>157500.0</td>\n",
       "      <td>0.311857</td>\n",
       "      <td>49117.5</td>\n",
       "      <td>675000.0</td>\n",
       "      <td>0.072767</td>\n",
       "      <td>-1262.0</td>\n",
       "      <td>-16856.0</td>\n",
       "      <td>0.074869</td>\n",
       "    </tr>\n",
       "  </tbody>\n",
       "</table>\n",
       "<p>307511 rows × 12 columns</p>\n",
       "</div>"
      ],
      "text/plain": [
       "        AMT_CREDIT  AMT_INCOME_TOTAL  CREDIT_INCOME_PERCENT  AMT_ANNUITY  \\\n",
       "0         406597.5          202500.0               2.007889      24700.5   \n",
       "1        1293502.5          270000.0               4.790750      35698.5   \n",
       "2         135000.0           67500.0               2.000000       6750.0   \n",
       "3         312682.5          135000.0               2.316167      29686.5   \n",
       "4         513000.0          121500.0               4.222222      21865.5   \n",
       "...            ...               ...                    ...          ...   \n",
       "307506    254700.0          157500.0               1.617143      27558.0   \n",
       "307507    269550.0           72000.0               3.743750      12001.5   \n",
       "307508    677664.0          153000.0               4.429176      29979.0   \n",
       "307509    370107.0          171000.0               2.164368      20205.0   \n",
       "307510    675000.0          157500.0               4.285714      49117.5   \n",
       "\n",
       "        AMT_INCOME_TOTAL  ANNUITY_INCOME_PERCENT  AMT_ANNUITY  AMT_CREDIT  \\\n",
       "0               202500.0                0.121978      24700.5    406597.5   \n",
       "1               270000.0                0.132217      35698.5   1293502.5   \n",
       "2                67500.0                0.100000       6750.0    135000.0   \n",
       "3               135000.0                0.219900      29686.5    312682.5   \n",
       "4               121500.0                0.179963      21865.5    513000.0   \n",
       "...                  ...                     ...          ...         ...   \n",
       "307506          157500.0                0.174971      27558.0    254700.0   \n",
       "307507           72000.0                0.166687      12001.5    269550.0   \n",
       "307508          153000.0                0.195941      29979.0    677664.0   \n",
       "307509          171000.0                0.118158      20205.0    370107.0   \n",
       "307510          157500.0                0.311857      49117.5    675000.0   \n",
       "\n",
       "        CREDIT_TERM  DAYS_EMPLOYED  DAYS_BIRTH  DAYS_EMPLOYED_PERCENT  \n",
       "0          0.060749         -637.0     -9461.0               0.067329  \n",
       "1          0.027598        -1188.0    -16765.0               0.070862  \n",
       "2          0.050000         -225.0    -19046.0               0.011814  \n",
       "3          0.094941        -3039.0    -19005.0               0.159905  \n",
       "4          0.042623        -3038.0    -19932.0               0.152418  \n",
       "...             ...            ...         ...                    ...  \n",
       "307506     0.108198         -236.0     -9327.0               0.025303  \n",
       "307507     0.044524            0.0    -20775.0              -0.000000  \n",
       "307508     0.044239        -7921.0    -14966.0               0.529266  \n",
       "307509     0.054592        -4786.0    -11961.0               0.400134  \n",
       "307510     0.072767        -1262.0    -16856.0               0.074869  \n",
       "\n",
       "[307511 rows x 12 columns]"
      ]
     },
     "execution_count": 16,
     "metadata": {},
     "output_type": "execute_result"
    }
   ],
   "source": [
    "app_train[['AMT_CREDIT', 'AMT_INCOME_TOTAL', 'CREDIT_INCOME_PERCENT',\n",
    "           'AMT_ANNUITY','AMT_INCOME_TOTAL', 'ANNUITY_INCOME_PERCENT',\n",
    "           'AMT_ANNUITY', 'AMT_CREDIT','CREDIT_TERM',\n",
    "           'DAYS_EMPLOYED', 'DAYS_BIRTH', 'DAYS_EMPLOYED_PERCENT' ]]"
   ]
  },
  {
   "cell_type": "markdown",
   "id": "auburn-devon",
   "metadata": {},
   "source": [
    "# Ajout des donnees exterieures"
   ]
  },
  {
   "cell_type": "code",
   "execution_count": 17,
   "id": "optional-savage",
   "metadata": {
    "_cell_guid": "79c7e3d0-c299-4dcb-8224-4455121ee9b0",
    "_uuid": "d629ff2d2480ee46fbb7e2d37f6b5fab8052498a"
   },
   "outputs": [],
   "source": [
    "# Read in bureau\n",
    "bureau = pd.read_csv('dataset/bureau.csv')\n"
   ]
  },
  {
   "cell_type": "code",
   "execution_count": 18,
   "id": "stuffed-vacuum",
   "metadata": {
    "_uuid": "6665d87bd3a157c20fb5a383322aa153005cad2b"
   },
   "outputs": [
    {
     "data": {
      "text/html": [
       "<div>\n",
       "<style scoped>\n",
       "    .dataframe tbody tr th:only-of-type {\n",
       "        vertical-align: middle;\n",
       "    }\n",
       "\n",
       "    .dataframe tbody tr th {\n",
       "        vertical-align: top;\n",
       "    }\n",
       "\n",
       "    .dataframe thead th {\n",
       "        text-align: right;\n",
       "    }\n",
       "</style>\n",
       "<table border=\"1\" class=\"dataframe\">\n",
       "  <thead>\n",
       "    <tr style=\"text-align: right;\">\n",
       "      <th></th>\n",
       "      <th>SK_ID_CURR</th>\n",
       "      <th>previous_loan_counts</th>\n",
       "    </tr>\n",
       "  </thead>\n",
       "  <tbody>\n",
       "    <tr>\n",
       "      <th>0</th>\n",
       "      <td>100001</td>\n",
       "      <td>7</td>\n",
       "    </tr>\n",
       "    <tr>\n",
       "      <th>1</th>\n",
       "      <td>100002</td>\n",
       "      <td>8</td>\n",
       "    </tr>\n",
       "    <tr>\n",
       "      <th>2</th>\n",
       "      <td>100003</td>\n",
       "      <td>4</td>\n",
       "    </tr>\n",
       "    <tr>\n",
       "      <th>3</th>\n",
       "      <td>100004</td>\n",
       "      <td>2</td>\n",
       "    </tr>\n",
       "    <tr>\n",
       "      <th>4</th>\n",
       "      <td>100005</td>\n",
       "      <td>3</td>\n",
       "    </tr>\n",
       "  </tbody>\n",
       "</table>\n",
       "</div>"
      ],
      "text/plain": [
       "   SK_ID_CURR  previous_loan_counts\n",
       "0      100001                     7\n",
       "1      100002                     8\n",
       "2      100003                     4\n",
       "3      100004                     2\n",
       "4      100005                     3"
      ]
     },
     "execution_count": 18,
     "metadata": {},
     "output_type": "execute_result"
    }
   ],
   "source": [
    "# Groupby the client id (SK_ID_CURR), count the number of previous loans, and rename the column\n",
    "previous_loan_counts = bureau.groupby('SK_ID_CURR', as_index=False)['SK_ID_BUREAU'].count().rename(columns = {'SK_ID_BUREAU': 'previous_loan_counts'})\n",
    "previous_loan_counts.head()"
   ]
  },
  {
   "cell_type": "code",
   "execution_count": 19,
   "id": "armed-orlando",
   "metadata": {
    "_uuid": "1adcc4acb891adae8646211db629fb263660c2bb"
   },
   "outputs": [
    {
     "data": {
      "text/html": [
       "<div>\n",
       "<style scoped>\n",
       "    .dataframe tbody tr th:only-of-type {\n",
       "        vertical-align: middle;\n",
       "    }\n",
       "\n",
       "    .dataframe tbody tr th {\n",
       "        vertical-align: top;\n",
       "    }\n",
       "\n",
       "    .dataframe thead th {\n",
       "        text-align: right;\n",
       "    }\n",
       "</style>\n",
       "<table border=\"1\" class=\"dataframe\">\n",
       "  <thead>\n",
       "    <tr style=\"text-align: right;\">\n",
       "      <th></th>\n",
       "      <th>SK_ID_CURR</th>\n",
       "      <th>TARGET</th>\n",
       "      <th>NAME_CONTRACT_TYPE</th>\n",
       "      <th>FLAG_OWN_CAR</th>\n",
       "      <th>FLAG_OWN_REALTY</th>\n",
       "      <th>CNT_CHILDREN</th>\n",
       "      <th>AMT_INCOME_TOTAL</th>\n",
       "      <th>AMT_CREDIT</th>\n",
       "      <th>AMT_ANNUITY</th>\n",
       "      <th>AMT_GOODS_PRICE</th>\n",
       "      <th>...</th>\n",
       "      <th>WALLSMATERIAL_MODE_Wooden</th>\n",
       "      <th>EMERGENCYSTATE_MODE_No</th>\n",
       "      <th>EMERGENCYSTATE_MODE_NonRenseigne</th>\n",
       "      <th>EMERGENCYSTATE_MODE_Yes</th>\n",
       "      <th>DAYS_EMPLOYED_ANOM</th>\n",
       "      <th>CREDIT_INCOME_PERCENT</th>\n",
       "      <th>ANNUITY_INCOME_PERCENT</th>\n",
       "      <th>CREDIT_TERM</th>\n",
       "      <th>DAYS_EMPLOYED_PERCENT</th>\n",
       "      <th>previous_loan_counts</th>\n",
       "    </tr>\n",
       "  </thead>\n",
       "  <tbody>\n",
       "    <tr>\n",
       "      <th>0</th>\n",
       "      <td>100002.0</td>\n",
       "      <td>1.0</td>\n",
       "      <td>0</td>\n",
       "      <td>0</td>\n",
       "      <td>1</td>\n",
       "      <td>0.0</td>\n",
       "      <td>202500.0</td>\n",
       "      <td>406597.5</td>\n",
       "      <td>24700.5</td>\n",
       "      <td>351000.0</td>\n",
       "      <td>...</td>\n",
       "      <td>0</td>\n",
       "      <td>1</td>\n",
       "      <td>0</td>\n",
       "      <td>0</td>\n",
       "      <td>0</td>\n",
       "      <td>2.007889</td>\n",
       "      <td>0.121978</td>\n",
       "      <td>0.060749</td>\n",
       "      <td>0.067329</td>\n",
       "      <td>8.0</td>\n",
       "    </tr>\n",
       "    <tr>\n",
       "      <th>1</th>\n",
       "      <td>100003.0</td>\n",
       "      <td>0.0</td>\n",
       "      <td>0</td>\n",
       "      <td>0</td>\n",
       "      <td>0</td>\n",
       "      <td>0.0</td>\n",
       "      <td>270000.0</td>\n",
       "      <td>1293502.5</td>\n",
       "      <td>35698.5</td>\n",
       "      <td>1129500.0</td>\n",
       "      <td>...</td>\n",
       "      <td>0</td>\n",
       "      <td>1</td>\n",
       "      <td>0</td>\n",
       "      <td>0</td>\n",
       "      <td>0</td>\n",
       "      <td>4.790750</td>\n",
       "      <td>0.132217</td>\n",
       "      <td>0.027598</td>\n",
       "      <td>0.070862</td>\n",
       "      <td>4.0</td>\n",
       "    </tr>\n",
       "    <tr>\n",
       "      <th>2</th>\n",
       "      <td>100004.0</td>\n",
       "      <td>0.0</td>\n",
       "      <td>1</td>\n",
       "      <td>1</td>\n",
       "      <td>1</td>\n",
       "      <td>0.0</td>\n",
       "      <td>67500.0</td>\n",
       "      <td>135000.0</td>\n",
       "      <td>6750.0</td>\n",
       "      <td>135000.0</td>\n",
       "      <td>...</td>\n",
       "      <td>0</td>\n",
       "      <td>0</td>\n",
       "      <td>1</td>\n",
       "      <td>0</td>\n",
       "      <td>0</td>\n",
       "      <td>2.000000</td>\n",
       "      <td>0.100000</td>\n",
       "      <td>0.050000</td>\n",
       "      <td>0.011814</td>\n",
       "      <td>2.0</td>\n",
       "    </tr>\n",
       "    <tr>\n",
       "      <th>3</th>\n",
       "      <td>100006.0</td>\n",
       "      <td>0.0</td>\n",
       "      <td>0</td>\n",
       "      <td>0</td>\n",
       "      <td>1</td>\n",
       "      <td>0.0</td>\n",
       "      <td>135000.0</td>\n",
       "      <td>312682.5</td>\n",
       "      <td>29686.5</td>\n",
       "      <td>297000.0</td>\n",
       "      <td>...</td>\n",
       "      <td>0</td>\n",
       "      <td>0</td>\n",
       "      <td>1</td>\n",
       "      <td>0</td>\n",
       "      <td>0</td>\n",
       "      <td>2.316167</td>\n",
       "      <td>0.219900</td>\n",
       "      <td>0.094941</td>\n",
       "      <td>0.159905</td>\n",
       "      <td>0.0</td>\n",
       "    </tr>\n",
       "    <tr>\n",
       "      <th>4</th>\n",
       "      <td>100007.0</td>\n",
       "      <td>0.0</td>\n",
       "      <td>0</td>\n",
       "      <td>0</td>\n",
       "      <td>1</td>\n",
       "      <td>0.0</td>\n",
       "      <td>121500.0</td>\n",
       "      <td>513000.0</td>\n",
       "      <td>21865.5</td>\n",
       "      <td>513000.0</td>\n",
       "      <td>...</td>\n",
       "      <td>0</td>\n",
       "      <td>0</td>\n",
       "      <td>1</td>\n",
       "      <td>0</td>\n",
       "      <td>0</td>\n",
       "      <td>4.222222</td>\n",
       "      <td>0.179963</td>\n",
       "      <td>0.042623</td>\n",
       "      <td>0.152418</td>\n",
       "      <td>1.0</td>\n",
       "    </tr>\n",
       "  </tbody>\n",
       "</table>\n",
       "<p>5 rows × 255 columns</p>\n",
       "</div>"
      ],
      "text/plain": [
       "   SK_ID_CURR  TARGET  NAME_CONTRACT_TYPE  FLAG_OWN_CAR  FLAG_OWN_REALTY  \\\n",
       "0    100002.0     1.0                   0             0                1   \n",
       "1    100003.0     0.0                   0             0                0   \n",
       "2    100004.0     0.0                   1             1                1   \n",
       "3    100006.0     0.0                   0             0                1   \n",
       "4    100007.0     0.0                   0             0                1   \n",
       "\n",
       "   CNT_CHILDREN  AMT_INCOME_TOTAL  AMT_CREDIT  AMT_ANNUITY  AMT_GOODS_PRICE  \\\n",
       "0           0.0          202500.0    406597.5      24700.5         351000.0   \n",
       "1           0.0          270000.0   1293502.5      35698.5        1129500.0   \n",
       "2           0.0           67500.0    135000.0       6750.0         135000.0   \n",
       "3           0.0          135000.0    312682.5      29686.5         297000.0   \n",
       "4           0.0          121500.0    513000.0      21865.5         513000.0   \n",
       "\n",
       "   ...  WALLSMATERIAL_MODE_Wooden  EMERGENCYSTATE_MODE_No  \\\n",
       "0  ...                          0                       1   \n",
       "1  ...                          0                       1   \n",
       "2  ...                          0                       0   \n",
       "3  ...                          0                       0   \n",
       "4  ...                          0                       0   \n",
       "\n",
       "   EMERGENCYSTATE_MODE_NonRenseigne  EMERGENCYSTATE_MODE_Yes  \\\n",
       "0                                 0                        0   \n",
       "1                                 0                        0   \n",
       "2                                 1                        0   \n",
       "3                                 1                        0   \n",
       "4                                 1                        0   \n",
       "\n",
       "   DAYS_EMPLOYED_ANOM  CREDIT_INCOME_PERCENT  ANNUITY_INCOME_PERCENT  \\\n",
       "0                   0               2.007889                0.121978   \n",
       "1                   0               4.790750                0.132217   \n",
       "2                   0               2.000000                0.100000   \n",
       "3                   0               2.316167                0.219900   \n",
       "4                   0               4.222222                0.179963   \n",
       "\n",
       "   CREDIT_TERM  DAYS_EMPLOYED_PERCENT  previous_loan_counts  \n",
       "0     0.060749               0.067329                   8.0  \n",
       "1     0.027598               0.070862                   4.0  \n",
       "2     0.050000               0.011814                   2.0  \n",
       "3     0.094941               0.159905                   0.0  \n",
       "4     0.042623               0.152418                   1.0  \n",
       "\n",
       "[5 rows x 255 columns]"
      ]
     },
     "execution_count": 19,
     "metadata": {},
     "output_type": "execute_result"
    }
   ],
   "source": [
    "# Join to the training dataframe\n",
    "app_train = app_train.merge(previous_loan_counts, on = 'SK_ID_CURR', how = 'left')\n",
    "\n",
    "# Fill the missing values with 0 \n",
    "app_train['previous_loan_counts'] = app_train['previous_loan_counts'].fillna(0)\n",
    "app_train.head()"
   ]
  },
  {
   "cell_type": "code",
   "execution_count": 17,
   "id": "decreased-secret",
   "metadata": {},
   "outputs": [
    {
     "data": {
      "text/plain": [
       "SK_ID_CURR                0\n",
       "TARGET                    0\n",
       "NAME_CONTRACT_TYPE        0\n",
       "FLAG_OWN_CAR              0\n",
       "FLAG_OWN_REALTY           0\n",
       "                         ..\n",
       "CREDIT_INCOME_PERCENT     0\n",
       "ANNUITY_INCOME_PERCENT    0\n",
       "CREDIT_TERM               0\n",
       "DAYS_EMPLOYED_PERCENT     0\n",
       "previous_loan_counts      0\n",
       "Length: 255, dtype: int64"
      ]
     },
     "execution_count": 17,
     "metadata": {},
     "output_type": "execute_result"
    }
   ],
   "source": [
    "app_train.isna().sum()"
   ]
  },
  {
   "cell_type": "code",
   "execution_count": null,
   "id": "foster-salem",
   "metadata": {},
   "outputs": [],
   "source": [
    "\n",
    "\n"
   ]
  },
  {
   "cell_type": "code",
   "execution_count": 18,
   "id": "certified-guinea",
   "metadata": {},
   "outputs": [],
   "source": [
    "from sklearn.decomposition import PCA\n",
    "\n",
    "pca_affich = PCA(n_components=2)\n",
    "feat_pca_affich= pca_affich.fit_transform(app_train)"
   ]
  },
  {
   "cell_type": "code",
   "execution_count": 21,
   "id": "objective-escape",
   "metadata": {},
   "outputs": [
    {
     "data": {
      "text/plain": [
       "array([ 56392.1839935 ,  23971.172714  , -48864.49123061, ...,\n",
       "       -23526.77505115,  28718.88228821, -23719.75171691])"
      ]
     },
     "execution_count": 21,
     "metadata": {},
     "output_type": "execute_result"
    }
   ],
   "source": [
    "feat_pca_affich[:,1]"
   ]
  },
  {
   "cell_type": "code",
   "execution_count": 26,
   "id": "former-poster",
   "metadata": {},
   "outputs": [
    {
     "data": {
      "image/png": "[encoded data removed]",
      "text/plain": [
       "<Figure size 432x288 with 1 Axes>"
      ]
     },
     "metadata": {
      "needs_background": "light"
     },
     "output_type": "display_data"
    }
   ],
   "source": [
    "sns.scatterplot(\n",
    "    x=feat_pca_affich[:,0], y=feat_pca_affich[:,1], hue = app_train.TARGET, legend=\"brief\", alpha=0.8, palette='Paired')\n",
    "plt.xlim(-1e6,0.6e7)\n",
    "plt.ylim(-1e6,0.5e7)\n",
    "plt.show()"
   ]
  },
  {
   "cell_type": "code",
   "execution_count": null,
   "id": "impossible-imagination",
   "metadata": {},
   "outputs": [],
   "source": []
  },
  {
   "cell_type": "code",
   "execution_count": null,
   "id": "advisory-wednesday",
   "metadata": {},
   "outputs": [],
   "source": []
  },
  {
   "cell_type": "code",
   "execution_count": null,
   "id": "failing-folder",
   "metadata": {},
   "outputs": [],
   "source": []
  },
  {
   "cell_type": "code",
   "execution_count": null,
   "id": "occupied-crime",
   "metadata": {},
   "outputs": [],
   "source": []
  },
  {
   "cell_type": "code",
   "execution_count": null,
   "id": "sound-dream",
   "metadata": {},
   "outputs": [],
   "source": []
  },
  {
   "cell_type": "markdown",
   "id": "vital-freight",
   "metadata": {},
   "source": [
    "# BASELINE"
   ]
  },
  {
   "cell_type": "code",
   "execution_count": 20,
   "id": "utility-vietnamese",
   "metadata": {},
   "outputs": [],
   "source": [
    "import re\n",
    "from collections import Counter\n",
    "\n",
    "app_train = app_train.rename(columns = lambda x:re.sub('[^A-Za-z0-9_]+', '', x))\n",
    "\n",
    "X = app_train.drop(columns='TARGET').copy()\n",
    "y = app_train['TARGET'].copy()\n"
   ]
  },
  {
   "cell_type": "code",
   "execution_count": 21,
   "id": "accompanied-principal",
   "metadata": {},
   "outputs": [],
   "source": [
    "from sklearn.model_selection import train_test_split\n",
    "\n",
    "X_train, X_val, y_train, y_val = train_test_split(X, y, test_size=0.2, stratify=y, random_state=1944)"
   ]
  },
  {
   "cell_type": "code",
   "execution_count": 22,
   "id": "useful-breakdown",
   "metadata": {},
   "outputs": [
    {
     "name": "stdout",
     "output_type": "stream",
     "text": [
      "y_train Counter({0.0: 226148, 1.0: 19860})\n",
      "y_val Counter({0.0: 56538, 1.0: 4965})\n"
     ]
    }
   ],
   "source": [
    "print('y_train', Counter(y_train))\n",
    "print('y_val', Counter(y_val))"
   ]
  },
  {
   "cell_type": "markdown",
   "id": "ultimate-hardware",
   "metadata": {},
   "source": [
    "### definition metrique et fonction evaluation"
   ]
  },
  {
   "cell_type": "code",
   "execution_count": 23,
   "id": "bored-qatar",
   "metadata": {},
   "outputs": [],
   "source": [
    "# il est important de faire ressortir les FNs car perte de capital\n",
    "# trouver les TP est interessant aussi car interet\n",
    "# les FP sont moins risqués car perte d'interet seulement\n",
    "def custom_metric(y, y_pred):\n",
    "    TP = np.sum( (y==1) & (y_pred==1) )\n",
    "    FP = np.sum( (y==0) & (y_pred==1) )\n",
    "    TN = np.sum( (y==0) & (y_pred==0) )\n",
    "    FN = np.sum( (y==1) & (y_pred==0) )\n",
    "# Fowlkes–Mallows index \n",
    "# https://en.wikipedia.org/wiki/Confusion_matrix\n",
    "# https://en.wikipedia.org/wiki/Fowlkes%E2%80%93Mallows_index\n",
    "# Positive predictive value PPV\n",
    "    PPV = TP / (TP + FP)\n",
    "# Positive predictive value TPR\n",
    "    TPR = TP / (TP + FN)\n",
    "    FMI = np.sqrt( PPV * TPR )\n",
    "    return FMI"
   ]
  },
  {
   "cell_type": "code",
   "execution_count": 24,
   "id": "accessible-blues",
   "metadata": {},
   "outputs": [],
   "source": [
    "from sklearn.metrics import make_scorer\n",
    "\n",
    "custom_scorer = make_scorer(custom_metric, greater_is_better=True )"
   ]
  },
  {
   "cell_type": "code",
   "execution_count": 25,
   "id": "sustained-wesley",
   "metadata": {},
   "outputs": [],
   "source": [
    "from sklearn.metrics import classification_report, confusion_matrix, roc_auc_score, accuracy_score, f1_score, recall_score, precision_score\n",
    "from sklearn.metrics import precision_recall_curve, roc_curve, auc\n",
    "\n",
    "def model_eval_score(model, Xval, yval):\n",
    "    yval_pred = model.predict(Xval)\n",
    "    conf_mat = confusion_matrix(yval, yval_pred)\n",
    "    print(conf_mat)\n",
    "    print(f'Accuracy score    : {accuracy_score(yval, yval_pred):.3}')\n",
    "    print(f'precision score   : {precision_score(yval, yval_pred):.3}')\n",
    "    print(f'recall score      : {recall_score(yval, yval_pred):.3}')\n",
    "    print(f'F1 score          : {f1_score(yval, yval_pred):.3}')\n",
    "    print(f'ROCAUC score      : {roc_auc_score(yval, yval_pred):.3}')\n",
    "    print(f'custom metric FMI : {custom_metric(yval, yval_pred):.3}')\n",
    "    print()\n",
    "#    print(classification_report(yval, yval_pred))\n",
    "\n",
    "def model_eval(model, Xval, yval):\n",
    "    model_eval_score(model, Xval, yval)\n",
    "    \n",
    "    yval_proba = model.predict_proba(Xval)[:, 1]\n",
    "    fpr, tpr, thresholds = roc_curve(yval, yval_proba)\n",
    "    roc_auc = auc(fpr, tpr)\n",
    "\n",
    "    plt.title('Receiver Operating Characteristic')\n",
    "    plt.plot(fpr, tpr, 'b', label = 'AUC = %0.2f' % roc_auc)\n",
    "    plt.legend(loc = 'lower right')\n",
    "    plt.plot([0, 1], [0, 1],'r--')\n",
    "    plt.xlim([0, 1])\n",
    "    plt.ylim([0, 1])\n",
    "    plt.ylabel('True Positive Rate')\n",
    "    plt.xlabel('False Positive Rate')\n",
    "    plt.show()\n",
    "\n"
   ]
  },
  {
   "cell_type": "code",
   "execution_count": null,
   "id": "smoking-interpretation",
   "metadata": {},
   "outputs": [],
   "source": []
  },
  {
   "cell_type": "markdown",
   "id": "continuous-evanescence",
   "metadata": {},
   "source": [
    "## Logistic regression"
   ]
  },
  {
   "cell_type": "code",
   "execution_count": 26,
   "id": "emotional-enclosure",
   "metadata": {},
   "outputs": [
    {
     "name": "stdout",
     "output_type": "stream",
     "text": [
      "[[56538     0]\n",
      " [ 4965     0]]\n",
      "Accuracy score    : 0.919\n",
      "precision score   : 0.0\n",
      "recall score      : 0.0\n",
      "F1 score          : 0.0\n",
      "ROCAUC score      : 0.5\n",
      "custom metric FMI : nan\n",
      "\n"
     ]
    },
    {
     "data": {
      "image/png": "[encoded data removed]",
      "text/plain": [
       "<Figure size 432x288 with 1 Axes>"
      ]
     },
     "metadata": {
      "needs_background": "light"
     },
     "output_type": "display_data"
    }
   ],
   "source": [
    "from sklearn.linear_model import LogisticRegression\n",
    "\n",
    "logis = LogisticRegression(solver='liblinear')\n",
    "logis.fit(X_train, y_train)\n",
    "\n",
    "model_eval(logis, X_val, y_val)"
   ]
  },
  {
   "cell_type": "markdown",
   "id": "catholic-lawsuit",
   "metadata": {},
   "source": [
    "## gestion desequilibre\n",
    "https://www.analyticsvidhya.com/blog/2020/07/10-techniques-to-deal-with-class-imbalance-in-machine-learning/"
   ]
  },
  {
   "cell_type": "markdown",
   "id": "blank-certification",
   "metadata": {},
   "source": [
    "### gestion desequilibre\n",
    "essai sous echantillonage"
   ]
  },
  {
   "cell_type": "code",
   "execution_count": 81,
   "id": "lesbian-timber",
   "metadata": {},
   "outputs": [
    {
     "name": "stdout",
     "output_type": "stream",
     "text": [
      "Counter({0.0: 226148, 1.0: 19860})\n",
      "Counter({0.0: 19860, 1.0: 19860})\n"
     ]
    }
   ],
   "source": [
    "from imblearn.under_sampling import RandomUnderSampler\n",
    "\n",
    "sample = RandomUnderSampler(random_state=1944)\n",
    "\n",
    "# fit and apply the transform\n",
    "X_under, y_under = sample.fit_resample(X_train, y_train)\n",
    "\n",
    "print(Counter(y_train))\n",
    "print(Counter(y_under))\n"
   ]
  },
  {
   "cell_type": "code",
   "execution_count": 100,
   "id": "foster-crystal",
   "metadata": {},
   "outputs": [
    {
     "name": "stdout",
     "output_type": "stream",
     "text": [
      "[[35285 21253]\n",
      " [ 2324  2641]]\n",
      "Accuracy score    : 0.617\n",
      "precision score   : 0.111\n",
      "recall score      : 0.532\n",
      "F1 score          : 0.183\n",
      "ROCAUC score      : 0.578\n",
      "custom metric FMI : 0.242\n",
      "\n",
      "              precision    recall  f1-score   support\n",
      "\n",
      "         0.0       0.94      0.62      0.75     56538\n",
      "         1.0       0.11      0.53      0.18      4965\n",
      "\n",
      "    accuracy                           0.62     61503\n",
      "   macro avg       0.52      0.58      0.47     61503\n",
      "weighted avg       0.87      0.62      0.70     61503\n",
      "\n"
     ]
    },
    {
     "data": {
      "image/png": "[encoded data removed]",
      "text/plain": [
       "<Figure size 432x288 with 1 Axes>"
      ]
     },
     "metadata": {
      "needs_background": "light"
     },
     "output_type": "display_data"
    }
   ],
   "source": [
    "logis_under = LogisticRegression(solver='liblinear')\n",
    "logis_under.fit(X_under, y_under)\n",
    "\n",
    "model_eval(logis_under, X_val, y_val)"
   ]
  },
  {
   "cell_type": "code",
   "execution_count": 82,
   "id": "organized-naples",
   "metadata": {},
   "outputs": [
    {
     "name": "stdout",
     "output_type": "stream",
     "text": [
      "Counter({0.0: 226148, 1.0: 19860})\n",
      "Counter({0.0: 19860, 1.0: 19860})\n"
     ]
    }
   ],
   "source": [
    "from imblearn.under_sampling import NearMiss\n",
    "\n",
    "\n",
    "sample_undermiss = NearMiss()\n",
    "\n",
    "# fit and apply the transform\n",
    "X_undermis, y_undermiss = sample_undermiss.fit_resample(X_train, y_train)\n",
    "\n",
    "print(Counter(y_train))\n",
    "print(Counter(y_undermiss))\n"
   ]
  },
  {
   "cell_type": "code",
   "execution_count": 111,
   "id": "unsigned-requirement",
   "metadata": {},
   "outputs": [
    {
     "name": "stdout",
     "output_type": "stream",
     "text": [
      "[[24791 31747]\n",
      " [ 1740  3225]]\n",
      "Accuracy score    : 0.456\n",
      "precision score   : 0.0922\n",
      "recall score      : 0.65\n",
      "F1 score          : 0.162\n",
      "ROCAUC score      : 0.544\n",
      "custom metric FMI : 0.245\n",
      "\n",
      "              precision    recall  f1-score   support\n",
      "\n",
      "         0.0       0.93      0.44      0.60     56538\n",
      "         1.0       0.09      0.65      0.16      4965\n",
      "\n",
      "    accuracy                           0.46     61503\n",
      "   macro avg       0.51      0.54      0.38     61503\n",
      "weighted avg       0.87      0.46      0.56     61503\n",
      "\n"
     ]
    },
    {
     "data": {
      "image/png": "[encoded data removed]",
      "text/plain": [
       "<Figure size 432x288 with 1 Axes>"
      ]
     },
     "metadata": {
      "needs_background": "light"
     },
     "output_type": "display_data"
    }
   ],
   "source": [
    "logis_undermiss = LogisticRegression(solver='liblinear')\n",
    "logis_undermiss.fit(X_undermis, y_undermiss)\n",
    "\n",
    "model_eval(logis_undermiss, X_val, y_val)"
   ]
  },
  {
   "cell_type": "markdown",
   "id": "controlled-owner",
   "metadata": {},
   "source": [
    "### gestion desequilibre\n",
    "essai surechantillonage"
   ]
  },
  {
   "cell_type": "code",
   "execution_count": 83,
   "id": "responsible-killer",
   "metadata": {},
   "outputs": [
    {
     "name": "stdout",
     "output_type": "stream",
     "text": [
      "Counter({0.0: 226148, 1.0: 19860})\n",
      "Counter({0.0: 226148, 1.0: 113074})\n"
     ]
    }
   ],
   "source": [
    "from imblearn.over_sampling import SMOTE\n",
    "\n",
    "sample = SMOTE(sampling_strategy=0.5, random_state=1944)\n",
    "\n",
    "# fit and apply the transform\n",
    "X_over, y_over = sample.fit_resample(X_train, y_train)\n",
    "\n",
    "print(Counter(y_train))\n",
    "print(Counter(y_over))\n"
   ]
  },
  {
   "cell_type": "code",
   "execution_count": 103,
   "id": "dominant-parameter",
   "metadata": {},
   "outputs": [
    {
     "name": "stdout",
     "output_type": "stream",
     "text": [
      "[[55414  1124]\n",
      " [ 4702   263]]\n",
      "Accuracy score    : 0.905\n",
      "precision score   : 0.19\n",
      "recall score      : 0.053\n",
      "F1 score          : 0.0828\n",
      "ROCAUC score      : 0.517\n",
      "custom metric FMI : 0.1\n",
      "\n",
      "              precision    recall  f1-score   support\n",
      "\n",
      "         0.0       0.92      0.98      0.95     56538\n",
      "         1.0       0.19      0.05      0.08      4965\n",
      "\n",
      "    accuracy                           0.91     61503\n",
      "   macro avg       0.56      0.52      0.52     61503\n",
      "weighted avg       0.86      0.91      0.88     61503\n",
      "\n"
     ]
    },
    {
     "data": {
      "image/png": "[encoded data removed]",
      "text/plain": [
       "<Figure size 432x288 with 1 Axes>"
      ]
     },
     "metadata": {
      "needs_background": "light"
     },
     "output_type": "display_data"
    }
   ],
   "source": [
    "logis_over = LogisticRegression(solver='liblinear')\n",
    "logis_over.fit(X_over, y_over)\n",
    "\n",
    "model_eval(logis_over, X_val, y_val)"
   ]
  },
  {
   "cell_type": "markdown",
   "id": "ordered-bones",
   "metadata": {},
   "source": [
    "### gestion desequilibre\n",
    "essai melange sous-echantillonage et surechantillonage"
   ]
  },
  {
   "cell_type": "code",
   "execution_count": 84,
   "id": "unable-horizontal",
   "metadata": {},
   "outputs": [
    {
     "name": "stdout",
     "output_type": "stream",
     "text": [
      "Counter({0.0: 226148, 1.0: 19860})\n",
      "Counter({1.0: 207302, 0.0: 139787})\n"
     ]
    }
   ],
   "source": [
    "from imblearn.combine import SMOTEENN\n",
    "\n",
    "sample = SMOTEENN(random_state=1944)\n",
    "\n",
    "# fit and apply the transform\n",
    "X_smote, y_smote = sample.fit_resample(X_train, y_train)\n",
    "\n",
    "print(Counter(y_train))\n",
    "print(Counter(y_smote))\n"
   ]
  },
  {
   "cell_type": "code",
   "execution_count": 107,
   "id": "adjusted-factor",
   "metadata": {},
   "outputs": [
    {
     "name": "stdout",
     "output_type": "stream",
     "text": [
      "[[16729 39809]\n",
      " [  945  4020]]\n",
      "Accuracy score    : 0.337\n",
      "precision score   : 0.0917\n",
      "recall score      : 0.81\n",
      "F1 score          : 0.165\n",
      "ROCAUC score      : 0.553\n",
      "custom metric FMI : 0.273\n",
      "\n",
      "              precision    recall  f1-score   support\n",
      "\n",
      "         0.0       0.95      0.30      0.45     56538\n",
      "         1.0       0.09      0.81      0.16      4965\n",
      "\n",
      "    accuracy                           0.34     61503\n",
      "   macro avg       0.52      0.55      0.31     61503\n",
      "weighted avg       0.88      0.34      0.43     61503\n",
      "\n"
     ]
    },
    {
     "data": {
      "image/png": "[encoded data removed]",
      "text/plain": [
       "<Figure size 432x288 with 1 Axes>"
      ]
     },
     "metadata": {
      "needs_background": "light"
     },
     "output_type": "display_data"
    }
   ],
   "source": [
    "logis_smoteenn = LogisticRegression(solver='liblinear')\n",
    "logis_smoteenn.fit(X_smote, y_smote)\n",
    "\n",
    "model_eval(logis_smoteenn, X_val, y_val)"
   ]
  },
  {
   "cell_type": "code",
   "execution_count": null,
   "id": "registered-appeal",
   "metadata": {},
   "outputs": [],
   "source": []
  },
  {
   "cell_type": "code",
   "execution_count": null,
   "id": "pressed-canberra",
   "metadata": {},
   "outputs": [],
   "source": []
  },
  {
   "cell_type": "markdown",
   "id": "quarterly-shock",
   "metadata": {},
   "source": [
    "## Dectision Tree"
   ]
  },
  {
   "cell_type": "code",
   "execution_count": 91,
   "id": "genuine-anime",
   "metadata": {},
   "outputs": [
    {
     "name": "stdout",
     "output_type": "stream",
     "text": [
      "[[51697  4841]\n",
      " [ 4150   815]]\n",
      "Accuracy score    : 0.854\n",
      "precision score   : 0.144\n",
      "recall score      : 0.164\n",
      "F1 score          : 0.153\n",
      "ROCAUC score      : 0.539\n",
      "custom metric FMI : 0.154\n",
      "\n",
      "              precision    recall  f1-score   support\n",
      "\n",
      "         0.0       0.93      0.91      0.92     56538\n",
      "         1.0       0.14      0.16      0.15      4965\n",
      "\n",
      "    accuracy                           0.85     61503\n",
      "   macro avg       0.53      0.54      0.54     61503\n",
      "weighted avg       0.86      0.85      0.86     61503\n",
      "\n"
     ]
    },
    {
     "data": {
      "image/png": "[encoded data removed]",
      "text/plain": [
       "<Figure size 432x288 with 1 Axes>"
      ]
     },
     "metadata": {
      "needs_background": "light"
     },
     "output_type": "display_data"
    }
   ],
   "source": [
    "from sklearn.tree import DecisionTreeClassifier\n",
    "\n",
    "dectree = DecisionTreeClassifier(random_state=1944)\n",
    "dectree.fit(X_train, y_train)\n",
    "model_eval(dectree, X_val, y_val)"
   ]
  },
  {
   "cell_type": "code",
   "execution_count": 112,
   "id": "hourly-metallic",
   "metadata": {},
   "outputs": [],
   "source": [
    "from imblearn.over_sampling import SMOTE\n",
    "\n",
    "sample_under = RandomUnderSampler(random_state=1944)\n",
    "sample_over = SMOTE(sampling_strategy=0.5, random_state=1944)\n",
    "sample_undermiss = NearMiss()\n",
    "sample = SMOTEENN(random_state=1944)\n",
    "\n",
    "\n",
    "# fit and apply the transform\n",
    "X_under, y_under = sample_under.fit_resample(X_train, y_train)\n",
    "X_undermis, y_undermiss = sample_undermiss.fit_resample(X_train, y_train)\n",
    "X_over, y_over = sample_over.fit_resample(X_train, y_train)\n",
    "X_smote, y_smote = sample.fit_resample(X_train, y_train)"
   ]
  },
  {
   "cell_type": "code",
   "execution_count": 113,
   "id": "racial-wages",
   "metadata": {},
   "outputs": [
    {
     "data": {
      "text/plain": [
       "DecisionTreeClassifier(random_state=1944)"
      ]
     },
     "execution_count": 113,
     "metadata": {},
     "output_type": "execute_result"
    }
   ],
   "source": [
    "dectree_under = DecisionTreeClassifier(random_state=1944)\n",
    "dectree_undermiss = DecisionTreeClassifier(random_state=1944)\n",
    "dectree_over = DecisionTreeClassifier(random_state=1944)\n",
    "dectree_smoteenn = DecisionTreeClassifier(random_state=1944)\n",
    "\n",
    "dectree_under.fit(X_under, y_under)\n",
    "dectree_undermiss.fit(X_undermis, y_undermiss)\n",
    "dectree_over.fit(X_over, y_over)\n",
    "dectree_smoteenn.fit(X_smote, y_smote)\n"
   ]
  },
  {
   "cell_type": "code",
   "execution_count": 114,
   "id": "sophisticated-material",
   "metadata": {},
   "outputs": [
    {
     "name": "stdout",
     "output_type": "stream",
     "text": [
      "[[33226 23312]\n",
      " [ 2052  2913]]\n",
      "Accuracy score    : 0.588\n",
      "precision score   : 0.111\n",
      "recall score      : 0.587\n",
      "F1 score          : 0.187\n",
      "ROCAUC score      : 0.587\n",
      "custom metric FMI : 0.255\n",
      "\n",
      "              precision    recall  f1-score   support\n",
      "\n",
      "         0.0       0.94      0.59      0.72     56538\n",
      "         1.0       0.11      0.59      0.19      4965\n",
      "\n",
      "    accuracy                           0.59     61503\n",
      "   macro avg       0.53      0.59      0.46     61503\n",
      "weighted avg       0.87      0.59      0.68     61503\n",
      "\n"
     ]
    },
    {
     "data": {
      "image/png": "[encoded data removed]",
      "text/plain": [
       "<Figure size 432x288 with 1 Axes>"
      ]
     },
     "metadata": {
      "needs_background": "light"
     },
     "output_type": "display_data"
    }
   ],
   "source": [
    "model_eval(dectree_under, X_val, y_val)"
   ]
  },
  {
   "cell_type": "code",
   "execution_count": 115,
   "id": "third-worse",
   "metadata": {},
   "outputs": [
    {
     "name": "stdout",
     "output_type": "stream",
     "text": [
      "[[15496 41042]\n",
      " [ 1171  3794]]\n",
      "Accuracy score    : 0.314\n",
      "precision score   : 0.0846\n",
      "recall score      : 0.764\n",
      "F1 score          : 0.152\n",
      "ROCAUC score      : 0.519\n",
      "custom metric FMI : 0.254\n",
      "\n",
      "              precision    recall  f1-score   support\n",
      "\n",
      "         0.0       0.93      0.27      0.42     56538\n",
      "         1.0       0.08      0.76      0.15      4965\n",
      "\n",
      "    accuracy                           0.31     61503\n",
      "   macro avg       0.51      0.52      0.29     61503\n",
      "weighted avg       0.86      0.31      0.40     61503\n",
      "\n"
     ]
    },
    {
     "data": {
      "image/png": "[encoded data removed]",
      "text/plain": [
       "<Figure size 432x288 with 1 Axes>"
      ]
     },
     "metadata": {
      "needs_background": "light"
     },
     "output_type": "display_data"
    }
   ],
   "source": [
    "model_eval(dectree_undermiss, X_val, y_val)"
   ]
  },
  {
   "cell_type": "code",
   "execution_count": 116,
   "id": "another-duration",
   "metadata": {},
   "outputs": [
    {
     "name": "stdout",
     "output_type": "stream",
     "text": [
      "[[51255  5283]\n",
      " [ 4105   860]]\n",
      "Accuracy score    : 0.847\n",
      "precision score   : 0.14\n",
      "recall score      : 0.173\n",
      "F1 score          : 0.155\n",
      "ROCAUC score      : 0.54\n",
      "custom metric FMI : 0.156\n",
      "\n",
      "              precision    recall  f1-score   support\n",
      "\n",
      "         0.0       0.93      0.91      0.92     56538\n",
      "         1.0       0.14      0.17      0.15      4965\n",
      "\n",
      "    accuracy                           0.85     61503\n",
      "   macro avg       0.53      0.54      0.54     61503\n",
      "weighted avg       0.86      0.85      0.85     61503\n",
      "\n"
     ]
    },
    {
     "data": {
      "image/png": "[encoded data removed]",
      "text/plain": [
       "<Figure size 432x288 with 1 Axes>"
      ]
     },
     "metadata": {
      "needs_background": "light"
     },
     "output_type": "display_data"
    }
   ],
   "source": [
    "model_eval(dectree_over, X_val, y_val)"
   ]
  },
  {
   "cell_type": "code",
   "execution_count": 117,
   "id": "olympic-minnesota",
   "metadata": {},
   "outputs": [
    {
     "name": "stdout",
     "output_type": "stream",
     "text": [
      "[[48994  7544]\n",
      " [ 3831  1134]]\n",
      "Accuracy score    : 0.815\n",
      "precision score   : 0.131\n",
      "recall score      : 0.228\n",
      "F1 score          : 0.166\n",
      "ROCAUC score      : 0.547\n",
      "custom metric FMI : 0.173\n",
      "\n",
      "              precision    recall  f1-score   support\n",
      "\n",
      "         0.0       0.93      0.87      0.90     56538\n",
      "         1.0       0.13      0.23      0.17      4965\n",
      "\n",
      "    accuracy                           0.82     61503\n",
      "   macro avg       0.53      0.55      0.53     61503\n",
      "weighted avg       0.86      0.82      0.84     61503\n",
      "\n"
     ]
    },
    {
     "data": {
      "image/png": "[encoded data removed]",
      "text/plain": [
       "<Figure size 432x288 with 1 Axes>"
      ]
     },
     "metadata": {
      "needs_background": "light"
     },
     "output_type": "display_data"
    }
   ],
   "source": [
    "model_eval(dectree_smoteenn, X_val, y_val)"
   ]
  },
  {
   "cell_type": "markdown",
   "id": "isolated-mainland",
   "metadata": {},
   "source": [
    "## RandomForest"
   ]
  },
  {
   "cell_type": "code",
   "execution_count": 27,
   "id": "portable-collector",
   "metadata": {},
   "outputs": [
    {
     "name": "stdout",
     "output_type": "stream",
     "text": [
      "[[56538     0]\n",
      " [ 4965     0]]\n",
      "Accuracy score    : 0.919\n",
      "precision score   : 0.0\n",
      "recall score      : 0.0\n",
      "F1 score          : 0.0\n",
      "ROCAUC score      : 0.5\n",
      "custom metric FMI : nan\n",
      "\n"
     ]
    },
    {
     "data": {
      "image/png": "[encoded data removed]",
      "text/plain": [
       "<Figure size 432x288 with 1 Axes>"
      ]
     },
     "metadata": {
      "needs_background": "light"
     },
     "output_type": "display_data"
    }
   ],
   "source": [
    "from sklearn.ensemble import RandomForestClassifier\n",
    "\n",
    "randomForest = RandomForestClassifier(random_state=1944)\n",
    "\n",
    "randomForest.fit(X_train, y_train)\n",
    "model_eval(randomForest, X_val, y_val)"
   ]
  },
  {
   "cell_type": "code",
   "execution_count": 46,
   "id": "exceptional-writer",
   "metadata": {},
   "outputs": [
    {
     "name": "stdout",
     "output_type": "stream",
     "text": [
      "[[56519    19]\n",
      " [ 4943    22]]\n",
      "Accuracy score    : 0.919\n",
      "precision score   : 0.537\n",
      "recall score      : 0.00443\n",
      "F1 score          : 0.00879\n",
      "ROCAUC score      : 0.502\n",
      "custom metric FMI : 0.0488\n",
      "\n"
     ]
    },
    {
     "data": {
      "image/png": "[encoded data removed]",
      "text/plain": [
       "<Figure size 432x288 with 1 Axes>"
      ]
     },
     "metadata": {
      "needs_background": "light"
     },
     "output_type": "display_data"
    }
   ],
   "source": [
    "randomForest_weight = RandomForestClassifier(random_state=1944, class_weight={0:10,1:1})\n",
    "\n",
    "randomForest_weight.fit(X_train, y_train)\n",
    "model_eval(randomForest_weight, X_val, y_val)"
   ]
  },
  {
   "cell_type": "code",
   "execution_count": 85,
   "id": "graduate-hartford",
   "metadata": {},
   "outputs": [
    {
     "data": {
      "text/plain": [
       "RandomForestClassifier(random_state=1944)"
      ]
     },
     "execution_count": 85,
     "metadata": {},
     "output_type": "execute_result"
    }
   ],
   "source": [
    "randomForest_under = RandomForestClassifier(random_state=1944)\n",
    "randomForest_undermiss = RandomForestClassifier(random_state=1944)\n",
    "randomForest_over = RandomForestClassifier(random_state=1944)\n",
    "randomForest_smoteenn = RandomForestClassifier(random_state=1944)\n",
    "\n",
    "randomForest_under.fit(X_under, y_under)\n",
    "randomForest_undermiss.fit(X_undermis, y_undermiss)\n",
    "randomForest_over.fit(X_over, y_over)\n",
    "randomForest_smoteenn.fit(X_smote, y_smote)\n"
   ]
  },
  {
   "cell_type": "code",
   "execution_count": 119,
   "id": "charged-greece",
   "metadata": {},
   "outputs": [
    {
     "name": "stdout",
     "output_type": "stream",
     "text": [
      "[[39506 17032]\n",
      " [ 1763  3202]]\n",
      "Accuracy score    : 0.694\n",
      "precision score   : 0.158\n",
      "recall score      : 0.645\n",
      "F1 score          : 0.254\n",
      "ROCAUC score      : 0.672\n",
      "custom metric FMI : 0.319\n",
      "\n",
      "              precision    recall  f1-score   support\n",
      "\n",
      "         0.0       0.96      0.70      0.81     56538\n",
      "         1.0       0.16      0.64      0.25      4965\n",
      "\n",
      "    accuracy                           0.69     61503\n",
      "   macro avg       0.56      0.67      0.53     61503\n",
      "weighted avg       0.89      0.69      0.76     61503\n",
      "\n"
     ]
    },
    {
     "data": {
      "image/png": "[encoded data removed]",
      "text/plain": [
       "<Figure size 432x288 with 1 Axes>"
      ]
     },
     "metadata": {
      "needs_background": "light"
     },
     "output_type": "display_data"
    }
   ],
   "source": [
    "model_eval(randomForest_under, X_val, y_val)"
   ]
  },
  {
   "cell_type": "code",
   "execution_count": 120,
   "id": "informal-break",
   "metadata": {},
   "outputs": [
    {
     "name": "stdout",
     "output_type": "stream",
     "text": [
      "[[16187 40351]\n",
      " [  991  3974]]\n",
      "Accuracy score    : 0.328\n",
      "precision score   : 0.0897\n",
      "recall score      : 0.8\n",
      "F1 score          : 0.161\n",
      "ROCAUC score      : 0.543\n",
      "custom metric FMI : 0.268\n",
      "\n",
      "              precision    recall  f1-score   support\n",
      "\n",
      "         0.0       0.94      0.29      0.44     56538\n",
      "         1.0       0.09      0.80      0.16      4965\n",
      "\n",
      "    accuracy                           0.33     61503\n",
      "   macro avg       0.52      0.54      0.30     61503\n",
      "weighted avg       0.87      0.33      0.42     61503\n",
      "\n"
     ]
    },
    {
     "data": {
      "image/png": "[encoded data removed]",
      "text/plain": [
       "<Figure size 432x288 with 1 Axes>"
      ]
     },
     "metadata": {
      "needs_background": "light"
     },
     "output_type": "display_data"
    }
   ],
   "source": [
    "model_eval(randomForest_undermiss, X_val, y_val)"
   ]
  },
  {
   "cell_type": "code",
   "execution_count": 121,
   "id": "resident-detail",
   "metadata": {},
   "outputs": [
    {
     "name": "stdout",
     "output_type": "stream",
     "text": [
      "[[56538     0]\n",
      " [ 4963     2]]\n",
      "Accuracy score    : 0.919\n",
      "precision score   : 1.0\n",
      "recall score      : 0.000403\n",
      "F1 score          : 0.000805\n",
      "ROCAUC score      : 0.5\n",
      "custom metric FMI : 0.0201\n",
      "\n",
      "              precision    recall  f1-score   support\n",
      "\n",
      "         0.0       0.92      1.00      0.96     56538\n",
      "         1.0       1.00      0.00      0.00      4965\n",
      "\n",
      "    accuracy                           0.92     61503\n",
      "   macro avg       0.96      0.50      0.48     61503\n",
      "weighted avg       0.93      0.92      0.88     61503\n",
      "\n"
     ]
    },
    {
     "data": {
      "image/png": "[encoded data removed]",
      "text/plain": [
       "<Figure size 432x288 with 1 Axes>"
      ]
     },
     "metadata": {
      "needs_background": "light"
     },
     "output_type": "display_data"
    }
   ],
   "source": [
    "model_eval(randomForest_over, X_val, y_val)"
   ]
  },
  {
   "cell_type": "code",
   "execution_count": 122,
   "id": "traditional-architect",
   "metadata": {},
   "outputs": [
    {
     "name": "stdout",
     "output_type": "stream",
     "text": [
      "[[56464    74]\n",
      " [ 4911    54]]\n",
      "Accuracy score    : 0.919\n",
      "precision score   : 0.422\n",
      "recall score      : 0.0109\n",
      "F1 score          : 0.0212\n",
      "ROCAUC score      : 0.505\n",
      "custom metric FMI : 0.0677\n",
      "\n",
      "              precision    recall  f1-score   support\n",
      "\n",
      "         0.0       0.92      1.00      0.96     56538\n",
      "         1.0       0.42      0.01      0.02      4965\n",
      "\n",
      "    accuracy                           0.92     61503\n",
      "   macro avg       0.67      0.50      0.49     61503\n",
      "weighted avg       0.88      0.92      0.88     61503\n",
      "\n"
     ]
    },
    {
     "data": {
      "image/png": "[encoded data removed]",
      "text/plain": [
       "<Figure size 432x288 with 1 Axes>"
      ]
     },
     "metadata": {
      "needs_background": "light"
     },
     "output_type": "display_data"
    }
   ],
   "source": [
    "model_eval(randomForest_smoteenn, X_val, y_val)"
   ]
  },
  {
   "cell_type": "code",
   "execution_count": null,
   "id": "conscious-acoustic",
   "metadata": {},
   "outputs": [],
   "source": []
  },
  {
   "cell_type": "markdown",
   "id": "hourly-option",
   "metadata": {},
   "source": [
    "### a priori RandomForest avec strategie d'underFitting semble la plus prometteuse"
   ]
  },
  {
   "cell_type": "code",
   "execution_count": 43,
   "id": "laughing-attraction",
   "metadata": {},
   "outputs": [
    {
     "ename": "NameError",
     "evalue": "name 'logis_under' is not defined",
     "output_type": "error",
     "traceback": [
      "\u001b[1;31m---------------------------------------------------------------------------\u001b[0m",
      "\u001b[1;31mNameError\u001b[0m                                 Traceback (most recent call last)",
      "\u001b[1;32m<ipython-input-43-51229a3bc30f>\u001b[0m in \u001b[0;36m<module>\u001b[1;34m\u001b[0m\n\u001b[1;32m----> 1\u001b[1;33m \u001b[0mmodel_eval_score\u001b[0m\u001b[1;33m(\u001b[0m\u001b[0mlogis_under\u001b[0m\u001b[1;33m,\u001b[0m \u001b[0mX_val\u001b[0m\u001b[1;33m,\u001b[0m \u001b[0my_val\u001b[0m\u001b[1;33m)\u001b[0m\u001b[1;33m\u001b[0m\u001b[1;33m\u001b[0m\u001b[0m\n\u001b[0m",
      "\u001b[1;31mNameError\u001b[0m: name 'logis_under' is not defined"
     ]
    }
   ],
   "source": [
    "model_eval_score(logis_under, X_val, y_val)"
   ]
  },
  {
   "cell_type": "code",
   "execution_count": 125,
   "id": "brief-obligation",
   "metadata": {},
   "outputs": [
    {
     "name": "stdout",
     "output_type": "stream",
     "text": [
      "[[33226 23312]\n",
      " [ 2052  2913]]\n",
      "Accuracy score    : 0.588\n",
      "precision score   : 0.111\n",
      "recall score      : 0.587\n",
      "F1 score          : 0.187\n",
      "ROCAUC score      : 0.587\n",
      "custom metric FMI : 0.255\n",
      "\n"
     ]
    }
   ],
   "source": [
    "model_eval_score(dectree_under, X_val, y_val)"
   ]
  },
  {
   "cell_type": "code",
   "execution_count": 44,
   "id": "parental-conspiracy",
   "metadata": {},
   "outputs": [
    {
     "ename": "NameError",
     "evalue": "name 'randomForest_under' is not defined",
     "output_type": "error",
     "traceback": [
      "\u001b[1;31m---------------------------------------------------------------------------\u001b[0m",
      "\u001b[1;31mNameError\u001b[0m                                 Traceback (most recent call last)",
      "\u001b[1;32m<ipython-input-44-ad0102316a54>\u001b[0m in \u001b[0;36m<module>\u001b[1;34m\u001b[0m\n\u001b[1;32m----> 1\u001b[1;33m \u001b[0mmodel_eval_score\u001b[0m\u001b[1;33m(\u001b[0m\u001b[0mrandomForest_under\u001b[0m\u001b[1;33m,\u001b[0m \u001b[0mX_val\u001b[0m\u001b[1;33m,\u001b[0m \u001b[0my_val\u001b[0m\u001b[1;33m)\u001b[0m\u001b[1;33m\u001b[0m\u001b[1;33m\u001b[0m\u001b[0m\n\u001b[0m",
      "\u001b[1;31mNameError\u001b[0m: name 'randomForest_under' is not defined"
     ]
    }
   ],
   "source": [
    "model_eval_score(randomForest_under, X_val, y_val)"
   ]
  },
  {
   "cell_type": "code",
   "execution_count": null,
   "id": "spanish-position",
   "metadata": {},
   "outputs": [],
   "source": []
  },
  {
   "cell_type": "code",
   "execution_count": null,
   "id": "cognitive-meter",
   "metadata": {},
   "outputs": [],
   "source": []
  },
  {
   "cell_type": "code",
   "execution_count": 28,
   "id": "lasting-explosion",
   "metadata": {},
   "outputs": [
    {
     "name": "stdout",
     "output_type": "stream",
     "text": [
      "[0]\tvalidation_0-auc:0.72010\tvalidation_1-auc:0.70957\n",
      "[99]\tvalidation_0-auc:0.86019\tvalidation_1-auc:0.75848\n",
      "[0]\tvalidation_0-auc:0.72479\tvalidation_1-auc:0.71052\n",
      "[99]\tvalidation_0-auc:0.86545\tvalidation_1-auc:0.75390\n"
     ]
    },
    {
     "data": {
      "text/plain": [
       "XGBClassifier(base_score=0.5, booster='gbtree', colsample_bylevel=1,\n",
       "              colsample_bynode=1, colsample_bytree=1, gamma=0, gpu_id=-1,\n",
       "              importance_type='gain', interaction_constraints='',\n",
       "              learning_rate=0.300000012, max_delta_step=0, max_depth=6,\n",
       "              min_child_weight=1, missing=nan, monotone_constraints='()',\n",
       "              n_estimators=100, n_jobs=4, num_parallel_tree=1, random_state=0,\n",
       "              reg_alpha=0, reg_lambda=1, scale_pos_weight=10, subsample=1,\n",
       "              tree_method='exact', validate_parameters=1, verbosity=None)"
      ]
     },
     "execution_count": 28,
     "metadata": {},
     "output_type": "execute_result"
    }
   ],
   "source": [
    "from xgboost import XGBClassifier\n",
    "\n",
    "model10 = XGBClassifier(scale_pos_weight=10)\n",
    "model = XGBClassifier()\n",
    "\n",
    "model.fit(X_train, y_train, eval_set=[(X_train, y_train), (X_val, y_val)], \n",
    "    eval_metric= 'auc', verbose= 200, early_stopping_rounds= 200)\n",
    "model10.fit(X_train, y_train, eval_set=[(X_train, y_train), (X_val, y_val)], \n",
    "    eval_metric= 'auc', verbose= 200, early_stopping_rounds= 200)"
   ]
  },
  {
   "cell_type": "code",
   "execution_count": 93,
   "id": "complete-suspect",
   "metadata": {},
   "outputs": [
    {
     "name": "stdout",
     "output_type": "stream",
     "text": [
      "[[56371   167]\n",
      " [ 4819   146]]\n",
      "Accuracy score    : 0.919\n",
      "precision score   : 0.466\n",
      "recall score      : 0.0294\n",
      "F1 score          : 0.0553\n",
      "ROCAUC score      : 0.513\n",
      "custom metric FMI : 0.117\n",
      "\n",
      "              precision    recall  f1-score   support\n",
      "\n",
      "         0.0       0.92      1.00      0.96     56538\n",
      "         1.0       0.47      0.03      0.06      4965\n",
      "\n",
      "    accuracy                           0.92     61503\n",
      "   macro avg       0.69      0.51      0.51     61503\n",
      "weighted avg       0.88      0.92      0.88     61503\n",
      "\n"
     ]
    },
    {
     "data": {
      "image/png": "[encoded data removed]",
      "text/plain": [
       "<Figure size 432x288 with 1 Axes>"
      ]
     },
     "metadata": {
      "needs_background": "light"
     },
     "output_type": "display_data"
    }
   ],
   "source": [
    "model_eval(model, X_val, y_val)"
   ]
  },
  {
   "cell_type": "code",
   "execution_count": 29,
   "id": "identical-atmosphere",
   "metadata": {},
   "outputs": [
    {
     "name": "stdout",
     "output_type": "stream",
     "text": [
      "[[43332 13206]\n",
      " [ 1932  3033]]\n",
      "Accuracy score    : 0.754\n",
      "precision score   : 0.187\n",
      "recall score      : 0.611\n",
      "F1 score          : 0.286\n",
      "ROCAUC score      : 0.689\n",
      "custom metric FMI : 0.338\n",
      "\n"
     ]
    },
    {
     "data": {
      "image/png": "[encoded data removed]",
      "text/plain": [
       "<Figure size 432x288 with 1 Axes>"
      ]
     },
     "metadata": {
      "needs_background": "light"
     },
     "output_type": "display_data"
    }
   ],
   "source": [
    "model_eval(model10, X_val, y_val)"
   ]
  },
  {
   "cell_type": "code",
   "execution_count": null,
   "id": "tracked-brighton",
   "metadata": {},
   "outputs": [],
   "source": []
  },
  {
   "cell_type": "code",
   "execution_count": null,
   "id": "lesser-relevance",
   "metadata": {},
   "outputs": [],
   "source": []
  },
  {
   "cell_type": "code",
   "execution_count": null,
   "id": "armed-interaction",
   "metadata": {},
   "outputs": [],
   "source": []
  },
  {
   "cell_type": "code",
   "execution_count": null,
   "id": "fifth-forth",
   "metadata": {},
   "outputs": [],
   "source": []
  },
  {
   "cell_type": "code",
   "execution_count": null,
   "id": "employed-conclusion",
   "metadata": {},
   "outputs": [],
   "source": []
  },
  {
   "cell_type": "code",
   "execution_count": null,
   "id": "gothic-sheet",
   "metadata": {},
   "outputs": [],
   "source": []
  },
  {
   "cell_type": "code",
   "execution_count": null,
   "id": "labeled-instruction",
   "metadata": {},
   "outputs": [],
   "source": []
  },
  {
   "cell_type": "code",
   "execution_count": null,
   "id": "automotive-discipline",
   "metadata": {},
   "outputs": [],
   "source": []
  },
  {
   "cell_type": "code",
   "execution_count": null,
   "id": "regulated-brooklyn",
   "metadata": {},
   "outputs": [],
   "source": []
  },
  {
   "cell_type": "code",
   "execution_count": null,
   "id": "protecting-johnston",
   "metadata": {},
   "outputs": [],
   "source": []
  },
  {
   "cell_type": "code",
   "execution_count": null,
   "id": "collect-angle",
   "metadata": {},
   "outputs": [],
   "source": []
  },
  {
   "cell_type": "code",
   "execution_count": null,
   "id": "active-nutrition",
   "metadata": {},
   "outputs": [],
   "source": []
  },
  {
   "cell_type": "code",
   "execution_count": null,
   "id": "athletic-attack",
   "metadata": {},
   "outputs": [],
   "source": []
  },
  {
   "cell_type": "code",
   "execution_count": null,
   "id": "exclusive-grammar",
   "metadata": {},
   "outputs": [],
   "source": []
  },
  {
   "cell_type": "code",
   "execution_count": null,
   "id": "republican-assistant",
   "metadata": {},
   "outputs": [],
   "source": []
  },
  {
   "cell_type": "code",
   "execution_count": null,
   "id": "eight-glass",
   "metadata": {},
   "outputs": [],
   "source": []
  },
  {
   "cell_type": "code",
   "execution_count": null,
   "id": "neither-registrar",
   "metadata": {},
   "outputs": [],
   "source": []
  },
  {
   "cell_type": "code",
   "execution_count": null,
   "id": "subjective-evolution",
   "metadata": {},
   "outputs": [],
   "source": []
  },
  {
   "cell_type": "code",
   "execution_count": null,
   "id": "brave-mauritius",
   "metadata": {},
   "outputs": [],
   "source": []
  },
  {
   "cell_type": "code",
   "execution_count": 64,
   "id": "unlike-values",
   "metadata": {},
   "outputs": [
    {
     "name": "stdout",
     "output_type": "stream",
     "text": [
      "{'n_estimators': range(50, 200, 500), 'learning_rate': [0.01, 0.05, 0.1, 0.3, 1], 'max_depth': [2, 3, 5], 'colsample_bytree': [0.8, 0.9, 1.0], 'subsample': [0.8, 0.9, 1.0], 'min_child_weight': [1, 2, 3], 'reg_lambda': [1.1, 1.2, 1.3]}\n",
      "Fitting 3 folds for each of 70 candidates, totalling 210 fits\n"
     ]
    },
    {
     "name": "stderr",
     "output_type": "stream",
     "text": [
      "[Parallel(n_jobs=-1)]: Using backend LokyBackend with 4 concurrent workers.\n",
      "[Parallel(n_jobs=-1)]: Done  24 tasks      | elapsed:  4.6min\n",
      "[Parallel(n_jobs=-1)]: Done 120 tasks      | elapsed: 22.1min\n",
      "[Parallel(n_jobs=-1)]: Done 210 out of 210 | elapsed: 39.8min finished\n"
     ]
    },
    {
     "name": "stdout",
     "output_type": "stream",
     "text": [
      "{'subsample': 1.0, 'reg_lambda': 1.3, 'n_estimators': 50, 'min_child_weight': 3, 'max_depth': 3, 'learning_rate': 0.3, 'colsample_bytree': 0.8}\n"
     ]
    }
   ],
   "source": [
    "from sklearn.model_selection import RandomizedSearchCV\n",
    "\n",
    "# Create the random grid\n",
    "random_grid = {\n",
    "               'n_estimators' : range(50, 200, 500),\n",
    "               'learning_rate': [0.01,0.05,0.1,0.3,1],\n",
    "               'max_depth' : [2, 3, 5],\n",
    "               'colsample_bytree': [0.8, 0.9, 1.0],\n",
    "                'subsample': [0.8, 0.9, 1.0],\n",
    "                'min_child_weight' : [1, 2, 3],\n",
    "                'reg_lambda': [1.1, 1.2, 1.3]\n",
    "              }\n",
    "\n",
    "                    \n",
    "print(random_grid)\n",
    "\n",
    "# Random search of parameters, using 3 fold cross validation, \n",
    "# search across 100 different combinations, and use all available cores\n",
    "rf_random = RandomizedSearchCV(estimator = XGBClassifier(scale_pos_weight=10, eval_metric='logloss'), scoring=custom_scorer, param_distributions = random_grid, n_iter = 70, cv = 3, verbose=3, n_jobs = -1)\n",
    "# Fit the random search model\n",
    "rf_random.fit(X_train, y_train)\n",
    "\n",
    "print(rf_random.best_params_)"
   ]
  },
  {
   "cell_type": "code",
   "execution_count": 65,
   "id": "invisible-august",
   "metadata": {},
   "outputs": [
    {
     "name": "stdout",
     "output_type": "stream",
     "text": [
      "[[41866 14672]\n",
      " [ 1817  3148]]\n",
      "Accuracy score    : 0.732\n",
      "precision score   : 0.177\n",
      "recall score      : 0.634\n",
      "F1 score          : 0.276\n",
      "ROCAUC score      : 0.687\n",
      "custom metric FMI : 0.335\n",
      "\n"
     ]
    },
    {
     "data": {
      "image/png": "[encoded data removed]",
      "text/plain": [
       "<Figure size 432x288 with 1 Axes>"
      ]
     },
     "metadata": {
      "needs_background": "light"
     },
     "output_type": "display_data"
    }
   ],
   "source": [
    "model_eval(rf_random.best_estimator_, X_val, y_val)"
   ]
  },
  {
   "cell_type": "code",
   "execution_count": 66,
   "id": "earlier-bibliography",
   "metadata": {},
   "outputs": [
    {
     "name": "stdout",
     "output_type": "stream",
     "text": [
      "{'n_estimators': [50, 100], 'learning_rate': [0.2, 0.3, 0.4], 'max_depth': [2, 3], 'colsample_bytree': [0.8, 0.9], 'subsample': [0.9, 1.0], 'min_child_weight': [2, 3], 'reg_lambda': [1.3, 1.4]}\n",
      "Fitting 5 folds for each of 192 candidates, totalling 960 fits\n"
     ]
    },
    {
     "name": "stderr",
     "output_type": "stream",
     "text": [
      "[Parallel(n_jobs=-1)]: Using backend LokyBackend with 4 concurrent workers.\n",
      "[Parallel(n_jobs=-1)]: Done  24 tasks      | elapsed:  4.0min\n",
      "[Parallel(n_jobs=-1)]: Done 120 tasks      | elapsed: 28.0min\n",
      "[Parallel(n_jobs=-1)]: Done 280 tasks      | elapsed: 67.2min\n",
      "[Parallel(n_jobs=-1)]: Done 504 tasks      | elapsed: 121.5min\n",
      "[Parallel(n_jobs=-1)]: Done 792 tasks      | elapsed: 199.8min\n",
      "[Parallel(n_jobs=-1)]: Done 960 out of 960 | elapsed: 245.3min finished\n"
     ]
    },
    {
     "name": "stdout",
     "output_type": "stream",
     "text": [
      "resultat en 14746.14s\n"
     ]
    }
   ],
   "source": [
    "from sklearn.model_selection import GridSearchCV\n",
    "import timeit\n",
    "\n",
    "start_time = timeit.default_timer()\n",
    "\n",
    "skf = StratifiedKFold(n_splits=5, shuffle=True, random_state=1944)\n",
    "\n",
    "params_grid = {\n",
    "               'n_estimators' : [50, 100],\n",
    "               'learning_rate': [0.2, 0.3, 0.4],\n",
    "               'max_depth' : [2, 3],\n",
    "               'colsample_bytree': [0.8, 0.9],\n",
    "                'subsample': [ 0.9, 1.0],\n",
    "                'min_child_weight' : [2, 3],\n",
    "                'reg_lambda': [1.3, 1.4]\n",
    "              }\n",
    "\n",
    "                    \n",
    "print(params_grid)\n",
    "\n",
    "grid = GridSearchCV( XGBClassifier(scale_pos_weight=10, eval_metric='logloss'),params_grid, cv=skf, scoring=custom_scorer, n_jobs=-1, verbose=3)\n",
    "grid.fit(X_train, y_train)\n",
    "#print(grid.cv_results_)\n",
    "\n",
    "elapsed = timeit.default_timer() - start_time\n",
    "time = elapsed\n",
    "print(f'resultat en {time:.2f}s')\n"
   ]
  },
  {
   "cell_type": "code",
   "execution_count": 67,
   "id": "verbal-garlic",
   "metadata": {},
   "outputs": [
    {
     "data": {
      "text/plain": [
       "{'colsample_bytree': 0.8,\n",
       " 'learning_rate': 0.3,\n",
       " 'max_depth': 3,\n",
       " 'min_child_weight': 3,\n",
       " 'n_estimators': 100,\n",
       " 'reg_lambda': 1.4,\n",
       " 'subsample': 1.0}"
      ]
     },
     "execution_count": 67,
     "metadata": {},
     "output_type": "execute_result"
    }
   ],
   "source": [
    "grid.best_params_"
   ]
  },
  {
   "cell_type": "code",
   "execution_count": 68,
   "id": "married-group",
   "metadata": {},
   "outputs": [
    {
     "name": "stdout",
     "output_type": "stream",
     "text": [
      "[[42229 14309]\n",
      " [ 1783  3182]]\n",
      "Accuracy score    : 0.738\n",
      "precision score   : 0.182\n",
      "recall score      : 0.641\n",
      "F1 score          : 0.283\n",
      "ROCAUC score      : 0.694\n",
      "custom metric FMI : 0.341\n",
      "\n"
     ]
    },
    {
     "data": {
      "image/png": "[encoded data removed]",
      "text/plain": [
       "<Figure size 432x288 with 1 Axes>"
      ]
     },
     "metadata": {
      "needs_background": "light"
     },
     "output_type": "display_data"
    }
   ],
   "source": [
    "grid_xgb = grid.best_estimator_\n",
    "model_eval(grid_xgb, X_val, y_val)"
   ]
  },
  {
   "cell_type": "code",
   "execution_count": 124,
   "id": "complicated-broadcasting",
   "metadata": {},
   "outputs": [
    {
     "name": "stdout",
     "output_type": "stream",
     "text": [
      "[[39506 17032]\n",
      " [ 1763  3202]]\n",
      "Accuracy score    : 0.694\n",
      "precision score   : 0.158\n",
      "recall score      : 0.645\n",
      "F1 score          : 0.254\n",
      "ROCAUC score      : 0.672\n",
      "custom metric FMI : 0.319\n",
      "\n"
     ]
    }
   ],
   "source": [
    "model_eval_score(randomForest_under, X_val, y_val)"
   ]
  },
  {
   "cell_type": "code",
   "execution_count": 30,
   "id": "covered-plant",
   "metadata": {},
   "outputs": [
    {
     "name": "stdout",
     "output_type": "stream",
     "text": [
      "[[43332 13206]\n",
      " [ 1932  3033]]\n",
      "Accuracy score    : 0.754\n",
      "precision score   : 0.187\n",
      "recall score      : 0.611\n",
      "F1 score          : 0.286\n",
      "ROCAUC score      : 0.689\n",
      "custom metric FMI : 0.338\n",
      "\n"
     ]
    }
   ],
   "source": [
    "model_eval_score(model10, X_val, y_val)"
   ]
  },
  {
   "cell_type": "code",
   "execution_count": 69,
   "id": "automated-turtle",
   "metadata": {},
   "outputs": [
    {
     "name": "stdout",
     "output_type": "stream",
     "text": [
      "[[42229 14309]\n",
      " [ 1783  3182]]\n",
      "Accuracy score    : 0.738\n",
      "precision score   : 0.182\n",
      "recall score      : 0.641\n",
      "F1 score          : 0.283\n",
      "ROCAUC score      : 0.694\n",
      "custom metric FMI : 0.341\n",
      "\n"
     ]
    }
   ],
   "source": [
    "model_eval_score(grid_xgb, X_val, y_val)"
   ]
  },
  {
   "cell_type": "code",
   "execution_count": null,
   "id": "fourth-subcommittee",
   "metadata": {},
   "outputs": [],
   "source": []
  },
  {
   "cell_type": "code",
   "execution_count": null,
   "id": "unlike-irish",
   "metadata": {},
   "outputs": [],
   "source": []
  },
  {
   "cell_type": "code",
   "execution_count": null,
   "id": "simple-rally",
   "metadata": {},
   "outputs": [],
   "source": []
  },
  {
   "cell_type": "code",
   "execution_count": null,
   "id": "herbal-villa",
   "metadata": {},
   "outputs": [],
   "source": []
  },
  {
   "cell_type": "code",
   "execution_count": null,
   "id": "fewer-landscape",
   "metadata": {},
   "outputs": [],
   "source": []
  },
  {
   "cell_type": "code",
   "execution_count": 90,
   "id": "hawaiian-economics",
   "metadata": {},
   "outputs": [],
   "source": [
    "import pickle\n",
    "\n",
    "with open('randomForest_model.p', 'wb') as f1:\n",
    "    pickle.dump(randomForest_under, f1)\n",
    "    \n",
    "with open('grid_xgb.p', 'wb') as f1:\n",
    "    pickle.dump(grid_xgb, f1)\n",
    "\n",
    "with open('app_train.p', 'wb') as f1:\n",
    "    pickle.dump(app_train, f1)\n",
    "    "
   ]
  },
  {
   "cell_type": "code",
   "execution_count": null,
   "id": "foster-seminar",
   "metadata": {},
   "outputs": [],
   "source": []
  },
  {
   "cell_type": "code",
   "execution_count": null,
   "id": "congressional-bidding",
   "metadata": {},
   "outputs": [],
   "source": []
  },
  {
   "cell_type": "code",
   "execution_count": null,
   "id": "static-wireless",
   "metadata": {},
   "outputs": [],
   "source": []
  },
  {
   "cell_type": "code",
   "execution_count": 91,
   "id": "offshore-seeker",
   "metadata": {},
   "outputs": [],
   "source": [
    "df_total = pd.read_csv('df_total.csv')"
   ]
  },
  {
   "cell_type": "code",
   "execution_count": 92,
   "id": "approved-poetry",
   "metadata": {},
   "outputs": [
    {
     "data": {
      "text/html": [
       "<div>\n",
       "<style scoped>\n",
       "    .dataframe tbody tr th:only-of-type {\n",
       "        vertical-align: middle;\n",
       "    }\n",
       "\n",
       "    .dataframe tbody tr th {\n",
       "        vertical-align: top;\n",
       "    }\n",
       "\n",
       "    .dataframe thead th {\n",
       "        text-align: right;\n",
       "    }\n",
       "</style>\n",
       "<table border=\"1\" class=\"dataframe\">\n",
       "  <thead>\n",
       "    <tr style=\"text-align: right;\">\n",
       "      <th></th>\n",
       "      <th>Unnamed: 0</th>\n",
       "      <th>SK_ID_CURR</th>\n",
       "      <th>TARGET</th>\n",
       "      <th>CODE_GENDER</th>\n",
       "      <th>FLAG_OWN_CAR</th>\n",
       "      <th>FLAG_OWN_REALTY</th>\n",
       "      <th>CNT_CHILDREN</th>\n",
       "      <th>AMT_INCOME_TOTAL</th>\n",
       "      <th>AMT_CREDIT</th>\n",
       "      <th>AMT_ANNUITY</th>\n",
       "      <th>...</th>\n",
       "      <th>INS_48M_SK_DPD_MAX</th>\n",
       "      <th>INS_48M_SK_DPD_SUM</th>\n",
       "      <th>INS_48M_DRAWING_LIMIT_RATIO_MIN</th>\n",
       "      <th>INS_48M_DRAWING_LIMIT_RATIO_MAX</th>\n",
       "      <th>INS_48M_LATE_PAYMENT_MEAN</th>\n",
       "      <th>INS_48M_LATE_PAYMENT_SUM</th>\n",
       "      <th>INS_48M_CARD_IS_DPD_UNDER_120_MEAN</th>\n",
       "      <th>INS_48M_CARD_IS_DPD_UNDER_120_SUM</th>\n",
       "      <th>INS_48M_CARD_IS_DPD_OVER_120_MEAN</th>\n",
       "      <th>INS_48M_CARD_IS_DPD_OVER_120_SUM</th>\n",
       "    </tr>\n",
       "  </thead>\n",
       "  <tbody>\n",
       "    <tr>\n",
       "      <th>0</th>\n",
       "      <td>0</td>\n",
       "      <td>100002</td>\n",
       "      <td>1</td>\n",
       "      <td>0</td>\n",
       "      <td>0</td>\n",
       "      <td>0</td>\n",
       "      <td>0</td>\n",
       "      <td>202500.0</td>\n",
       "      <td>406597.5</td>\n",
       "      <td>24700.5</td>\n",
       "      <td>...</td>\n",
       "      <td>NaN</td>\n",
       "      <td>NaN</td>\n",
       "      <td>NaN</td>\n",
       "      <td>NaN</td>\n",
       "      <td>NaN</td>\n",
       "      <td>NaN</td>\n",
       "      <td>NaN</td>\n",
       "      <td>NaN</td>\n",
       "      <td>NaN</td>\n",
       "      <td>NaN</td>\n",
       "    </tr>\n",
       "    <tr>\n",
       "      <th>1</th>\n",
       "      <td>1</td>\n",
       "      <td>100003</td>\n",
       "      <td>0</td>\n",
       "      <td>1</td>\n",
       "      <td>0</td>\n",
       "      <td>1</td>\n",
       "      <td>0</td>\n",
       "      <td>270000.0</td>\n",
       "      <td>1293502.5</td>\n",
       "      <td>35698.5</td>\n",
       "      <td>...</td>\n",
       "      <td>NaN</td>\n",
       "      <td>NaN</td>\n",
       "      <td>NaN</td>\n",
       "      <td>NaN</td>\n",
       "      <td>NaN</td>\n",
       "      <td>NaN</td>\n",
       "      <td>NaN</td>\n",
       "      <td>NaN</td>\n",
       "      <td>NaN</td>\n",
       "      <td>NaN</td>\n",
       "    </tr>\n",
       "    <tr>\n",
       "      <th>2</th>\n",
       "      <td>2</td>\n",
       "      <td>100004</td>\n",
       "      <td>0</td>\n",
       "      <td>0</td>\n",
       "      <td>1</td>\n",
       "      <td>0</td>\n",
       "      <td>0</td>\n",
       "      <td>67500.0</td>\n",
       "      <td>135000.0</td>\n",
       "      <td>6750.0</td>\n",
       "      <td>...</td>\n",
       "      <td>NaN</td>\n",
       "      <td>NaN</td>\n",
       "      <td>NaN</td>\n",
       "      <td>NaN</td>\n",
       "      <td>NaN</td>\n",
       "      <td>NaN</td>\n",
       "      <td>NaN</td>\n",
       "      <td>NaN</td>\n",
       "      <td>NaN</td>\n",
       "      <td>NaN</td>\n",
       "    </tr>\n",
       "    <tr>\n",
       "      <th>3</th>\n",
       "      <td>3</td>\n",
       "      <td>100006</td>\n",
       "      <td>0</td>\n",
       "      <td>1</td>\n",
       "      <td>0</td>\n",
       "      <td>0</td>\n",
       "      <td>0</td>\n",
       "      <td>135000.0</td>\n",
       "      <td>312682.5</td>\n",
       "      <td>29686.5</td>\n",
       "      <td>...</td>\n",
       "      <td>0.0</td>\n",
       "      <td>0.0</td>\n",
       "      <td>NaN</td>\n",
       "      <td>NaN</td>\n",
       "      <td>0.0</td>\n",
       "      <td>0.0</td>\n",
       "      <td>0.0</td>\n",
       "      <td>0.0</td>\n",
       "      <td>0.0</td>\n",
       "      <td>0.0</td>\n",
       "    </tr>\n",
       "    <tr>\n",
       "      <th>4</th>\n",
       "      <td>4</td>\n",
       "      <td>100007</td>\n",
       "      <td>0</td>\n",
       "      <td>0</td>\n",
       "      <td>0</td>\n",
       "      <td>0</td>\n",
       "      <td>0</td>\n",
       "      <td>121500.0</td>\n",
       "      <td>513000.0</td>\n",
       "      <td>21865.5</td>\n",
       "      <td>...</td>\n",
       "      <td>NaN</td>\n",
       "      <td>NaN</td>\n",
       "      <td>NaN</td>\n",
       "      <td>NaN</td>\n",
       "      <td>NaN</td>\n",
       "      <td>NaN</td>\n",
       "      <td>NaN</td>\n",
       "      <td>NaN</td>\n",
       "      <td>NaN</td>\n",
       "      <td>NaN</td>\n",
       "    </tr>\n",
       "    <tr>\n",
       "      <th>...</th>\n",
       "      <td>...</td>\n",
       "      <td>...</td>\n",
       "      <td>...</td>\n",
       "      <td>...</td>\n",
       "      <td>...</td>\n",
       "      <td>...</td>\n",
       "      <td>...</td>\n",
       "      <td>...</td>\n",
       "      <td>...</td>\n",
       "      <td>...</td>\n",
       "      <td>...</td>\n",
       "      <td>...</td>\n",
       "      <td>...</td>\n",
       "      <td>...</td>\n",
       "      <td>...</td>\n",
       "      <td>...</td>\n",
       "      <td>...</td>\n",
       "      <td>...</td>\n",
       "      <td>...</td>\n",
       "      <td>...</td>\n",
       "      <td>...</td>\n",
       "    </tr>\n",
       "    <tr>\n",
       "      <th>307501</th>\n",
       "      <td>307501</td>\n",
       "      <td>456251</td>\n",
       "      <td>0</td>\n",
       "      <td>0</td>\n",
       "      <td>0</td>\n",
       "      <td>1</td>\n",
       "      <td>0</td>\n",
       "      <td>157500.0</td>\n",
       "      <td>254700.0</td>\n",
       "      <td>27558.0</td>\n",
       "      <td>...</td>\n",
       "      <td>NaN</td>\n",
       "      <td>NaN</td>\n",
       "      <td>NaN</td>\n",
       "      <td>NaN</td>\n",
       "      <td>NaN</td>\n",
       "      <td>NaN</td>\n",
       "      <td>NaN</td>\n",
       "      <td>NaN</td>\n",
       "      <td>NaN</td>\n",
       "      <td>NaN</td>\n",
       "    </tr>\n",
       "    <tr>\n",
       "      <th>307502</th>\n",
       "      <td>307502</td>\n",
       "      <td>456252</td>\n",
       "      <td>0</td>\n",
       "      <td>1</td>\n",
       "      <td>0</td>\n",
       "      <td>0</td>\n",
       "      <td>0</td>\n",
       "      <td>72000.0</td>\n",
       "      <td>269550.0</td>\n",
       "      <td>12001.5</td>\n",
       "      <td>...</td>\n",
       "      <td>NaN</td>\n",
       "      <td>NaN</td>\n",
       "      <td>NaN</td>\n",
       "      <td>NaN</td>\n",
       "      <td>NaN</td>\n",
       "      <td>NaN</td>\n",
       "      <td>NaN</td>\n",
       "      <td>NaN</td>\n",
       "      <td>NaN</td>\n",
       "      <td>NaN</td>\n",
       "    </tr>\n",
       "    <tr>\n",
       "      <th>307503</th>\n",
       "      <td>307503</td>\n",
       "      <td>456253</td>\n",
       "      <td>0</td>\n",
       "      <td>1</td>\n",
       "      <td>0</td>\n",
       "      <td>0</td>\n",
       "      <td>0</td>\n",
       "      <td>153000.0</td>\n",
       "      <td>677664.0</td>\n",
       "      <td>29979.0</td>\n",
       "      <td>...</td>\n",
       "      <td>NaN</td>\n",
       "      <td>NaN</td>\n",
       "      <td>NaN</td>\n",
       "      <td>NaN</td>\n",
       "      <td>NaN</td>\n",
       "      <td>NaN</td>\n",
       "      <td>NaN</td>\n",
       "      <td>NaN</td>\n",
       "      <td>NaN</td>\n",
       "      <td>NaN</td>\n",
       "    </tr>\n",
       "    <tr>\n",
       "      <th>307504</th>\n",
       "      <td>307504</td>\n",
       "      <td>456254</td>\n",
       "      <td>1</td>\n",
       "      <td>1</td>\n",
       "      <td>0</td>\n",
       "      <td>0</td>\n",
       "      <td>0</td>\n",
       "      <td>171000.0</td>\n",
       "      <td>370107.0</td>\n",
       "      <td>20205.0</td>\n",
       "      <td>...</td>\n",
       "      <td>NaN</td>\n",
       "      <td>NaN</td>\n",
       "      <td>NaN</td>\n",
       "      <td>NaN</td>\n",
       "      <td>NaN</td>\n",
       "      <td>NaN</td>\n",
       "      <td>NaN</td>\n",
       "      <td>NaN</td>\n",
       "      <td>NaN</td>\n",
       "      <td>NaN</td>\n",
       "    </tr>\n",
       "    <tr>\n",
       "      <th>307505</th>\n",
       "      <td>307505</td>\n",
       "      <td>456255</td>\n",
       "      <td>0</td>\n",
       "      <td>1</td>\n",
       "      <td>0</td>\n",
       "      <td>1</td>\n",
       "      <td>0</td>\n",
       "      <td>157500.0</td>\n",
       "      <td>675000.0</td>\n",
       "      <td>49117.5</td>\n",
       "      <td>...</td>\n",
       "      <td>NaN</td>\n",
       "      <td>NaN</td>\n",
       "      <td>NaN</td>\n",
       "      <td>NaN</td>\n",
       "      <td>NaN</td>\n",
       "      <td>NaN</td>\n",
       "      <td>NaN</td>\n",
       "      <td>NaN</td>\n",
       "      <td>NaN</td>\n",
       "      <td>NaN</td>\n",
       "    </tr>\n",
       "  </tbody>\n",
       "</table>\n",
       "<p>307506 rows × 1243 columns</p>\n",
       "</div>"
      ],
      "text/plain": [
       "        Unnamed: 0  SK_ID_CURR  TARGET  CODE_GENDER  FLAG_OWN_CAR  \\\n",
       "0                0      100002       1            0             0   \n",
       "1                1      100003       0            1             0   \n",
       "2                2      100004       0            0             1   \n",
       "3                3      100006       0            1             0   \n",
       "4                4      100007       0            0             0   \n",
       "...            ...         ...     ...          ...           ...   \n",
       "307501      307501      456251       0            0             0   \n",
       "307502      307502      456252       0            1             0   \n",
       "307503      307503      456253       0            1             0   \n",
       "307504      307504      456254       1            1             0   \n",
       "307505      307505      456255       0            1             0   \n",
       "\n",
       "        FLAG_OWN_REALTY  CNT_CHILDREN  AMT_INCOME_TOTAL  AMT_CREDIT  \\\n",
       "0                     0             0          202500.0    406597.5   \n",
       "1                     1             0          270000.0   1293502.5   \n",
       "2                     0             0           67500.0    135000.0   \n",
       "3                     0             0          135000.0    312682.5   \n",
       "4                     0             0          121500.0    513000.0   \n",
       "...                 ...           ...               ...         ...   \n",
       "307501                1             0          157500.0    254700.0   \n",
       "307502                0             0           72000.0    269550.0   \n",
       "307503                0             0          153000.0    677664.0   \n",
       "307504                0             0          171000.0    370107.0   \n",
       "307505                1             0          157500.0    675000.0   \n",
       "\n",
       "        AMT_ANNUITY  ...  INS_48M_SK_DPD_MAX  INS_48M_SK_DPD_SUM  \\\n",
       "0           24700.5  ...                 NaN                 NaN   \n",
       "1           35698.5  ...                 NaN                 NaN   \n",
       "2            6750.0  ...                 NaN                 NaN   \n",
       "3           29686.5  ...                 0.0                 0.0   \n",
       "4           21865.5  ...                 NaN                 NaN   \n",
       "...             ...  ...                 ...                 ...   \n",
       "307501      27558.0  ...                 NaN                 NaN   \n",
       "307502      12001.5  ...                 NaN                 NaN   \n",
       "307503      29979.0  ...                 NaN                 NaN   \n",
       "307504      20205.0  ...                 NaN                 NaN   \n",
       "307505      49117.5  ...                 NaN                 NaN   \n",
       "\n",
       "        INS_48M_DRAWING_LIMIT_RATIO_MIN  INS_48M_DRAWING_LIMIT_RATIO_MAX  \\\n",
       "0                                   NaN                              NaN   \n",
       "1                                   NaN                              NaN   \n",
       "2                                   NaN                              NaN   \n",
       "3                                   NaN                              NaN   \n",
       "4                                   NaN                              NaN   \n",
       "...                                 ...                              ...   \n",
       "307501                              NaN                              NaN   \n",
       "307502                              NaN                              NaN   \n",
       "307503                              NaN                              NaN   \n",
       "307504                              NaN                              NaN   \n",
       "307505                              NaN                              NaN   \n",
       "\n",
       "        INS_48M_LATE_PAYMENT_MEAN  INS_48M_LATE_PAYMENT_SUM  \\\n",
       "0                             NaN                       NaN   \n",
       "1                             NaN                       NaN   \n",
       "2                             NaN                       NaN   \n",
       "3                             0.0                       0.0   \n",
       "4                             NaN                       NaN   \n",
       "...                           ...                       ...   \n",
       "307501                        NaN                       NaN   \n",
       "307502                        NaN                       NaN   \n",
       "307503                        NaN                       NaN   \n",
       "307504                        NaN                       NaN   \n",
       "307505                        NaN                       NaN   \n",
       "\n",
       "        INS_48M_CARD_IS_DPD_UNDER_120_MEAN  INS_48M_CARD_IS_DPD_UNDER_120_SUM  \\\n",
       "0                                      NaN                                NaN   \n",
       "1                                      NaN                                NaN   \n",
       "2                                      NaN                                NaN   \n",
       "3                                      0.0                                0.0   \n",
       "4                                      NaN                                NaN   \n",
       "...                                    ...                                ...   \n",
       "307501                                 NaN                                NaN   \n",
       "307502                                 NaN                                NaN   \n",
       "307503                                 NaN                                NaN   \n",
       "307504                                 NaN                                NaN   \n",
       "307505                                 NaN                                NaN   \n",
       "\n",
       "        INS_48M_CARD_IS_DPD_OVER_120_MEAN  INS_48M_CARD_IS_DPD_OVER_120_SUM  \n",
       "0                                     NaN                               NaN  \n",
       "1                                     NaN                               NaN  \n",
       "2                                     NaN                               NaN  \n",
       "3                                     0.0                               0.0  \n",
       "4                                     NaN                               NaN  \n",
       "...                                   ...                               ...  \n",
       "307501                                NaN                               NaN  \n",
       "307502                                NaN                               NaN  \n",
       "307503                                NaN                               NaN  \n",
       "307504                                NaN                               NaN  \n",
       "307505                                NaN                               NaN  \n",
       "\n",
       "[307506 rows x 1243 columns]"
      ]
     },
     "execution_count": 92,
     "metadata": {},
     "output_type": "execute_result"
    }
   ],
   "source": [
    "df_total"
   ]
  },
  {
   "cell_type": "code",
   "execution_count": 95,
   "id": "graduate-output",
   "metadata": {},
   "outputs": [],
   "source": [
    "df_total.drop(columns='Unnamed: 0', inplace=True)"
   ]
  },
  {
   "cell_type": "code",
   "execution_count": 96,
   "id": "aboriginal-insulin",
   "metadata": {},
   "outputs": [],
   "source": [
    "import re\n",
    "from collections import Counter\n",
    "\n",
    "df_total = df_total.rename(columns = lambda x:re.sub('[^A-Za-z0-9_]+', '', x))\n",
    "\n",
    "X = df_total.drop(columns='TARGET').copy()\n",
    "y = df_total['TARGET'].copy()\n"
   ]
  },
  {
   "cell_type": "code",
   "execution_count": 97,
   "id": "worse-disorder",
   "metadata": {},
   "outputs": [],
   "source": [
    "from sklearn.model_selection import train_test_split\n",
    "\n",
    "X_train, X_val, y_train, y_val = train_test_split(X, y, test_size=0.2, stratify=y, random_state=1944)"
   ]
  },
  {
   "cell_type": "code",
   "execution_count": 98,
   "id": "convinced-going",
   "metadata": {},
   "outputs": [
    {
     "name": "stdout",
     "output_type": "stream",
     "text": [
      "y_train Counter({0: 226145, 1: 19859})\n",
      "y_val Counter({0: 56537, 1: 4965})\n"
     ]
    }
   ],
   "source": [
    "print('y_train', Counter(y_train))\n",
    "print('y_val', Counter(y_val))"
   ]
  },
  {
   "cell_type": "code",
   "execution_count": 99,
   "id": "beginning-specification",
   "metadata": {},
   "outputs": [
    {
     "name": "stdout",
     "output_type": "stream",
     "text": [
      "[0]\tvalidation_0-auc:0.74517\tvalidation_1-auc:0.72673\n",
      "[99]\tvalidation_0-auc:0.91133\tvalidation_1-auc:0.77116\n"
     ]
    },
    {
     "data": {
      "text/plain": [
       "XGBClassifier(base_score=0.5, booster='gbtree', colsample_bylevel=1,\n",
       "              colsample_bynode=1, colsample_bytree=1, gamma=0, gpu_id=-1,\n",
       "              importance_type='gain', interaction_constraints='',\n",
       "              learning_rate=0.300000012, max_delta_step=0, max_depth=6,\n",
       "              min_child_weight=1, missing=nan, monotone_constraints='()',\n",
       "              n_estimators=100, n_jobs=4, num_parallel_tree=1, random_state=0,\n",
       "              reg_alpha=0, reg_lambda=1, scale_pos_weight=10, subsample=1,\n",
       "              tree_method='exact', validate_parameters=1, verbosity=None)"
      ]
     },
     "execution_count": 99,
     "metadata": {},
     "output_type": "execute_result"
    }
   ],
   "source": [
    "from xgboost import XGBClassifier\n",
    "\n",
    "model10_total = XGBClassifier(scale_pos_weight=10)\n",
    "\n",
    "model10_total.fit(X_train, y_train, eval_set=[(X_train, y_train), (X_val, y_val)], \n",
    "    eval_metric= 'auc', verbose= 200, early_stopping_rounds= 200)"
   ]
  },
  {
   "cell_type": "code",
   "execution_count": 101,
   "id": "hungarian-brazil",
   "metadata": {},
   "outputs": [
    {
     "name": "stdout",
     "output_type": "stream",
     "text": [
      "[[44178 12359]\n",
      " [ 1864  3101]]\n",
      "Accuracy score    : 0.769\n",
      "precision score   : 0.201\n",
      "recall score      : 0.625\n",
      "F1 score          : 0.304\n",
      "ROCAUC score      : 0.703\n",
      "custom metric FMI : 0.354\n",
      "\n"
     ]
    },
    {
     "data": {
      "image/png": "[encoded data removed]",
      "text/plain": [
       "<Figure size 432x288 with 1 Axes>"
      ]
     },
     "metadata": {
      "needs_background": "light"
     },
     "output_type": "display_data"
    }
   ],
   "source": [
    "model_eval(model10_total, X_val, y_val)"
   ]
  },
  {
   "cell_type": "code",
   "execution_count": null,
   "id": "immune-museum",
   "metadata": {},
   "outputs": [],
   "source": []
  },
  {
   "cell_type": "code",
   "execution_count": null,
   "id": "fleet-letters",
   "metadata": {},
   "outputs": [],
   "source": []
  },
  {
   "cell_type": "code",
   "execution_count": null,
   "id": "sustained-mandate",
   "metadata": {},
   "outputs": [],
   "source": []
  },
  {
   "cell_type": "code",
   "execution_count": null,
   "id": "according-democrat",
   "metadata": {},
   "outputs": [],
   "source": []
  },
  {
   "cell_type": "code",
   "execution_count": null,
   "id": "rapid-button",
   "metadata": {},
   "outputs": [],
   "source": []
  },
  {
   "cell_type": "code",
   "execution_count": null,
   "id": "alert-mozambique",
   "metadata": {},
   "outputs": [],
   "source": []
  },
  {
   "cell_type": "code",
   "execution_count": null,
   "id": "common-anchor",
   "metadata": {},
   "outputs": [],
   "source": []
  },
  {
   "cell_type": "code",
   "execution_count": null,
   "id": "built-arizona",
   "metadata": {},
   "outputs": [],
   "source": []
  },
  {
   "cell_type": "code",
   "execution_count": 102,
   "id": "caroline-bundle",
   "metadata": {},
   "outputs": [],
   "source": [
    "df_feats = pd.read_csv('df_feats.csv')"
   ]
  },
  {
   "cell_type": "code",
   "execution_count": 103,
   "id": "reduced-trinity",
   "metadata": {
    "collapsed": true,
    "jupyter": {
     "outputs_hidden": true
    }
   },
   "outputs": [
    {
     "data": {
      "text/html": [
       "<div>\n",
       "<style scoped>\n",
       "    .dataframe tbody tr th:only-of-type {\n",
       "        vertical-align: middle;\n",
       "    }\n",
       "\n",
       "    .dataframe tbody tr th {\n",
       "        vertical-align: top;\n",
       "    }\n",
       "\n",
       "    .dataframe thead th {\n",
       "        text-align: right;\n",
       "    }\n",
       "</style>\n",
       "<table border=\"1\" class=\"dataframe\">\n",
       "  <thead>\n",
       "    <tr style=\"text-align: right;\">\n",
       "      <th></th>\n",
       "      <th>Unnamed: 0</th>\n",
       "      <th>TARGET</th>\n",
       "      <th>SK_ID_CURR</th>\n",
       "      <th>POS_SK_DPD_DEF_SUM</th>\n",
       "      <th>CC_DRAWING_LIMIT_RATIO_MAX</th>\n",
       "      <th>INSTAL_PAYMENT_RATIO_MEAN</th>\n",
       "      <th>POS_REMAINING_INSTALMENTS</th>\n",
       "      <th>CC_LAST_AMT_BALANCE_MEAN</th>\n",
       "      <th>CC_PAYMENT_DIV_MIN_MIN</th>\n",
       "      <th>CC_LATE_PAYMENT_VAR</th>\n",
       "      <th>...</th>\n",
       "      <th>BURO_CREDIT_TYPE_Mortgage_MEAN</th>\n",
       "      <th>AMT_GOODS_PRICE</th>\n",
       "      <th>APPROVED_CNT_PAYMENT_MEAN</th>\n",
       "      <th>FLAG_DOCUMENT_7</th>\n",
       "      <th>FLAG_DOCUMENT_18</th>\n",
       "      <th>NONLIVINGAPARTMENTS_MEDI</th>\n",
       "      <th>ACTIVE_AMT_CREDIT_MAX_OVERDUE_MEAN</th>\n",
       "      <th>ORGANIZATION_TYPE_Construction</th>\n",
       "      <th>INSTAL_AMT_PAYMENT_MIN</th>\n",
       "      <th>BURO_AMT_CREDIT_SUM_DEBT_MEAN</th>\n",
       "    </tr>\n",
       "  </thead>\n",
       "  <tbody>\n",
       "    <tr>\n",
       "      <th>0</th>\n",
       "      <td>0</td>\n",
       "      <td>1</td>\n",
       "      <td>100002</td>\n",
       "      <td>0.0</td>\n",
       "      <td>NaN</td>\n",
       "      <td>1.00000</td>\n",
       "      <td>6.0</td>\n",
       "      <td>NaN</td>\n",
       "      <td>NaN</td>\n",
       "      <td>NaN</td>\n",
       "      <td>...</td>\n",
       "      <td>0.0</td>\n",
       "      <td>351000.0</td>\n",
       "      <td>24.00</td>\n",
       "      <td>0</td>\n",
       "      <td>0</td>\n",
       "      <td>0.0000</td>\n",
       "      <td>40.5000</td>\n",
       "      <td>0</td>\n",
       "      <td>9251.775</td>\n",
       "      <td>49156.20</td>\n",
       "    </tr>\n",
       "    <tr>\n",
       "      <th>1</th>\n",
       "      <td>1</td>\n",
       "      <td>0</td>\n",
       "      <td>100003</td>\n",
       "      <td>0.0</td>\n",
       "      <td>NaN</td>\n",
       "      <td>1.00000</td>\n",
       "      <td>1.0</td>\n",
       "      <td>NaN</td>\n",
       "      <td>NaN</td>\n",
       "      <td>NaN</td>\n",
       "      <td>...</td>\n",
       "      <td>0.0</td>\n",
       "      <td>1129500.0</td>\n",
       "      <td>10.00</td>\n",
       "      <td>0</td>\n",
       "      <td>0</td>\n",
       "      <td>0.0039</td>\n",
       "      <td>0.0000</td>\n",
       "      <td>0</td>\n",
       "      <td>6662.970</td>\n",
       "      <td>0.00</td>\n",
       "    </tr>\n",
       "    <tr>\n",
       "      <th>2</th>\n",
       "      <td>2</td>\n",
       "      <td>0</td>\n",
       "      <td>100004</td>\n",
       "      <td>0.0</td>\n",
       "      <td>NaN</td>\n",
       "      <td>1.00000</td>\n",
       "      <td>0.0</td>\n",
       "      <td>NaN</td>\n",
       "      <td>NaN</td>\n",
       "      <td>NaN</td>\n",
       "      <td>...</td>\n",
       "      <td>0.0</td>\n",
       "      <td>135000.0</td>\n",
       "      <td>4.00</td>\n",
       "      <td>0</td>\n",
       "      <td>0</td>\n",
       "      <td>NaN</td>\n",
       "      <td>NaN</td>\n",
       "      <td>0</td>\n",
       "      <td>5357.250</td>\n",
       "      <td>0.00</td>\n",
       "    </tr>\n",
       "    <tr>\n",
       "      <th>3</th>\n",
       "      <td>3</td>\n",
       "      <td>0</td>\n",
       "      <td>100006</td>\n",
       "      <td>0.0</td>\n",
       "      <td>NaN</td>\n",
       "      <td>1.00000</td>\n",
       "      <td>3.0</td>\n",
       "      <td>0.0</td>\n",
       "      <td>NaN</td>\n",
       "      <td>0.0</td>\n",
       "      <td>...</td>\n",
       "      <td>NaN</td>\n",
       "      <td>297000.0</td>\n",
       "      <td>18.00</td>\n",
       "      <td>0</td>\n",
       "      <td>0</td>\n",
       "      <td>NaN</td>\n",
       "      <td>NaN</td>\n",
       "      <td>0</td>\n",
       "      <td>2482.920</td>\n",
       "      <td>NaN</td>\n",
       "    </tr>\n",
       "    <tr>\n",
       "      <th>4</th>\n",
       "      <td>4</td>\n",
       "      <td>0</td>\n",
       "      <td>100007</td>\n",
       "      <td>0.0</td>\n",
       "      <td>NaN</td>\n",
       "      <td>1.00000</td>\n",
       "      <td>14.0</td>\n",
       "      <td>NaN</td>\n",
       "      <td>NaN</td>\n",
       "      <td>NaN</td>\n",
       "      <td>...</td>\n",
       "      <td>0.0</td>\n",
       "      <td>513000.0</td>\n",
       "      <td>20.67</td>\n",
       "      <td>0</td>\n",
       "      <td>0</td>\n",
       "      <td>NaN</td>\n",
       "      <td>NaN</td>\n",
       "      <td>0</td>\n",
       "      <td>0.180</td>\n",
       "      <td>0.00</td>\n",
       "    </tr>\n",
       "    <tr>\n",
       "      <th>...</th>\n",
       "      <td>...</td>\n",
       "      <td>...</td>\n",
       "      <td>...</td>\n",
       "      <td>...</td>\n",
       "      <td>...</td>\n",
       "      <td>...</td>\n",
       "      <td>...</td>\n",
       "      <td>...</td>\n",
       "      <td>...</td>\n",
       "      <td>...</td>\n",
       "      <td>...</td>\n",
       "      <td>...</td>\n",
       "      <td>...</td>\n",
       "      <td>...</td>\n",
       "      <td>...</td>\n",
       "      <td>...</td>\n",
       "      <td>...</td>\n",
       "      <td>...</td>\n",
       "      <td>...</td>\n",
       "      <td>...</td>\n",
       "      <td>...</td>\n",
       "    </tr>\n",
       "    <tr>\n",
       "      <th>307501</th>\n",
       "      <td>307501</td>\n",
       "      <td>0</td>\n",
       "      <td>456251</td>\n",
       "      <td>0.0</td>\n",
       "      <td>NaN</td>\n",
       "      <td>1.00000</td>\n",
       "      <td>0.0</td>\n",
       "      <td>NaN</td>\n",
       "      <td>NaN</td>\n",
       "      <td>NaN</td>\n",
       "      <td>...</td>\n",
       "      <td>NaN</td>\n",
       "      <td>225000.0</td>\n",
       "      <td>8.00</td>\n",
       "      <td>0</td>\n",
       "      <td>0</td>\n",
       "      <td>0.0757</td>\n",
       "      <td>NaN</td>\n",
       "      <td>0</td>\n",
       "      <td>6605.910</td>\n",
       "      <td>NaN</td>\n",
       "    </tr>\n",
       "    <tr>\n",
       "      <th>307502</th>\n",
       "      <td>307502</td>\n",
       "      <td>0</td>\n",
       "      <td>456252</td>\n",
       "      <td>0.0</td>\n",
       "      <td>NaN</td>\n",
       "      <td>1.00000</td>\n",
       "      <td>0.0</td>\n",
       "      <td>NaN</td>\n",
       "      <td>NaN</td>\n",
       "      <td>NaN</td>\n",
       "      <td>...</td>\n",
       "      <td>NaN</td>\n",
       "      <td>225000.0</td>\n",
       "      <td>6.00</td>\n",
       "      <td>0</td>\n",
       "      <td>0</td>\n",
       "      <td>0.0000</td>\n",
       "      <td>NaN</td>\n",
       "      <td>0</td>\n",
       "      <td>10046.880</td>\n",
       "      <td>NaN</td>\n",
       "    </tr>\n",
       "    <tr>\n",
       "      <th>307503</th>\n",
       "      <td>307503</td>\n",
       "      <td>0</td>\n",
       "      <td>456253</td>\n",
       "      <td>5.0</td>\n",
       "      <td>NaN</td>\n",
       "      <td>1.00000</td>\n",
       "      <td>0.0</td>\n",
       "      <td>NaN</td>\n",
       "      <td>NaN</td>\n",
       "      <td>NaN</td>\n",
       "      <td>...</td>\n",
       "      <td>0.0</td>\n",
       "      <td>585000.0</td>\n",
       "      <td>5.00</td>\n",
       "      <td>0</td>\n",
       "      <td>0</td>\n",
       "      <td>0.0000</td>\n",
       "      <td>NaN</td>\n",
       "      <td>0</td>\n",
       "      <td>27.270</td>\n",
       "      <td>448958.25</td>\n",
       "    </tr>\n",
       "    <tr>\n",
       "      <th>307504</th>\n",
       "      <td>307504</td>\n",
       "      <td>1</td>\n",
       "      <td>456254</td>\n",
       "      <td>0.0</td>\n",
       "      <td>NaN</td>\n",
       "      <td>1.00000</td>\n",
       "      <td>12.0</td>\n",
       "      <td>NaN</td>\n",
       "      <td>NaN</td>\n",
       "      <td>NaN</td>\n",
       "      <td>...</td>\n",
       "      <td>0.0</td>\n",
       "      <td>319500.0</td>\n",
       "      <td>15.00</td>\n",
       "      <td>0</td>\n",
       "      <td>0</td>\n",
       "      <td>NaN</td>\n",
       "      <td>NaN</td>\n",
       "      <td>0</td>\n",
       "      <td>2296.440</td>\n",
       "      <td>0.00</td>\n",
       "    </tr>\n",
       "    <tr>\n",
       "      <th>307505</th>\n",
       "      <td>307505</td>\n",
       "      <td>0</td>\n",
       "      <td>456255</td>\n",
       "      <td>5.0</td>\n",
       "      <td>NaN</td>\n",
       "      <td>0.97973</td>\n",
       "      <td>0.0</td>\n",
       "      <td>NaN</td>\n",
       "      <td>NaN</td>\n",
       "      <td>NaN</td>\n",
       "      <td>...</td>\n",
       "      <td>0.0</td>\n",
       "      <td>675000.0</td>\n",
       "      <td>19.00</td>\n",
       "      <td>0</td>\n",
       "      <td>0</td>\n",
       "      <td>NaN</td>\n",
       "      <td>7719.9526</td>\n",
       "      <td>0</td>\n",
       "      <td>34.965</td>\n",
       "      <td>191864.12</td>\n",
       "    </tr>\n",
       "  </tbody>\n",
       "</table>\n",
       "<p>307506 rows × 176 columns</p>\n",
       "</div>"
      ],
      "text/plain": [
       "        Unnamed: 0  TARGET  SK_ID_CURR  POS_SK_DPD_DEF_SUM  \\\n",
       "0                0       1      100002                 0.0   \n",
       "1                1       0      100003                 0.0   \n",
       "2                2       0      100004                 0.0   \n",
       "3                3       0      100006                 0.0   \n",
       "4                4       0      100007                 0.0   \n",
       "...            ...     ...         ...                 ...   \n",
       "307501      307501       0      456251                 0.0   \n",
       "307502      307502       0      456252                 0.0   \n",
       "307503      307503       0      456253                 5.0   \n",
       "307504      307504       1      456254                 0.0   \n",
       "307505      307505       0      456255                 5.0   \n",
       "\n",
       "        CC_DRAWING_LIMIT_RATIO_MAX  INSTAL_PAYMENT_RATIO_MEAN  \\\n",
       "0                              NaN                    1.00000   \n",
       "1                              NaN                    1.00000   \n",
       "2                              NaN                    1.00000   \n",
       "3                              NaN                    1.00000   \n",
       "4                              NaN                    1.00000   \n",
       "...                            ...                        ...   \n",
       "307501                         NaN                    1.00000   \n",
       "307502                         NaN                    1.00000   \n",
       "307503                         NaN                    1.00000   \n",
       "307504                         NaN                    1.00000   \n",
       "307505                         NaN                    0.97973   \n",
       "\n",
       "        POS_REMAINING_INSTALMENTS  CC_LAST_AMT_BALANCE_MEAN  \\\n",
       "0                             6.0                       NaN   \n",
       "1                             1.0                       NaN   \n",
       "2                             0.0                       NaN   \n",
       "3                             3.0                       0.0   \n",
       "4                            14.0                       NaN   \n",
       "...                           ...                       ...   \n",
       "307501                        0.0                       NaN   \n",
       "307502                        0.0                       NaN   \n",
       "307503                        0.0                       NaN   \n",
       "307504                       12.0                       NaN   \n",
       "307505                        0.0                       NaN   \n",
       "\n",
       "        CC_PAYMENT_DIV_MIN_MIN  CC_LATE_PAYMENT_VAR  ...  \\\n",
       "0                          NaN                  NaN  ...   \n",
       "1                          NaN                  NaN  ...   \n",
       "2                          NaN                  NaN  ...   \n",
       "3                          NaN                  0.0  ...   \n",
       "4                          NaN                  NaN  ...   \n",
       "...                        ...                  ...  ...   \n",
       "307501                     NaN                  NaN  ...   \n",
       "307502                     NaN                  NaN  ...   \n",
       "307503                     NaN                  NaN  ...   \n",
       "307504                     NaN                  NaN  ...   \n",
       "307505                     NaN                  NaN  ...   \n",
       "\n",
       "        BURO_CREDIT_TYPE_Mortgage_MEAN  AMT_GOODS_PRICE  \\\n",
       "0                                  0.0         351000.0   \n",
       "1                                  0.0        1129500.0   \n",
       "2                                  0.0         135000.0   \n",
       "3                                  NaN         297000.0   \n",
       "4                                  0.0         513000.0   \n",
       "...                                ...              ...   \n",
       "307501                             NaN         225000.0   \n",
       "307502                             NaN         225000.0   \n",
       "307503                             0.0         585000.0   \n",
       "307504                             0.0         319500.0   \n",
       "307505                             0.0         675000.0   \n",
       "\n",
       "        APPROVED_CNT_PAYMENT_MEAN  FLAG_DOCUMENT_7  FLAG_DOCUMENT_18  \\\n",
       "0                           24.00                0                 0   \n",
       "1                           10.00                0                 0   \n",
       "2                            4.00                0                 0   \n",
       "3                           18.00                0                 0   \n",
       "4                           20.67                0                 0   \n",
       "...                           ...              ...               ...   \n",
       "307501                       8.00                0                 0   \n",
       "307502                       6.00                0                 0   \n",
       "307503                       5.00                0                 0   \n",
       "307504                      15.00                0                 0   \n",
       "307505                      19.00                0                 0   \n",
       "\n",
       "        NONLIVINGAPARTMENTS_MEDI  ACTIVE_AMT_CREDIT_MAX_OVERDUE_MEAN  \\\n",
       "0                         0.0000                             40.5000   \n",
       "1                         0.0039                              0.0000   \n",
       "2                            NaN                                 NaN   \n",
       "3                            NaN                                 NaN   \n",
       "4                            NaN                                 NaN   \n",
       "...                          ...                                 ...   \n",
       "307501                    0.0757                                 NaN   \n",
       "307502                    0.0000                                 NaN   \n",
       "307503                    0.0000                                 NaN   \n",
       "307504                       NaN                                 NaN   \n",
       "307505                       NaN                           7719.9526   \n",
       "\n",
       "        ORGANIZATION_TYPE_Construction  INSTAL_AMT_PAYMENT_MIN  \\\n",
       "0                                    0                9251.775   \n",
       "1                                    0                6662.970   \n",
       "2                                    0                5357.250   \n",
       "3                                    0                2482.920   \n",
       "4                                    0                   0.180   \n",
       "...                                ...                     ...   \n",
       "307501                               0                6605.910   \n",
       "307502                               0               10046.880   \n",
       "307503                               0                  27.270   \n",
       "307504                               0                2296.440   \n",
       "307505                               0                  34.965   \n",
       "\n",
       "        BURO_AMT_CREDIT_SUM_DEBT_MEAN  \n",
       "0                            49156.20  \n",
       "1                                0.00  \n",
       "2                                0.00  \n",
       "3                                 NaN  \n",
       "4                                0.00  \n",
       "...                               ...  \n",
       "307501                            NaN  \n",
       "307502                            NaN  \n",
       "307503                      448958.25  \n",
       "307504                           0.00  \n",
       "307505                      191864.12  \n",
       "\n",
       "[307506 rows x 176 columns]"
      ]
     },
     "execution_count": 103,
     "metadata": {},
     "output_type": "execute_result"
    }
   ],
   "source": [
    "df_feats"
   ]
  },
  {
   "cell_type": "code",
   "execution_count": 105,
   "id": "frank-calendar",
   "metadata": {},
   "outputs": [],
   "source": [
    "df_feats.drop(columns='Unnamed: 0', inplace=True)"
   ]
  },
  {
   "cell_type": "code",
   "execution_count": 106,
   "id": "duplicate-former",
   "metadata": {},
   "outputs": [],
   "source": [
    "import re\n",
    "from collections import Counter\n",
    "\n",
    "df_feats = df_feats.rename(columns = lambda x:re.sub('[^A-Za-z0-9_]+', '', x))\n",
    "\n",
    "X = df_feats.drop(columns='TARGET').copy()\n",
    "y = df_feats['TARGET'].copy()\n"
   ]
  },
  {
   "cell_type": "code",
   "execution_count": 107,
   "id": "sonic-threat",
   "metadata": {},
   "outputs": [],
   "source": [
    "from sklearn.model_selection import train_test_split\n",
    "\n",
    "X_train, X_val, y_train, y_val = train_test_split(X, y, test_size=0.2, stratify=y, random_state=1944)"
   ]
  },
  {
   "cell_type": "code",
   "execution_count": 108,
   "id": "ancient-favor",
   "metadata": {},
   "outputs": [
    {
     "name": "stdout",
     "output_type": "stream",
     "text": [
      "y_train Counter({0: 226145, 1: 19859})\n",
      "y_val Counter({0: 56537, 1: 4965})\n"
     ]
    }
   ],
   "source": [
    "print('y_train', Counter(y_train))\n",
    "print('y_val', Counter(y_val))"
   ]
  },
  {
   "cell_type": "code",
   "execution_count": 109,
   "id": "focal-ancient",
   "metadata": {},
   "outputs": [
    {
     "name": "stdout",
     "output_type": "stream",
     "text": [
      "[0]\tvalidation_0-auc:0.72845\tvalidation_1-auc:0.71234\n",
      "[99]\tvalidation_0-auc:0.89189\tvalidation_1-auc:0.77286\n"
     ]
    },
    {
     "data": {
      "text/plain": [
       "XGBClassifier(base_score=0.5, booster='gbtree', colsample_bylevel=1,\n",
       "              colsample_bynode=1, colsample_bytree=1, gamma=0, gpu_id=-1,\n",
       "              importance_type='gain', interaction_constraints='',\n",
       "              learning_rate=0.300000012, max_delta_step=0, max_depth=6,\n",
       "              min_child_weight=1, missing=nan, monotone_constraints='()',\n",
       "              n_estimators=100, n_jobs=4, num_parallel_tree=1, random_state=0,\n",
       "              reg_alpha=0, reg_lambda=1, scale_pos_weight=10, subsample=1,\n",
       "              tree_method='exact', validate_parameters=1, verbosity=None)"
      ]
     },
     "execution_count": 109,
     "metadata": {},
     "output_type": "execute_result"
    }
   ],
   "source": [
    "from xgboost import XGBClassifier\n",
    "\n",
    "model10_feats = XGBClassifier(scale_pos_weight=10)\n",
    "\n",
    "model10_feats.fit(X_train, y_train, eval_set=[(X_train, y_train), (X_val, y_val)], \n",
    "    eval_metric= 'auc', verbose= 200, early_stopping_rounds= 200)"
   ]
  },
  {
   "cell_type": "code",
   "execution_count": 110,
   "id": "thousand-packet",
   "metadata": {},
   "outputs": [
    {
     "name": "stdout",
     "output_type": "stream",
     "text": [
      "[[44097 12440]\n",
      " [ 1895  3070]]\n",
      "Accuracy score    : 0.767\n",
      "precision score   : 0.198\n",
      "recall score      : 0.618\n",
      "F1 score          : 0.3\n",
      "ROCAUC score      : 0.699\n",
      "custom metric FMI : 0.35\n",
      "\n"
     ]
    },
    {
     "data": {
      "image/png": "[encoded data removed]",
      "text/plain": [
       "<Figure size 432x288 with 1 Axes>"
      ]
     },
     "metadata": {
      "needs_background": "light"
     },
     "output_type": "display_data"
    }
   ],
   "source": [
    "model_eval(model10_feats, X_val, y_val)"
   ]
  },
  {
   "cell_type": "code",
   "execution_count": 111,
   "id": "necessary-fireplace",
   "metadata": {},
   "outputs": [
    {
     "name": "stdout",
     "output_type": "stream",
     "text": [
      "{'n_estimators': range(50, 200, 500), 'learning_rate': [0.01, 0.05, 0.1, 0.3, 1], 'max_depth': [2, 3, 5], 'colsample_bytree': [0.8, 0.9, 1.0], 'subsample': [0.8, 0.9, 1.0], 'min_child_weight': [1, 2, 3], 'reg_lambda': [1.1, 1.2, 1.3]}\n",
      "Fitting 3 folds for each of 70 candidates, totalling 210 fits\n"
     ]
    },
    {
     "name": "stderr",
     "output_type": "stream",
     "text": [
      "[Parallel(n_jobs=-1)]: Using backend LokyBackend with 4 concurrent workers.\n",
      "[Parallel(n_jobs=-1)]: Done  24 tasks      | elapsed:  6.2min\n",
      "[Parallel(n_jobs=-1)]: Done 120 tasks      | elapsed: 29.3min\n",
      "[Parallel(n_jobs=-1)]: Done 210 out of 210 | elapsed: 53.7min finished\n"
     ]
    },
    {
     "name": "stdout",
     "output_type": "stream",
     "text": [
      "{'subsample': 0.8, 'reg_lambda': 1.3, 'n_estimators': 50, 'min_child_weight': 1, 'max_depth': 3, 'learning_rate': 0.3, 'colsample_bytree': 1.0}\n"
     ]
    }
   ],
   "source": [
    "from sklearn.model_selection import RandomizedSearchCV\n",
    "\n",
    "# Create the random grid\n",
    "random_grid = {\n",
    "               'n_estimators' : range(50, 200, 500),\n",
    "               'learning_rate': [0.01,0.05,0.1,0.3,1],\n",
    "               'max_depth' : [2, 3, 5],\n",
    "               'colsample_bytree': [0.8, 0.9, 1.0],\n",
    "                'subsample': [0.8, 0.9, 1.0],\n",
    "                'min_child_weight' : [1, 2, 3],\n",
    "                'reg_lambda': [1.1, 1.2, 1.3]\n",
    "              }\n",
    "\n",
    "                    \n",
    "print(random_grid)\n",
    "\n",
    "# Random search of parameters, using 3 fold cross validation, \n",
    "# search across 100 different combinations, and use all available cores\n",
    "rf_random_feats = RandomizedSearchCV(estimator = XGBClassifier(scale_pos_weight=10, eval_metric='logloss'), scoring=custom_scorer, param_distributions = random_grid, n_iter = 70, cv = 3, verbose=3, n_jobs = -1)\n",
    "# Fit the random search model\n",
    "rf_random_feats.fit(X_train, y_train)\n",
    "\n",
    "print(rf_random_feats.best_params_)"
   ]
  },
  {
   "cell_type": "code",
   "execution_count": 112,
   "id": "theoretical-tomato",
   "metadata": {},
   "outputs": [
    {
     "name": "stdout",
     "output_type": "stream",
     "text": [
      "[[42608 13929]\n",
      " [ 1731  3234]]\n",
      "Accuracy score    : 0.745\n",
      "precision score   : 0.188\n",
      "recall score      : 0.651\n",
      "F1 score          : 0.292\n",
      "ROCAUC score      : 0.702\n",
      "custom metric FMI : 0.35\n",
      "\n"
     ]
    },
    {
     "data": {
      "image/png": "[encoded data removed]",
      "text/plain": [
       "<Figure size 432x288 with 1 Axes>"
      ]
     },
     "metadata": {
      "needs_background": "light"
     },
     "output_type": "display_data"
    }
   ],
   "source": [
    "model_eval(rf_random_feats.best_estimator_, X_val, y_val)"
   ]
  },
  {
   "cell_type": "code",
   "execution_count": 114,
   "id": "registered-national",
   "metadata": {},
   "outputs": [
    {
     "name": "stdout",
     "output_type": "stream",
     "text": [
      "{'n_estimators': [50, 100], 'learning_rate': [0.2, 0.3, 0.4], 'max_depth': [3, 4], 'colsample_bytree': [0.9, 1], 'subsample': [0.8, 0.9], 'min_child_weight': [1, 2], 'reg_lambda': [1.3, 1.4]}\n",
      "Fitting 5 folds for each of 192 candidates, totalling 960 fits\n"
     ]
    },
    {
     "name": "stderr",
     "output_type": "stream",
     "text": [
      "[Parallel(n_jobs=-1)]: Using backend LokyBackend with 4 concurrent workers.\n",
      "[Parallel(n_jobs=-1)]: Done  24 tasks      | elapsed:  9.6min\n"
     ]
    },
    {
     "ename": "KeyboardInterrupt",
     "evalue": "",
     "output_type": "error",
     "traceback": [
      "\u001b[1;31m---------------------------------------------------------------------------\u001b[0m",
      "\u001b[1;31mKeyboardInterrupt\u001b[0m                         Traceback (most recent call last)",
      "\u001b[1;32m<ipython-input-114-d2a07652bc19>\u001b[0m in \u001b[0;36m<module>\u001b[1;34m\u001b[0m\n\u001b[0;32m     17\u001b[0m \u001b[1;33m\u001b[0m\u001b[0m\n\u001b[0;32m     18\u001b[0m \u001b[0mgrid_feats\u001b[0m \u001b[1;33m=\u001b[0m \u001b[0mGridSearchCV\u001b[0m\u001b[1;33m(\u001b[0m \u001b[0mXGBClassifier\u001b[0m\u001b[1;33m(\u001b[0m\u001b[0mscale_pos_weight\u001b[0m\u001b[1;33m=\u001b[0m\u001b[1;36m10\u001b[0m\u001b[1;33m,\u001b[0m \u001b[0meval_metric\u001b[0m\u001b[1;33m=\u001b[0m\u001b[1;34m'logloss'\u001b[0m\u001b[1;33m)\u001b[0m\u001b[1;33m,\u001b[0m\u001b[0mparams_grid\u001b[0m\u001b[1;33m,\u001b[0m \u001b[0mcv\u001b[0m\u001b[1;33m=\u001b[0m\u001b[0mskf\u001b[0m\u001b[1;33m,\u001b[0m \u001b[0mscoring\u001b[0m\u001b[1;33m=\u001b[0m\u001b[0mcustom_scorer\u001b[0m\u001b[1;33m,\u001b[0m \u001b[0mn_jobs\u001b[0m\u001b[1;33m=\u001b[0m\u001b[1;33m-\u001b[0m\u001b[1;36m1\u001b[0m\u001b[1;33m,\u001b[0m \u001b[0mverbose\u001b[0m\u001b[1;33m=\u001b[0m\u001b[1;36m3\u001b[0m\u001b[1;33m)\u001b[0m\u001b[1;33m\u001b[0m\u001b[1;33m\u001b[0m\u001b[0m\n\u001b[1;32m---> 19\u001b[1;33m \u001b[0mgrid_feats\u001b[0m\u001b[1;33m.\u001b[0m\u001b[0mfit\u001b[0m\u001b[1;33m(\u001b[0m\u001b[0mX_train\u001b[0m\u001b[1;33m,\u001b[0m \u001b[0my_train\u001b[0m\u001b[1;33m)\u001b[0m\u001b[1;33m\u001b[0m\u001b[1;33m\u001b[0m\u001b[0m\n\u001b[0m\u001b[0;32m     20\u001b[0m \u001b[1;31m#print(grid.cv_results_)\u001b[0m\u001b[1;33m\u001b[0m\u001b[1;33m\u001b[0m\u001b[1;33m\u001b[0m\u001b[0m\n\u001b[0;32m     21\u001b[0m \u001b[1;33m\u001b[0m\u001b[0m\n",
      "\u001b[1;32m~\\anaconda3\\envs\\p7\\lib\\site-packages\\sklearn\\utils\\validation.py\u001b[0m in \u001b[0;36minner_f\u001b[1;34m(*args, **kwargs)\u001b[0m\n\u001b[0;32m     70\u001b[0m                           FutureWarning)\n\u001b[0;32m     71\u001b[0m         \u001b[0mkwargs\u001b[0m\u001b[1;33m.\u001b[0m\u001b[0mupdate\u001b[0m\u001b[1;33m(\u001b[0m\u001b[1;33m{\u001b[0m\u001b[0mk\u001b[0m\u001b[1;33m:\u001b[0m \u001b[0marg\u001b[0m \u001b[1;32mfor\u001b[0m \u001b[0mk\u001b[0m\u001b[1;33m,\u001b[0m \u001b[0marg\u001b[0m \u001b[1;32min\u001b[0m \u001b[0mzip\u001b[0m\u001b[1;33m(\u001b[0m\u001b[0msig\u001b[0m\u001b[1;33m.\u001b[0m\u001b[0mparameters\u001b[0m\u001b[1;33m,\u001b[0m \u001b[0margs\u001b[0m\u001b[1;33m)\u001b[0m\u001b[1;33m}\u001b[0m\u001b[1;33m)\u001b[0m\u001b[1;33m\u001b[0m\u001b[1;33m\u001b[0m\u001b[0m\n\u001b[1;32m---> 72\u001b[1;33m         \u001b[1;32mreturn\u001b[0m \u001b[0mf\u001b[0m\u001b[1;33m(\u001b[0m\u001b[1;33m**\u001b[0m\u001b[0mkwargs\u001b[0m\u001b[1;33m)\u001b[0m\u001b[1;33m\u001b[0m\u001b[1;33m\u001b[0m\u001b[0m\n\u001b[0m\u001b[0;32m     73\u001b[0m     \u001b[1;32mreturn\u001b[0m \u001b[0minner_f\u001b[0m\u001b[1;33m\u001b[0m\u001b[1;33m\u001b[0m\u001b[0m\n\u001b[0;32m     74\u001b[0m \u001b[1;33m\u001b[0m\u001b[0m\n",
      "\u001b[1;32m~\\anaconda3\\envs\\p7\\lib\\site-packages\\sklearn\\model_selection\\_search.py\u001b[0m in \u001b[0;36mfit\u001b[1;34m(self, X, y, groups, **fit_params)\u001b[0m\n\u001b[0;32m    734\u001b[0m                 \u001b[1;32mreturn\u001b[0m \u001b[0mresults\u001b[0m\u001b[1;33m\u001b[0m\u001b[1;33m\u001b[0m\u001b[0m\n\u001b[0;32m    735\u001b[0m \u001b[1;33m\u001b[0m\u001b[0m\n\u001b[1;32m--> 736\u001b[1;33m             \u001b[0mself\u001b[0m\u001b[1;33m.\u001b[0m\u001b[0m_run_search\u001b[0m\u001b[1;33m(\u001b[0m\u001b[0mevaluate_candidates\u001b[0m\u001b[1;33m)\u001b[0m\u001b[1;33m\u001b[0m\u001b[1;33m\u001b[0m\u001b[0m\n\u001b[0m\u001b[0;32m    737\u001b[0m \u001b[1;33m\u001b[0m\u001b[0m\n\u001b[0;32m    738\u001b[0m         \u001b[1;31m# For multi-metric evaluation, store the best_index_, best_params_ and\u001b[0m\u001b[1;33m\u001b[0m\u001b[1;33m\u001b[0m\u001b[1;33m\u001b[0m\u001b[0m\n",
      "\u001b[1;32m~\\anaconda3\\envs\\p7\\lib\\site-packages\\sklearn\\model_selection\\_search.py\u001b[0m in \u001b[0;36m_run_search\u001b[1;34m(self, evaluate_candidates)\u001b[0m\n\u001b[0;32m   1186\u001b[0m     \u001b[1;32mdef\u001b[0m \u001b[0m_run_search\u001b[0m\u001b[1;33m(\u001b[0m\u001b[0mself\u001b[0m\u001b[1;33m,\u001b[0m \u001b[0mevaluate_candidates\u001b[0m\u001b[1;33m)\u001b[0m\u001b[1;33m:\u001b[0m\u001b[1;33m\u001b[0m\u001b[1;33m\u001b[0m\u001b[0m\n\u001b[0;32m   1187\u001b[0m         \u001b[1;34m\"\"\"Search all candidates in param_grid\"\"\"\u001b[0m\u001b[1;33m\u001b[0m\u001b[1;33m\u001b[0m\u001b[0m\n\u001b[1;32m-> 1188\u001b[1;33m         \u001b[0mevaluate_candidates\u001b[0m\u001b[1;33m(\u001b[0m\u001b[0mParameterGrid\u001b[0m\u001b[1;33m(\u001b[0m\u001b[0mself\u001b[0m\u001b[1;33m.\u001b[0m\u001b[0mparam_grid\u001b[0m\u001b[1;33m)\u001b[0m\u001b[1;33m)\u001b[0m\u001b[1;33m\u001b[0m\u001b[1;33m\u001b[0m\u001b[0m\n\u001b[0m\u001b[0;32m   1189\u001b[0m \u001b[1;33m\u001b[0m\u001b[0m\n\u001b[0;32m   1190\u001b[0m \u001b[1;33m\u001b[0m\u001b[0m\n",
      "\u001b[1;32m~\\anaconda3\\envs\\p7\\lib\\site-packages\\sklearn\\model_selection\\_search.py\u001b[0m in \u001b[0;36mevaluate_candidates\u001b[1;34m(candidate_params)\u001b[0m\n\u001b[0;32m    706\u001b[0m                               n_splits, n_candidates, n_candidates * n_splits))\n\u001b[0;32m    707\u001b[0m \u001b[1;33m\u001b[0m\u001b[0m\n\u001b[1;32m--> 708\u001b[1;33m                 out = parallel(delayed(_fit_and_score)(clone(base_estimator),\n\u001b[0m\u001b[0;32m    709\u001b[0m                                                        \u001b[0mX\u001b[0m\u001b[1;33m,\u001b[0m \u001b[0my\u001b[0m\u001b[1;33m,\u001b[0m\u001b[1;33m\u001b[0m\u001b[1;33m\u001b[0m\u001b[0m\n\u001b[0;32m    710\u001b[0m                                                        \u001b[0mtrain\u001b[0m\u001b[1;33m=\u001b[0m\u001b[0mtrain\u001b[0m\u001b[1;33m,\u001b[0m \u001b[0mtest\u001b[0m\u001b[1;33m=\u001b[0m\u001b[0mtest\u001b[0m\u001b[1;33m,\u001b[0m\u001b[1;33m\u001b[0m\u001b[1;33m\u001b[0m\u001b[0m\n",
      "\u001b[1;32m~\\anaconda3\\envs\\p7\\lib\\site-packages\\joblib\\parallel.py\u001b[0m in \u001b[0;36m__call__\u001b[1;34m(self, iterable)\u001b[0m\n\u001b[0;32m   1052\u001b[0m \u001b[1;33m\u001b[0m\u001b[0m\n\u001b[0;32m   1053\u001b[0m             \u001b[1;32mwith\u001b[0m \u001b[0mself\u001b[0m\u001b[1;33m.\u001b[0m\u001b[0m_backend\u001b[0m\u001b[1;33m.\u001b[0m\u001b[0mretrieval_context\u001b[0m\u001b[1;33m(\u001b[0m\u001b[1;33m)\u001b[0m\u001b[1;33m:\u001b[0m\u001b[1;33m\u001b[0m\u001b[1;33m\u001b[0m\u001b[0m\n\u001b[1;32m-> 1054\u001b[1;33m                 \u001b[0mself\u001b[0m\u001b[1;33m.\u001b[0m\u001b[0mretrieve\u001b[0m\u001b[1;33m(\u001b[0m\u001b[1;33m)\u001b[0m\u001b[1;33m\u001b[0m\u001b[1;33m\u001b[0m\u001b[0m\n\u001b[0m\u001b[0;32m   1055\u001b[0m             \u001b[1;31m# Make sure that we get a last message telling us we are done\u001b[0m\u001b[1;33m\u001b[0m\u001b[1;33m\u001b[0m\u001b[1;33m\u001b[0m\u001b[0m\n\u001b[0;32m   1056\u001b[0m             \u001b[0melapsed_time\u001b[0m \u001b[1;33m=\u001b[0m \u001b[0mtime\u001b[0m\u001b[1;33m.\u001b[0m\u001b[0mtime\u001b[0m\u001b[1;33m(\u001b[0m\u001b[1;33m)\u001b[0m \u001b[1;33m-\u001b[0m \u001b[0mself\u001b[0m\u001b[1;33m.\u001b[0m\u001b[0m_start_time\u001b[0m\u001b[1;33m\u001b[0m\u001b[1;33m\u001b[0m\u001b[0m\n",
      "\u001b[1;32m~\\anaconda3\\envs\\p7\\lib\\site-packages\\joblib\\parallel.py\u001b[0m in \u001b[0;36mretrieve\u001b[1;34m(self)\u001b[0m\n\u001b[0;32m    931\u001b[0m             \u001b[1;32mtry\u001b[0m\u001b[1;33m:\u001b[0m\u001b[1;33m\u001b[0m\u001b[1;33m\u001b[0m\u001b[0m\n\u001b[0;32m    932\u001b[0m                 \u001b[1;32mif\u001b[0m \u001b[0mgetattr\u001b[0m\u001b[1;33m(\u001b[0m\u001b[0mself\u001b[0m\u001b[1;33m.\u001b[0m\u001b[0m_backend\u001b[0m\u001b[1;33m,\u001b[0m \u001b[1;34m'supports_timeout'\u001b[0m\u001b[1;33m,\u001b[0m \u001b[1;32mFalse\u001b[0m\u001b[1;33m)\u001b[0m\u001b[1;33m:\u001b[0m\u001b[1;33m\u001b[0m\u001b[1;33m\u001b[0m\u001b[0m\n\u001b[1;32m--> 933\u001b[1;33m                     \u001b[0mself\u001b[0m\u001b[1;33m.\u001b[0m\u001b[0m_output\u001b[0m\u001b[1;33m.\u001b[0m\u001b[0mextend\u001b[0m\u001b[1;33m(\u001b[0m\u001b[0mjob\u001b[0m\u001b[1;33m.\u001b[0m\u001b[0mget\u001b[0m\u001b[1;33m(\u001b[0m\u001b[0mtimeout\u001b[0m\u001b[1;33m=\u001b[0m\u001b[0mself\u001b[0m\u001b[1;33m.\u001b[0m\u001b[0mtimeout\u001b[0m\u001b[1;33m)\u001b[0m\u001b[1;33m)\u001b[0m\u001b[1;33m\u001b[0m\u001b[1;33m\u001b[0m\u001b[0m\n\u001b[0m\u001b[0;32m    934\u001b[0m                 \u001b[1;32melse\u001b[0m\u001b[1;33m:\u001b[0m\u001b[1;33m\u001b[0m\u001b[1;33m\u001b[0m\u001b[0m\n\u001b[0;32m    935\u001b[0m                     \u001b[0mself\u001b[0m\u001b[1;33m.\u001b[0m\u001b[0m_output\u001b[0m\u001b[1;33m.\u001b[0m\u001b[0mextend\u001b[0m\u001b[1;33m(\u001b[0m\u001b[0mjob\u001b[0m\u001b[1;33m.\u001b[0m\u001b[0mget\u001b[0m\u001b[1;33m(\u001b[0m\u001b[1;33m)\u001b[0m\u001b[1;33m)\u001b[0m\u001b[1;33m\u001b[0m\u001b[1;33m\u001b[0m\u001b[0m\n",
      "\u001b[1;32m~\\anaconda3\\envs\\p7\\lib\\site-packages\\joblib\\_parallel_backends.py\u001b[0m in \u001b[0;36mwrap_future_result\u001b[1;34m(future, timeout)\u001b[0m\n\u001b[0;32m    540\u001b[0m         AsyncResults.get from multiprocessing.\"\"\"\n\u001b[0;32m    541\u001b[0m         \u001b[1;32mtry\u001b[0m\u001b[1;33m:\u001b[0m\u001b[1;33m\u001b[0m\u001b[1;33m\u001b[0m\u001b[0m\n\u001b[1;32m--> 542\u001b[1;33m             \u001b[1;32mreturn\u001b[0m \u001b[0mfuture\u001b[0m\u001b[1;33m.\u001b[0m\u001b[0mresult\u001b[0m\u001b[1;33m(\u001b[0m\u001b[0mtimeout\u001b[0m\u001b[1;33m=\u001b[0m\u001b[0mtimeout\u001b[0m\u001b[1;33m)\u001b[0m\u001b[1;33m\u001b[0m\u001b[1;33m\u001b[0m\u001b[0m\n\u001b[0m\u001b[0;32m    543\u001b[0m         \u001b[1;32mexcept\u001b[0m \u001b[0mCfTimeoutError\u001b[0m \u001b[1;32mas\u001b[0m \u001b[0me\u001b[0m\u001b[1;33m:\u001b[0m\u001b[1;33m\u001b[0m\u001b[1;33m\u001b[0m\u001b[0m\n\u001b[0;32m    544\u001b[0m             \u001b[1;32mraise\u001b[0m \u001b[0mTimeoutError\u001b[0m \u001b[1;32mfrom\u001b[0m \u001b[0me\u001b[0m\u001b[1;33m\u001b[0m\u001b[1;33m\u001b[0m\u001b[0m\n",
      "\u001b[1;32m~\\anaconda3\\envs\\p7\\lib\\concurrent\\futures\\_base.py\u001b[0m in \u001b[0;36mresult\u001b[1;34m(self, timeout)\u001b[0m\n\u001b[0;32m    432\u001b[0m                 \u001b[1;32mreturn\u001b[0m \u001b[0mself\u001b[0m\u001b[1;33m.\u001b[0m\u001b[0m__get_result\u001b[0m\u001b[1;33m(\u001b[0m\u001b[1;33m)\u001b[0m\u001b[1;33m\u001b[0m\u001b[1;33m\u001b[0m\u001b[0m\n\u001b[0;32m    433\u001b[0m \u001b[1;33m\u001b[0m\u001b[0m\n\u001b[1;32m--> 434\u001b[1;33m             \u001b[0mself\u001b[0m\u001b[1;33m.\u001b[0m\u001b[0m_condition\u001b[0m\u001b[1;33m.\u001b[0m\u001b[0mwait\u001b[0m\u001b[1;33m(\u001b[0m\u001b[0mtimeout\u001b[0m\u001b[1;33m)\u001b[0m\u001b[1;33m\u001b[0m\u001b[1;33m\u001b[0m\u001b[0m\n\u001b[0m\u001b[0;32m    435\u001b[0m \u001b[1;33m\u001b[0m\u001b[0m\n\u001b[0;32m    436\u001b[0m             \u001b[1;32mif\u001b[0m \u001b[0mself\u001b[0m\u001b[1;33m.\u001b[0m\u001b[0m_state\u001b[0m \u001b[1;32min\u001b[0m \u001b[1;33m[\u001b[0m\u001b[0mCANCELLED\u001b[0m\u001b[1;33m,\u001b[0m \u001b[0mCANCELLED_AND_NOTIFIED\u001b[0m\u001b[1;33m]\u001b[0m\u001b[1;33m:\u001b[0m\u001b[1;33m\u001b[0m\u001b[1;33m\u001b[0m\u001b[0m\n",
      "\u001b[1;32m~\\anaconda3\\envs\\p7\\lib\\threading.py\u001b[0m in \u001b[0;36mwait\u001b[1;34m(self, timeout)\u001b[0m\n\u001b[0;32m    300\u001b[0m         \u001b[1;32mtry\u001b[0m\u001b[1;33m:\u001b[0m    \u001b[1;31m# restore state no matter what (e.g., KeyboardInterrupt)\u001b[0m\u001b[1;33m\u001b[0m\u001b[1;33m\u001b[0m\u001b[0m\n\u001b[0;32m    301\u001b[0m             \u001b[1;32mif\u001b[0m \u001b[0mtimeout\u001b[0m \u001b[1;32mis\u001b[0m \u001b[1;32mNone\u001b[0m\u001b[1;33m:\u001b[0m\u001b[1;33m\u001b[0m\u001b[1;33m\u001b[0m\u001b[0m\n\u001b[1;32m--> 302\u001b[1;33m                 \u001b[0mwaiter\u001b[0m\u001b[1;33m.\u001b[0m\u001b[0macquire\u001b[0m\u001b[1;33m(\u001b[0m\u001b[1;33m)\u001b[0m\u001b[1;33m\u001b[0m\u001b[1;33m\u001b[0m\u001b[0m\n\u001b[0m\u001b[0;32m    303\u001b[0m                 \u001b[0mgotit\u001b[0m \u001b[1;33m=\u001b[0m \u001b[1;32mTrue\u001b[0m\u001b[1;33m\u001b[0m\u001b[1;33m\u001b[0m\u001b[0m\n\u001b[0;32m    304\u001b[0m             \u001b[1;32melse\u001b[0m\u001b[1;33m:\u001b[0m\u001b[1;33m\u001b[0m\u001b[1;33m\u001b[0m\u001b[0m\n",
      "\u001b[1;31mKeyboardInterrupt\u001b[0m: "
     ]
    }
   ],
   "source": [
    "start_time = timeit.default_timer()\n",
    "\n",
    "skf = StratifiedKFold(n_splits=5, shuffle=True, random_state=1944)\n",
    "\n",
    "params_grid = {\n",
    "               'n_estimators' : [50, 100],\n",
    "               'learning_rate': [0.2, 0.3, 0.4],\n",
    "               'max_depth' : [3, 4],\n",
    "               'colsample_bytree': [0.9, 1],\n",
    "                'subsample': [ 0.8, 0.9],\n",
    "                'min_child_weight' : [1, 2],\n",
    "                'reg_lambda': [1.3, 1.4]\n",
    "              }\n",
    "\n",
    "                    \n",
    "print(params_grid)\n",
    "\n",
    "grid_feats = GridSearchCV( XGBClassifier(scale_pos_weight=10, eval_metric='logloss'),params_grid, cv=skf, scoring=custom_scorer, n_jobs=-1, verbose=3)\n",
    "grid_feats.fit(X_train, y_train)\n",
    "#print(grid.cv_results_)\n",
    "\n",
    "elapsed = timeit.default_timer() - start_time\n",
    "time = elapsed\n",
    "print(f'resultat en {time:.2f}s')\n"
   ]
  },
  {
   "cell_type": "code",
   "execution_count": null,
   "id": "vulnerable-experience",
   "metadata": {},
   "outputs": [],
   "source": [
    "grid_feats.best_params_"
   ]
  },
  {
   "cell_type": "code",
   "execution_count": null,
   "id": "optional-crawford",
   "metadata": {},
   "outputs": [],
   "source": [
    "grid_xgb_feats = grid_feats.best_estimator_\n",
    "model_eval(grid_xgb_feats, X_val, y_val)"
   ]
  },
  {
   "cell_type": "code",
   "execution_count": null,
   "id": "peripheral-google",
   "metadata": {},
   "outputs": [],
   "source": []
  },
  {
   "cell_type": "code",
   "execution_count": null,
   "id": "international-wayne",
   "metadata": {},
   "outputs": [],
   "source": []
  },
  {
   "cell_type": "code",
   "execution_count": null,
   "id": "civil-murray",
   "metadata": {},
   "outputs": [],
   "source": []
  },
  {
   "cell_type": "code",
   "execution_count": null,
   "id": "brutal-traveler",
   "metadata": {},
   "outputs": [],
   "source": []
  },
  {
   "cell_type": "code",
   "execution_count": 69,
   "id": "alone-salad",
   "metadata": {},
   "outputs": [
    {
     "name": "stdout",
     "output_type": "stream",
     "text": [
      "[[42229 14309]\n",
      " [ 1783  3182]]\n",
      "Accuracy score    : 0.738\n",
      "precision score   : 0.182\n",
      "recall score      : 0.641\n",
      "F1 score          : 0.283\n",
      "ROCAUC score      : 0.694\n",
      "custom metric FMI : 0.341\n",
      "\n"
     ]
    }
   ],
   "source": [
    "model_eval_score(grid_xgb, X_val, y_val)"
   ]
  },
  {
   "cell_type": "code",
   "execution_count": null,
   "id": "blank-machine",
   "metadata": {},
   "outputs": [],
   "source": []
  }
 ],
 "metadata": {
  "kernelspec": {
   "display_name": "Python 3",
   "language": "python",
   "name": "python3"
  },
  "language_info": {
   "codemirror_mode": {
    "name": "ipython",
    "version": 3
   },
   "file_extension": ".py",
   "mimetype": "text/x-python",
   "name": "python",
   "nbconvert_exporter": "python",
   "pygments_lexer": "ipython3",
   "version": "3.8.8"
  }
 },
 "nbformat": 4,
 "nbformat_minor": 5
}
